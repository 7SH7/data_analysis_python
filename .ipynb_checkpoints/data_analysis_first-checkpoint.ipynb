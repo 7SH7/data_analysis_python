{
 "cells": [
  {
   "cell_type": "code",
   "execution_count": 6,
   "id": "ebecfc68-6561-4093-858e-cdc3d01e0eba",
   "metadata": {},
   "outputs": [
    {
     "data": {
      "text/plain": [
       "'\\n## 데이터 분석 기획\\n\\n1. 사용가능한 데이터 확인\\n(데이터 확보 여부, 데이터 유형\\n2. 유사 분석 사례 탐색\\n(유사 분석 결과를 보면서 어떻게 분석을 진행했는지)\\n3. 분석 수행 시 발생 가능한 요소 고려\\n(기간/자원/비용 요소 고려, 비지니스 효과 고려)\\n4. 실제 환경 적용 가능한지\\n\\n## KDD 분석 절차\\n1. 데이터셋 선택\\n2. 데이터 전처리 (비어있는 데이터 처리 및 채워넣기)\\n3. 데이터 변환   (N개의 데이터를 합치거나 삽입하거나, 삭제하거나)\\n4. 데이터 마이닝 (패턴을 찾거나 시각화 하거나 등등..)\\n5. 데이터 마이닝 결과 받기\\n\\n## 데이터 유형\\n정량적/정상적 데이터\\n'"
      ]
     },
     "execution_count": 6,
     "metadata": {},
     "output_type": "execute_result"
    }
   ],
   "source": [
    "# 데이터분석이란?\n",
    "# 특정 또는 불특정한 현상을 개선하거나 해결할 가장 효율적인 전략을 찾아ㄴ\n",
    "# 논리적으로 표현(제시)하는 것\n",
    "\n",
    "'''\n",
    "## 데이터 분석 기획\n",
    "\n",
    "1. 사용가능한 데이터 확인\n",
    "(데이터 확보 여부, 데이터 유형\n",
    "2. 유사 분석 사례 탐색\n",
    "(유사 분석 결과를 보면서 어떻게 분석을 진행했는지)\n",
    "3. 분석 수행 시 발생 가능한 요소 고려\n",
    "(기간/자원/비용 요소 고려, 비지니스 효과 고려)\n",
    "4. 실제 환경 적용 가능한지\n",
    "\n",
    "## KDD 분석 절차\n",
    "1. 데이터셋 선택\n",
    "2. 데이터 전처리 (비어있는 데이터 처리 및 채워넣기)\n",
    "3. 데이터 변환   (N개의 데이터를 합치거나 삽입하거나, 삭제하거나)\n",
    "4. 데이터 마이닝 (패턴을 찾거나 시각화 하거나 등등..)\n",
    "5. 데이터 마이닝 결과 받기\n",
    "\n",
    "## 데이터 유형\n",
    "정량적/정상적 데이터\n",
    "'''"
   ]
  }
 ],
 "metadata": {
  "kernelspec": {
   "display_name": "Python 3 (ipykernel)",
   "language": "python",
   "name": "python3"
  },
  "language_info": {
   "codemirror_mode": {
    "name": "ipython",
    "version": 3
   },
   "file_extension": ".py",
   "mimetype": "text/x-python",
   "name": "python",
   "nbconvert_exporter": "python",
   "pygments_lexer": "ipython3",
   "version": "3.10.12"
  }
 },
 "nbformat": 4,
 "nbformat_minor": 5
}
