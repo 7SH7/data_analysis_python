{
 "cells": [
  {
   "cell_type": "markdown",
   "metadata": {
    "id": "v6qhjPKW4oKp"
   },
   "source": [
    "# pandas"
   ]
  },
  {
   "cell_type": "markdown",
   "metadata": {
    "id": "BK225odl4m61"
   },
   "source": [
    "## 1 pandas란?\n",
    "\n",
    "- Python에서 사용하는 데이터를 분석하는 라이브러리\n",
    "- 행과 열을 쉽게 처리할 수 있는 함수를 제공하는 도구\n",
    "    \n",
    "    ※ 각 열은 단일 데이터 형식만 저장\n",
    "    \n",
    "- **numpy보다 유연하게 수치연산 가능**\n",
    "- numpy는 데이터 누락을 허락하지 않지만, pandas는 데이터 누락을 허락"
   ]
  },
  {
   "cell_type": "code",
   "execution_count": 442,
   "metadata": {},
   "outputs": [
    {
     "data": {
      "text/plain": [
       "('2.2.2', '2.0.1')"
      ]
     },
     "execution_count": 442,
     "metadata": {},
     "output_type": "execute_result"
    }
   ],
   "source": [
    "import pandas as pd\n",
    "import numpy as np\n",
    "\n",
    "pd.__version__, np.__version__"
   ]
  },
  {
   "cell_type": "markdown",
   "metadata": {
    "id": "OHzf79B562g1"
   },
   "source": [
    "## 2 Series\n",
    "\n",
    "- 인덱스와 values로 이루어진 1차원 배열\n",
    "- 모든 유형의 데이터를 보유할 수 있음\n",
    "- 인덱스를 지정해 줄 수 있음\n",
    "- 명시적 인덱스와 암묵적 인덱스를 가짐"
   ]
  },
  {
   "cell_type": "markdown",
   "metadata": {
    "id": "xVIM8_xM7Ih3"
   },
   "source": [
    "### 2.1 Series 형태\n",
    "\n",
    "- RangeIndex :  인덱스 자동 생성 "
   ]
  },
  {
   "cell_type": "markdown",
   "metadata": {
    "id": "AjzOB_1i9Z9q"
   },
   "source": [
    "* DataFrame에서 각각의 컬럼은 Series입니다.\n",
    "![](https://pandas.pydata.org/docs/_images/01_table_dataframe.svg)\n",
    "\n",
    "![](https://pandas.pydata.org/docs/_images/01_table_series.svg)"
   ]
  },
  {
   "cell_type": "code",
   "execution_count": 6,
   "metadata": {},
   "outputs": [
    {
     "data": {
      "text/plain": [
       "0    10\n",
       "1    20\n",
       "2    30\n",
       "3    40\n",
       "4    50\n",
       "5    60\n",
       "dtype: int64"
      ]
     },
     "execution_count": 6,
     "metadata": {},
     "output_type": "execute_result"
    }
   ],
   "source": [
    "data = [10, 20, 30, 40, 50, 60]\n",
    "data = pd.Series(data)\n",
    "data # 제일 첫번째 열은 index (자동 생성!)"
   ]
  },
  {
   "cell_type": "code",
   "execution_count": 11,
   "metadata": {},
   "outputs": [
    {
     "name": "stdout",
     "output_type": "stream",
     "text": [
      "10\n",
      "20\n",
      "30\n",
      "3    40\n",
      "4    50\n",
      "5    60\n",
      "dtype: int64\n",
      "5    60\n",
      "4    50\n",
      "3    40\n",
      "2    30\n",
      "1    20\n",
      "0    10\n",
      "dtype: int64\n"
     ]
    }
   ],
   "source": [
    "print(data[0])\n",
    "print(data[1])\n",
    "print(data[2])\n",
    "print(data[3:6])\n",
    "# print(data[-1])  # 이건 err\n",
    "print(data[::-1])"
   ]
  },
  {
   "cell_type": "code",
   "execution_count": 14,
   "metadata": {},
   "outputs": [
    {
     "name": "stdout",
     "output_type": "stream",
     "text": [
      "<class 'pandas.core.series.Series'>\n",
      "<class 'numpy.ndarray'>\n"
     ]
    }
   ],
   "source": [
    "print(type(data))\n",
    "print(type(data.values)) # numpy는 pandas로 이어진다!"
   ]
  },
  {
   "cell_type": "code",
   "execution_count": 16,
   "metadata": {},
   "outputs": [
    {
     "data": {
      "text/plain": [
       "RangeIndex(start=0, stop=6, step=1)"
      ]
     },
     "execution_count": 16,
     "metadata": {},
     "output_type": "execute_result"
    }
   ],
   "source": [
    "data.index  # RangeIndex는 자동으로 index가 지정되었다 라는 걸 의미함."
   ]
  },
  {
   "cell_type": "code",
   "execution_count": 24,
   "metadata": {},
   "outputs": [
    {
     "name": "stdout",
     "output_type": "stream",
     "text": [
      "a    10\n",
      "b    20\n",
      "c    30\n",
      "d    40\n",
      "e    50\n",
      "f    60\n",
      "dtype: int64\n"
     ]
    }
   ],
   "source": [
    "# 우리가 index를 지정해주고 싶다면, 같이 넣어주면 된다.\n",
    "# 우리가 설정해주더라도, 숫자 인덱스는 자동으로 있음!\n",
    "data = [10, 20, 30, 40, 50, 60]\n",
    "idx = ['a', 'b', 'c', 'd', 'e', 'f']\n",
    "\n",
    "sample = pd.Series(data,idx)\n",
    "print(sample)"
   ]
  },
  {
   "cell_type": "code",
   "execution_count": 31,
   "metadata": {},
   "outputs": [
    {
     "name": "stdout",
     "output_type": "stream",
     "text": [
      "10\n",
      "10\n"
     ]
    }
   ],
   "source": [
    "print(sample['a'])\n",
    "\n",
    "# print(sample[0]) # warning! (이후 잘못 불러올 수 있다.)\n",
    "\n",
    "# 위치 기반 찾아오고 싶으면, iloc붙여줘야함.\n",
    "print(sample.iloc[0])"
   ]
  },
  {
   "cell_type": "code",
   "execution_count": 32,
   "metadata": {},
   "outputs": [
    {
     "name": "stdout",
     "output_type": "stream",
     "text": [
      "10\n"
     ]
    }
   ],
   "source": [
    "# 잘 안 쓰지만, 이런 방법도 있다. (index관련)\n",
    "print(sample.a)  # 비추!"
   ]
  },
  {
   "cell_type": "markdown",
   "metadata": {
    "id": "KDECzTbWAQD5"
   },
   "source": [
    "### 2.2 Series의 산술 연산"
   ]
  },
  {
   "cell_type": "code",
   "execution_count": 34,
   "metadata": {},
   "outputs": [
    {
     "data": {
      "text/plain": [
       "0    10\n",
       "1    20\n",
       "2    30\n",
       "3    40\n",
       "4    50\n",
       "5    60\n",
       "dtype: int64"
      ]
     },
     "execution_count": 34,
     "metadata": {},
     "output_type": "execute_result"
    }
   ],
   "source": [
    "pd.Series([10,20,30,40,50,60])"
   ]
  },
  {
   "cell_type": "code",
   "execution_count": 35,
   "metadata": {},
   "outputs": [],
   "source": [
    "data = pd.Series([10,20,30,40,50,60])"
   ]
  },
  {
   "cell_type": "code",
   "execution_count": 37,
   "metadata": {},
   "outputs": [
    {
     "data": {
      "text/plain": [
       "0     20\n",
       "1     40\n",
       "2     60\n",
       "3     80\n",
       "4    100\n",
       "5    120\n",
       "dtype: int64"
      ]
     },
     "execution_count": 37,
     "metadata": {},
     "output_type": "execute_result"
    }
   ],
   "source": [
    "data + 100\n",
    "data - 100\n",
    "data * 10\n",
    "data / 10\n",
    "data // 10\n",
    "data % 10\n",
    "data + data"
   ]
  },
  {
   "cell_type": "code",
   "execution_count": 39,
   "metadata": {},
   "outputs": [],
   "source": [
    "data1 = pd.Series([10, 20, 30])\n",
    "data2 = pd.Series(['a','b','c'])\n",
    "\n",
    "# data1 + data2 # error"
   ]
  },
  {
   "cell_type": "code",
   "execution_count": 40,
   "metadata": {},
   "outputs": [
    {
     "data": {
      "text/plain": [
       "0    20\n",
       "1    40\n",
       "2    60\n",
       "dtype: int64"
      ]
     },
     "execution_count": 40,
     "metadata": {},
     "output_type": "execute_result"
    }
   ],
   "source": [
    "data1 = pd.Series([10, 20, 30])\n",
    "data2 = pd.Series(['10','20','30'])\n",
    "\n",
    "data1 + data2.astype('int64') # error"
   ]
  },
  {
   "cell_type": "markdown",
   "metadata": {
    "id": "FP2MUHrDCfLs"
   },
   "source": [
    "### 2.3 Series indexing , slicing, boolean indexing"
   ]
  },
  {
   "cell_type": "code",
   "execution_count": 4,
   "metadata": {},
   "outputs": [
    {
     "name": "stdout",
     "output_type": "stream",
     "text": [
      "a    10\n",
      "b    20\n",
      "c    30\n",
      "d    40\n",
      "e    50\n",
      "f    60\n",
      "dtype: int64\n"
     ]
    }
   ],
   "source": [
    "data = [10, 20, 30, 40, 50, 60]\n",
    "idx = ['a', 'b', 'c', 'd', 'e', 'f']\n",
    "\n",
    "sample = pd.Series(data,idx)\n",
    "print(sample)"
   ]
  },
  {
   "cell_type": "code",
   "execution_count": 12,
   "metadata": {},
   "outputs": [
    {
     "name": "stdout",
     "output_type": "stream",
     "text": [
      "10\n",
      "10\n",
      "a    10\n",
      "c    30\n",
      "dtype: int64\n"
     ]
    }
   ],
   "source": [
    "print(sample['a'])\n",
    "print(sample.iloc[0])\n",
    "print(sample['a':'d':2])\n"
   ]
  },
  {
   "cell_type": "code",
   "execution_count": 13,
   "metadata": {},
   "outputs": [
    {
     "name": "stdout",
     "output_type": "stream",
     "text": [
      "a    10\n",
      "b    20\n",
      "c    30\n",
      "d    40\n",
      "e    50\n",
      "f    60\n",
      "dtype: int64\n"
     ]
    }
   ],
   "source": [
    "data = [10, 20, 30, 40, 50, 60]\n",
    "idx = ['a', 'b', 'c', 'd', 'e', 'f']\n",
    "\n",
    "sample = pd.Series(data,idx)\n",
    "print(sample)"
   ]
  },
  {
   "cell_type": "code",
   "execution_count": 22,
   "metadata": {},
   "outputs": [
    {
     "data": {
      "text/plain": [
       "a    10\n",
       "b    20\n",
       "dtype: int64"
      ]
     },
     "execution_count": 22,
     "metadata": {},
     "output_type": "execute_result"
    }
   ],
   "source": [
    "sample[[True,True,False,False,False,False]]"
   ]
  },
  {
   "cell_type": "code",
   "execution_count": 24,
   "metadata": {},
   "outputs": [
    {
     "name": "stdout",
     "output_type": "stream",
     "text": [
      "[10, 20, 30, 40, 50, 60]\n"
     ]
    }
   ],
   "source": [
    "print([i for i in sample])"
   ]
  },
  {
   "cell_type": "code",
   "execution_count": 26,
   "metadata": {},
   "outputs": [],
   "source": [
    "# iterate 불가 -> error\n",
    "# for index, values in sample:\n",
    "#     print(index, value)"
   ]
  },
  {
   "cell_type": "code",
   "execution_count": 36,
   "metadata": {},
   "outputs": [
    {
     "name": "stdout",
     "output_type": "stream",
     "text": [
      "a 10\n",
      "b 20\n",
      "c 30\n",
      "d 40\n",
      "e 50\n",
      "f 60\n"
     ]
    }
   ],
   "source": [
    "for i, j in zip(sample.index, sample.values):\n",
    "    print(i,j)"
   ]
  },
  {
   "cell_type": "code",
   "execution_count": 39,
   "metadata": {},
   "outputs": [],
   "source": [
    "d = {\n",
    "    '학원' : 10,\n",
    "    '연구원' : 20,\n",
    "    '출판사' : 30,\n",
    "    '미디어사' : 40,\n",
    "    '위니브' : 50\n",
    "}\n"
   ]
  },
  {
   "cell_type": "code",
   "execution_count": 44,
   "metadata": {},
   "outputs": [
    {
     "name": "stdout",
     "output_type": "stream",
     "text": [
      "학원     10\n",
      "연구원    20\n",
      "출판사    30\n",
      "dtype: int64\n",
      "학원     10\n",
      "연구원    20\n",
      "출판사    30\n",
      "dtype: int64\n"
     ]
    }
   ],
   "source": [
    "data = pd.Series(d)\n",
    "\n",
    "print(data['학원' : '출판사'])  # 출판사까지 출력함!\n",
    "print(data[0:3])"
   ]
  },
  {
   "cell_type": "code",
   "execution_count": 46,
   "metadata": {},
   "outputs": [
    {
     "data": {
      "text/plain": [
       "학원      10\n",
       "연구원     20\n",
       "출판사     30\n",
       "미디어사    40\n",
       "위니브     50\n",
       "dtype: int64"
      ]
     },
     "execution_count": 46,
     "metadata": {},
     "output_type": "execute_result"
    }
   ],
   "source": [
    "data"
   ]
  },
  {
   "cell_type": "code",
   "execution_count": 48,
   "metadata": {},
   "outputs": [
    {
     "data": {
      "text/plain": [
       "출판사     30\n",
       "미디어사    40\n",
       "위니브     50\n",
       "dtype: int64"
      ]
     },
     "execution_count": 48,
     "metadata": {},
     "output_type": "execute_result"
    }
   ],
   "source": [
    "data[2:]"
   ]
  },
  {
   "cell_type": "code",
   "execution_count": 51,
   "metadata": {},
   "outputs": [
    {
     "data": {
      "text/plain": [
       "학원     10\n",
       "연구원    20\n",
       "출판사    30\n",
       "dtype: int64"
      ]
     },
     "execution_count": 51,
     "metadata": {},
     "output_type": "execute_result"
    }
   ],
   "source": [
    "data[:-2]"
   ]
  },
  {
   "cell_type": "code",
   "execution_count": 54,
   "metadata": {},
   "outputs": [
    {
     "data": {
      "text/plain": [
       "학원     10\n",
       "연구원    20\n",
       "출판사    30\n",
       "dtype: int64"
      ]
     },
     "execution_count": 54,
     "metadata": {},
     "output_type": "execute_result"
    }
   ],
   "source": [
    "data[0:3]"
   ]
  },
  {
   "cell_type": "code",
   "execution_count": 56,
   "metadata": {},
   "outputs": [
    {
     "data": {
      "text/plain": [
       "연구원     20\n",
       "미디어사    40\n",
       "dtype: int64"
      ]
     },
     "execution_count": 56,
     "metadata": {},
     "output_type": "execute_result"
    }
   ],
   "source": [
    "data[-4::2]"
   ]
  },
  {
   "cell_type": "code",
   "execution_count": 61,
   "metadata": {},
   "outputs": [
    {
     "data": {
      "text/plain": [
       "2016년     200\n",
       "2020년    3000\n",
       "dtype: int64"
      ]
     },
     "execution_count": 61,
     "metadata": {},
     "output_type": "execute_result"
    }
   ],
   "source": [
    "d = {\n",
    "    '2015년':100,\n",
    "    '2016년':200,\n",
    "    '2017년':300,\n",
    "    '2018년':400,\n",
    "    '2019년':1100,\n",
    "    '2020년':3000,\n",
    "    '2021년':6000,\n",
    "    '2022년':9000,\n",
    "}\n",
    "\n",
    "pd.Series(d, index=['2016년', '2020년'])"
   ]
  },
  {
   "cell_type": "markdown",
   "metadata": {
    "id": "nLmVStVeG5HU"
   },
   "source": [
    "### 2.4 Series에 key, value, index\n",
    "\n",
    "- index\n",
    "    - Series, DataFrame의 레코드를 식별\n",
    "    - 집합 연산이 가능\n",
    "- loc :  인덱스를 기반으로 행 데이터를 읽음 (행 번호를 loc하면 warning)\n",
    "- iloc :  행 번호를 기반으로 행 데이터를 읽음\n",
    "- items() : key와 value를 튜플로 묶어서 리턴\n",
    "- 팬시 인덱싱(fancy indexing) : 스칼라 대신 인덱스 배열을 사용한 인덱싱"
   ]
  },
  {
   "cell_type": "code",
   "execution_count": 65,
   "metadata": {},
   "outputs": [
    {
     "data": {
      "text/plain": [
       "a    10\n",
       "b    20\n",
       "c    30\n",
       "d    40\n",
       "e    50\n",
       "f    60\n",
       "dtype: int64"
      ]
     },
     "execution_count": 65,
     "metadata": {},
     "output_type": "execute_result"
    }
   ],
   "source": [
    "data = [10, 20, 30, 40, 50, 60]\n",
    "index = ['a', 'b', 'c', 'd', 'e', 'f']\n",
    "s = pd.Series(data, index)\n",
    "s"
   ]
  },
  {
   "cell_type": "code",
   "execution_count": 76,
   "metadata": {},
   "outputs": [
    {
     "name": "stdout",
     "output_type": "stream",
     "text": [
      "True\n",
      "False\n"
     ]
    }
   ],
   "source": [
    "print('a' in s) \n",
    "print(40 in s)  # index만 감지함."
   ]
  },
  {
   "cell_type": "code",
   "execution_count": 69,
   "metadata": {},
   "outputs": [
    {
     "data": {
      "text/plain": [
       "Index(['a', 'b', 'c', 'd', 'e', 'f'], dtype='object')"
      ]
     },
     "execution_count": 69,
     "metadata": {},
     "output_type": "execute_result"
    }
   ],
   "source": [
    "# keys - items 관계! (java/c계열은 key-value 관계)\n",
    "s.keys()"
   ]
  },
  {
   "cell_type": "code",
   "execution_count": 71,
   "metadata": {},
   "outputs": [],
   "source": [
    "# s.values()  # err"
   ]
  },
  {
   "cell_type": "code",
   "execution_count": 77,
   "metadata": {},
   "outputs": [
    {
     "data": {
      "text/plain": [
       "[('a', 10), ('b', 20), ('c', 30), ('d', 40), ('e', 50), ('f', 60)]"
      ]
     },
     "execution_count": 77,
     "metadata": {},
     "output_type": "execute_result"
    }
   ],
   "source": [
    "list(s.items())"
   ]
  },
  {
   "cell_type": "code",
   "execution_count": 82,
   "metadata": {},
   "outputs": [
    {
     "name": "stdout",
     "output_type": "stream",
     "text": [
      "10\n",
      "a    10\n",
      "b    20\n",
      "c    30\n",
      "d    40\n",
      "dtype: int64\n"
     ]
    }
   ],
   "source": [
    "# s.loc('a') # err\n",
    "print(s.loc['a'])  # index 입력하지 않아, 숫자가 자동으로 들어간 경우, 숫자 사용ㅅ\n",
    "print(s.loc['a':'d'])"
   ]
  },
  {
   "cell_type": "code",
   "execution_count": 87,
   "metadata": {},
   "outputs": [
    {
     "data": {
      "text/plain": [
       "a    10\n",
       "b    20\n",
       "c    30\n",
       "dtype: int64"
      ]
     },
     "execution_count": 87,
     "metadata": {},
     "output_type": "execute_result"
    }
   ],
   "source": [
    "s.iloc[0]  # loc, iloc는 index/key로 item을 보는 거니까, []사용\n",
    "s.iloc[0:3]"
   ]
  },
  {
   "cell_type": "code",
   "execution_count": 111,
   "metadata": {},
   "outputs": [
    {
     "data": {
      "text/plain": [
       "1     10\n",
       "3     20\n",
       "5     30\n",
       "7     40\n",
       "9     50\n",
       "11    60\n",
       "dtype: int64"
      ]
     },
     "execution_count": 111,
     "metadata": {},
     "output_type": "execute_result"
    }
   ],
   "source": [
    "data = [10, 20, 30, 40, 50, 60]\n",
    "index = [1,3,5,7,9,11]\n",
    "s = pd.Series(data, index)\n",
    "s"
   ]
  },
  {
   "cell_type": "code",
   "execution_count": 112,
   "metadata": {},
   "outputs": [
    {
     "data": {
      "text/plain": [
       "7    40\n",
       "9    50\n",
       "dtype: int64"
      ]
     },
     "execution_count": 112,
     "metadata": {},
     "output_type": "execute_result"
    }
   ],
   "source": [
    "# 난 index 3:5를 뽑고 싶은데,,,\n",
    "# 뭔가 의미가 중의적이야,,\n",
    "s[3:5]  "
   ]
  },
  {
   "cell_type": "code",
   "execution_count": 114,
   "metadata": {},
   "outputs": [
    {
     "name": "stdout",
     "output_type": "stream",
     "text": [
      "1     10\n",
      "3     20\n",
      "5     30\n",
      "7     40\n",
      "9     50\n",
      "11    60\n",
      "dtype: int64 \n",
      "\n",
      "7    40\n",
      "9    50\n",
      "dtype: int64\n",
      "7    40\n",
      "9    50\n",
      "dtype: int64\n",
      "3    20\n",
      "5    30\n",
      "dtype: int64\n"
     ]
    }
   ],
   "source": [
    "# 명시적으로 알 수 있도록, loc, iloc 사용해.\n",
    "print(s, \"\\n\")\n",
    "\n",
    "# location으로 빼오기\n",
    "print(s[3:5])\n",
    "print(s.iloc[3:5])  # iloc : base index locate (자동 index)\n",
    "\n",
    "# index로 빼오기\n",
    "print(s.loc[3:5])  # loc: 설정해준 index로 불러기 (명시적인 index)\n",
    "\n",
    "# print(s.iloc[3:5])   # 위치 기반\n",
    "# s.loc[3:5]    # index기반"
   ]
  },
  {
   "cell_type": "code",
   "execution_count": 124,
   "metadata": {},
   "outputs": [
    {
     "data": {
      "text/plain": [
       "a    10\n",
       "b    20\n",
       "c    30\n",
       "d    40\n",
       "e    50\n",
       "dtype: int64"
      ]
     },
     "execution_count": 124,
     "metadata": {},
     "output_type": "execute_result"
    }
   ],
   "source": [
    "# 팬시 인덱싱\n",
    "data = [10, 20, 30, 40, 50]\n",
    "index = ['a', 'b', 'c', 'd', 'e']\n",
    "\n",
    "# s = pd.Series(index, data)\n",
    "s = pd.Series(data, index)  # data를 index로 엮을 거다. 라는 순서!\n",
    "s"
   ]
  },
  {
   "cell_type": "code",
   "execution_count": 122,
   "metadata": {},
   "outputs": [
    {
     "data": {
      "text/plain": [
       "a    10\n",
       "d    40\n",
       "dtype: int64"
      ]
     },
     "execution_count": 122,
     "metadata": {},
     "output_type": "execute_result"
    }
   ],
   "source": [
    "s[['a', 'd']]"
   ]
  },
  {
   "cell_type": "markdown",
   "metadata": {
    "id": "ZnBpz2DbNb3W"
   },
   "source": [
    "### 2.5 결측값(NaN, None) 처리\n",
    "\n",
    "1. NaN\n",
    "    - 자료형이 Float\n",
    "    - 배열에서 연산할 경우 오류가 발생하지 않지만  결과값이 NaN이 됨\n",
    "        - numpy : nan\n",
    "        - pandas : 연산가능\n",
    "2. None \n",
    "    - 자료형이 None\n",
    "    - 배열 연산을 할 경우 오류가 발생\n",
    "        - numpy : error\n",
    "        - pandas : 연산가능\n",
    "\n",
    "3.  처리방법 \n",
    "\n",
    "    - isnull() : 결측값 확인 (결측 이면  True , 결측이 아니면  False )\n",
    "    - notnull() : 결측값 확인 (결측 이면  False , 결측이 아니면  True )\n",
    "    - dropna() : 결측값을 삭제\n",
    "        - axis=0 : 행 삭제 / axis=1 : 열 삭제\n",
    "        - inplace = True : drop후 원본에 반영\n",
    "    - fillna(Num) : 결측을 Num 으로 채워 넣음"
   ]
  },
  {
   "cell_type": "code",
   "execution_count": 126,
   "metadata": {},
   "outputs": [],
   "source": [
    "import pandas as pd\n",
    "import numpy as np"
   ]
  },
  {
   "cell_type": "code",
   "execution_count": 128,
   "metadata": {},
   "outputs": [
    {
     "data": {
      "text/plain": [
       "array([10, 20, 30, 40, 50, None], dtype=object)"
      ]
     },
     "execution_count": 128,
     "metadata": {},
     "output_type": "execute_result"
    }
   ],
   "source": [
    "data = [10, 20, 30, 40, 50, None]\n",
    "np.array(data)"
   ]
  },
  {
   "cell_type": "code",
   "execution_count": 143,
   "metadata": {},
   "outputs": [],
   "source": [
    "data = np.array(data)\n",
    "# data.sum()  # none 때문에 err"
   ]
  },
  {
   "cell_type": "code",
   "execution_count": 163,
   "metadata": {},
   "outputs": [
    {
     "name": "stdout",
     "output_type": "stream",
     "text": [
      "150.0\n"
     ]
    }
   ],
   "source": [
    "# nan 있어도 더하려면..\n",
    "data = np.array(data, dtype=np.float32)  \n",
    "total = np.nansum(data)  # NaN을 무시하고 합계 계산\n",
    "print(total)  # 결과: 150.0"
   ]
  },
  {
   "cell_type": "markdown",
   "metadata": {},
   "source": [
    "- 밑의 예시가 pandas는 numpy보다 유연하게 계산 가능하다는 의미\n",
    "<ul>\n",
    "    <li>Numpy</li>\n",
    "    <ol>\n",
    "        <li>np.nan이 있으면 nan</li>\n",
    "        <li>None이 있으면 error</li>\n",
    "    </ol>\n",
    "    <li>Pandas</li>\n",
    "    <ol>\n",
    "        <li>np.nan가 있어도 계산됨.</li>\n",
    "        <li>None이 있어도 계산됨.</li> \n",
    "    </ol>\n",
    "</ul>"
   ]
  },
  {
   "cell_type": "code",
   "execution_count": 146,
   "metadata": {},
   "outputs": [
    {
     "data": {
      "text/plain": [
       "np.float64(nan)"
      ]
     },
     "execution_count": 146,
     "metadata": {},
     "output_type": "execute_result"
    }
   ],
   "source": [
    "data = [10, 20, 30, 40, 50, np.nan]\n",
    "data = np.array(data)\n",
    "data.sum()"
   ]
  },
  {
   "cell_type": "code",
   "execution_count": 159,
   "metadata": {},
   "outputs": [
    {
     "data": {
      "text/plain": [
       "np.float64(nan)"
      ]
     },
     "execution_count": 159,
     "metadata": {},
     "output_type": "execute_result"
    }
   ],
   "source": [
    "data = [10, 20, 30, 40, 50, np.nan]\n",
    "data = np.array(data)\n",
    "data.sum()  # 이건 에러.."
   ]
  },
  {
   "cell_type": "code",
   "execution_count": 162,
   "metadata": {},
   "outputs": [],
   "source": [
    "data = [10, 20, 30, 40, 50, None]\n",
    "data = np.array(data)\n",
    "# data.sum()  # 이건 에러.."
   ]
  },
  {
   "cell_type": "code",
   "execution_count": 156,
   "metadata": {},
   "outputs": [
    {
     "data": {
      "text/plain": [
       "np.float64(150.0)"
      ]
     },
     "execution_count": 156,
     "metadata": {},
     "output_type": "execute_result"
    }
   ],
   "source": [
    "data = [10, 20, 30, 40, 50, np.nan]\n",
    "data = pd.Series(data)\n",
    "data.sum()"
   ]
  },
  {
   "cell_type": "code",
   "execution_count": 164,
   "metadata": {},
   "outputs": [
    {
     "data": {
      "text/plain": [
       "np.float64(150.0)"
      ]
     },
     "execution_count": 164,
     "metadata": {},
     "output_type": "execute_result"
    }
   ],
   "source": [
    "data = [10, 20, 30, 40, 50, None]\n",
    "data = pd.Series(data)\n",
    "data.sum()"
   ]
  },
  {
   "cell_type": "code",
   "execution_count": 166,
   "metadata": {},
   "outputs": [
    {
     "data": {
      "text/plain": [
       "0    False\n",
       "1    False\n",
       "2    False\n",
       "3    False\n",
       "4    False\n",
       "5     True\n",
       "dtype: bool"
      ]
     },
     "execution_count": 166,
     "metadata": {},
     "output_type": "execute_result"
    }
   ],
   "source": [
    "data.isnull()  # null/none인 것은 true"
   ]
  },
  {
   "cell_type": "code",
   "execution_count": 170,
   "metadata": {},
   "outputs": [
    {
     "data": {
      "text/plain": [
       "np.int64(5)"
      ]
     },
     "execution_count": 170,
     "metadata": {},
     "output_type": "execute_result"
    }
   ],
   "source": [
    "data.notnull()  # null/none 인 것은 false\n",
    "data.notnull().sum()  # 개수 파악"
   ]
  },
  {
   "cell_type": "code",
   "execution_count": 171,
   "metadata": {},
   "outputs": [
    {
     "data": {
      "text/plain": [
       "0    10.0\n",
       "1    20.0\n",
       "2    30.0\n",
       "3    40.0\n",
       "4    50.0\n",
       "dtype: float64"
      ]
     },
     "execution_count": 171,
     "metadata": {},
     "output_type": "execute_result"
    }
   ],
   "source": [
    "data.dropna()  # drop nan/none"
   ]
  },
  {
   "cell_type": "code",
   "execution_count": 179,
   "metadata": {},
   "outputs": [],
   "source": [
    "data.fillna(0)  # 결측치를 0으로 처리\n",
    "data.fillna(data.mean())  # 결측치를 평균으로 처리\n",
    "data.ffill(inplace=True)  # 원본 데이터에 직접 적용\n",
    "data.bfill(inplace=True)  # ㅑinplace가 false면 원본에 변경값 적용 X"
   ]
  },
  {
   "cell_type": "code",
   "execution_count": 181,
   "metadata": {},
   "outputs": [
    {
     "data": {
      "text/plain": [
       "array([10, 100, 30, 40, 50, None, None, 1000], dtype=object)"
      ]
     },
     "execution_count": 181,
     "metadata": {},
     "output_type": "execute_result"
    }
   ],
   "source": [
    "# 간접적으로 원본 data 수정하는 법 (np, pd 전부 적용 가능!)\n",
    "data = [10, 20, 30, 40, 50, None, None, 1000]\n",
    "data = np.array(data)\n",
    "\n",
    "data[1] = 100  # 수정하고자 하는 값을 변\n",
    "data"
   ]
  },
  {
   "cell_type": "markdown",
   "metadata": {
    "id": "3sHZdxo1IaE0"
   },
   "source": [
    "### 2.6 multiIndex\n",
    "\n",
    "* 다중 인덱스입니다.\n",
    "  - 유용할 것 같지만, DataFrame배우면 잘 안 씀."
   ]
  },
  {
   "cell_type": "code",
   "execution_count": 184,
   "metadata": {},
   "outputs": [],
   "source": [
    "매출 = {\n",
    "    '2015년':100,\n",
    "    '2016년':200,\n",
    "    '2017년':300,\n",
    "    '2018년':400,\n",
    "    '2019년':1100,\n",
    "    '2020년':3000,\n",
    "    '2021년':6000,\n",
    "    '2022년':9000,\n",
    "}\n",
    "\n",
    "순익 = {\n",
    "    '2015년':10,\n",
    "    '2016년':20,\n",
    "    '2017년':30,\n",
    "    '2018년':40,\n",
    "    '2019년':11,\n",
    "    '2020년':30,\n",
    "    '2021년':60,\n",
    "    '2022년':90,\n",
    "}"
   ]
  },
  {
   "cell_type": "code",
   "execution_count": 223,
   "metadata": {},
   "outputs": [
    {
     "name": "stdout",
     "output_type": "stream",
     "text": [
      "['2015년', '2016년', '2017년', '2018년', '2019년', '2020년', '2021년', '2022년']\n",
      "100\n",
      "\n",
      "-------------------\n",
      "\n",
      "[('2015년', 100, 10), ('2016년', 200, 20), ('2017년', 300, 30), ('2018년', 400, 40), ('2019년', 1100, 11), ('2020년', 3000, 30), ('2021년', 6000, 60), ('2022년', 9000, 90)]\n",
      "\n",
      "-------------------\n",
      "\n",
      "매출 연도: ['2015년', '2016년', '2017년', '2018년', '2019년', '2020년', '2021년', '2022년']\n",
      "매출과 순익: [('2015년', 100, 10), ('2016년', 200, 20), ('2017년', 300, 30), ('2018년', 400, 40), ('2019년', 1100, 11), ('2020년', 3000, 30), ('2021년', 6000, 60), ('2022년', 9000, 90)]\n"
     ]
    }
   ],
   "source": [
    "print(list(매출.keys()))\n",
    "print(매출['2015년'])\n",
    "\n",
    "print(\"\\n-------------------\\n\")\n",
    "\n",
    "# 매출과 순익을 함께 묶기\n",
    "매출_순익 = list(zip(매출.keys(), 매출.values(), 순익.values()))\n",
    "매출_순익_numpy = np.array(매출_순익)\n",
    "print(매출_순익)\n",
    "\n",
    "print(\"\\n-------------------\\n\")\n",
    "\n",
    "print(\"매출 연도:\", list(매출.keys()))\n",
    "print(\"매출과 순익:\", 매출_순익)"
   ]
  },
  {
   "cell_type": "code",
   "execution_count": 227,
   "metadata": {},
   "outputs": [
    {
     "data": {
      "text/plain": [
       "[('매출', '2015년'),\n",
       " ('매출', '2016년'),\n",
       " ('매출', '2017년'),\n",
       " ('매출', '2018년'),\n",
       " ('매출', '2019년'),\n",
       " ('매출', '2020년'),\n",
       " ('매출', '2021년'),\n",
       " ('매출', '2022년'),\n",
       " ('순익', '2015년'),\n",
       " ('순익', '2016년'),\n",
       " ('순익', '2017년'),\n",
       " ('순익', '2018년'),\n",
       " ('순익', '2019년'),\n",
       " ('순익', '2020년'),\n",
       " ('순익', '2021년'),\n",
       " ('순익', '2022년')]"
      ]
     },
     "execution_count": 227,
     "metadata": {},
     "output_type": "execute_result"
    }
   ],
   "source": [
    "index1 = list(zip([\"매출\" for _ in range(len(매출.keys()))], 매출.keys()))\n",
    "index2 = list(zip([\"순익\" for _ in range(len(순익.keys()))], 순익.keys()))\n",
    "\n",
    "index = index1 + index2\n",
    "index"
   ]
  },
  {
   "cell_type": "code",
   "execution_count": 230,
   "metadata": {},
   "outputs": [
    {
     "data": {
      "text/plain": [
       "MultiIndex([('매출', '2015년'),\n",
       "            ('매출', '2016년'),\n",
       "            ('매출', '2017년'),\n",
       "            ('매출', '2018년'),\n",
       "            ('매출', '2019년'),\n",
       "            ('매출', '2020년'),\n",
       "            ('매출', '2021년'),\n",
       "            ('매출', '2022년'),\n",
       "            ('순익', '2015년'),\n",
       "            ('순익', '2016년'),\n",
       "            ('순익', '2017년'),\n",
       "            ('순익', '2018년'),\n",
       "            ('순익', '2019년'),\n",
       "            ('순익', '2020년'),\n",
       "            ('순익', '2021년'),\n",
       "            ('순익', '2022년')],\n",
       "           )"
      ]
     },
     "execution_count": 230,
     "metadata": {},
     "output_type": "execute_result"
    }
   ],
   "source": [
    "index = pd.MultiIndex.from_tuples(index)\n",
    "index"
   ]
  },
  {
   "cell_type": "code",
   "execution_count": 233,
   "metadata": {},
   "outputs": [
    {
     "data": {
      "text/plain": [
       "[100, 200, 300, 400, 1100, 3000, 6000, 9000, 10, 20, 30, 40, 11, 30, 60, 90]"
      ]
     },
     "execution_count": 233,
     "metadata": {},
     "output_type": "execute_result"
    }
   ],
   "source": [
    "값 = list(매출.values()) + list(순익.values())\n",
    "값"
   ]
  },
  {
   "cell_type": "code",
   "execution_count": 237,
   "metadata": {},
   "outputs": [
    {
     "data": {
      "text/plain": [
       "매출  2015년     100\n",
       "    2016년     200\n",
       "    2017년     300\n",
       "    2018년     400\n",
       "    2019년    1100\n",
       "    2020년    3000\n",
       "    2021년    6000\n",
       "    2022년    9000\n",
       "순익  2015년      10\n",
       "    2016년      20\n",
       "    2017년      30\n",
       "    2018년      40\n",
       "    2019년      11\n",
       "    2020년      30\n",
       "    2021년      60\n",
       "    2022년      90\n",
       "dtype: int64"
      ]
     },
     "execution_count": 237,
     "metadata": {},
     "output_type": "execute_result"
    }
   ],
   "source": [
    "s = pd.Series(값, index=index)\n",
    "s"
   ]
  },
  {
   "cell_type": "code",
   "execution_count": 243,
   "metadata": {},
   "outputs": [
    {
     "data": {
      "text/plain": [
       "np.int64(18000)"
      ]
     },
     "execution_count": 243,
     "metadata": {},
     "output_type": "execute_result"
    }
   ],
   "source": [
    "s['매출'][-3:].sum()  # 최근 3년 데이터 합\n"
   ]
  },
  {
   "cell_type": "markdown",
   "metadata": {
    "id": "juAG6Ui6TPEB"
   },
   "source": [
    "### 2.7 연산 함수와 집계 함수\n",
    "\n",
    "- 연산 함수\n",
    "    - add : 더하기 연산 함수\n",
    "    - sub : 빼기 연산 함수\n",
    "    - mul : 곱하기 연산 함수\n",
    "    - floordiv : 나누었을 때 몫을 구하는 함수\n",
    "    - div : 나누기 연산 함수\n",
    "    - mod : 나머지 구하는 연산 함수\n",
    "    - pow : 거듭제곱 연산 함수\n",
    "\n",
    "- 집계 함수\n",
    "    - count : 데이터 개수 구하는 함수\n",
    "    - min : 최소값 구하는 함수\n",
    "    - max  : 최대값 구하는 함수\n",
    "    - mean : 평균 구하는 함수\n",
    "    - median : 중앙값 구하는 함수\n",
    "    - std : 표준편차 구하는 함수\n",
    "    - var : 분산 구하는 함수\n",
    "    - mad : 절대 표준편차 구하는 함수\n",
    "    - describe : 기초 통계를 한 번에 볼 수 있는 함수"
   ]
  },
  {
   "cell_type": "code",
   "execution_count": 244,
   "metadata": {},
   "outputs": [],
   "source": [
    "s1 = pd.Series([100, 200, 300, 400, 500])\n",
    "s2 = pd.Series([10, 20, 30, 40, 50])"
   ]
  },
  {
   "cell_type": "code",
   "execution_count": 246,
   "metadata": {},
   "outputs": [
    {
     "data": {
      "text/plain": [
       "0    200\n",
       "1    300\n",
       "2    400\n",
       "3    500\n",
       "4    600\n",
       "dtype: int64"
      ]
     },
     "execution_count": 246,
     "metadata": {},
     "output_type": "execute_result"
    }
   ],
   "source": [
    "s1 + 100"
   ]
  },
  {
   "cell_type": "code",
   "execution_count": 248,
   "metadata": {},
   "outputs": [
    {
     "data": {
      "text/plain": [
       "0    200\n",
       "1    300\n",
       "2    400\n",
       "3    500\n",
       "4    600\n",
       "dtype: int64"
      ]
     },
     "execution_count": 248,
     "metadata": {},
     "output_type": "execute_result"
    }
   ],
   "source": [
    "s1.add(100)"
   ]
  },
  {
   "cell_type": "code",
   "execution_count": 249,
   "metadata": {},
   "outputs": [
    {
     "data": {
      "text/plain": [
       "0    110\n",
       "1    220\n",
       "2    330\n",
       "3    440\n",
       "4    550\n",
       "dtype: int64"
      ]
     },
     "execution_count": 249,
     "metadata": {},
     "output_type": "execute_result"
    }
   ],
   "source": [
    "s1 + s2"
   ]
  },
  {
   "cell_type": "code",
   "execution_count": 251,
   "metadata": {},
   "outputs": [
    {
     "data": {
      "text/plain": [
       "0    110\n",
       "1    220\n",
       "2    330\n",
       "3    440\n",
       "4    550\n",
       "dtype: int64"
      ]
     },
     "execution_count": 251,
     "metadata": {},
     "output_type": "execute_result"
    }
   ],
   "source": [
    "s1.add(s2)"
   ]
  },
  {
   "cell_type": "code",
   "execution_count": 252,
   "metadata": {},
   "outputs": [
    {
     "data": {
      "text/plain": [
       "0     90\n",
       "1    180\n",
       "2    270\n",
       "3    360\n",
       "4    450\n",
       "dtype: int64"
      ]
     },
     "execution_count": 252,
     "metadata": {},
     "output_type": "execute_result"
    }
   ],
   "source": [
    "s1 - s2"
   ]
  },
  {
   "cell_type": "code",
   "execution_count": 253,
   "metadata": {},
   "outputs": [
    {
     "data": {
      "text/plain": [
       "0     90\n",
       "1    180\n",
       "2    270\n",
       "3    360\n",
       "4    450\n",
       "dtype: int64"
      ]
     },
     "execution_count": 253,
     "metadata": {},
     "output_type": "execute_result"
    }
   ],
   "source": [
    "s1.sub(s2)"
   ]
  },
  {
   "cell_type": "code",
   "execution_count": 255,
   "metadata": {},
   "outputs": [
    {
     "data": {
      "text/plain": [
       "0     1000\n",
       "1     4000\n",
       "2     9000\n",
       "3    16000\n",
       "4    25000\n",
       "dtype: int64"
      ]
     },
     "execution_count": 255,
     "metadata": {},
     "output_type": "execute_result"
    }
   ],
   "source": [
    "s1 * s2"
   ]
  },
  {
   "cell_type": "code",
   "execution_count": 256,
   "metadata": {},
   "outputs": [
    {
     "data": {
      "text/plain": [
       "0     1000\n",
       "1     4000\n",
       "2     9000\n",
       "3    16000\n",
       "4    25000\n",
       "dtype: int64"
      ]
     },
     "execution_count": 256,
     "metadata": {},
     "output_type": "execute_result"
    }
   ],
   "source": [
    "s1.mul(s2)"
   ]
  },
  {
   "cell_type": "code",
   "execution_count": 257,
   "metadata": {},
   "outputs": [
    {
     "data": {
      "text/plain": [
       "0     10000\n",
       "1     40000\n",
       "2     90000\n",
       "3    160000\n",
       "4    250000\n",
       "dtype: int64"
      ]
     },
     "execution_count": 257,
     "metadata": {},
     "output_type": "execute_result"
    }
   ],
   "source": [
    "s1 ** 2"
   ]
  },
  {
   "cell_type": "code",
   "execution_count": 258,
   "metadata": {},
   "outputs": [
    {
     "data": {
      "text/plain": [
       "0     10000\n",
       "1     40000\n",
       "2     90000\n",
       "3    160000\n",
       "4    250000\n",
       "dtype: int64"
      ]
     },
     "execution_count": 258,
     "metadata": {},
     "output_type": "execute_result"
    }
   ],
   "source": [
    "s1.pow(2)"
   ]
  },
  {
   "cell_type": "code",
   "execution_count": 259,
   "metadata": {},
   "outputs": [
    {
     "data": {
      "text/plain": [
       "0    100\n",
       "1    200\n",
       "2    300\n",
       "3    400\n",
       "4    500\n",
       "dtype: int64"
      ]
     },
     "execution_count": 259,
     "metadata": {},
     "output_type": "execute_result"
    }
   ],
   "source": [
    "s1"
   ]
  },
  {
   "cell_type": "code",
   "execution_count": 260,
   "metadata": {},
   "outputs": [
    {
     "data": {
      "text/plain": [
       "np.int64(100)"
      ]
     },
     "execution_count": 260,
     "metadata": {},
     "output_type": "execute_result"
    }
   ],
   "source": [
    "s1.min()"
   ]
  },
  {
   "cell_type": "code",
   "execution_count": 261,
   "metadata": {},
   "outputs": [
    {
     "data": {
      "text/plain": [
       "np.int64(500)"
      ]
     },
     "execution_count": 261,
     "metadata": {},
     "output_type": "execute_result"
    }
   ],
   "source": [
    "s1.max()"
   ]
  },
  {
   "cell_type": "code",
   "execution_count": 262,
   "metadata": {},
   "outputs": [
    {
     "data": {
      "text/plain": [
       "np.float64(300.0)"
      ]
     },
     "execution_count": 262,
     "metadata": {},
     "output_type": "execute_result"
    }
   ],
   "source": [
    "s1.mean()"
   ]
  },
  {
   "cell_type": "code",
   "execution_count": 263,
   "metadata": {},
   "outputs": [
    {
     "data": {
      "text/plain": [
       "np.float64(300.0)"
      ]
     },
     "execution_count": 263,
     "metadata": {},
     "output_type": "execute_result"
    }
   ],
   "source": [
    "s1.median()"
   ]
  },
  {
   "cell_type": "code",
   "execution_count": 264,
   "metadata": {},
   "outputs": [
    {
     "data": {
      "text/plain": [
       "np.float64(158.11388300841898)"
      ]
     },
     "execution_count": 264,
     "metadata": {},
     "output_type": "execute_result"
    }
   ],
   "source": [
    "s1.std() # 표준편차"
   ]
  },
  {
   "cell_type": "code",
   "execution_count": 266,
   "metadata": {},
   "outputs": [
    {
     "data": {
      "text/plain": [
       "np.float64(25000.0)"
      ]
     },
     "execution_count": 266,
     "metadata": {},
     "output_type": "execute_result"
    }
   ],
   "source": [
    "s1.var() # 분산"
   ]
  },
  {
   "cell_type": "code",
   "execution_count": 267,
   "metadata": {},
   "outputs": [
    {
     "data": {
      "text/plain": [
       "0    100\n",
       "1    200\n",
       "dtype: int64"
      ]
     },
     "execution_count": 267,
     "metadata": {},
     "output_type": "execute_result"
    }
   ],
   "source": [
    "s1.head(2)"
   ]
  },
  {
   "cell_type": "code",
   "execution_count": 268,
   "metadata": {},
   "outputs": [
    {
     "data": {
      "text/plain": [
       "3    400\n",
       "4    500\n",
       "dtype: int64"
      ]
     },
     "execution_count": 268,
     "metadata": {},
     "output_type": "execute_result"
    }
   ],
   "source": [
    "s1.tail(2)"
   ]
  },
  {
   "cell_type": "markdown",
   "metadata": {
    "id": "OIc4Cxv3YgTg"
   },
   "source": [
    "### 2.8 데이터 결합\n",
    "\n",
    "- concat : 데이터 프레임이나 시리즈의 결합\n",
    "    - axis=0 or 1 : 아래로 데이터 연결 / 옆으로 데이터 연결\n",
    "    - verify_integrity=True일 때, 인덱스의 중복이 존재하면 error 출력\n",
    "    - ignore_index : 기존의 인덱스를 무시하고 차례대로 인덱스 출력\n",
    "    - join='inner' : 결합하는 데이터들의 공통 부분만 출력\n",
    "    - join='outer' : 결합하는 데이터들의 모든 값 출력\n",
    "- append : 마지막 행에 데이터를 추가\n",
    "\n",
    "※ concatenate : 배열 결합"
   ]
  },
  {
   "cell_type": "code",
   "execution_count": 272,
   "metadata": {},
   "outputs": [
    {
     "data": {
      "text/plain": [
       "array([[0, 1, 2, 3, 4],\n",
       "       [5, 6, 7, 8, 9]])"
      ]
     },
     "execution_count": 272,
     "metadata": {},
     "output_type": "execute_result"
    }
   ],
   "source": [
    "a = np.arange(10).reshape(2,5)\n",
    "b = np.arange(10).reshape(2,5)\n",
    "c = np.arange(10).reshape(2,5)\n",
    "a"
   ]
  },
  {
   "cell_type": "code",
   "execution_count": 273,
   "metadata": {},
   "outputs": [
    {
     "data": {
      "text/plain": [
       "array([[0, 1, 2, 3, 4],\n",
       "       [5, 6, 7, 8, 9],\n",
       "       [0, 1, 2, 3, 4],\n",
       "       [5, 6, 7, 8, 9],\n",
       "       [0, 1, 2, 3, 4],\n",
       "       [5, 6, 7, 8, 9]])"
      ]
     },
     "execution_count": 273,
     "metadata": {},
     "output_type": "execute_result"
    }
   ],
   "source": [
    "np.concatenate([a,b,c])"
   ]
  },
  {
   "cell_type": "code",
   "execution_count": 274,
   "metadata": {},
   "outputs": [
    {
     "data": {
      "text/plain": [
       "array([[0, 1, 2, 3, 4, 0, 1, 2, 3, 4, 0, 1, 2, 3, 4],\n",
       "       [5, 6, 7, 8, 9, 5, 6, 7, 8, 9, 5, 6, 7, 8, 9]])"
      ]
     },
     "execution_count": 274,
     "metadata": {},
     "output_type": "execute_result"
    }
   ],
   "source": [
    "np.concatenate([a,b,c], axis=1)"
   ]
  },
  {
   "cell_type": "code",
   "execution_count": 276,
   "metadata": {},
   "outputs": [
    {
     "data": {
      "text/plain": [
       "array([[0, 1, 2, 3, 4],\n",
       "       [5, 6, 7, 8, 9],\n",
       "       [0, 1, 2, 3, 4],\n",
       "       [5, 6, 7, 8, 9],\n",
       "       [0, 1, 2, 3, 4],\n",
       "       [5, 6, 7, 8, 9]])"
      ]
     },
     "execution_count": 276,
     "metadata": {},
     "output_type": "execute_result"
    }
   ],
   "source": [
    "np.concatenate([a,b,c], axis=0)"
   ]
  },
  {
   "cell_type": "code",
   "execution_count": 291,
   "metadata": {},
   "outputs": [
    {
     "data": {
      "text/plain": [
       "1    A\n",
       "2    B\n",
       "3    C\n",
       "4    D\n",
       "5    E\n",
       "dtype: object"
      ]
     },
     "execution_count": 291,
     "metadata": {},
     "output_type": "execute_result"
    }
   ],
   "source": [
    "a = pd.Series(['A','B','C','D','E'], index=range(1,6))\n",
    "b = pd.Series(['A','B','C','D','E'], index=range(1,6))\n",
    "c = pd.Series(['A','B','C','D','E'], index=range(1,6))\n",
    "a"
   ]
  },
  {
   "cell_type": "code",
   "execution_count": 284,
   "metadata": {},
   "outputs": [
    {
     "data": {
      "text/plain": [
       "array(['A', 'B', 'C', 'D', 'E', 'A', 'B', 'C', 'D', 'E', 'A', 'B', 'C',\n",
       "       'D', 'E'], dtype=object)"
      ]
     },
     "execution_count": 284,
     "metadata": {},
     "output_type": "execute_result"
    }
   ],
   "source": [
    "np.concatenate([a,b,c])"
   ]
  },
  {
   "cell_type": "code",
   "execution_count": 287,
   "metadata": {},
   "outputs": [
    {
     "data": {
      "text/plain": [
       "0    [A, B]\n",
       "1    [C, D]\n",
       "2    [E, F]\n",
       "dtype: object"
      ]
     },
     "execution_count": 287,
     "metadata": {},
     "output_type": "execute_result"
    }
   ],
   "source": [
    "a = pd.Series([['A','B'],['C','D'],['E','F']])\n",
    "b = pd.Series([['A','B'],['C','D'],['E','F']])\n",
    "c = pd.Series([['A','B'],['C','D'],['E','F']])\n",
    "a"
   ]
  },
  {
   "cell_type": "code",
   "execution_count": 289,
   "metadata": {},
   "outputs": [
    {
     "data": {
      "text/plain": [
       "array([list(['A', 'B']), list(['C', 'D']), list(['E', 'F']),\n",
       "       list(['A', 'B']), list(['C', 'D']), list(['E', 'F']),\n",
       "       list(['A', 'B']), list(['C', 'D']), list(['E', 'F'])], dtype=object)"
      ]
     },
     "execution_count": 289,
     "metadata": {},
     "output_type": "execute_result"
    }
   ],
   "source": [
    "np.concatenate([a,b,c])"
   ]
  },
  {
   "cell_type": "code",
   "execution_count": 292,
   "metadata": {},
   "outputs": [],
   "source": [
    "# np.concatenate([a,b,c], axis=1)  # 하나의 column이ㅣ에.."
   ]
  },
  {
   "cell_type": "code",
   "execution_count": 317,
   "metadata": {},
   "outputs": [
    {
     "data": {
      "text/plain": [
       "1    A\n",
       "2    B\n",
       "3    C\n",
       "4    D\n",
       "5    E\n",
       "dtype: object"
      ]
     },
     "execution_count": 317,
     "metadata": {},
     "output_type": "execute_result"
    }
   ],
   "source": [
    "a = pd.Series(['A','B','C','D','E'], index=range(1,6))\n",
    "b = pd.Series(['A','B','C','D','E'], index=range(1,6))\n",
    "c = pd.Series(['A','B','C','D','E'], index=range(1,6))\n",
    "a"
   ]
  },
  {
   "cell_type": "code",
   "execution_count": 299,
   "metadata": {},
   "outputs": [
    {
     "name": "stdout",
     "output_type": "stream",
     "text": [
      "['A' 'B' 'C' 'D' 'E' 'A' 'B' 'C' 'D' 'E' 'A' 'B' 'C' 'D' 'E']\n",
      "D\n",
      "<class 'str'>\n"
     ]
    }
   ],
   "source": [
    "print(np.concatenate([a,b,c]))\n",
    "print(np.concatenate([a,b,c])[3])\n",
    "print(type(np.concatenate([a,b,c])[3]))"
   ]
  },
  {
   "cell_type": "code",
   "execution_count": 303,
   "metadata": {},
   "outputs": [
    {
     "name": "stdout",
     "output_type": "stream",
     "text": [
      "1    A\n",
      "2    B\n",
      "3    C\n",
      "4    D\n",
      "5    E\n",
      "1    A\n",
      "2    B\n",
      "3    C\n",
      "4    D\n",
      "5    E\n",
      "1    A\n",
      "2    B\n",
      "3    C\n",
      "4    D\n",
      "5    E\n",
      "dtype: object\n",
      "---------------\n",
      "3    C\n",
      "3    C\n",
      "3    C\n",
      "dtype: object\n",
      "<class 'pandas.core.series.Series'>\n",
      "---------------\n"
     ]
    }
   ],
   "source": [
    "# concat : data frame이나 series 결합에 사용\n",
    "print(pd.concat([a,b,c]))\n",
    "print(\"---------------\")\n",
    "print(pd.concat([a,b,c])[3])\n",
    "print(type(pd.concat([a,b,c])[3]))"
   ]
  },
  {
   "cell_type": "code",
   "execution_count": 305,
   "metadata": {},
   "outputs": [
    {
     "data": {
      "text/plain": [
       "1    A\n",
       "2    B\n",
       "3    C\n",
       "4    D\n",
       "5    E\n",
       "1    A\n",
       "2    B\n",
       "3    C\n",
       "4    D\n",
       "5    E\n",
       "1    A\n",
       "2    B\n",
       "3    C\n",
       "4    D\n",
       "5    E\n",
       "dtype: object"
      ]
     },
     "execution_count": 305,
     "metadata": {},
     "output_type": "execute_result"
    }
   ],
   "source": [
    "pd.concat([a,b,c], axis=0)"
   ]
  },
  {
   "cell_type": "code",
   "execution_count": 309,
   "metadata": {},
   "outputs": [
    {
     "name": "stdout",
     "output_type": "stream",
     "text": [
      "   0  1  2\n",
      "1  A  A  A\n",
      "2  B  B  B\n",
      "3  C  C  C\n",
      "4  D  D  D\n",
      "5  E  E  E\n",
      "<class 'pandas.core.frame.DataFrame'>\n"
     ]
    }
   ],
   "source": [
    "print(pd.concat([a,b,c], axis=1))\n",
    "print(type(pd.concat([a,b,c], axis=1)))"
   ]
  },
  {
   "cell_type": "code",
   "execution_count": 311,
   "metadata": {},
   "outputs": [
    {
     "data": {
      "text/plain": [
       "1    A\n",
       "2    B\n",
       "3    C\n",
       "4    D\n",
       "5    E\n",
       "1    A\n",
       "2    B\n",
       "3    C\n",
       "4    D\n",
       "5    E\n",
       "1    A\n",
       "2    B\n",
       "3    C\n",
       "4    D\n",
       "5    E\n",
       "dtype: object"
      ]
     },
     "execution_count": 311,
     "metadata": {},
     "output_type": "execute_result"
    }
   ],
   "source": [
    "# verify_integrity는 중복 여부 (false면 중복 가능)\n",
    "pd.concat([a,b,c], verify_integrity=False)"
   ]
  },
  {
   "cell_type": "code",
   "execution_count": 313,
   "metadata": {},
   "outputs": [
    {
     "data": {
      "text/plain": [
       "0     A\n",
       "1     B\n",
       "2     C\n",
       "3     D\n",
       "4     E\n",
       "5     A\n",
       "6     B\n",
       "7     C\n",
       "8     D\n",
       "9     E\n",
       "10    A\n",
       "11    B\n",
       "12    C\n",
       "13    D\n",
       "14    E\n",
       "dtype: object"
      ]
     },
     "execution_count": 313,
     "metadata": {},
     "output_type": "execute_result"
    }
   ],
   "source": [
    "# 중복 data있으면 안 되고, 기존 index를 ignore (임의 재설정해줌)\n",
    "pd.concat([a,b,c], verify_integrity=True, ignore_index=True)"
   ]
  },
  {
   "cell_type": "code",
   "execution_count": 325,
   "metadata": {},
   "outputs": [
    {
     "data": {
      "text/plain": [
       "1    A\n",
       "2    B\n",
       "3    C\n",
       "4    D\n",
       "5    E\n",
       "dtype: object"
      ]
     },
     "execution_count": 325,
     "metadata": {},
     "output_type": "execute_result"
    }
   ],
   "source": [
    "a = pd.Series(['A','B','C','D','E'], index=range(1,6))\n",
    "b = pd.Series(['A','B','C','D'], index=range(1,5))\n",
    "c = pd.Series(['A','B','C','D'], index=range(1,5))\n",
    "a"
   ]
  },
  {
   "cell_type": "code",
   "execution_count": 328,
   "metadata": {},
   "outputs": [
    {
     "data": {
      "text/html": [
       "<div>\n",
       "<style scoped>\n",
       "    .dataframe tbody tr th:only-of-type {\n",
       "        vertical-align: middle;\n",
       "    }\n",
       "\n",
       "    .dataframe tbody tr th {\n",
       "        vertical-align: top;\n",
       "    }\n",
       "\n",
       "    .dataframe thead th {\n",
       "        text-align: right;\n",
       "    }\n",
       "</style>\n",
       "<table border=\"1\" class=\"dataframe\">\n",
       "  <thead>\n",
       "    <tr style=\"text-align: right;\">\n",
       "      <th></th>\n",
       "      <th>0</th>\n",
       "      <th>1</th>\n",
       "      <th>2</th>\n",
       "    </tr>\n",
       "  </thead>\n",
       "  <tbody>\n",
       "    <tr>\n",
       "      <th>1</th>\n",
       "      <td>A</td>\n",
       "      <td>A</td>\n",
       "      <td>A</td>\n",
       "    </tr>\n",
       "    <tr>\n",
       "      <th>2</th>\n",
       "      <td>B</td>\n",
       "      <td>B</td>\n",
       "      <td>B</td>\n",
       "    </tr>\n",
       "    <tr>\n",
       "      <th>3</th>\n",
       "      <td>C</td>\n",
       "      <td>C</td>\n",
       "      <td>C</td>\n",
       "    </tr>\n",
       "    <tr>\n",
       "      <th>4</th>\n",
       "      <td>D</td>\n",
       "      <td>D</td>\n",
       "      <td>D</td>\n",
       "    </tr>\n",
       "    <tr>\n",
       "      <th>5</th>\n",
       "      <td>E</td>\n",
       "      <td>NaN</td>\n",
       "      <td>NaN</td>\n",
       "    </tr>\n",
       "  </tbody>\n",
       "</table>\n",
       "</div>"
      ],
      "text/plain": [
       "   0    1    2\n",
       "1  A    A    A\n",
       "2  B    B    B\n",
       "3  C    C    C\n",
       "4  D    D    D\n",
       "5  E  NaN  NaN"
      ]
     },
     "execution_count": 328,
     "metadata": {},
     "output_type": "execute_result"
    }
   ],
   "source": [
    "pd.concat([a,b,c], axis=1) # review)열 개수 유지를 위해 가로로 연산!"
   ]
  },
  {
   "cell_type": "code",
   "execution_count": 330,
   "metadata": {},
   "outputs": [
    {
     "data": {
      "text/html": [
       "<div>\n",
       "<style scoped>\n",
       "    .dataframe tbody tr th:only-of-type {\n",
       "        vertical-align: middle;\n",
       "    }\n",
       "\n",
       "    .dataframe tbody tr th {\n",
       "        vertical-align: top;\n",
       "    }\n",
       "\n",
       "    .dataframe thead th {\n",
       "        text-align: right;\n",
       "    }\n",
       "</style>\n",
       "<table border=\"1\" class=\"dataframe\">\n",
       "  <thead>\n",
       "    <tr style=\"text-align: right;\">\n",
       "      <th></th>\n",
       "      <th>0</th>\n",
       "      <th>1</th>\n",
       "      <th>2</th>\n",
       "    </tr>\n",
       "  </thead>\n",
       "  <tbody>\n",
       "    <tr>\n",
       "      <th>1</th>\n",
       "      <td>A</td>\n",
       "      <td>A</td>\n",
       "      <td>A</td>\n",
       "    </tr>\n",
       "    <tr>\n",
       "      <th>2</th>\n",
       "      <td>B</td>\n",
       "      <td>B</td>\n",
       "      <td>B</td>\n",
       "    </tr>\n",
       "    <tr>\n",
       "      <th>3</th>\n",
       "      <td>C</td>\n",
       "      <td>C</td>\n",
       "      <td>C</td>\n",
       "    </tr>\n",
       "    <tr>\n",
       "      <th>4</th>\n",
       "      <td>D</td>\n",
       "      <td>D</td>\n",
       "      <td>D</td>\n",
       "    </tr>\n",
       "  </tbody>\n",
       "</table>\n",
       "</div>"
      ],
      "text/plain": [
       "   0  1  2\n",
       "1  A  A  A\n",
       "2  B  B  B\n",
       "3  C  C  C\n",
       "4  D  D  D"
      ]
     },
     "execution_count": 330,
     "metadata": {},
     "output_type": "execute_result"
    }
   ],
   "source": [
    "# 결측치 없는 것만 보여\n",
    "pd.concat([a,b,c], axis=1, join='inner') "
   ]
  },
  {
   "cell_type": "code",
   "execution_count": 331,
   "metadata": {},
   "outputs": [
    {
     "data": {
      "text/html": [
       "<div>\n",
       "<style scoped>\n",
       "    .dataframe tbody tr th:only-of-type {\n",
       "        vertical-align: middle;\n",
       "    }\n",
       "\n",
       "    .dataframe tbody tr th {\n",
       "        vertical-align: top;\n",
       "    }\n",
       "\n",
       "    .dataframe thead th {\n",
       "        text-align: right;\n",
       "    }\n",
       "</style>\n",
       "<table border=\"1\" class=\"dataframe\">\n",
       "  <thead>\n",
       "    <tr style=\"text-align: right;\">\n",
       "      <th></th>\n",
       "      <th>0</th>\n",
       "      <th>1</th>\n",
       "      <th>2</th>\n",
       "    </tr>\n",
       "  </thead>\n",
       "  <tbody>\n",
       "    <tr>\n",
       "      <th>1</th>\n",
       "      <td>A</td>\n",
       "      <td>A</td>\n",
       "      <td>A</td>\n",
       "    </tr>\n",
       "    <tr>\n",
       "      <th>2</th>\n",
       "      <td>B</td>\n",
       "      <td>B</td>\n",
       "      <td>B</td>\n",
       "    </tr>\n",
       "    <tr>\n",
       "      <th>3</th>\n",
       "      <td>C</td>\n",
       "      <td>C</td>\n",
       "      <td>C</td>\n",
       "    </tr>\n",
       "    <tr>\n",
       "      <th>4</th>\n",
       "      <td>D</td>\n",
       "      <td>D</td>\n",
       "      <td>D</td>\n",
       "    </tr>\n",
       "    <tr>\n",
       "      <th>5</th>\n",
       "      <td>E</td>\n",
       "      <td>NaN</td>\n",
       "      <td>NaN</td>\n",
       "    </tr>\n",
       "  </tbody>\n",
       "</table>\n",
       "</div>"
      ],
      "text/plain": [
       "   0    1    2\n",
       "1  A    A    A\n",
       "2  B    B    B\n",
       "3  C    C    C\n",
       "4  D    D    D\n",
       "5  E  NaN  NaN"
      ]
     },
     "execution_count": 331,
     "metadata": {},
     "output_type": "execute_result"
    }
   ],
   "source": [
    "# 모든 데이터 보여줘\n",
    "pd.concat([a,b,c], axis=1, join='outer') "
   ]
  },
  {
   "cell_type": "markdown",
   "metadata": {
    "id": "p0FLVh_LgEQg"
   },
   "source": [
    "## 3 DataFrame\n",
    "\n",
    "- 다차원 배열(Series의 특성을 가지고 있는 2차원 배열)\n",
    "- Series가 쌓여서 구성된 것으로 생각하면 쉬움.\n",
    "- 가장 기본적인 데이터 구조"
   ]
  },
  {
   "cell_type": "markdown",
   "metadata": {
    "id": "KnRC6DjXgOO_"
   },
   "source": [
    "### 3.1 DataFrame의 형태"
   ]
  },
  {
   "cell_type": "markdown",
   "metadata": {
    "id": "vw4uXrgdgvmG"
   },
   "source": [
    "```\n",
    "연차  연도      매출    순익   직원수\n",
    "1     2015   1000000  100001        1\n",
    "2     2016   2000000  200001        2\n",
    "3     2017   3000000  300001        4\n",
    "4     2018   4000000  400001        8\n",
    "5     2019   8000000  800001       16\n",
    "6     2020  16000000 1600001       32\n",
    "```"
   ]
  },
  {
   "cell_type": "code",
   "execution_count": 332,
   "metadata": {
    "id": "L045GJOWgJGW"
   },
   "outputs": [],
   "source": [
    "rawData = {\n",
    "    '연차':[1, 2, 3, 4, 5, 6],\n",
    "    '연도':[2015, 2016, 2017, 2018, 2019, 2020],\n",
    "    '매출':[1000000, 2000000, 3000000, 4000000, 8000000, 16000000],\n",
    "    '순익':[100001, 200001, 300001, 400001, 800001, 1600001],\n",
    "    '직원수':[1, 2, 4, 8, 16, 32]\n",
    "}"
   ]
  },
  {
   "cell_type": "code",
   "execution_count": 334,
   "metadata": {
    "colab": {
     "base_uri": "https://localhost:8080/",
     "height": 237
    },
    "id": "WI__NIEUg9Ok",
    "outputId": "ebf2f371-eb93-4c0b-9f49-26779fc4eb6d"
   },
   "outputs": [
    {
     "data": {
      "text/html": [
       "<div>\n",
       "<style scoped>\n",
       "    .dataframe tbody tr th:only-of-type {\n",
       "        vertical-align: middle;\n",
       "    }\n",
       "\n",
       "    .dataframe tbody tr th {\n",
       "        vertical-align: top;\n",
       "    }\n",
       "\n",
       "    .dataframe thead th {\n",
       "        text-align: right;\n",
       "    }\n",
       "</style>\n",
       "<table border=\"1\" class=\"dataframe\">\n",
       "  <thead>\n",
       "    <tr style=\"text-align: right;\">\n",
       "      <th></th>\n",
       "      <th>연차</th>\n",
       "      <th>연도</th>\n",
       "      <th>매출</th>\n",
       "      <th>순익</th>\n",
       "      <th>직원수</th>\n",
       "    </tr>\n",
       "  </thead>\n",
       "  <tbody>\n",
       "    <tr>\n",
       "      <th>0</th>\n",
       "      <td>1</td>\n",
       "      <td>2015</td>\n",
       "      <td>1000000</td>\n",
       "      <td>100001</td>\n",
       "      <td>1</td>\n",
       "    </tr>\n",
       "    <tr>\n",
       "      <th>1</th>\n",
       "      <td>2</td>\n",
       "      <td>2016</td>\n",
       "      <td>2000000</td>\n",
       "      <td>200001</td>\n",
       "      <td>2</td>\n",
       "    </tr>\n",
       "    <tr>\n",
       "      <th>2</th>\n",
       "      <td>3</td>\n",
       "      <td>2017</td>\n",
       "      <td>3000000</td>\n",
       "      <td>300001</td>\n",
       "      <td>4</td>\n",
       "    </tr>\n",
       "    <tr>\n",
       "      <th>3</th>\n",
       "      <td>4</td>\n",
       "      <td>2018</td>\n",
       "      <td>4000000</td>\n",
       "      <td>400001</td>\n",
       "      <td>8</td>\n",
       "    </tr>\n",
       "    <tr>\n",
       "      <th>4</th>\n",
       "      <td>5</td>\n",
       "      <td>2019</td>\n",
       "      <td>8000000</td>\n",
       "      <td>800001</td>\n",
       "      <td>16</td>\n",
       "    </tr>\n",
       "    <tr>\n",
       "      <th>5</th>\n",
       "      <td>6</td>\n",
       "      <td>2020</td>\n",
       "      <td>16000000</td>\n",
       "      <td>1600001</td>\n",
       "      <td>32</td>\n",
       "    </tr>\n",
       "  </tbody>\n",
       "</table>\n",
       "</div>"
      ],
      "text/plain": [
       "   연차    연도        매출       순익  직원수\n",
       "0   1  2015   1000000   100001    1\n",
       "1   2  2016   2000000   200001    2\n",
       "2   3  2017   3000000   300001    4\n",
       "3   4  2018   4000000   400001    8\n",
       "4   5  2019   8000000   800001   16\n",
       "5   6  2020  16000000  1600001   32"
      ]
     },
     "execution_count": 334,
     "metadata": {},
     "output_type": "execute_result"
    }
   ],
   "source": [
    "pd.DataFrame(rawData)  "
   ]
  },
  {
   "cell_type": "code",
   "execution_count": 340,
   "metadata": {},
   "outputs": [
    {
     "name": "stdout",
     "output_type": "stream",
     "text": [
      "<class 'pandas.core.frame.DataFrame'>\n"
     ]
    }
   ],
   "source": [
    "print(type(pd.DataFrame(rawData)))"
   ]
  },
  {
   "cell_type": "code",
   "execution_count": 343,
   "metadata": {},
   "outputs": [
    {
     "name": "stdout",
     "output_type": "stream",
     "text": [
      "<class 'pandas.core.series.Series'>\n"
     ]
    }
   ],
   "source": [
    "print(type(pd.DataFrame(rawData)['연도']))\n",
    "# 이를 통해, Series들이 쌓여 DataFrame이 됨을 알 수 있다."
   ]
  },
  {
   "cell_type": "code",
   "execution_count": 349,
   "metadata": {},
   "outputs": [
    {
     "name": "stdout",
     "output_type": "stream",
     "text": [
      "   연차    연도       매출      순익  직원수\n",
      "2   3  2017  3000000  300001    4\n",
      "3   4  2018  4000000  400001    8\n",
      "4   5  2019  8000000  800001   16\n",
      "   연차    연도       매출      순익  직원수\n",
      "2   3  2017  3000000  300001    4\n",
      "3   4  2018  4000000  400001    8\n",
      "4   5  2019  8000000  800001   16\n"
     ]
    }
   ],
   "source": [
    "df = pd.DataFrame(rawData)\n",
    "\n",
    "# i(i니까, \"임시\" 의미로 쉽게 생각해주자..) \n",
    "# i(임시) location ::> 처음 만들어졌을 때의 index\n",
    "print(df.iloc[2:5])  \n",
    "\n",
    "# loc :: 우리가 명시해준 index \n",
    "print(df.loc[2:4])   # ::> 현재는 동일!"
   ]
  },
  {
   "cell_type": "code",
   "execution_count": 353,
   "metadata": {},
   "outputs": [
    {
     "data": {
      "text/html": [
       "<div>\n",
       "<style scoped>\n",
       "    .dataframe tbody tr th:only-of-type {\n",
       "        vertical-align: middle;\n",
       "    }\n",
       "\n",
       "    .dataframe tbody tr th {\n",
       "        vertical-align: top;\n",
       "    }\n",
       "\n",
       "    .dataframe thead th {\n",
       "        text-align: right;\n",
       "    }\n",
       "</style>\n",
       "<table border=\"1\" class=\"dataframe\">\n",
       "  <thead>\n",
       "    <tr style=\"text-align: right;\">\n",
       "      <th></th>\n",
       "      <th>연차</th>\n",
       "      <th>매출</th>\n",
       "      <th>순익</th>\n",
       "      <th>직원수</th>\n",
       "    </tr>\n",
       "  </thead>\n",
       "  <tbody>\n",
       "    <tr>\n",
       "      <th>2015</th>\n",
       "      <td>1</td>\n",
       "      <td>1000000</td>\n",
       "      <td>100001</td>\n",
       "      <td>1</td>\n",
       "    </tr>\n",
       "    <tr>\n",
       "      <th>2016</th>\n",
       "      <td>2</td>\n",
       "      <td>2000000</td>\n",
       "      <td>200001</td>\n",
       "      <td>2</td>\n",
       "    </tr>\n",
       "    <tr>\n",
       "      <th>2017</th>\n",
       "      <td>3</td>\n",
       "      <td>3000000</td>\n",
       "      <td>300001</td>\n",
       "      <td>4</td>\n",
       "    </tr>\n",
       "    <tr>\n",
       "      <th>2018</th>\n",
       "      <td>4</td>\n",
       "      <td>4000000</td>\n",
       "      <td>400001</td>\n",
       "      <td>8</td>\n",
       "    </tr>\n",
       "    <tr>\n",
       "      <th>2019</th>\n",
       "      <td>5</td>\n",
       "      <td>8000000</td>\n",
       "      <td>800001</td>\n",
       "      <td>16</td>\n",
       "    </tr>\n",
       "    <tr>\n",
       "      <th>2020</th>\n",
       "      <td>6</td>\n",
       "      <td>16000000</td>\n",
       "      <td>1600001</td>\n",
       "      <td>32</td>\n",
       "    </tr>\n",
       "  </tbody>\n",
       "</table>\n",
       "</div>"
      ],
      "text/plain": [
       "      연차        매출       순익  직원수\n",
       "2015   1   1000000   100001    1\n",
       "2016   2   2000000   200001    2\n",
       "2017   3   3000000   300001    4\n",
       "2018   4   4000000   400001    8\n",
       "2019   5   8000000   800001   16\n",
       "2020   6  16000000  1600001   32"
      ]
     },
     "execution_count": 353,
     "metadata": {},
     "output_type": "execute_result"
    }
   ],
   "source": [
    "# index 설정에서 rawData[~~] 이렇게 직접 명명!\n",
    "df = pd.DataFrame(rawData, columns=['연차','매출','순익','직원수'], index=rawData['연도'])\n",
    "df"
   ]
  },
  {
   "cell_type": "code",
   "execution_count": 358,
   "metadata": {},
   "outputs": [
    {
     "name": "stdout",
     "output_type": "stream",
     "text": [
      "      연차       매출      순익  직원수\n",
      "2017   3  3000000  300001    4\n",
      "2018   4  4000000  400001    8\n",
      "--------------\n",
      "      연차       매출      순익  직원수\n",
      "2016   2  2000000  200001    2\n",
      "2017   3  3000000  300001    4\n",
      "2018   4  4000000  400001    8\n"
     ]
    }
   ],
   "source": [
    "print(df.iloc[2:4])  # 처음 생성될 때 i(임시) index로!\n",
    "print(\"--------------\")\n",
    "print(df.loc[2016:2018])  # 명시적 설정해준 index로!"
   ]
  },
  {
   "cell_type": "code",
   "execution_count": 362,
   "metadata": {
    "colab": {
     "base_uri": "https://localhost:8080/"
    },
    "id": "2kgpJeAJjCT2",
    "outputId": "17468f74-d203-4e3e-cb90-2241e0c3d109"
   },
   "outputs": [
    {
     "name": "stdout",
     "output_type": "stream",
     "text": [
      "Overwriting rawData.csv\n"
     ]
    }
   ],
   "source": [
    "%%writefile rawData.csv\n",
    "1, 2, 3, 4, 5, 6, 7\n",
    "연차,1, 2, 3, 4, 5, 6\n",
    "연도,2015, 2016, 2017, 2018, 2019, 2020\n",
    "매출,1000000, 2000000, 3000000, 4000000, 8000000, 16000000\n",
    "순익,100001, 200001, 300001, 400001, 800001, 1600001\n",
    "직원수,1, 2, 4, 8, 16, 32"
   ]
  },
  {
   "cell_type": "markdown",
   "metadata": {
    "id": "w6aPMnakjoSJ"
   },
   "source": [
    "![](https://pandas.pydata.org/docs/_images/02_io_readwrite.svg)"
   ]
  },
  {
   "cell_type": "code",
   "execution_count": 364,
   "metadata": {
    "colab": {
     "base_uri": "https://localhost:8080/",
     "height": 206
    },
    "id": "JB8NkQOqjHpr",
    "outputId": "b7ee5331-18b4-454f-9152-cc704306b920"
   },
   "outputs": [
    {
     "data": {
      "text/html": [
       "<div>\n",
       "<style scoped>\n",
       "    .dataframe tbody tr th:only-of-type {\n",
       "        vertical-align: middle;\n",
       "    }\n",
       "\n",
       "    .dataframe tbody tr th {\n",
       "        vertical-align: top;\n",
       "    }\n",
       "\n",
       "    .dataframe thead th {\n",
       "        text-align: right;\n",
       "    }\n",
       "</style>\n",
       "<table border=\"1\" class=\"dataframe\">\n",
       "  <thead>\n",
       "    <tr style=\"text-align: right;\">\n",
       "      <th></th>\n",
       "      <th>1</th>\n",
       "      <th>2</th>\n",
       "      <th>3</th>\n",
       "      <th>4</th>\n",
       "      <th>5</th>\n",
       "      <th>6</th>\n",
       "      <th>7</th>\n",
       "    </tr>\n",
       "  </thead>\n",
       "  <tbody>\n",
       "    <tr>\n",
       "      <th>0</th>\n",
       "      <td>연차</td>\n",
       "      <td>1</td>\n",
       "      <td>2</td>\n",
       "      <td>3</td>\n",
       "      <td>4</td>\n",
       "      <td>5</td>\n",
       "      <td>6</td>\n",
       "    </tr>\n",
       "    <tr>\n",
       "      <th>1</th>\n",
       "      <td>연도</td>\n",
       "      <td>2015</td>\n",
       "      <td>2016</td>\n",
       "      <td>2017</td>\n",
       "      <td>2018</td>\n",
       "      <td>2019</td>\n",
       "      <td>2020</td>\n",
       "    </tr>\n",
       "    <tr>\n",
       "      <th>2</th>\n",
       "      <td>매출</td>\n",
       "      <td>1000000</td>\n",
       "      <td>2000000</td>\n",
       "      <td>3000000</td>\n",
       "      <td>4000000</td>\n",
       "      <td>8000000</td>\n",
       "      <td>16000000</td>\n",
       "    </tr>\n",
       "    <tr>\n",
       "      <th>3</th>\n",
       "      <td>순익</td>\n",
       "      <td>100001</td>\n",
       "      <td>200001</td>\n",
       "      <td>300001</td>\n",
       "      <td>400001</td>\n",
       "      <td>800001</td>\n",
       "      <td>1600001</td>\n",
       "    </tr>\n",
       "    <tr>\n",
       "      <th>4</th>\n",
       "      <td>직원수</td>\n",
       "      <td>1</td>\n",
       "      <td>2</td>\n",
       "      <td>4</td>\n",
       "      <td>8</td>\n",
       "      <td>16</td>\n",
       "      <td>32</td>\n",
       "    </tr>\n",
       "  </tbody>\n",
       "</table>\n",
       "</div>"
      ],
      "text/plain": [
       "     1        2        3        4        5        6         7\n",
       "0   연차        1        2        3        4        5         6\n",
       "1   연도     2015     2016     2017     2018     2019      2020\n",
       "2   매출  1000000  2000000  3000000  4000000  8000000  16000000\n",
       "3   순익   100001   200001   300001   400001   800001   1600001\n",
       "4  직원수        1        2        4        8       16        32"
      ]
     },
     "execution_count": 364,
     "metadata": {},
     "output_type": "execute_result"
    }
   ],
   "source": [
    "pd.read_csv('rawData.csv')"
   ]
  },
  {
   "cell_type": "code",
   "execution_count": 366,
   "metadata": {},
   "outputs": [
    {
     "data": {
      "text/plain": [
       "Index(['1', ' 2', ' 3', ' 4', ' 5', ' 6', ' 7'], dtype='object')"
      ]
     },
     "execution_count": 366,
     "metadata": {},
     "output_type": "execute_result"
    }
   ],
   "source": [
    "pd.read_csv('rawData.csv').columns"
   ]
  },
  {
   "cell_type": "code",
   "execution_count": 372,
   "metadata": {},
   "outputs": [
    {
     "data": {
      "text/plain": [
       "RangeIndex(start=0, stop=5, step=1)"
      ]
     },
     "execution_count": 372,
     "metadata": {},
     "output_type": "execute_result"
    }
   ],
   "source": [
    "pd.read_csv('rawData.csv').index"
   ]
  },
  {
   "cell_type": "code",
   "execution_count": 377,
   "metadata": {},
   "outputs": [
    {
     "name": "stdout",
     "output_type": "stream",
     "text": [
      "Defaulting to user installation because normal site-packages is not writeable\n",
      "Requirement already satisfied: lxml in /home/kimse/.local/lib/python3.10/site-packages (5.3.0)\n",
      "Defaulting to user installation because normal site-packages is not writeable\n",
      "Collecting html5lib\n",
      "  Downloading html5lib-1.1-py2.py3-none-any.whl.metadata (16 kB)\n",
      "Requirement already satisfied: beautifulsoup4 in /home/kimse/.local/lib/python3.10/site-packages (4.12.3)\n",
      "Requirement already satisfied: six>=1.9 in /home/kimse/.local/lib/python3.10/site-packages (from html5lib) (1.16.0)\n",
      "Requirement already satisfied: webencodings in /home/kimse/.local/lib/python3.10/site-packages (from html5lib) (0.5.1)\n",
      "Requirement already satisfied: soupsieve>1.2 in /home/kimse/.local/lib/python3.10/site-packages (from beautifulsoup4) (2.6)\n",
      "Downloading html5lib-1.1-py2.py3-none-any.whl (112 kB)\n",
      "Installing collected packages: html5lib\n",
      "Successfully installed html5lib-1.1\n"
     ]
    }
   ],
   "source": [
    "!pip install lxml\n",
    "!pip install html5lib beautifulsoup4"
   ]
  },
  {
   "cell_type": "code",
   "execution_count": 379,
   "metadata": {
    "id": "-IGiUF8cj7MV"
   },
   "outputs": [
    {
     "data": {
      "text/plain": [
       "[   Unnamed: 0_level_0    2016           2017          2018          2019  \\\n",
       "    Unnamed: 0_level_1      인구   인구밀도      인구   인구밀도     인구   인구밀도     인구   \n",
       " 0                   계   51218    510   51362    512  51607    514  51709   \n",
       " 1                  서울    9843  16263    9766  16136   9705  16034   9662   \n",
       " 2                  부산  약3,500   4477  약3,100   4447   3400   4416   3300   \n",
       " 3                  대구    2461   2786    2458   2782   2450   2773   2432   \n",
       " 4                  인천    2907   2736    2924   2750   2939   2764   2944   \n",
       " 5                  광주    1502   2997    1495   2984   1493   2980   1494   \n",
       " 6                  대전    1536   2848    1528   2832   1518   2813   1509   \n",
       " 7                  울산    1166   1099    1159   1092   1154   1088   1147   \n",
       " 8                  세종     234    504     266    571    304    653    331   \n",
       " 9                  경기   12600   1237   12786   1255  13031   1279  13238   \n",
       " 10                 강원    1521     90    1521     90   1521     90   1517   \n",
       " 11                 충북    1601    216    1609    217   1619    219   1626   \n",
       " 12                 충남    2126    258    2153    262   2180    265   2188   \n",
       " 13                 전북    1835    227    1829    227   1820    226   1803   \n",
       " 14                 전남    1798    146    1795    146   1790    145   1773   \n",
       " 15                 경북    2683    141    2675    141   2674    141   2665   \n",
       " 16                 경남    3338    317    3339    317   3356    318   3350   \n",
       " 17                 제주     618    334     635    343    653    353    660   \n",
       " 18                수도권   25350   2139   25476   2149  25675   2165  25844   \n",
       " \n",
       "             2020         \n",
       "      인구밀도     인구   인구밀도  \n",
       " 0     515  51781    516  \n",
       " 1   15964   9602  15865  \n",
       " 2    4380   3344   4342  \n",
       " 3    2753   2419   2738  \n",
       " 4    2769   2951   2770  \n",
       " 5    2980   1488   2969  \n",
       " 6    2796   1500   2780  \n",
       " 7    1080   1140   1073  \n",
       " 8     712    349    750  \n",
       " 9    1299  13405   1315  \n",
       " 10     90   1515     90  \n",
       " 11    219   1632    220  \n",
       " 12    265   2204    267  \n",
       " 13    223   1792    222  \n",
       " 14    144   1764    143  \n",
       " 15    140   2655    140  \n",
       " 16    318   3350    318  \n",
       " 17    356    670    362  \n",
       " 18   2179  25958   2188  ,\n",
       "           Unnamed: 0         Unnamed: 1     2011   2012   2013   2014   2015  \\\n",
       " 0               기대수명                  계    80.62  80.87  81.36  81.80  82.06   \n",
       " 1               기대수명                 남자    77.26  77.57  78.12  78.58  78.96   \n",
       " 2               기대수명                 여자    83.97  84.17  84.60  85.02  85.17   \n",
       " 3  유병기간제외 기대수명(건강수명)  유병기간제외 기대수명(건강수명)  (자료 없음)  65.70      -  65.20      -   \n",
       " \n",
       "    2016   2017  2018   2019  \n",
       " 0  82.4  82.70  82.7  83.30  \n",
       " 1  79.3  79.70  79.7  80.30  \n",
       " 2  85.4  85.70  85.7  86.30  \n",
       " 3  64.9      -  64.4      -  ,\n",
       "   대한민국의 총인구                                                                   \\\n",
       "        1949         1955         1970         1980         1985         1995   \n",
       " 0  20166756  ↗21,502,386  ↗31,435,252  ↗37,406,815  ↗40,419,652  ↗44,553,710   \n",
       " \n",
       "                                                                     \\\n",
       "           2005         2010         2015         2018         2019   \n",
       " 0  ↗47,041,434  ↗47,990,761  ↗51,069,375  ↗51,629,512  ↗51,779,203   \n",
       " \n",
       "                 \n",
       "           2020  \n",
       " 0  ↗51,829,136  ,\n",
       "   대한민국의 주민등록 인구                                                      \\\n",
       "            2008         2009         2010         2013         2015   \n",
       " 0      49540367  ↗49,773,145  ↗50,515,666  ↗51,141,463  ↗51,529,338   \n",
       " \n",
       "                                                                     \\\n",
       "           2016         2018     2019. 10     2019. 11     2019. 12   \n",
       " 0  ↗51,696,216  ↗51,826,059  ↗51,850,705  ↗51,851,427  ↘51,849,861   \n",
       " \n",
       "                              \n",
       "           2020     2021. 07  \n",
       " 0  ↘51,779,203  ↘51,671,569  ,\n",
       "     연도 (년)   추계인구(명)  출생자수(명)  사망자수(명)  자연증가수(명)  조출생률 (1000명당)  \\\n",
       " 0     1925  12997611   558897   359042    199855           43.0   \n",
       " 1     1926  13052741   511667   337948    173719           39.2   \n",
       " 2     1927  13037169   534524   353818    180706           41.0   \n",
       " 3     1928  13105131   566142   357701    208441           43.2   \n",
       " 4     1929  13124279   566969   414366    152603           43.2   \n",
       " 5     1930  13880469   587144   322611    264533           42.3   \n",
       " 6     1931  13895052   589428   346800    242628           42.4   \n",
       " 7     1932  14117191   600545   384287    216258           42.5   \n",
       " 8     1933  14229277   607021   336232    270789           42.7   \n",
       " 9     1934  14449155   618135   356515    261620           42.8   \n",
       " 10    1935  15061960   646158   377454    268704           42.9   \n",
       " 11    1936  15114775   639355   381806    257549           42.3   \n",
       " 12    1937  15235383   636839   342575    294264           41.8   \n",
       " 13    1938  15358193   569299   347025    222274           37.1   \n",
       " 14    1939  15486028   585482   353391    232091           37.8   \n",
       " 15    1940  15559741   527964   358496    169468           33.9   \n",
       " 16    1941  15745478   553690   366239    187451           35.2   \n",
       " 17    1942  16013742   533768   376003    157765           33.3   \n",
       " 18    1943  16239721   513846   384881    128965           31.6   \n",
       " 19    1944  16599172   533215   380121    153094           32.1   \n",
       " \n",
       "     조사망률 (1000명당)  자연증가율 (1000명당)  합계출산율  \n",
       " 0            27.6            15.4   6.59  \n",
       " 1            25.9            13.3    NaN  \n",
       " 2            27.1            13.9    NaN  \n",
       " 3            27.3            15.9    NaN  \n",
       " 4            31.6            11.6    NaN  \n",
       " 5            23.2            19.1   6.41  \n",
       " 6            25.0            17.4    NaN  \n",
       " 7            27.2            15.3    NaN  \n",
       " 8            23.6            19.1    NaN  \n",
       " 9            24.7            18.1    NaN  \n",
       " 10           25.1            17.8   6.60  \n",
       " 11           25.3            17.0    NaN  \n",
       " 12           22.5            19.3    NaN  \n",
       " 13           22.6            14.5    NaN  \n",
       " 14           22.8            15.0    NaN  \n",
       " 15           23.0            10.9   6.56  \n",
       " 16           23.3            11.9    NaN  \n",
       " 17           23.5             9.8    NaN  \n",
       " 18           23.7             7.9    NaN  \n",
       " 19           22.9             9.2   6.78  ,\n",
       "     연도 (년)   추계인구(명)  출생자수(명)  사망자수(명)  자연증가수(명)  조출생률 (1000명당)  \\\n",
       " 0     1945  16695819   544786   367308    177478           32.6   \n",
       " 1     1946  19369270   590763   410629    180134           30.5   \n",
       " 2     1947  19836234   686334   361019    325315           35.0   \n",
       " 3     1948  20027393   692948   374512    318436           34.6   \n",
       " 4     1949  20188641   696508   341188    355320           34.5   \n",
       " ..     ...       ...      ...      ...       ...            ...   \n",
       " 74    2019  51764822   303054   295132      7922            5.9   \n",
       " 75    2020  51836239   272337   304948    -32611            5.3   \n",
       " 76    2021  51744876   260562   317680    -57118            5.1   \n",
       " 77    2022  51628117   249186   372939   -123753            4.9   \n",
       " 78    2023  51430018   229971   352721   -122750            4.5   \n",
       " \n",
       "     조사망률 (1000명당)  자연증가율 (1000명당)  합계출산율  \n",
       " 0            22.0            10.6    NaN  \n",
       " 1            21.2             9.3    NaN  \n",
       " 2            18.2            16.8    NaN  \n",
       " 3            18.7            15.9    NaN  \n",
       " 4            16.9            17.6    NaN  \n",
       " ..            ...             ...    ...  \n",
       " 74            5.7             0.2  0.918  \n",
       " 75            5.9            -0.6  0.837  \n",
       " 76            6.2            -1.1  0.808  \n",
       " 77            7.3            -2.4  0.778  \n",
       " 78            6.9            -2.4  0.720  \n",
       " \n",
       " [79 rows x 9 columns],\n",
       "      연도  1908  1913  1918  1923  1928  1933  1938  1942  1950[21]\n",
       " 0  기대수명  23.5  25.0  27.0  29.5  33.6  37.4  42.6  44.9      46.7,\n",
       "           기간  기대수명       기간.1  기대수명.1\n",
       " 0  1950–1955  47.9  1985–1990    70.3\n",
       " 1  1955–1960  51.2  1990–1995    72.9\n",
       " 2  1960–1965  54.8  1995–2000    75.0\n",
       " 3  1965–1970  58.8  2000–2005    77.2\n",
       " 4  1970–1975  63.1  2005–2010    79.4\n",
       " 5  1975–1980  65.0  2010–2015    81.3\n",
       " 6  1980–1985  67.4  2015-2020    83.5,\n",
       "       연도  1900  1901  1902  1903  1904  1905  1906  1907  1908  1909  1910[22]\n",
       " 0  합계출산율     6     6  5.99  5.99  5.98  5.98  5.97  5.96  5.96  5.96       NaN,\n",
       "       연도  1911  1912  1913  1914  1915  1916  1917  1918  1919  1920[22]\n",
       " 0  합계출산율  5.95  5.95  5.94  5.94  5.93  5.93  5.92  5.92  5.93      5.94,\n",
       "       연도  1921  1922  1923  1924[22]\n",
       " 0  합계출산율  5.95  5.96  5.97      5.95,\n",
       "    Unnamed: 0_level_0  2021년 6월                                           \n",
       "    Unnamed: 0_level_1     총 인구수       세대수 세대당 인구    남자 인구수    여자 인구수 남여 비율\n",
       " 0                  전국  51672400  23256332   2.22  25770033  25902367  0.99\n",
       " 1               서울특별시   9565990   4405638   2.17   4649442   4916548  0.95\n",
       " 2               부산광역시   3364358   1533514   2.19   1647291   1717067  0.96\n",
       " 3               대구광역시   2397646   1059826   2.26   1182380   1215266  0.97\n",
       " 4               인천광역시   2936367   1280291   2.29   1470544   1465823  1.00\n",
       " 5               광주광역시   1442647    638270   2.26    713793    728854  0.98\n",
       " 6               대전광역시   1456107    657781   2.21    726666    729441  1.00\n",
       " 7               울산광역시   1126369    479971   2.35    578924    547445  1.06\n",
       " 8             세종특별자치시    362995    148604   2.44    181328    181667  1.00\n",
       " 9                 경기도  13500688   5763227   2.34   6795088   6705600  1.01\n",
       " 10                강원도   1535530    738068   2.08    772949    762581  1.01\n",
       " 11               충청북도   1597503    752237   2.12    810225    787278  1.03\n",
       " 12               충청남도   2117400    991636   2.14   1082113   1035287  1.05\n",
       " 13               전라북도   1794345    842662   2.13    892670    901675  0.99\n",
       " 14               전라남도   1840921    897529   2.05    926398    914523  1.01\n",
       " 15               경상북도   2632401   1266588   2.08   1326844   1305557  1.02\n",
       " 16               경상남도   3325840   1496137   2.22   1674612   1651228  1.01\n",
       " 17            제주특별자치도    675293    304353   2.22    338766    336527  1.01,\n",
       "    Unnamed: 0_level_0 2021.07 연령별 인구현황                                      \\\n",
       "    Unnamed: 0_level_1          주민등록 인구     0-9세   10-19세   20-29세   30-39세   \n",
       " 0                  전국         51671569  3843759  4737829  6733054  6764334   \n",
       " 1               서울특별시          9558153   599600   764952  1440484  1449434   \n",
       " 2               부산광역시          3361781   224799   267659   422488   409975   \n",
       " 3               대구광역시          2395749   171893   220577   315051   287590   \n",
       " 4               인천광역시          2937440   221097   271547   394550   400637   \n",
       " 5               광주광역시          1442482   116003   153869   207814   182548   \n",
       " 6               대전광역시          1455300   110138   143598   210655   190813   \n",
       " 7               울산광역시          1125727    94428   110546   140710   147449   \n",
       " 8             세종특별자치시           364364    46995    44340    38265    61176   \n",
       " 9                 경기도         13512867  1119413  1326320  1809310  1898501   \n",
       " 10                강원도          1536140   102580   135021   176875   163235   \n",
       " 11               충청북도          1597501   119553   147224   196710   192127   \n",
       " 12               충청남도          2118205   166848   201286   240255   262268   \n",
       " 13               전라북도          1793902   123179   171743   209534   184768   \n",
       " 14               전라남도          1839698   127179   164477   197212   181118   \n",
       " 15               경상북도          2631649   182918   223455   280421   283759   \n",
       " 16               경상남도          3324735   257940   320906   370748   387531   \n",
       " 17            제주특별자치도           675876    59196    70309    81972    81405   \n",
       " \n",
       "                                                                  \n",
       "      40-49세   50-59세   60-69세   70-79세   80-89세  90-99세 100세 이상  \n",
       " 0   8205797  8591085  7039371  3699044  1790233  256245   10818  \n",
       " 1   1497354  1505745  1274190   696452   286511   40954    2477  \n",
       " 2    505116   556481   544644   294713   120274   14876     756  \n",
       " 3    376422   419517   337985   175933    80677    9732     372  \n",
       " 4    480528   508488   388725   178261    80508   12554     545  \n",
       " 5    237460   233995   169107    94071    41385    5997     233  \n",
       " 6    233122   239271   187703    91741    42113    5937     209  \n",
       " 7    184951   206594   152653    61642    23542    3129      83  \n",
       " 8     71019    46878    32468    14554     7365    1268      36  \n",
       " 9   2295435  2249247  1625682   769763   363493   53391    2312  \n",
       " 10   220452   263759   253985   133653    74741   11374     465  \n",
       " 11   238200   269459   236905   119913    67734    9360     316  \n",
       " 12   326371   337638   294422   171492   102261   14845     519  \n",
       " 13   262826   297818   264807   170737    93733   14225     532  \n",
       " 14   254908   311829   280838   191252   113467   16821     597  \n",
       " 15   378861   453913   427094   241786   139206   19584     652  \n",
       " 16   531015   576482   485482   247494   128534   18093     510  \n",
       " 17   111757   113971    82681    45587    24689    4105     204  ,\n",
       "    Unnamed: 0_level_0 2020 통계청 인구주택총조사                                \\\n",
       "    Unnamed: 0_level_1              총인구        남자        여자       내국인   \n",
       " 0                  전국         51829136  25915207  25913929  50133493   \n",
       " 1                  읍부          5113052   2624351   2488701   4904647   \n",
       " 2                  면부          4650781   2420392   2230389   4394145   \n",
       " 3                  동부         42065303  20870464  21194839  40834701   \n",
       " 4               서울특별시          9586195   4647733   4938462   9219741   \n",
       " 5               부산광역시          3349016   1638751   1710265   3294102   \n",
       " 6               대국광역시          2410700   1190271   1220429   2373302   \n",
       " 7               인천광역시          2945454   1477064   1468390   2846242   \n",
       " 8               광주광역시          1477573    734140    743433   1447000   \n",
       " 9               대전광역시          1488435    744349    744086   1465507   \n",
       " 10              울산광역시          1135423    585978    549445   1108528   \n",
       " 11            세종특별자치시           353933    177939    175994    346689   \n",
       " 12                경기도         13511676   6828367   6683309  12928214   \n",
       " 13                강원도          1521763    767674    754089   1497109   \n",
       " 14               충청북도          1632088    833819    798269   1574994   \n",
       " 15               충청남도          2176636   1117575   1059061   2077470   \n",
       " 16               전라북도          1802766    899058    903708   1760400   \n",
       " 17               전라남도          1788807    903281    885526   1743571   \n",
       " 18               경상북도          2644757   1338823   1305934   2570210   \n",
       " 19               경상남도          3333056   1692212   1640844   3236387   \n",
       " 20            제주특별자치도           670858    338173    332685    644027   \n",
       " \n",
       "                                         \n",
       "       내국인-남자    내국인-여자  외국인-남자  외국인-여자  \n",
       " 0   24972588  25160905  942619  753024  \n",
       " 1    2494271   2410376  130080   78325  \n",
       " 2    2237761   2156384  182631   74005  \n",
       " 3   20240556  20594145  629908  600694  \n",
       " 4    4474343   4745398  173390  193064  \n",
       " 5    1608877   1685225   29874   25040  \n",
       " 6    1170625   1202677   19646   17752  \n",
       " 7    1422376   1423866   54688   44524  \n",
       " 8     717832    729168   16308   14265  \n",
       " 9     733852    731655   10497   12431  \n",
       " 10    570131    538397   15847   11048  \n",
       " 11    173541    173148    4398    2846  \n",
       " 12   6489718   6438496  338649  244813  \n",
       " 13    754831    742278   12843   11811  \n",
       " 14    799168    775826   34651   22443  \n",
       " 15   1058869   1018601   58706   40460  \n",
       " 16    876451    883949   22607   19759  \n",
       " 17    875732    867839   27549   17687  \n",
       " 18   1294138   1276072   44685   29862  \n",
       " 19   1629100   1607287   63112   33557  \n",
       " 20    323004    321023   15169   11662  ,\n",
       "    Unnamed: 0_level_0 2020 통계청 인구주택총조사 연령 및 성별 인구                          \\\n",
       "    Unnamed: 0_level_1                         총인구          남자          여자   \n",
       " 0                  전체                  51829136.0  25915207.0  25913929.0   \n",
       " 1                0~4세                   1722081.0    883196.0    838885.0   \n",
       " 2                5~9세                   2264595.0   1161247.0   1103348.0   \n",
       " 3              10~14세                   2267481.0   1168937.0   1098544.0   \n",
       " 4              15~19세                   2449561.0   1271404.0   1178157.0   \n",
       " 5              20~24세                   3364804.0   1762135.0   1602669.0   \n",
       " 6              25~29세                   3666212.0   1959723.0   1706489.0   \n",
       " 7              30~34세                   3301331.0   1742483.0   1558848.0   \n",
       " 8              35~39세                   3805470.0   1970249.0   1835221.0   \n",
       " 9              40~44세                   3906665.0   1997630.0   1909035.0   \n",
       " 10             45~49세                   4325697.0   2196042.0   2129655.0   \n",
       " 11             50~54세                   4372054.0   2195060.0   2176994.0   \n",
       " 12             55~59세                   4210645.0   2109380.0   2101265.0   \n",
       " 13             60~64세                   3885297.0   1912792.0   1972505.0   \n",
       " 14             65~69세                   2734187.0   1314575.0   1419612.0   \n",
       " 15             70~74세                   2027679.0    946539.0   1081140.0   \n",
       " 16             75~79세                   1600867.0    684291.0    916576.0   \n",
       " 17             80~84세                   1120781.0    419037.0    701744.0   \n",
       " 18              85세이상                    803729.0    220487.0    583242.0   \n",
       " 19             85~89세                    563930.0    168643.0    395287.0   \n",
       " 20             90~94세                    192663.0     42951.0    149712.0   \n",
       " 21             95~99세                     41512.0      8024.0     33488.0   \n",
       " 22             100세이상                      5624.0       869.0      4755.0   \n",
       " 23              15세미만                   6254157.0   3213380.0   3040777.0   \n",
       " 24             15~64세                  37287736.0  19116898.0  18170838.0   \n",
       " 25              65세이상                   8287243.0   3584929.0   4702314.0   \n",
       " 26               평균연령                        42.9        41.7        44.1   \n",
       " 27               중위연령                        43.9        42.5        45.3   \n",
       " \n",
       "                                                       \n",
       "        성비         내국인      내국인-남자      내국인-여자 내국인-성비  \n",
       " 0   100.0  50133493.0  24972588.0  25160905.0   99.3  \n",
       " 1   105.3   1684917.0    864276.0    820641.0  105.3  \n",
       " 2   105.2   2238916.0   1148248.0   1090668.0  105.3  \n",
       " 3   106.4   2252113.0   1161098.0   1091015.0  106.4  \n",
       " 4   107.9   2422002.0   1258885.0   1163117.0  108.2  \n",
       " 5   110.0   3193316.0   1670636.0   1522680.0  109.7  \n",
       " 6   114.8   3423231.0   1813896.0   1609335.0  112.7  \n",
       " 7   111.8   3032832.0   1579900.0   1452932.0  108.7  \n",
       " 8   107.4   3594213.0   1841713.0   1752500.0  105.1  \n",
       " 9   104.6   3758298.0   1909518.0   1848780.0  103.3  \n",
       " 10  103.1   4195327.0   2123611.0   2071716.0  102.5  \n",
       " 11  100.8   4245683.0   2130025.0   2115658.0  100.7  \n",
       " 12  100.4   4091920.0   2051221.0   2040699.0  100.5  \n",
       " 13   97.0   3795217.0   1869359.0   1925858.0   97.1  \n",
       " 14   92.6   2685773.0   1291921.0   1393852.0   92.7  \n",
       " 15   87.6   2009542.0    938910.0   1070632.0   87.7  \n",
       " 16   74.7   1593192.0    681766.0    911426.0   74.8  \n",
       " 17   59.7   1115804.0    417754.0    698050.0   59.8  \n",
       " 18   37.8    801197.0    219851.0    581346.0   37.8  \n",
       " 19   42.7    562068.0    168181.0    393887.0   42.7  \n",
       " 20   28.7    192149.0     42825.0    149324.0   28.7  \n",
       " 21   24.0     41399.0      7995.0     33404.0   23.9  \n",
       " 22   18.3      5581.0       850.0      4731.0   18.0  \n",
       " 23  105.7   6175946.0   3173622.0   3002324.0  105.7  \n",
       " 24  105.2  35752039.0  18248764.0  17503275.0  104.3  \n",
       " 25   76.2   8205508.0   3550202.0   4655306.0   76.3  \n",
       " 26      -        43.1        41.9        44.2      -  \n",
       " 27      -        44.3        42.9        45.6      -  ,\n",
       "    Unnamed: 0_level_0 2020 행정구역별 가구원수별 가구(일반가구)[31]                    \\\n",
       "    Unnamed: 0_level_1                        일반가구_계       1인       2인   \n",
       " 0                  전국                      20926710  6643354  5864525   \n",
       " 1               서울특별시                       3982290  1390701  1033901   \n",
       " 2               부산광역시                       1405037   455207   411455   \n",
       " 3               대구광역시                        985816   304543   276237   \n",
       " 4               인천광역시                       1147200   324841   316387   \n",
       " 5               광주광역시                        599217   193948   162403   \n",
       " 6               대전광역시                        631208   228842   164795   \n",
       " 7               울산광역시                        444087   122848   123591   \n",
       " 8             세종특별자치시                        139106    43577    33204   \n",
       " 9                 경기도                       5098431  1406010  1350139   \n",
       " 10                강원도                        661039   231371   206755   \n",
       " 11               충청북도                        678922   236208   198840   \n",
       " 12               충청남도                        892222   304973   264909   \n",
       " 13               전라북도                        755575   255269   233334   \n",
       " 14               전라남도                        761518   256633   251506   \n",
       " 15               경상북도                       1131819   388791   363061   \n",
       " 16               경상남도                       1350155   417737   399700   \n",
       " 17            제주특별자치도                        263068    81855    74308   \n",
       " \n",
       "                                              \n",
       "          3인       4인      5인      6인  7인 이상  \n",
       " 0   4200629  3271315  761417  147172  38298  \n",
       " 1    792690   602791  130122   25770   6315  \n",
       " 2    282233   203769   42608    7874   1891  \n",
       " 3    205048   159654   33131    5976   1227  \n",
       " 4    251928   198528   44949    8440   2127  \n",
       " 5    115978    97323   24613    4011    941  \n",
       " 6    116989    93698   21883    4034    967  \n",
       " 7     99739    79489   15447    2398    575  \n",
       " 8     28307    26415    6328    1029    246  \n",
       " 9   1119823   951370  218173   42094  10822  \n",
       " 10   117504    79073   20669    4409   1258  \n",
       " 11   122347    91329   24143    4694   1361  \n",
       " 12   159754   121589   32419    6618   1960  \n",
       " 13   134414    96907   27962    5920   1769  \n",
       " 14   131372    87883   26561    5727   1836  \n",
       " 15   202539   137092   32174    6388   1774  \n",
       " 16   270061   205658   46516    8410   2073  \n",
       " 17    49903    38747   13719    3380   1156  ,\n",
       "    Unnamed: 0_level_0 2020 행정구역별 거처의 종류별 가구(일반가구)[32]                     \\\n",
       "    Unnamed: 0_level_1                            일반가구      주택_계  주택_단독주택   \n",
       " 0                  전국                        20926710  19837389  6354329   \n",
       " 1               서울특별시                         3982290   3683310  1039028   \n",
       " 2               부산광역시                         1405037   1322009   337455   \n",
       " 3               대구광역시                          985816    960486   322945   \n",
       " 4               인천광역시                         1147200   1055432   179944   \n",
       " 5               광주광역시                          599217    582628   159456   \n",
       " 6               대전광역시                          631208    615567   218414   \n",
       " 7               울산광역시                          444087    430451   127243   \n",
       " 8             세종특별자치시                          139106    135591    28587   \n",
       " 9                 경기도                         5098431   4787657  1071852   \n",
       " 10                강원도                          661039    641082   294458   \n",
       " 11               충청북도                          678922    658530   286038   \n",
       " 12               충청남도                          892222    854747   381458   \n",
       " 13               전라북도                          755575    736040   335620   \n",
       " 14               전라남도                          761518    731295   392815   \n",
       " 15               경상북도                         1131819   1094085   539012   \n",
       " 16               경상남도                         1350155   1303829   520671   \n",
       " 17            제주특별자치도                          263068    244650   119333   \n",
       " \n",
       "                                                           \n",
       "       주택_아파트 주택_연립주택 주택_다세대주택 주택_비거주용 건물 내 주택 주택이외의 거처_계  \n",
       " 0   10780401  442203  1944785          315671    1089321  \n",
       " 1    1712861  104115   748699           78607     298980  \n",
       " 2     797968   27198   139930           19458      83028  \n",
       " 3     566115    8251    49301           13874      25330  \n",
       " 4     629920   24445   208000           13123      91768  \n",
       " 5     400719    8574     6505            7374      16589  \n",
       " 6     348641    9300    30858            8354      15641  \n",
       " 7     268986    6143    19817            8262      13636  \n",
       " 8     104335     850      948             871       3515  \n",
       " 9    2975034  112907   572542           55322     310774  \n",
       " 10    308470   15723     9160           13271      19957  \n",
       " 11    332947   12722    15492           11331      20392  \n",
       " 12    413317   16885    29934           13153      37475  \n",
       " 13    365885   13258     9979           11298      19535  \n",
       " 14    303068   13129     8016           14267      30223  \n",
       " 15    473297   24112    37479           20185      37734  \n",
       " 16    711467   21584    30363           19744      46326  \n",
       " 17     67371   23007    27762            7177      18418  ,\n",
       "     Unnamed: 0_level_0 가구주의 연령 2020 행정구역별 가구주의 연령 및 가구원수별 가구(일반가구)[33]  \\\n",
       "     Unnamed: 0_level_1 가구주의 연령                                    일반가구   \n",
       " 0                   전국      합계                                20926710   \n",
       " 1                서울특별시      합계                                 3982290   \n",
       " 2                서울특별시   15세미만                                      34   \n",
       " 3                서울특별시  15~19세                                   14740   \n",
       " 4                서울특별시  20~24세                                  142982   \n",
       " ..                 ...     ...                                     ...   \n",
       " 285            제주특별자치도  65~69세                                   17833   \n",
       " 286            제주특별자치도  70~74세                                   14352   \n",
       " 287            제주특별자치도  75~79세                                   11361   \n",
       " 288            제주특별자치도  80~84세                                    7820   \n",
       " 289            제주특별자치도  85세 이상                                    5229   \n",
       " \n",
       "                                                                             \n",
       "      가구원수 1명  가구원수 2명  가구원수 3명  가구원수 4명 가구원수 5명 가구원수 6명 가구원수 7명 이상 평균 가구원수  \n",
       " 0    6643354  5864525  4200629  3271315  761417  147172      38298     2.3  \n",
       " 1    1390701  1033901   792690   602791  130122   25770       6315     2.3  \n",
       " 2         14       14        5        X       X       X          X     1.8  \n",
       " 3      14171      466       76       22       5       X          X     1.0  \n",
       " 4     123990    14542     3042     1175     200      25          8     1.2  \n",
       " ..       ...      ...      ...      ...     ...     ...        ...     ...  \n",
       " 285     5350     7638     3235     1039     343     148         80     2.1  \n",
       " 286     4134     6632     2341      740     281     145         79     2.1  \n",
       " 287     3368     5165     1846      553     226     129         74     2.1  \n",
       " 288     2798     3266     1116      339     175      83         43     2.0  \n",
       " 289     2533     1742      602      210      90      33         19     1.8  \n",
       " \n",
       " [290 rows x 11 columns],\n",
       "           지역  출생아 수(천명)  조출생률  합계출산율  거주인구(2021년 주민등록 인구)\n",
       " 0         서울       47.4   5.0   0.64              9588711\n",
       " 1         부산       15.1   4.5   0.75              3369704\n",
       " 2         대구       11.2   4.6   0.81              2406296\n",
       " 3         대전        7.5   5.1   0.81              1457619\n",
       " 4         광주        7.3   5.1   0.81              1444787\n",
       " 5         인천       16.0   5.5   0.83              2936214\n",
       " 6        경기도       77.8   5.9   0.88             13479798\n",
       " 7       전라북도        8.2   4.5   0.91              1796331\n",
       " 8       경상남도       16.8   5.1   0.95              3329623\n",
       " 9       충청북도        8.6   5.4   0.98              1596303\n",
       " 10        울산        6.6   5.8   0.99              1128163\n",
       " 11      경상북도       12.9   4.9   1.00              2635896\n",
       " 12       제주도        4.0   6.0   1.02               674484\n",
       " 13      충청남도       11.9   5.7   1.03              2116452\n",
       " 14       강원도        7.8   5.1   1.04              1536175\n",
       " 15      전라남도        9.7   5.3   1.15              1844148\n",
       " 16        세종        3.5  10.0   1.28               361396\n",
       " 17  대한민국(전체)      272.4   5.3   0.84             51702100,\n",
       "    Unnamed: 0   2019   2018   2017   2016   2015   2014   2013   2012   2011  \\\n",
       " 0          전국  0.918  0.977  1.052  1.172  1.239  1.205  1.187  1.297  1.244   \n",
       " 1       서울특별시  0.717  0.761  0.836  0.940  1.001  0.983  0.968  1.059  1.014   \n",
       " 2       부산광역시  0.827  0.899  0.976  1.095  1.139  1.090  1.049  1.135  1.078   \n",
       " 3       대구광역시  0.932  0.987  1.067  1.186  1.216  1.169  1.127  1.217  1.146   \n",
       " 4       인천광역시  0.940  1.006  1.007  1.144  1.216  1.212  1.195  1.301  1.232   \n",
       " 5       광주광역시  0.913  0.972  1.053  1.168  1.207  1.199  1.170  1.295  1.234   \n",
       " 6       대전광역시  0.883  0.952  1.075  1.192  1.277  1.250  1.234  1.315  1.261   \n",
       " 7       울산광역시  1.084  1.131  1.261  1.418  1.486  1.437  1.391  1.481  1.393   \n",
       " 8     세종특별자치시  1.472  1.566  1.668  1.821  1.893  1.354  1.435  1.597      -   \n",
       " 9         경기도  0.943  1.002  1.069  1.194  1.272  1.241  1.226  1.355  1.314   \n",
       " 10        강원도  1.082  1.067  1.123  1.237  1.311  1.248  1.249  1.374  1.338   \n",
       " 11       충청북도  1.050  1.172  1.235  1.358  1.414  1.363  1.365  1.485  1.428   \n",
       " 12       충청남도  1.112  1.186  1.276  1.395  1.480  1.421  1.442  1.571  1.496   \n",
       " 13       전라북도  0.971  1.044  1.151  1.251  1.352  1.329  1.320  1.440  1.405   \n",
       " 14       전라남도  1.234  1.240  1.325  1.466  1.549  1.497  1.518  1.642  1.568   \n",
       " 15       경상북도  1.089  1.167  1.256  1.396  1.464  1.408  1.379  1.489  1.434   \n",
       " 16       경상남도  1.046  1.122  1.227  1.358  1.437  1.409  1.367  1.503  1.446   \n",
       " 17    제주특별자치도  1.145  1.220  1.305  1.432  1.477  1.481  1.427  1.598  1.487   \n",
       " \n",
       "      2010   2009   2008   2007   2006   2005   2004   2003   2002   2001  \n",
       " 0   1.226  1.149  1.192  1.259  1.132  1.085  1.164  1.191  1.178  1.309  \n",
       " 1   1.015  0.962  1.010  1.068  0.980  0.932  1.015  1.014  1.006  1.111  \n",
       " 2   1.045  0.940  0.980  1.024  0.915  0.887  0.953  0.988  0.975  1.103  \n",
       " 3   1.109  1.029  1.072  1.137  1.011  1.001  1.087  1.116  1.076  1.216  \n",
       " 4   1.214  1.143  1.186  1.257  1.116  1.075  1.158  1.213  1.185  1.324  \n",
       " 5   1.223  1.137  1.198  1.262  1.152  1.105  1.203  1.278  1.264  1.421  \n",
       " 6   1.205  1.156  1.215  1.274  1.158  1.107  1.181  1.221  1.207  1.330  \n",
       " 7   1.369  1.308  1.338  1.403  1.242  1.186  1.241  1.280  1.242  1.423  \n",
       " 8       -      -      -      -      -      -      -      -      -      -  \n",
       " 9   1.309  1.226  1.285  1.361  1.239  1.183  1.280  1.321  1.305  1.437  \n",
       " 10  1.313  1.248  1.253  1.356  1.202  1.188  1.261  1.279  1.317  1.413  \n",
       " 11  1.402  1.317  1.319  1.398  1.233  1.195  1.272  1.270  1.294  1.426  \n",
       " 12  1.479  1.408  1.444  1.506  1.356  1.267  1.357  1.358  1.361  1.532  \n",
       " 13  1.374  1.279  1.305  1.380  1.213  1.184  1.239  1.274  1.275  1.426  \n",
       " 14  1.537  1.445  1.449  1.542  1.337  1.290  1.360  1.389  1.391  1.566  \n",
       " 15  1.377  1.274  1.313  1.369  1.208  1.173  1.203  1.253  1.232  1.402  \n",
       " 16  1.413  1.323  1.368  1.434  1.254  1.189  1.266  1.290  1.272  1.417  \n",
       " 17  1.463  1.378  1.386  1.489  1.372  1.310  1.365  1.438  1.394  1.564  ,\n",
       "       행정구역별 2021. 06           2015           2010           2005           \\\n",
       "       행정구역별       비율       인구    비율       인구    비율       인구    비율       인구   \n",
       " 0        전국     16.7  8652198  13.1  6775101  10.9  5506352   8.9  4324524   \n",
       " 1     서울특별시     16.4  1568769  12.6  1262436   9.7  1002770   7.2   731349   \n",
       " 2     부산광역시     19.8   666644  14.6   514630  11.3   401784   8.3   302784   \n",
       " 3     대구광역시     17.0   408235  12.7   316122  10.0   252084   7.8   195419   \n",
       " 4     인천광역시     14.4   422658  10.7   312905   8.6   237805   6.9   178602   \n",
       " 5     광주광역시     14.5   208879  11.3   166389   9.0   130457   7.1    99389   \n",
       " 6     대전광역시     14.8   215997  10.9   165528   8.7   130245   6.9    99811   \n",
       " 7     울산광역시     13.1   147811   8.8   103205   6.8    76800   5.3    57797   \n",
       " 8   세종특별자치시     10.0    36194  10.6    22399     -        -     -        -   \n",
       " 9       경기도     13.5  1825846  10.5  1318882   8.7  1022456   7.1   755511   \n",
       " 10      강원도     21.2   325579  16.9   261671  14.8   226505  12.1   183471   \n",
       " 11     충청북도     18.4   294530  14.8   234813  13.2   204470  11.3   168670   \n",
       " 12     충청남도     19.5   412504  16.4   341214  14.9   308556  13.3   261800   \n",
       " 13     전라북도     21.8   391178  17.8   333524  15.2   284373  12.9   243721   \n",
       " 14     전라남도     23.9   440014  20.5   391837  18.3   350900  15.6   306439   \n",
       " 15     경상북도     22.2   585088  17.7   479634  15.6   418858  13.4   360068   \n",
       " 16     경상남도     17.9   594154  13.8   464019  11.8   388648  10.2   323898   \n",
       " 17  제주특별자치도     16.0   108118  13.8    85893  12.2    69641  10.0    55795   \n",
       " \n",
       "     2000           \n",
       "       비율       인구  \n",
       " 0    7.0  3355614  \n",
       " 1    5.4   558566  \n",
       " 2    6.0   229075  \n",
       " 3    5.9   149045  \n",
       " 4    5.4   138316  \n",
       " 5    5.6    77325  \n",
       " 6    5.5    75769  \n",
       " 7    4.0    42119  \n",
       " 8      -        -  \n",
       " 9    5.7   524807  \n",
       " 10   9.3   143945  \n",
       " 11   9.1   136160  \n",
       " 12  11.2   215059  \n",
       " 13  10.3   205807  \n",
       " 14  11.9   254370  \n",
       " 15  10.7   300614  \n",
       " 16   8.4   261303  \n",
       " 17   8.0    43334  ,\n",
       "        0          1\n",
       " 0     연도  체류 외국인 인구\n",
       " 1   1980      40519\n",
       " 2   1990     100000\n",
       " 3   1995     269000\n",
       " 4   1998     308339\n",
       " 5   2000     491234\n",
       " 6   2002     629006\n",
       " 7   2005     747476\n",
       " 8   2007    1066273\n",
       " 9   2010    1261415\n",
       " 10  2011    1395077\n",
       " 11  2012    1445103\n",
       " 12  2013    1576034\n",
       " 13  2014    1797618\n",
       " 14  2015    1899519\n",
       " 15  2016    2034878\n",
       " 16  2017    2180498\n",
       " 17  2018    2367607\n",
       " 18  2019    2524656,\n",
       "     순위      국적       인구\n",
       " 0    1      중국  1101782\n",
       " 1    2     베트남   224518\n",
       " 2    3      태국   209909\n",
       " 3    4      미국   156982\n",
       " 4    5      일본    86196\n",
       " 5    6  우즈베키스탄    75320\n",
       " 6    7     필리핀    62398\n",
       " 7    8     러시아    61427\n",
       " 8    9   인도네시아    48854\n",
       " 9   10      몽골    48185\n",
       " 10  11    캄보디아    47565\n",
       " 11  12      네팔    42781\n",
       " 12  13      대만    42767\n",
       " 13  14   카자흐스탄    34638\n",
       " 14  15     미얀마    29294\n",
       " 15  16     캐나다    26789\n",
       " 16  17    스리랑카    25064\n",
       " 17  18      홍콩    20018\n",
       " 18  19   방글라데시    18340\n",
       " 19  20      호주    15222\n",
       " 20  21   말레이시아    14790\n",
       " 21  22    파키스탄    13990\n",
       " 22  23      인도    12929,\n",
       "          Unnamed: 0   2011   2012   2013   2014   2015   2016   2017   2018  \\\n",
       " 0        총혼인건수 (천건)  329.1  327.1  322.8  305.5  302.8  281.6  264.5  257.6   \n",
       " 1         증감건수 (천건)   30.0  -20.0   -4.3  -17.3   -2.7  -21.2  -17.2   -6.8   \n",
       " 2           증감률 (%)    0.9   -0.6   -1.3   -5.4   -0.9   -7.0   -6.1   -2.6   \n",
       " 3  조혼인율 (인구 1천명당 건)    6.6    6.5    6.4    6.0    5.9    5.5    5.2    5.0   \n",
       " \n",
       "     2019   2020   2021  \n",
       " 0  239.2  213.5  192.5  \n",
       " 1  -18.5  -25.7    NaN  \n",
       " 2   -7.2  -10.7    NaN  \n",
       " 3    4.7    4.2    3.8  ,\n",
       "   Unnamed: 0   1990   1995   2000   2005   2010   2015   2020\n",
       " 0         남자  27.79  28.36  29.28  30.87  31.84  32.57  33.23\n",
       " 1         여자  24.78  25.32  26.49  27.72  28.91  29.96  30.78,\n",
       "          Unnamed: 0   2011   2012   2013   2014   2015   2016   2017   2018  \\\n",
       " 0        총이혼건수 (천건)  114.3  114.3  115.3  115.5  109.2  107.3  106.0  108.7   \n",
       " 1    전년대비 증감건수 (천건)   -2.6    0.0    1.0    0.2   -6.4   -1.8   -1.3    2.7   \n",
       " 2      전년대비 증감률 (%)   -2.2    0.0    0.9    0.2   -5.5   -1.7   -1.2    2.5   \n",
       " 3  조이혼율 (인구 1천명단 건)    2.3    2.3    2.3    2.3    2.1    2.1    2.1    2.1   \n",
       " \n",
       "     2019   2020   2021  \n",
       " 0  110.8  106.5  101.6  \n",
       " 1    2.1   -4.3    NaN  \n",
       " 2    2.0   -3.9    NaN  \n",
       " 3    2.2    2.1    2.0  ,\n",
       "          시점  혼인건수(건)  조혼인율(천명당)\n",
       " 0      1970   295137        9.2\n",
       " 1      1971   239457        7.3\n",
       " 2      1972   244780        7.3\n",
       " 3      1973   259112        7.6\n",
       " 4      1974   259604        7.5\n",
       " 5      1975   283226        8.0\n",
       " 6      1976   285910        8.0\n",
       " 7      1977   303156        8.3\n",
       " 8      1978   343013        9.3\n",
       " 9      1979   353824        9.4\n",
       " 10     1980   403031       10.6\n",
       " 11     1981   406795       10.5\n",
       " 12     1982   387468        9.9\n",
       " 13     1983   412984       10.3\n",
       " 14     1984   385188        9.5\n",
       " 15     1985   384686        9.4\n",
       " 16     1986   390229        9.5\n",
       " 17     1987   390276        9.4\n",
       " 18     1988   410129        9.8\n",
       " 19     1989   410708        9.7\n",
       " 20     1990   399312        9.3\n",
       " 21     1991   416872        9.6\n",
       " 22     1992   419774        9.6\n",
       " 23     1993   402593        9.0\n",
       " 24     1994   393121        8.7\n",
       " 25     1995   398484        8.7\n",
       " 26     1996   434911        9.4\n",
       " 27     1997   388960        8.4\n",
       " 28     1998   373500        8.0\n",
       " 29     1999   360407        7.6\n",
       " 30     2000   332090        7.0\n",
       " 31     2001   318407        6.7\n",
       " 32     2002   304877        6.3\n",
       " 33     2003   302503        6.3\n",
       " 34     2004   308598        6.4\n",
       " 35     2005   314304        6.5\n",
       " 36     2006   330634        6.8\n",
       " 37     2007   343559        7.0\n",
       " 38     2008   327715        6.6\n",
       " 39     2009   309759        6.2\n",
       " 40     2010   326104        6.5\n",
       " 41     2011   329087        6.6\n",
       " 42     2012   327073        6.5\n",
       " 43     2013   322807        6.4\n",
       " 44     2014   305507        6.0\n",
       " 45     2015   302828        5.9\n",
       " 46     2016   281635        5.5\n",
       " 47     2017   264455        5.2\n",
       " 48     2018   257622        5.0\n",
       " 49     2019   239159        4.7\n",
       " 50     2020   213502        4.2\n",
       " 51  2021 p)   192509        3.8,\n",
       "          시점  이혼건수(건)  조이혼율(천명당)\n",
       " 0      1970    11615        0.4\n",
       " 1      1971    11361        0.3\n",
       " 2      1972    12188        0.4\n",
       " 3      1973    12719        0.4\n",
       " 4      1974    14073        0.4\n",
       " 5      1975    16453        0.5\n",
       " 6      1976    17178        0.5\n",
       " 7      1977    20280        0.6\n",
       " 8      1978    19734        0.5\n",
       " 9      1979    17178        0.5\n",
       " 10     1980    23662        0.6\n",
       " 11     1981    24278        0.6\n",
       " 12     1982    26124        0.7\n",
       " 13     1983    28549        0.7\n",
       " 14     1984    35772        0.9\n",
       " 15     1985    38187        0.9\n",
       " 16     1986    39132        0.9\n",
       " 17     1987    42268        1.0\n",
       " 18     1988    42757        1.0\n",
       " 19     1989    44017        1.0\n",
       " 20     1990    45694        1.1\n",
       " 21     1991    49205        1.1\n",
       " 22     1992    53539        1.2\n",
       " 23     1993    59313        1.3\n",
       " 24     1994    65015        1.4\n",
       " 25     1995    68279        1.5\n",
       " 26     1996    79895        1.7\n",
       " 27     1997    91160        2.0\n",
       " 28     1998   116294        2.5\n",
       " 29     1999   117449        2.5\n",
       " 30     2000   119455        2.5\n",
       " 31     2001   134608        2.8\n",
       " 32     2002   144910        3.0\n",
       " 33     2003   166617        3.4\n",
       " 34     2004   138932        2.9\n",
       " 35     2005   128035        2.6\n",
       " 36     2006   124524        2.5\n",
       " 37     2007   124072        2.5\n",
       " 38     2008   116535        2.4\n",
       " 39     2009   123999        2.5\n",
       " 40     2010   116858        2.3\n",
       " 41     2011   114284        2.3\n",
       " 42     2012   114316        2.3\n",
       " 43     2013   115292        2.3\n",
       " 44     2014   115510        2.3\n",
       " 45     2015   109153        2.1\n",
       " 46     2016   107328        2.1\n",
       " 47     2017   106032        2.1\n",
       " 48     2018   108684        2.1\n",
       " 49     2019   110831        2.2\n",
       " 50     2020   106500        2.1\n",
       " 51  2021 p)   101676        2.0,\n",
       "             0        1        2        3        4\n",
       " 0          연도     2042     2050     2060     2067\n",
       " 1   0~14세 구성비     9.7%     9.0%     8.2%     8.2%\n",
       " 2  15~64세 구성비    55.1%    51.1%    48.0%    45.7%\n",
       " 3  65세 이상 구성비    35.2%    39.9%    43.8%    46.1%\n",
       " 4         총인구  4909만 명  4614만 명  4096만 명  3727만 명,\n",
       "              0       1          2      3              4\n",
       " 0   (유엔 중위 추계)  평균 출산율  65세 이상 비율  중위 연령            총인구\n",
       " 1    2020-2025   1.08명      15.8%  43.7세        5126만 명\n",
       " 2    2025-2030   1.09명      20.2%  46.5세        5133만 명\n",
       " 3    2030-2035   1.18명      24.7%  49.1세        5115만 명\n",
       " 4    2035-2040   1.25명      29.0%  51.4세        5068만 명\n",
       " 5    2040-2045   1.32명      32.9%  54.9세        4978만 명\n",
       " 6    2045-2050   1.39명      35.8%  56.5세        4848만 명\n",
       " 7    2050-2055   1.44명      38.1%  57.7세        4683만 명\n",
       " 8    2055-2060   1.48명      39.2%  58.5세        4485만 명\n",
       " 9    2060-2065   1.52명      40.9%  58.5세        4270만 명\n",
       " 10   2065-2070   1.56명      42.1%  58.3세        4056만 명\n",
       " 11   2070-2075   1.58명      41.9%  57.9세        3854만 명\n",
       " 12   2075-2080   1.61명      41.5%  57.1세        3666만 명\n",
       " 13   2080-2085   1.63명      41.3%  56.2세        3493만 명\n",
       " 14   2085-2090   1.64명      40.5%  55.7세        3335만 명\n",
       " 15   2090-2095   1.65명      39.5%  55.1세        3191만 명\n",
       " 16   2095-2100   1.67명      38.7%  54.6세  3062만 명 (2095,\n",
       "              0       1          2      3              4\n",
       " 0   (유엔 저위 추계)  평균 출산율  65세 이상 비율  중위 연령            총인구\n",
       " 1    2020-2025   0.83명      15.8%  43.7세        5126만 명\n",
       " 2    2025-2030   0.69명      20.4%  46.8세        5093만 명\n",
       " 3    2030-2035   0.68명      25.3%  49.8세        5012만 명\n",
       " 4    2035-2040   0.75명      30.1%  52.6세        4893만 명\n",
       " 5    2040-2045   0.82명      34.6%  55.2세        4740만 명\n",
       " 6    2045-2050   0.89명      38.1%  57.2세        4552만 명\n",
       " 7    2050-2055   0.94명      41.1%  59.0세        4333만 명\n",
       " 8    2055-2060   0.98명      43.1%  60.8세        4081만 명\n",
       " 9    2060-2065   1.02명      45.9%  62.5세        3804만 명\n",
       " 10   2065-2070   1.06명      48.5%  64.0세        3519만 명\n",
       " 11   2070-2075   1.08명      49.8%  64.9세        3241만 명\n",
       " 12   2075-2080   1.11명      51.0%  65.7세        2980만 명\n",
       " 13   2080-2085   1.13명      52.7%  66.6세        2737만 명\n",
       " 14   2085-2090   1.14명      53.7%  67.4세        2513만 명\n",
       " 15   2090-2095   1.15명      53.0%  67.4세        2303만 명\n",
       " 16   2095-2100   1.17명      51.6%  66.4세  2106만 명 (2095,\n",
       "            연령별 1925 전국 연령 및 성별 인구                   \n",
       "            연령별                 인구        남성       여성\n",
       " 0            계           19522945  10020943  9502002\n",
       " 1       0 - 4세            3136198   1593486  1542712\n",
       " 2       5 - 9세            2369775   1223643  1146132\n",
       " 3     10 - 14세            2196607   1137713  1058894\n",
       " 4     15 - 19세            1919207    988731   930476\n",
       " 5     20 - 24세            1537086    793638   743448\n",
       " 6     25 - 29세            1528317    787676   740641\n",
       " 7     30 - 34세            1307636    683457   624179\n",
       " 8     35 - 39세            1183630    621798   561832\n",
       " 9     40 - 44세             984402    520550   463852\n",
       " 10    45 - 49세             842675    441635   401040\n",
       " 11    50 - 54세             688715    357195   331520\n",
       " 12    55 - 59세             597381    297472   299909\n",
       " 13    60 - 64세             484916    234160   250756\n",
       " 14    65 - 69세             392440    182981   209459\n",
       " 15    70 - 74세             209329     95315   114014\n",
       " 16    75 - 79세             105060     45789    59271\n",
       " 17    80 - 84세              31169     12761    18408\n",
       " 18    85 - 89세               6470      2291     4179\n",
       " 19    90 - 94세               1577       545     1032\n",
       " 20    95 - 99세                316        93      223\n",
       " 21  100 - 104세                 29         9       20\n",
       " 22  105 - 109세                  9         4        5\n",
       " 23     115세 이상                  1         1        -,\n",
       "    행정구역별 1925 지역별 인구                   \n",
       "    행정구역별          인구        남성       여성\n",
       " 0     전국    19522945  10020943  9502002\n",
       " 1    경기도     2019108   1043655   975453\n",
       " 2    강원도     1332352    697979   634373\n",
       " 3   충청북도      847476    437772   409704\n",
       " 4   충청남도     1282038    662996   619042\n",
       " 5   전라북도     1369010    709521   659489\n",
       " 6   전라남도     2158513   1090485  1068028\n",
       " 7   경상북도     2332572   1192054  1140518\n",
       " 8   경상남도     2021887   1031510   990377\n",
       " 9    황해도     1461879    741283   720596\n",
       " 10  평안북도     1417091    728384   688707\n",
       " 11  평안남도     1241777    631030   610747\n",
       " 12  함경북도      626246    325526   300720\n",
       " 13  함경남도     1412996    728748   684248,\n",
       "                                           vte아시아의 인구  \\\n",
       " 0                                                독립국   \n",
       " 1                                                자치구   \n",
       " 2                                             미승인 국가   \n",
       " 3  ↑ 오세아니아에 속하는 국가로 분류되는 경우도 있다. ↑ 가 나 다 라 마 바 사 ...   \n",
       " 4                                                 분류   \n",
       " \n",
       "                                         vte아시아의 인구.1 vte아시아의 인구.2  \n",
       " 0  네팔 대한민국 동티모르[* 1] 라오스 러시아[* 2] 레바논 말레이시아 몰디브 몽...          NaN  \n",
       " 1    마카오[* 6] 차고스 제도 [* 7] 티베트[* 8] 위구르[* 8] 홍콩[* 6]          NaN  \n",
       " 2  중화민국 아르차흐 공화국[* 2] 남오세티야[* 2] 북키프로스[* 3] 압하지야[...          NaN  \n",
       " 3  ↑ 오세아니아에 속하는 국가로 분류되는 경우도 있다. ↑ 가 나 다 라 마 바 사 ...          NaN  \n",
       " 4                                                 분류           분류  ]"
      ]
     },
     "execution_count": 379,
     "metadata": {},
     "output_type": "execute_result"
    }
   ],
   "source": [
    "df = pd.read_html('https://ko.wikipedia.org/wiki/%EB%8C%80%ED%95%9C%EB%AF%BC%EA%B5%AD%EC%9D%98_%EC%9D%B8%EA%B5%AC')\n",
    "df"
   ]
  },
  {
   "cell_type": "code",
   "execution_count": 381,
   "metadata": {},
   "outputs": [
    {
     "data": {
      "text/html": [
       "<div>\n",
       "<style scoped>\n",
       "    .dataframe tbody tr th:only-of-type {\n",
       "        vertical-align: middle;\n",
       "    }\n",
       "\n",
       "    .dataframe tbody tr th {\n",
       "        vertical-align: top;\n",
       "    }\n",
       "\n",
       "    .dataframe thead th {\n",
       "        text-align: right;\n",
       "    }\n",
       "</style>\n",
       "<table border=\"1\" class=\"dataframe\">\n",
       "  <thead>\n",
       "    <tr style=\"text-align: right;\">\n",
       "      <th></th>\n",
       "      <th>연도 (년)</th>\n",
       "      <th>추계인구(명)</th>\n",
       "      <th>출생자수(명)</th>\n",
       "      <th>사망자수(명)</th>\n",
       "      <th>자연증가수(명)</th>\n",
       "      <th>조출생률 (1000명당)</th>\n",
       "      <th>조사망률 (1000명당)</th>\n",
       "      <th>자연증가율 (1000명당)</th>\n",
       "      <th>합계출산율</th>\n",
       "    </tr>\n",
       "  </thead>\n",
       "  <tbody>\n",
       "    <tr>\n",
       "      <th>0</th>\n",
       "      <td>1925</td>\n",
       "      <td>12997611</td>\n",
       "      <td>558897</td>\n",
       "      <td>359042</td>\n",
       "      <td>199855</td>\n",
       "      <td>43.0</td>\n",
       "      <td>27.6</td>\n",
       "      <td>15.4</td>\n",
       "      <td>6.59</td>\n",
       "    </tr>\n",
       "    <tr>\n",
       "      <th>1</th>\n",
       "      <td>1926</td>\n",
       "      <td>13052741</td>\n",
       "      <td>511667</td>\n",
       "      <td>337948</td>\n",
       "      <td>173719</td>\n",
       "      <td>39.2</td>\n",
       "      <td>25.9</td>\n",
       "      <td>13.3</td>\n",
       "      <td>NaN</td>\n",
       "    </tr>\n",
       "    <tr>\n",
       "      <th>2</th>\n",
       "      <td>1927</td>\n",
       "      <td>13037169</td>\n",
       "      <td>534524</td>\n",
       "      <td>353818</td>\n",
       "      <td>180706</td>\n",
       "      <td>41.0</td>\n",
       "      <td>27.1</td>\n",
       "      <td>13.9</td>\n",
       "      <td>NaN</td>\n",
       "    </tr>\n",
       "    <tr>\n",
       "      <th>3</th>\n",
       "      <td>1928</td>\n",
       "      <td>13105131</td>\n",
       "      <td>566142</td>\n",
       "      <td>357701</td>\n",
       "      <td>208441</td>\n",
       "      <td>43.2</td>\n",
       "      <td>27.3</td>\n",
       "      <td>15.9</td>\n",
       "      <td>NaN</td>\n",
       "    </tr>\n",
       "    <tr>\n",
       "      <th>4</th>\n",
       "      <td>1929</td>\n",
       "      <td>13124279</td>\n",
       "      <td>566969</td>\n",
       "      <td>414366</td>\n",
       "      <td>152603</td>\n",
       "      <td>43.2</td>\n",
       "      <td>31.6</td>\n",
       "      <td>11.6</td>\n",
       "      <td>NaN</td>\n",
       "    </tr>\n",
       "    <tr>\n",
       "      <th>5</th>\n",
       "      <td>1930</td>\n",
       "      <td>13880469</td>\n",
       "      <td>587144</td>\n",
       "      <td>322611</td>\n",
       "      <td>264533</td>\n",
       "      <td>42.3</td>\n",
       "      <td>23.2</td>\n",
       "      <td>19.1</td>\n",
       "      <td>6.41</td>\n",
       "    </tr>\n",
       "    <tr>\n",
       "      <th>6</th>\n",
       "      <td>1931</td>\n",
       "      <td>13895052</td>\n",
       "      <td>589428</td>\n",
       "      <td>346800</td>\n",
       "      <td>242628</td>\n",
       "      <td>42.4</td>\n",
       "      <td>25.0</td>\n",
       "      <td>17.4</td>\n",
       "      <td>NaN</td>\n",
       "    </tr>\n",
       "    <tr>\n",
       "      <th>7</th>\n",
       "      <td>1932</td>\n",
       "      <td>14117191</td>\n",
       "      <td>600545</td>\n",
       "      <td>384287</td>\n",
       "      <td>216258</td>\n",
       "      <td>42.5</td>\n",
       "      <td>27.2</td>\n",
       "      <td>15.3</td>\n",
       "      <td>NaN</td>\n",
       "    </tr>\n",
       "    <tr>\n",
       "      <th>8</th>\n",
       "      <td>1933</td>\n",
       "      <td>14229277</td>\n",
       "      <td>607021</td>\n",
       "      <td>336232</td>\n",
       "      <td>270789</td>\n",
       "      <td>42.7</td>\n",
       "      <td>23.6</td>\n",
       "      <td>19.1</td>\n",
       "      <td>NaN</td>\n",
       "    </tr>\n",
       "    <tr>\n",
       "      <th>9</th>\n",
       "      <td>1934</td>\n",
       "      <td>14449155</td>\n",
       "      <td>618135</td>\n",
       "      <td>356515</td>\n",
       "      <td>261620</td>\n",
       "      <td>42.8</td>\n",
       "      <td>24.7</td>\n",
       "      <td>18.1</td>\n",
       "      <td>NaN</td>\n",
       "    </tr>\n",
       "    <tr>\n",
       "      <th>10</th>\n",
       "      <td>1935</td>\n",
       "      <td>15061960</td>\n",
       "      <td>646158</td>\n",
       "      <td>377454</td>\n",
       "      <td>268704</td>\n",
       "      <td>42.9</td>\n",
       "      <td>25.1</td>\n",
       "      <td>17.8</td>\n",
       "      <td>6.60</td>\n",
       "    </tr>\n",
       "    <tr>\n",
       "      <th>11</th>\n",
       "      <td>1936</td>\n",
       "      <td>15114775</td>\n",
       "      <td>639355</td>\n",
       "      <td>381806</td>\n",
       "      <td>257549</td>\n",
       "      <td>42.3</td>\n",
       "      <td>25.3</td>\n",
       "      <td>17.0</td>\n",
       "      <td>NaN</td>\n",
       "    </tr>\n",
       "    <tr>\n",
       "      <th>12</th>\n",
       "      <td>1937</td>\n",
       "      <td>15235383</td>\n",
       "      <td>636839</td>\n",
       "      <td>342575</td>\n",
       "      <td>294264</td>\n",
       "      <td>41.8</td>\n",
       "      <td>22.5</td>\n",
       "      <td>19.3</td>\n",
       "      <td>NaN</td>\n",
       "    </tr>\n",
       "    <tr>\n",
       "      <th>13</th>\n",
       "      <td>1938</td>\n",
       "      <td>15358193</td>\n",
       "      <td>569299</td>\n",
       "      <td>347025</td>\n",
       "      <td>222274</td>\n",
       "      <td>37.1</td>\n",
       "      <td>22.6</td>\n",
       "      <td>14.5</td>\n",
       "      <td>NaN</td>\n",
       "    </tr>\n",
       "    <tr>\n",
       "      <th>14</th>\n",
       "      <td>1939</td>\n",
       "      <td>15486028</td>\n",
       "      <td>585482</td>\n",
       "      <td>353391</td>\n",
       "      <td>232091</td>\n",
       "      <td>37.8</td>\n",
       "      <td>22.8</td>\n",
       "      <td>15.0</td>\n",
       "      <td>NaN</td>\n",
       "    </tr>\n",
       "    <tr>\n",
       "      <th>15</th>\n",
       "      <td>1940</td>\n",
       "      <td>15559741</td>\n",
       "      <td>527964</td>\n",
       "      <td>358496</td>\n",
       "      <td>169468</td>\n",
       "      <td>33.9</td>\n",
       "      <td>23.0</td>\n",
       "      <td>10.9</td>\n",
       "      <td>6.56</td>\n",
       "    </tr>\n",
       "    <tr>\n",
       "      <th>16</th>\n",
       "      <td>1941</td>\n",
       "      <td>15745478</td>\n",
       "      <td>553690</td>\n",
       "      <td>366239</td>\n",
       "      <td>187451</td>\n",
       "      <td>35.2</td>\n",
       "      <td>23.3</td>\n",
       "      <td>11.9</td>\n",
       "      <td>NaN</td>\n",
       "    </tr>\n",
       "    <tr>\n",
       "      <th>17</th>\n",
       "      <td>1942</td>\n",
       "      <td>16013742</td>\n",
       "      <td>533768</td>\n",
       "      <td>376003</td>\n",
       "      <td>157765</td>\n",
       "      <td>33.3</td>\n",
       "      <td>23.5</td>\n",
       "      <td>9.8</td>\n",
       "      <td>NaN</td>\n",
       "    </tr>\n",
       "    <tr>\n",
       "      <th>18</th>\n",
       "      <td>1943</td>\n",
       "      <td>16239721</td>\n",
       "      <td>513846</td>\n",
       "      <td>384881</td>\n",
       "      <td>128965</td>\n",
       "      <td>31.6</td>\n",
       "      <td>23.7</td>\n",
       "      <td>7.9</td>\n",
       "      <td>NaN</td>\n",
       "    </tr>\n",
       "    <tr>\n",
       "      <th>19</th>\n",
       "      <td>1944</td>\n",
       "      <td>16599172</td>\n",
       "      <td>533215</td>\n",
       "      <td>380121</td>\n",
       "      <td>153094</td>\n",
       "      <td>32.1</td>\n",
       "      <td>22.9</td>\n",
       "      <td>9.2</td>\n",
       "      <td>6.78</td>\n",
       "    </tr>\n",
       "  </tbody>\n",
       "</table>\n",
       "</div>"
      ],
      "text/plain": [
       "    연도 (년)   추계인구(명)  출생자수(명)  사망자수(명)  자연증가수(명)  조출생률 (1000명당)  \\\n",
       "0     1925  12997611   558897   359042    199855           43.0   \n",
       "1     1926  13052741   511667   337948    173719           39.2   \n",
       "2     1927  13037169   534524   353818    180706           41.0   \n",
       "3     1928  13105131   566142   357701    208441           43.2   \n",
       "4     1929  13124279   566969   414366    152603           43.2   \n",
       "5     1930  13880469   587144   322611    264533           42.3   \n",
       "6     1931  13895052   589428   346800    242628           42.4   \n",
       "7     1932  14117191   600545   384287    216258           42.5   \n",
       "8     1933  14229277   607021   336232    270789           42.7   \n",
       "9     1934  14449155   618135   356515    261620           42.8   \n",
       "10    1935  15061960   646158   377454    268704           42.9   \n",
       "11    1936  15114775   639355   381806    257549           42.3   \n",
       "12    1937  15235383   636839   342575    294264           41.8   \n",
       "13    1938  15358193   569299   347025    222274           37.1   \n",
       "14    1939  15486028   585482   353391    232091           37.8   \n",
       "15    1940  15559741   527964   358496    169468           33.9   \n",
       "16    1941  15745478   553690   366239    187451           35.2   \n",
       "17    1942  16013742   533768   376003    157765           33.3   \n",
       "18    1943  16239721   513846   384881    128965           31.6   \n",
       "19    1944  16599172   533215   380121    153094           32.1   \n",
       "\n",
       "    조사망률 (1000명당)  자연증가율 (1000명당)  합계출산율  \n",
       "0            27.6            15.4   6.59  \n",
       "1            25.9            13.3    NaN  \n",
       "2            27.1            13.9    NaN  \n",
       "3            27.3            15.9    NaN  \n",
       "4            31.6            11.6    NaN  \n",
       "5            23.2            19.1   6.41  \n",
       "6            25.0            17.4    NaN  \n",
       "7            27.2            15.3    NaN  \n",
       "8            23.6            19.1    NaN  \n",
       "9            24.7            18.1    NaN  \n",
       "10           25.1            17.8   6.60  \n",
       "11           25.3            17.0    NaN  \n",
       "12           22.5            19.3    NaN  \n",
       "13           22.6            14.5    NaN  \n",
       "14           22.8            15.0    NaN  \n",
       "15           23.0            10.9   6.56  \n",
       "16           23.3            11.9    NaN  \n",
       "17           23.5             9.8    NaN  \n",
       "18           23.7             7.9    NaN  \n",
       "19           22.9             9.2   6.78  "
      ]
     },
     "execution_count": 381,
     "metadata": {},
     "output_type": "execute_result"
    }
   ],
   "source": [
    "df[4]"
   ]
  },
  {
   "cell_type": "code",
   "execution_count": 382,
   "metadata": {},
   "outputs": [
    {
     "data": {
      "text/html": [
       "<div>\n",
       "<style scoped>\n",
       "    .dataframe tbody tr th:only-of-type {\n",
       "        vertical-align: middle;\n",
       "    }\n",
       "\n",
       "    .dataframe tbody tr th {\n",
       "        vertical-align: top;\n",
       "    }\n",
       "\n",
       "    .dataframe thead tr th {\n",
       "        text-align: left;\n",
       "    }\n",
       "</style>\n",
       "<table border=\"1\" class=\"dataframe\">\n",
       "  <thead>\n",
       "    <tr>\n",
       "      <th></th>\n",
       "      <th>Unnamed: 0_level_0</th>\n",
       "      <th colspan=\"2\" halign=\"left\">2016</th>\n",
       "      <th colspan=\"2\" halign=\"left\">2017</th>\n",
       "      <th colspan=\"2\" halign=\"left\">2018</th>\n",
       "      <th colspan=\"2\" halign=\"left\">2019</th>\n",
       "      <th colspan=\"2\" halign=\"left\">2020</th>\n",
       "    </tr>\n",
       "    <tr>\n",
       "      <th></th>\n",
       "      <th>Unnamed: 0_level_1</th>\n",
       "      <th>인구</th>\n",
       "      <th>인구밀도</th>\n",
       "      <th>인구</th>\n",
       "      <th>인구밀도</th>\n",
       "      <th>인구</th>\n",
       "      <th>인구밀도</th>\n",
       "      <th>인구</th>\n",
       "      <th>인구밀도</th>\n",
       "      <th>인구</th>\n",
       "      <th>인구밀도</th>\n",
       "    </tr>\n",
       "  </thead>\n",
       "  <tbody>\n",
       "    <tr>\n",
       "      <th>0</th>\n",
       "      <td>계</td>\n",
       "      <td>51218</td>\n",
       "      <td>510</td>\n",
       "      <td>51362</td>\n",
       "      <td>512</td>\n",
       "      <td>51607</td>\n",
       "      <td>514</td>\n",
       "      <td>51709</td>\n",
       "      <td>515</td>\n",
       "      <td>51781</td>\n",
       "      <td>516</td>\n",
       "    </tr>\n",
       "    <tr>\n",
       "      <th>1</th>\n",
       "      <td>서울</td>\n",
       "      <td>9843</td>\n",
       "      <td>16263</td>\n",
       "      <td>9766</td>\n",
       "      <td>16136</td>\n",
       "      <td>9705</td>\n",
       "      <td>16034</td>\n",
       "      <td>9662</td>\n",
       "      <td>15964</td>\n",
       "      <td>9602</td>\n",
       "      <td>15865</td>\n",
       "    </tr>\n",
       "    <tr>\n",
       "      <th>2</th>\n",
       "      <td>부산</td>\n",
       "      <td>약3,500</td>\n",
       "      <td>4477</td>\n",
       "      <td>약3,100</td>\n",
       "      <td>4447</td>\n",
       "      <td>3400</td>\n",
       "      <td>4416</td>\n",
       "      <td>3300</td>\n",
       "      <td>4380</td>\n",
       "      <td>3344</td>\n",
       "      <td>4342</td>\n",
       "    </tr>\n",
       "    <tr>\n",
       "      <th>3</th>\n",
       "      <td>대구</td>\n",
       "      <td>2461</td>\n",
       "      <td>2786</td>\n",
       "      <td>2458</td>\n",
       "      <td>2782</td>\n",
       "      <td>2450</td>\n",
       "      <td>2773</td>\n",
       "      <td>2432</td>\n",
       "      <td>2753</td>\n",
       "      <td>2419</td>\n",
       "      <td>2738</td>\n",
       "    </tr>\n",
       "    <tr>\n",
       "      <th>4</th>\n",
       "      <td>인천</td>\n",
       "      <td>2907</td>\n",
       "      <td>2736</td>\n",
       "      <td>2924</td>\n",
       "      <td>2750</td>\n",
       "      <td>2939</td>\n",
       "      <td>2764</td>\n",
       "      <td>2944</td>\n",
       "      <td>2769</td>\n",
       "      <td>2951</td>\n",
       "      <td>2770</td>\n",
       "    </tr>\n",
       "    <tr>\n",
       "      <th>5</th>\n",
       "      <td>광주</td>\n",
       "      <td>1502</td>\n",
       "      <td>2997</td>\n",
       "      <td>1495</td>\n",
       "      <td>2984</td>\n",
       "      <td>1493</td>\n",
       "      <td>2980</td>\n",
       "      <td>1494</td>\n",
       "      <td>2980</td>\n",
       "      <td>1488</td>\n",
       "      <td>2969</td>\n",
       "    </tr>\n",
       "    <tr>\n",
       "      <th>6</th>\n",
       "      <td>대전</td>\n",
       "      <td>1536</td>\n",
       "      <td>2848</td>\n",
       "      <td>1528</td>\n",
       "      <td>2832</td>\n",
       "      <td>1518</td>\n",
       "      <td>2813</td>\n",
       "      <td>1509</td>\n",
       "      <td>2796</td>\n",
       "      <td>1500</td>\n",
       "      <td>2780</td>\n",
       "    </tr>\n",
       "    <tr>\n",
       "      <th>7</th>\n",
       "      <td>울산</td>\n",
       "      <td>1166</td>\n",
       "      <td>1099</td>\n",
       "      <td>1159</td>\n",
       "      <td>1092</td>\n",
       "      <td>1154</td>\n",
       "      <td>1088</td>\n",
       "      <td>1147</td>\n",
       "      <td>1080</td>\n",
       "      <td>1140</td>\n",
       "      <td>1073</td>\n",
       "    </tr>\n",
       "    <tr>\n",
       "      <th>8</th>\n",
       "      <td>세종</td>\n",
       "      <td>234</td>\n",
       "      <td>504</td>\n",
       "      <td>266</td>\n",
       "      <td>571</td>\n",
       "      <td>304</td>\n",
       "      <td>653</td>\n",
       "      <td>331</td>\n",
       "      <td>712</td>\n",
       "      <td>349</td>\n",
       "      <td>750</td>\n",
       "    </tr>\n",
       "    <tr>\n",
       "      <th>9</th>\n",
       "      <td>경기</td>\n",
       "      <td>12600</td>\n",
       "      <td>1237</td>\n",
       "      <td>12786</td>\n",
       "      <td>1255</td>\n",
       "      <td>13031</td>\n",
       "      <td>1279</td>\n",
       "      <td>13238</td>\n",
       "      <td>1299</td>\n",
       "      <td>13405</td>\n",
       "      <td>1315</td>\n",
       "    </tr>\n",
       "    <tr>\n",
       "      <th>10</th>\n",
       "      <td>강원</td>\n",
       "      <td>1521</td>\n",
       "      <td>90</td>\n",
       "      <td>1521</td>\n",
       "      <td>90</td>\n",
       "      <td>1521</td>\n",
       "      <td>90</td>\n",
       "      <td>1517</td>\n",
       "      <td>90</td>\n",
       "      <td>1515</td>\n",
       "      <td>90</td>\n",
       "    </tr>\n",
       "    <tr>\n",
       "      <th>11</th>\n",
       "      <td>충북</td>\n",
       "      <td>1601</td>\n",
       "      <td>216</td>\n",
       "      <td>1609</td>\n",
       "      <td>217</td>\n",
       "      <td>1619</td>\n",
       "      <td>219</td>\n",
       "      <td>1626</td>\n",
       "      <td>219</td>\n",
       "      <td>1632</td>\n",
       "      <td>220</td>\n",
       "    </tr>\n",
       "    <tr>\n",
       "      <th>12</th>\n",
       "      <td>충남</td>\n",
       "      <td>2126</td>\n",
       "      <td>258</td>\n",
       "      <td>2153</td>\n",
       "      <td>262</td>\n",
       "      <td>2180</td>\n",
       "      <td>265</td>\n",
       "      <td>2188</td>\n",
       "      <td>265</td>\n",
       "      <td>2204</td>\n",
       "      <td>267</td>\n",
       "    </tr>\n",
       "    <tr>\n",
       "      <th>13</th>\n",
       "      <td>전북</td>\n",
       "      <td>1835</td>\n",
       "      <td>227</td>\n",
       "      <td>1829</td>\n",
       "      <td>227</td>\n",
       "      <td>1820</td>\n",
       "      <td>226</td>\n",
       "      <td>1803</td>\n",
       "      <td>223</td>\n",
       "      <td>1792</td>\n",
       "      <td>222</td>\n",
       "    </tr>\n",
       "    <tr>\n",
       "      <th>14</th>\n",
       "      <td>전남</td>\n",
       "      <td>1798</td>\n",
       "      <td>146</td>\n",
       "      <td>1795</td>\n",
       "      <td>146</td>\n",
       "      <td>1790</td>\n",
       "      <td>145</td>\n",
       "      <td>1773</td>\n",
       "      <td>144</td>\n",
       "      <td>1764</td>\n",
       "      <td>143</td>\n",
       "    </tr>\n",
       "    <tr>\n",
       "      <th>15</th>\n",
       "      <td>경북</td>\n",
       "      <td>2683</td>\n",
       "      <td>141</td>\n",
       "      <td>2675</td>\n",
       "      <td>141</td>\n",
       "      <td>2674</td>\n",
       "      <td>141</td>\n",
       "      <td>2665</td>\n",
       "      <td>140</td>\n",
       "      <td>2655</td>\n",
       "      <td>140</td>\n",
       "    </tr>\n",
       "    <tr>\n",
       "      <th>16</th>\n",
       "      <td>경남</td>\n",
       "      <td>3338</td>\n",
       "      <td>317</td>\n",
       "      <td>3339</td>\n",
       "      <td>317</td>\n",
       "      <td>3356</td>\n",
       "      <td>318</td>\n",
       "      <td>3350</td>\n",
       "      <td>318</td>\n",
       "      <td>3350</td>\n",
       "      <td>318</td>\n",
       "    </tr>\n",
       "    <tr>\n",
       "      <th>17</th>\n",
       "      <td>제주</td>\n",
       "      <td>618</td>\n",
       "      <td>334</td>\n",
       "      <td>635</td>\n",
       "      <td>343</td>\n",
       "      <td>653</td>\n",
       "      <td>353</td>\n",
       "      <td>660</td>\n",
       "      <td>356</td>\n",
       "      <td>670</td>\n",
       "      <td>362</td>\n",
       "    </tr>\n",
       "    <tr>\n",
       "      <th>18</th>\n",
       "      <td>수도권</td>\n",
       "      <td>25350</td>\n",
       "      <td>2139</td>\n",
       "      <td>25476</td>\n",
       "      <td>2149</td>\n",
       "      <td>25675</td>\n",
       "      <td>2165</td>\n",
       "      <td>25844</td>\n",
       "      <td>2179</td>\n",
       "      <td>25958</td>\n",
       "      <td>2188</td>\n",
       "    </tr>\n",
       "  </tbody>\n",
       "</table>\n",
       "</div>"
      ],
      "text/plain": [
       "   Unnamed: 0_level_0    2016           2017          2018          2019  \\\n",
       "   Unnamed: 0_level_1      인구   인구밀도      인구   인구밀도     인구   인구밀도     인구   \n",
       "0                   계   51218    510   51362    512  51607    514  51709   \n",
       "1                  서울    9843  16263    9766  16136   9705  16034   9662   \n",
       "2                  부산  약3,500   4477  약3,100   4447   3400   4416   3300   \n",
       "3                  대구    2461   2786    2458   2782   2450   2773   2432   \n",
       "4                  인천    2907   2736    2924   2750   2939   2764   2944   \n",
       "5                  광주    1502   2997    1495   2984   1493   2980   1494   \n",
       "6                  대전    1536   2848    1528   2832   1518   2813   1509   \n",
       "7                  울산    1166   1099    1159   1092   1154   1088   1147   \n",
       "8                  세종     234    504     266    571    304    653    331   \n",
       "9                  경기   12600   1237   12786   1255  13031   1279  13238   \n",
       "10                 강원    1521     90    1521     90   1521     90   1517   \n",
       "11                 충북    1601    216    1609    217   1619    219   1626   \n",
       "12                 충남    2126    258    2153    262   2180    265   2188   \n",
       "13                 전북    1835    227    1829    227   1820    226   1803   \n",
       "14                 전남    1798    146    1795    146   1790    145   1773   \n",
       "15                 경북    2683    141    2675    141   2674    141   2665   \n",
       "16                 경남    3338    317    3339    317   3356    318   3350   \n",
       "17                 제주     618    334     635    343    653    353    660   \n",
       "18                수도권   25350   2139   25476   2149  25675   2165  25844   \n",
       "\n",
       "            2020         \n",
       "     인구밀도     인구   인구밀도  \n",
       "0     515  51781    516  \n",
       "1   15964   9602  15865  \n",
       "2    4380   3344   4342  \n",
       "3    2753   2419   2738  \n",
       "4    2769   2951   2770  \n",
       "5    2980   1488   2969  \n",
       "6    2796   1500   2780  \n",
       "7    1080   1140   1073  \n",
       "8     712    349    750  \n",
       "9    1299  13405   1315  \n",
       "10     90   1515     90  \n",
       "11    219   1632    220  \n",
       "12    265   2204    267  \n",
       "13    223   1792    222  \n",
       "14    144   1764    143  \n",
       "15    140   2655    140  \n",
       "16    318   3350    318  \n",
       "17    356    670    362  \n",
       "18   2179  25958   2188  "
      ]
     },
     "execution_count": 382,
     "metadata": {},
     "output_type": "execute_result"
    }
   ],
   "source": [
    "df[0]"
   ]
  },
  {
   "cell_type": "code",
   "execution_count": 384,
   "metadata": {},
   "outputs": [
    {
     "data": {
      "text/html": [
       "<div>\n",
       "<style scoped>\n",
       "    .dataframe tbody tr th:only-of-type {\n",
       "        vertical-align: middle;\n",
       "    }\n",
       "\n",
       "    .dataframe tbody tr th {\n",
       "        vertical-align: top;\n",
       "    }\n",
       "\n",
       "    .dataframe thead th {\n",
       "        text-align: right;\n",
       "    }\n",
       "</style>\n",
       "<table border=\"1\" class=\"dataframe\">\n",
       "  <thead>\n",
       "    <tr style=\"text-align: right;\">\n",
       "      <th></th>\n",
       "      <th>Unnamed: 0</th>\n",
       "      <th>Unnamed: 1</th>\n",
       "      <th>2011</th>\n",
       "      <th>2012</th>\n",
       "      <th>2013</th>\n",
       "      <th>2014</th>\n",
       "      <th>2015</th>\n",
       "      <th>2016</th>\n",
       "      <th>2017</th>\n",
       "      <th>2018</th>\n",
       "      <th>2019</th>\n",
       "    </tr>\n",
       "  </thead>\n",
       "  <tbody>\n",
       "    <tr>\n",
       "      <th>0</th>\n",
       "      <td>기대수명</td>\n",
       "      <td>계</td>\n",
       "      <td>80.62</td>\n",
       "      <td>80.87</td>\n",
       "      <td>81.36</td>\n",
       "      <td>81.80</td>\n",
       "      <td>82.06</td>\n",
       "      <td>82.4</td>\n",
       "      <td>82.70</td>\n",
       "      <td>82.7</td>\n",
       "      <td>83.30</td>\n",
       "    </tr>\n",
       "    <tr>\n",
       "      <th>1</th>\n",
       "      <td>기대수명</td>\n",
       "      <td>남자</td>\n",
       "      <td>77.26</td>\n",
       "      <td>77.57</td>\n",
       "      <td>78.12</td>\n",
       "      <td>78.58</td>\n",
       "      <td>78.96</td>\n",
       "      <td>79.3</td>\n",
       "      <td>79.70</td>\n",
       "      <td>79.7</td>\n",
       "      <td>80.30</td>\n",
       "    </tr>\n",
       "    <tr>\n",
       "      <th>2</th>\n",
       "      <td>기대수명</td>\n",
       "      <td>여자</td>\n",
       "      <td>83.97</td>\n",
       "      <td>84.17</td>\n",
       "      <td>84.60</td>\n",
       "      <td>85.02</td>\n",
       "      <td>85.17</td>\n",
       "      <td>85.4</td>\n",
       "      <td>85.70</td>\n",
       "      <td>85.7</td>\n",
       "      <td>86.30</td>\n",
       "    </tr>\n",
       "    <tr>\n",
       "      <th>3</th>\n",
       "      <td>유병기간제외 기대수명(건강수명)</td>\n",
       "      <td>유병기간제외 기대수명(건강수명)</td>\n",
       "      <td>(자료 없음)</td>\n",
       "      <td>65.70</td>\n",
       "      <td>-</td>\n",
       "      <td>65.20</td>\n",
       "      <td>-</td>\n",
       "      <td>64.9</td>\n",
       "      <td>-</td>\n",
       "      <td>64.4</td>\n",
       "      <td>-</td>\n",
       "    </tr>\n",
       "  </tbody>\n",
       "</table>\n",
       "</div>"
      ],
      "text/plain": [
       "          Unnamed: 0         Unnamed: 1     2011   2012   2013   2014   2015  \\\n",
       "0               기대수명                  계    80.62  80.87  81.36  81.80  82.06   \n",
       "1               기대수명                 남자    77.26  77.57  78.12  78.58  78.96   \n",
       "2               기대수명                 여자    83.97  84.17  84.60  85.02  85.17   \n",
       "3  유병기간제외 기대수명(건강수명)  유병기간제외 기대수명(건강수명)  (자료 없음)  65.70      -  65.20      -   \n",
       "\n",
       "   2016   2017  2018   2019  \n",
       "0  82.4  82.70  82.7  83.30  \n",
       "1  79.3  79.70  79.7  80.30  \n",
       "2  85.4  85.70  85.7  86.30  \n",
       "3  64.9      -  64.4      -  "
      ]
     },
     "execution_count": 384,
     "metadata": {},
     "output_type": "execute_result"
    }
   ],
   "source": [
    "df[1]"
   ]
  },
  {
   "cell_type": "code",
   "execution_count": 389,
   "metadata": {},
   "outputs": [
    {
     "name": "stdout",
     "output_type": "stream",
     "text": [
      "0     558897\n",
      "1     511667\n",
      "2     534524\n",
      "3     566142\n",
      "4     566969\n",
      "5     587144\n",
      "6     589428\n",
      "7     600545\n",
      "8     607021\n",
      "9     618135\n",
      "10    646158\n",
      "11    639355\n",
      "12    636839\n",
      "13    569299\n",
      "14    585482\n",
      "15    527964\n",
      "16    553690\n",
      "17    533768\n",
      "18    513846\n",
      "19    533215\n",
      "Name: 출생자수(명), dtype: int64\n",
      "11480088\n"
     ]
    }
   ],
   "source": [
    "print(df[4]['출생자수(명)'])\n",
    "print(df[4]['출생자수(명)'].sum())"
   ]
  },
  {
   "cell_type": "code",
   "execution_count": 391,
   "metadata": {},
   "outputs": [],
   "source": [
    "df[4].to_csv('대한민국출생인구통계.csv')"
   ]
  },
  {
   "cell_type": "markdown",
   "metadata": {
    "id": "lJ5UHx34lgkI"
   },
   "source": [
    "## 4 DataFrame에 데이터 활용"
   ]
  },
  {
   "cell_type": "markdown",
   "metadata": {
    "id": "Z2G1-ksel2PJ"
   },
   "source": [
    "### 4.1 데이터 사전 분석\n",
    "\n",
    "- info() : DataFrame을 구성하는 행과 열에 대한 정보를 나타내 주는 함수\n",
    "- head(n) : DataFrame의 처음부터 n줄의 행을 출력\n",
    "- tail(n) : DataFrame의 마지막 n줄의 행을 출력\n",
    "- describe() : Series, DataFrame의 각 열에 대한 요약 통계\n",
    "- dtypes : 데이터 자료형 확인"
   ]
  },
  {
   "cell_type": "markdown",
   "metadata": {
    "id": "6cKZZXRzl8jZ"
   },
   "source": [
    "### 4.2 DataFrame에 데이터 조작\n",
    "\n",
    "- np.nan : NaN으로 값을 채움\n",
    "- drop : 컬럼 삭제\n",
    "    - inplace = True : drop후 원본에 반영\n",
    "- pd.to_numeric() : 문자형을 숫자형으로 변환"
   ]
  },
  {
   "cell_type": "code",
   "execution_count": 392,
   "metadata": {
    "id": "fn90-Fc3l3Ze"
   },
   "outputs": [],
   "source": [
    "rawData = {\n",
    "    '연차':[1, 2, 3, 4, 5, 6],\n",
    "    '연도':[2015, 2016, 2017, 2018, 2019, 2020],\n",
    "    '매출':[1000000, 2000000, 3000000, 4000000, 8000000, 16000000],\n",
    "    '순익':[100001, 200001, 300001, 400001, 800001, 1600001],\n",
    "    '직원수':[1, 2, 4, 8, 16, 32]\n",
    "}\n",
    "\n",
    "df = pd.DataFrame(rawData)"
   ]
  },
  {
   "cell_type": "code",
   "execution_count": 394,
   "metadata": {
    "colab": {
     "base_uri": "https://localhost:8080/",
     "height": 237
    },
    "id": "TSFlNGpYmrg6",
    "outputId": "b9c9786a-3606-45cf-8ca4-19bdda82e599"
   },
   "outputs": [
    {
     "data": {
      "text/html": [
       "<div>\n",
       "<style scoped>\n",
       "    .dataframe tbody tr th:only-of-type {\n",
       "        vertical-align: middle;\n",
       "    }\n",
       "\n",
       "    .dataframe tbody tr th {\n",
       "        vertical-align: top;\n",
       "    }\n",
       "\n",
       "    .dataframe thead th {\n",
       "        text-align: right;\n",
       "    }\n",
       "</style>\n",
       "<table border=\"1\" class=\"dataframe\">\n",
       "  <thead>\n",
       "    <tr style=\"text-align: right;\">\n",
       "      <th></th>\n",
       "      <th>연차</th>\n",
       "      <th>연도</th>\n",
       "      <th>매출</th>\n",
       "      <th>순익</th>\n",
       "      <th>직원수</th>\n",
       "    </tr>\n",
       "  </thead>\n",
       "  <tbody>\n",
       "    <tr>\n",
       "      <th>0</th>\n",
       "      <td>1</td>\n",
       "      <td>2015</td>\n",
       "      <td>1000000</td>\n",
       "      <td>100001</td>\n",
       "      <td>1</td>\n",
       "    </tr>\n",
       "    <tr>\n",
       "      <th>1</th>\n",
       "      <td>2</td>\n",
       "      <td>2016</td>\n",
       "      <td>2000000</td>\n",
       "      <td>200001</td>\n",
       "      <td>2</td>\n",
       "    </tr>\n",
       "    <tr>\n",
       "      <th>2</th>\n",
       "      <td>3</td>\n",
       "      <td>2017</td>\n",
       "      <td>3000000</td>\n",
       "      <td>300001</td>\n",
       "      <td>4</td>\n",
       "    </tr>\n",
       "    <tr>\n",
       "      <th>3</th>\n",
       "      <td>4</td>\n",
       "      <td>2018</td>\n",
       "      <td>4000000</td>\n",
       "      <td>400001</td>\n",
       "      <td>8</td>\n",
       "    </tr>\n",
       "    <tr>\n",
       "      <th>4</th>\n",
       "      <td>5</td>\n",
       "      <td>2019</td>\n",
       "      <td>8000000</td>\n",
       "      <td>800001</td>\n",
       "      <td>16</td>\n",
       "    </tr>\n",
       "    <tr>\n",
       "      <th>5</th>\n",
       "      <td>6</td>\n",
       "      <td>2020</td>\n",
       "      <td>16000000</td>\n",
       "      <td>1600001</td>\n",
       "      <td>32</td>\n",
       "    </tr>\n",
       "  </tbody>\n",
       "</table>\n",
       "</div>"
      ],
      "text/plain": [
       "   연차    연도        매출       순익  직원수\n",
       "0   1  2015   1000000   100001    1\n",
       "1   2  2016   2000000   200001    2\n",
       "2   3  2017   3000000   300001    4\n",
       "3   4  2018   4000000   400001    8\n",
       "4   5  2019   8000000   800001   16\n",
       "5   6  2020  16000000  1600001   32"
      ]
     },
     "execution_count": 394,
     "metadata": {},
     "output_type": "execute_result"
    }
   ],
   "source": [
    "df"
   ]
  },
  {
   "cell_type": "code",
   "execution_count": 396,
   "metadata": {},
   "outputs": [
    {
     "name": "stdout",
     "output_type": "stream",
     "text": [
      "<class 'pandas.core.frame.DataFrame'>\n",
      "RangeIndex: 6 entries, 0 to 5\n",
      "Data columns (total 5 columns):\n",
      " #   Column  Non-Null Count  Dtype\n",
      "---  ------  --------------  -----\n",
      " 0   연차      6 non-null      int64\n",
      " 1   연도      6 non-null      int64\n",
      " 2   매출      6 non-null      int64\n",
      " 3   순익      6 non-null      int64\n",
      " 4   직원수     6 non-null      int64\n",
      "dtypes: int64(5)\n",
      "memory usage: 368.0 bytes\n"
     ]
    }
   ],
   "source": [
    "df.info()"
   ]
  },
  {
   "cell_type": "code",
   "execution_count": 398,
   "metadata": {},
   "outputs": [
    {
     "data": {
      "text/html": [
       "<div>\n",
       "<style scoped>\n",
       "    .dataframe tbody tr th:only-of-type {\n",
       "        vertical-align: middle;\n",
       "    }\n",
       "\n",
       "    .dataframe tbody tr th {\n",
       "        vertical-align: top;\n",
       "    }\n",
       "\n",
       "    .dataframe thead th {\n",
       "        text-align: right;\n",
       "    }\n",
       "</style>\n",
       "<table border=\"1\" class=\"dataframe\">\n",
       "  <thead>\n",
       "    <tr style=\"text-align: right;\">\n",
       "      <th></th>\n",
       "      <th>연차</th>\n",
       "      <th>연도</th>\n",
       "      <th>매출</th>\n",
       "      <th>순익</th>\n",
       "      <th>직원수</th>\n",
       "    </tr>\n",
       "  </thead>\n",
       "  <tbody>\n",
       "    <tr>\n",
       "      <th>0</th>\n",
       "      <td>1</td>\n",
       "      <td>2015</td>\n",
       "      <td>1000000</td>\n",
       "      <td>100001</td>\n",
       "      <td>1</td>\n",
       "    </tr>\n",
       "    <tr>\n",
       "      <th>1</th>\n",
       "      <td>2</td>\n",
       "      <td>2016</td>\n",
       "      <td>2000000</td>\n",
       "      <td>200001</td>\n",
       "      <td>2</td>\n",
       "    </tr>\n",
       "    <tr>\n",
       "      <th>2</th>\n",
       "      <td>3</td>\n",
       "      <td>2017</td>\n",
       "      <td>3000000</td>\n",
       "      <td>300001</td>\n",
       "      <td>4</td>\n",
       "    </tr>\n",
       "    <tr>\n",
       "      <th>3</th>\n",
       "      <td>4</td>\n",
       "      <td>2018</td>\n",
       "      <td>4000000</td>\n",
       "      <td>400001</td>\n",
       "      <td>8</td>\n",
       "    </tr>\n",
       "  </tbody>\n",
       "</table>\n",
       "</div>"
      ],
      "text/plain": [
       "   연차    연도       매출      순익  직원수\n",
       "0   1  2015  1000000  100001    1\n",
       "1   2  2016  2000000  200001    2\n",
       "2   3  2017  3000000  300001    4\n",
       "3   4  2018  4000000  400001    8"
      ]
     },
     "execution_count": 398,
     "metadata": {},
     "output_type": "execute_result"
    }
   ],
   "source": [
    "df.head(4)  # data 잘 들어왔는지 확인할 때, 많이 사용"
   ]
  },
  {
   "cell_type": "code",
   "execution_count": 399,
   "metadata": {},
   "outputs": [
    {
     "data": {
      "text/html": [
       "<div>\n",
       "<style scoped>\n",
       "    .dataframe tbody tr th:only-of-type {\n",
       "        vertical-align: middle;\n",
       "    }\n",
       "\n",
       "    .dataframe tbody tr th {\n",
       "        vertical-align: top;\n",
       "    }\n",
       "\n",
       "    .dataframe thead th {\n",
       "        text-align: right;\n",
       "    }\n",
       "</style>\n",
       "<table border=\"1\" class=\"dataframe\">\n",
       "  <thead>\n",
       "    <tr style=\"text-align: right;\">\n",
       "      <th></th>\n",
       "      <th>연차</th>\n",
       "      <th>연도</th>\n",
       "      <th>매출</th>\n",
       "      <th>순익</th>\n",
       "      <th>직원수</th>\n",
       "    </tr>\n",
       "  </thead>\n",
       "  <tbody>\n",
       "    <tr>\n",
       "      <th>3</th>\n",
       "      <td>4</td>\n",
       "      <td>2018</td>\n",
       "      <td>4000000</td>\n",
       "      <td>400001</td>\n",
       "      <td>8</td>\n",
       "    </tr>\n",
       "    <tr>\n",
       "      <th>4</th>\n",
       "      <td>5</td>\n",
       "      <td>2019</td>\n",
       "      <td>8000000</td>\n",
       "      <td>800001</td>\n",
       "      <td>16</td>\n",
       "    </tr>\n",
       "    <tr>\n",
       "      <th>5</th>\n",
       "      <td>6</td>\n",
       "      <td>2020</td>\n",
       "      <td>16000000</td>\n",
       "      <td>1600001</td>\n",
       "      <td>32</td>\n",
       "    </tr>\n",
       "  </tbody>\n",
       "</table>\n",
       "</div>"
      ],
      "text/plain": [
       "   연차    연도        매출       순익  직원수\n",
       "3   4  2018   4000000   400001    8\n",
       "4   5  2019   8000000   800001   16\n",
       "5   6  2020  16000000  1600001   32"
      ]
     },
     "execution_count": 399,
     "metadata": {},
     "output_type": "execute_result"
    }
   ],
   "source": [
    "df.tail(3)"
   ]
  },
  {
   "cell_type": "code",
   "execution_count": 401,
   "metadata": {},
   "outputs": [
    {
     "data": {
      "text/html": [
       "<div>\n",
       "<style scoped>\n",
       "    .dataframe tbody tr th:only-of-type {\n",
       "        vertical-align: middle;\n",
       "    }\n",
       "\n",
       "    .dataframe tbody tr th {\n",
       "        vertical-align: top;\n",
       "    }\n",
       "\n",
       "    .dataframe thead th {\n",
       "        text-align: right;\n",
       "    }\n",
       "</style>\n",
       "<table border=\"1\" class=\"dataframe\">\n",
       "  <thead>\n",
       "    <tr style=\"text-align: right;\">\n",
       "      <th></th>\n",
       "      <th>연차</th>\n",
       "      <th>연도</th>\n",
       "      <th>매출</th>\n",
       "      <th>순익</th>\n",
       "      <th>직원수</th>\n",
       "    </tr>\n",
       "  </thead>\n",
       "  <tbody>\n",
       "    <tr>\n",
       "      <th>count</th>\n",
       "      <td>6.000000</td>\n",
       "      <td>6.000000</td>\n",
       "      <td>6.000000e+00</td>\n",
       "      <td>6.000000e+00</td>\n",
       "      <td>6.000000</td>\n",
       "    </tr>\n",
       "    <tr>\n",
       "      <th>mean</th>\n",
       "      <td>3.500000</td>\n",
       "      <td>2017.500000</td>\n",
       "      <td>5.666667e+06</td>\n",
       "      <td>5.666677e+05</td>\n",
       "      <td>10.500000</td>\n",
       "    </tr>\n",
       "    <tr>\n",
       "      <th>std</th>\n",
       "      <td>1.870829</td>\n",
       "      <td>1.870829</td>\n",
       "      <td>5.609516e+06</td>\n",
       "      <td>5.609516e+05</td>\n",
       "      <td>11.861703</td>\n",
       "    </tr>\n",
       "    <tr>\n",
       "      <th>min</th>\n",
       "      <td>1.000000</td>\n",
       "      <td>2015.000000</td>\n",
       "      <td>1.000000e+06</td>\n",
       "      <td>1.000010e+05</td>\n",
       "      <td>1.000000</td>\n",
       "    </tr>\n",
       "    <tr>\n",
       "      <th>25%</th>\n",
       "      <td>2.250000</td>\n",
       "      <td>2016.250000</td>\n",
       "      <td>2.250000e+06</td>\n",
       "      <td>2.250010e+05</td>\n",
       "      <td>2.500000</td>\n",
       "    </tr>\n",
       "    <tr>\n",
       "      <th>50%</th>\n",
       "      <td>3.500000</td>\n",
       "      <td>2017.500000</td>\n",
       "      <td>3.500000e+06</td>\n",
       "      <td>3.500010e+05</td>\n",
       "      <td>6.000000</td>\n",
       "    </tr>\n",
       "    <tr>\n",
       "      <th>75%</th>\n",
       "      <td>4.750000</td>\n",
       "      <td>2018.750000</td>\n",
       "      <td>7.000000e+06</td>\n",
       "      <td>7.000010e+05</td>\n",
       "      <td>14.000000</td>\n",
       "    </tr>\n",
       "    <tr>\n",
       "      <th>max</th>\n",
       "      <td>6.000000</td>\n",
       "      <td>2020.000000</td>\n",
       "      <td>1.600000e+07</td>\n",
       "      <td>1.600001e+06</td>\n",
       "      <td>32.000000</td>\n",
       "    </tr>\n",
       "  </tbody>\n",
       "</table>\n",
       "</div>"
      ],
      "text/plain": [
       "             연차           연도            매출            순익        직원수\n",
       "count  6.000000     6.000000  6.000000e+00  6.000000e+00   6.000000\n",
       "mean   3.500000  2017.500000  5.666667e+06  5.666677e+05  10.500000\n",
       "std    1.870829     1.870829  5.609516e+06  5.609516e+05  11.861703\n",
       "min    1.000000  2015.000000  1.000000e+06  1.000010e+05   1.000000\n",
       "25%    2.250000  2016.250000  2.250000e+06  2.250010e+05   2.500000\n",
       "50%    3.500000  2017.500000  3.500000e+06  3.500010e+05   6.000000\n",
       "75%    4.750000  2018.750000  7.000000e+06  7.000010e+05  14.000000\n",
       "max    6.000000  2020.000000  1.600000e+07  1.600001e+06  32.000000"
      ]
     },
     "execution_count": 401,
     "metadata": {},
     "output_type": "execute_result"
    }
   ],
   "source": [
    "df.describe() # 열에 대한 요약 통계"
   ]
  },
  {
   "cell_type": "code",
   "execution_count": 403,
   "metadata": {},
   "outputs": [
    {
     "data": {
      "text/plain": [
       "연차     int64\n",
       "연도     int64\n",
       "매출     int64\n",
       "순익     int64\n",
       "직원수    int64\n",
       "dtype: object"
      ]
     },
     "execution_count": 403,
     "metadata": {},
     "output_type": "execute_result"
    }
   ],
   "source": [
    "df.dtypes"
   ]
  },
  {
   "cell_type": "code",
   "execution_count": 405,
   "metadata": {},
   "outputs": [
    {
     "data": {
      "text/html": [
       "<div>\n",
       "<style scoped>\n",
       "    .dataframe tbody tr th:only-of-type {\n",
       "        vertical-align: middle;\n",
       "    }\n",
       "\n",
       "    .dataframe tbody tr th {\n",
       "        vertical-align: top;\n",
       "    }\n",
       "\n",
       "    .dataframe thead th {\n",
       "        text-align: right;\n",
       "    }\n",
       "</style>\n",
       "<table border=\"1\" class=\"dataframe\">\n",
       "  <thead>\n",
       "    <tr style=\"text-align: right;\">\n",
       "      <th></th>\n",
       "      <th>연차</th>\n",
       "      <th>연도</th>\n",
       "      <th>매출</th>\n",
       "      <th>순익</th>\n",
       "      <th>직원수</th>\n",
       "    </tr>\n",
       "  </thead>\n",
       "  <tbody>\n",
       "    <tr>\n",
       "      <th>0</th>\n",
       "      <td>1</td>\n",
       "      <td>2015</td>\n",
       "      <td>1000000</td>\n",
       "      <td>100001</td>\n",
       "      <td>1</td>\n",
       "    </tr>\n",
       "    <tr>\n",
       "      <th>1</th>\n",
       "      <td>2</td>\n",
       "      <td>2016</td>\n",
       "      <td>2000000</td>\n",
       "      <td>200001</td>\n",
       "      <td>2</td>\n",
       "    </tr>\n",
       "    <tr>\n",
       "      <th>2</th>\n",
       "      <td>3</td>\n",
       "      <td>2017</td>\n",
       "      <td>3000000</td>\n",
       "      <td>300001</td>\n",
       "      <td>4</td>\n",
       "    </tr>\n",
       "    <tr>\n",
       "      <th>3</th>\n",
       "      <td>4</td>\n",
       "      <td>2018</td>\n",
       "      <td>4000000</td>\n",
       "      <td>400001</td>\n",
       "      <td>8</td>\n",
       "    </tr>\n",
       "    <tr>\n",
       "      <th>4</th>\n",
       "      <td>5</td>\n",
       "      <td>2019</td>\n",
       "      <td>8000000</td>\n",
       "      <td>800001</td>\n",
       "      <td>16</td>\n",
       "    </tr>\n",
       "    <tr>\n",
       "      <th>5</th>\n",
       "      <td>6</td>\n",
       "      <td>2020</td>\n",
       "      <td>16000000</td>\n",
       "      <td>1600001</td>\n",
       "      <td>32</td>\n",
       "    </tr>\n",
       "  </tbody>\n",
       "</table>\n",
       "</div>"
      ],
      "text/plain": [
       "   연차    연도        매출       순익  직원수\n",
       "0   1  2015   1000000   100001    1\n",
       "1   2  2016   2000000   200001    2\n",
       "2   3  2017   3000000   300001    4\n",
       "3   4  2018   4000000   400001    8\n",
       "4   5  2019   8000000   800001   16\n",
       "5   6  2020  16000000  1600001   32"
      ]
     },
     "execution_count": 405,
     "metadata": {},
     "output_type": "execute_result"
    }
   ],
   "source": [
    "df"
   ]
  },
  {
   "cell_type": "code",
   "execution_count": 408,
   "metadata": {},
   "outputs": [
    {
     "data": {
      "text/plain": [
       "0     1000000\n",
       "1     2000000\n",
       "2     3000000\n",
       "3     4000000\n",
       "4     8000000\n",
       "5    16000000\n",
       "Name: 매출, dtype: int64"
      ]
     },
     "execution_count": 408,
     "metadata": {},
     "output_type": "execute_result"
    }
   ],
   "source": [
    "df['매출']\n",
    "df.매출"
   ]
  },
  {
   "cell_type": "code",
   "execution_count": 424,
   "metadata": {},
   "outputs": [
    {
     "data": {
      "text/html": [
       "<div>\n",
       "<style scoped>\n",
       "    .dataframe tbody tr th:only-of-type {\n",
       "        vertical-align: middle;\n",
       "    }\n",
       "\n",
       "    .dataframe tbody tr th {\n",
       "        vertical-align: top;\n",
       "    }\n",
       "\n",
       "    .dataframe thead th {\n",
       "        text-align: right;\n",
       "    }\n",
       "</style>\n",
       "<table border=\"1\" class=\"dataframe\">\n",
       "  <thead>\n",
       "    <tr style=\"text-align: right;\">\n",
       "      <th></th>\n",
       "      <th>연차</th>\n",
       "      <th>연도</th>\n",
       "      <th>매출</th>\n",
       "      <th>순익</th>\n",
       "      <th>직원수</th>\n",
       "      <th>순이익률</th>\n",
       "    </tr>\n",
       "  </thead>\n",
       "  <tbody>\n",
       "    <tr>\n",
       "      <th>0</th>\n",
       "      <td>1</td>\n",
       "      <td>2015</td>\n",
       "      <td>1000000</td>\n",
       "      <td>100001</td>\n",
       "      <td>1</td>\n",
       "      <td>1000</td>\n",
       "    </tr>\n",
       "    <tr>\n",
       "      <th>1</th>\n",
       "      <td>2</td>\n",
       "      <td>2016</td>\n",
       "      <td>2000000</td>\n",
       "      <td>200001</td>\n",
       "      <td>2</td>\n",
       "      <td>1000</td>\n",
       "    </tr>\n",
       "    <tr>\n",
       "      <th>2</th>\n",
       "      <td>3</td>\n",
       "      <td>2017</td>\n",
       "      <td>3000000</td>\n",
       "      <td>300001</td>\n",
       "      <td>4</td>\n",
       "      <td>1000</td>\n",
       "    </tr>\n",
       "    <tr>\n",
       "      <th>3</th>\n",
       "      <td>4</td>\n",
       "      <td>2018</td>\n",
       "      <td>4000000</td>\n",
       "      <td>400001</td>\n",
       "      <td>8</td>\n",
       "      <td>1000</td>\n",
       "    </tr>\n",
       "    <tr>\n",
       "      <th>4</th>\n",
       "      <td>5</td>\n",
       "      <td>2019</td>\n",
       "      <td>8000000</td>\n",
       "      <td>800001</td>\n",
       "      <td>16</td>\n",
       "      <td>1000</td>\n",
       "    </tr>\n",
       "    <tr>\n",
       "      <th>5</th>\n",
       "      <td>6</td>\n",
       "      <td>2020</td>\n",
       "      <td>16000000</td>\n",
       "      <td>1600001</td>\n",
       "      <td>32</td>\n",
       "      <td>1000</td>\n",
       "    </tr>\n",
       "  </tbody>\n",
       "</table>\n",
       "</div>"
      ],
      "text/plain": [
       "   연차    연도        매출       순익  직원수  순이익률\n",
       "0   1  2015   1000000   100001    1  1000\n",
       "1   2  2016   2000000   200001    2  1000\n",
       "2   3  2017   3000000   300001    4  1000\n",
       "3   4  2018   4000000   400001    8  1000\n",
       "4   5  2019   8000000   800001   16  1000\n",
       "5   6  2020  16000000  1600001   32  1000"
      ]
     },
     "execution_count": 424,
     "metadata": {},
     "output_type": "execute_result"
    }
   ],
   "source": [
    "df['순이익률'] = 1000\n",
    "df"
   ]
  },
  {
   "cell_type": "code",
   "execution_count": 420,
   "metadata": {},
   "outputs": [
    {
     "data": {
      "text/html": [
       "<div>\n",
       "<style scoped>\n",
       "    .dataframe tbody tr th:only-of-type {\n",
       "        vertical-align: middle;\n",
       "    }\n",
       "\n",
       "    .dataframe tbody tr th {\n",
       "        vertical-align: top;\n",
       "    }\n",
       "\n",
       "    .dataframe thead th {\n",
       "        text-align: right;\n",
       "    }\n",
       "</style>\n",
       "<table border=\"1\" class=\"dataframe\">\n",
       "  <thead>\n",
       "    <tr style=\"text-align: right;\">\n",
       "      <th></th>\n",
       "      <th>연차</th>\n",
       "      <th>연도</th>\n",
       "      <th>매출</th>\n",
       "      <th>순익</th>\n",
       "      <th>직원수</th>\n",
       "      <th>순이익률</th>\n",
       "    </tr>\n",
       "  </thead>\n",
       "  <tbody>\n",
       "    <tr>\n",
       "      <th>0</th>\n",
       "      <td>1</td>\n",
       "      <td>2015</td>\n",
       "      <td>1000000</td>\n",
       "      <td>100001</td>\n",
       "      <td>1</td>\n",
       "      <td>10.000100</td>\n",
       "    </tr>\n",
       "    <tr>\n",
       "      <th>1</th>\n",
       "      <td>2</td>\n",
       "      <td>2016</td>\n",
       "      <td>2000000</td>\n",
       "      <td>200001</td>\n",
       "      <td>2</td>\n",
       "      <td>10.000050</td>\n",
       "    </tr>\n",
       "    <tr>\n",
       "      <th>2</th>\n",
       "      <td>3</td>\n",
       "      <td>2017</td>\n",
       "      <td>3000000</td>\n",
       "      <td>300001</td>\n",
       "      <td>4</td>\n",
       "      <td>10.000033</td>\n",
       "    </tr>\n",
       "    <tr>\n",
       "      <th>3</th>\n",
       "      <td>4</td>\n",
       "      <td>2018</td>\n",
       "      <td>4000000</td>\n",
       "      <td>400001</td>\n",
       "      <td>8</td>\n",
       "      <td>10.000025</td>\n",
       "    </tr>\n",
       "    <tr>\n",
       "      <th>4</th>\n",
       "      <td>5</td>\n",
       "      <td>2019</td>\n",
       "      <td>8000000</td>\n",
       "      <td>800001</td>\n",
       "      <td>16</td>\n",
       "      <td>10.000013</td>\n",
       "    </tr>\n",
       "    <tr>\n",
       "      <th>5</th>\n",
       "      <td>6</td>\n",
       "      <td>2020</td>\n",
       "      <td>16000000</td>\n",
       "      <td>1600001</td>\n",
       "      <td>32</td>\n",
       "      <td>10.000006</td>\n",
       "    </tr>\n",
       "  </tbody>\n",
       "</table>\n",
       "</div>"
      ],
      "text/plain": [
       "   연차    연도        매출       순익  직원수       순이익률\n",
       "0   1  2015   1000000   100001    1  10.000100\n",
       "1   2  2016   2000000   200001    2  10.000050\n",
       "2   3  2017   3000000   300001    4  10.000033\n",
       "3   4  2018   4000000   400001    8  10.000025\n",
       "4   5  2019   8000000   800001   16  10.000013\n",
       "5   6  2020  16000000  1600001   32  10.000006"
      ]
     },
     "execution_count": 420,
     "metadata": {},
     "output_type": "execute_result"
    }
   ],
   "source": [
    "df['순이익률'] = (df['순익'] / df['매출']) * 100\n",
    "df"
   ]
  },
  {
   "cell_type": "code",
   "execution_count": 421,
   "metadata": {},
   "outputs": [
    {
     "name": "stdout",
     "output_type": "stream",
     "text": [
      "   연차    연도        매출       순익  직원수\n",
      "0   1  2015   1000000   100001    1\n",
      "1   2  2016   2000000   200001    2\n",
      "2   3  2017   3000000   300001    4\n",
      "3   4  2018   4000000   400001    8\n",
      "4   5  2019   8000000   800001   16\n",
      "5   6  2020  16000000  1600001   32\n",
      "   연차    연도        매출       순익  직원수       순이익률\n",
      "0   1  2015   1000000   100001    1  10.000100\n",
      "1   2  2016   2000000   200001    2  10.000050\n",
      "2   3  2017   3000000   300001    4  10.000033\n",
      "3   4  2018   4000000   400001    8  10.000025\n",
      "4   5  2019   8000000   800001   16  10.000013\n",
      "5   6  2020  16000000  1600001   32  10.000006\n"
     ]
    }
   ],
   "source": [
    "# drop은 사라진 것을 보여주는 것일 뿐, 원본에 영향을 주지는 않음.\n",
    "print(df.drop(\"순이익률\", axis=\"columns\"))\n",
    "print(df)"
   ]
  },
  {
   "cell_type": "code",
   "execution_count": 425,
   "metadata": {},
   "outputs": [
    {
     "name": "stdout",
     "output_type": "stream",
     "text": [
      "None\n"
     ]
    },
    {
     "data": {
      "text/html": [
       "<div>\n",
       "<style scoped>\n",
       "    .dataframe tbody tr th:only-of-type {\n",
       "        vertical-align: middle;\n",
       "    }\n",
       "\n",
       "    .dataframe tbody tr th {\n",
       "        vertical-align: top;\n",
       "    }\n",
       "\n",
       "    .dataframe thead th {\n",
       "        text-align: right;\n",
       "    }\n",
       "</style>\n",
       "<table border=\"1\" class=\"dataframe\">\n",
       "  <thead>\n",
       "    <tr style=\"text-align: right;\">\n",
       "      <th></th>\n",
       "      <th>연차</th>\n",
       "      <th>연도</th>\n",
       "      <th>매출</th>\n",
       "      <th>순익</th>\n",
       "      <th>직원수</th>\n",
       "    </tr>\n",
       "  </thead>\n",
       "  <tbody>\n",
       "    <tr>\n",
       "      <th>0</th>\n",
       "      <td>1</td>\n",
       "      <td>2015</td>\n",
       "      <td>1000000</td>\n",
       "      <td>100001</td>\n",
       "      <td>1</td>\n",
       "    </tr>\n",
       "    <tr>\n",
       "      <th>1</th>\n",
       "      <td>2</td>\n",
       "      <td>2016</td>\n",
       "      <td>2000000</td>\n",
       "      <td>200001</td>\n",
       "      <td>2</td>\n",
       "    </tr>\n",
       "    <tr>\n",
       "      <th>2</th>\n",
       "      <td>3</td>\n",
       "      <td>2017</td>\n",
       "      <td>3000000</td>\n",
       "      <td>300001</td>\n",
       "      <td>4</td>\n",
       "    </tr>\n",
       "    <tr>\n",
       "      <th>3</th>\n",
       "      <td>4</td>\n",
       "      <td>2018</td>\n",
       "      <td>4000000</td>\n",
       "      <td>400001</td>\n",
       "      <td>8</td>\n",
       "    </tr>\n",
       "    <tr>\n",
       "      <th>4</th>\n",
       "      <td>5</td>\n",
       "      <td>2019</td>\n",
       "      <td>8000000</td>\n",
       "      <td>800001</td>\n",
       "      <td>16</td>\n",
       "    </tr>\n",
       "    <tr>\n",
       "      <th>5</th>\n",
       "      <td>6</td>\n",
       "      <td>2020</td>\n",
       "      <td>16000000</td>\n",
       "      <td>1600001</td>\n",
       "      <td>32</td>\n",
       "    </tr>\n",
       "  </tbody>\n",
       "</table>\n",
       "</div>"
      ],
      "text/plain": [
       "   연차    연도        매출       순익  직원수\n",
       "0   1  2015   1000000   100001    1\n",
       "1   2  2016   2000000   200001    2\n",
       "2   3  2017   3000000   300001    4\n",
       "3   4  2018   4000000   400001    8\n",
       "4   5  2019   8000000   800001   16\n",
       "5   6  2020  16000000  1600001   32"
      ]
     },
     "execution_count": 425,
     "metadata": {},
     "output_type": "execute_result"
    }
   ],
   "source": [
    "# inplace=True를 해주면, 원본을 바꾸는 것임!\n",
    "print(df.drop(\"순이익률\", axis=\"columns\", inplace=True))\n",
    "df"
   ]
  },
  {
   "cell_type": "code",
   "execution_count": 429,
   "metadata": {},
   "outputs": [
    {
     "data": {
      "text/html": [
       "<div>\n",
       "<style scoped>\n",
       "    .dataframe tbody tr th:only-of-type {\n",
       "        vertical-align: middle;\n",
       "    }\n",
       "\n",
       "    .dataframe tbody tr th {\n",
       "        vertical-align: top;\n",
       "    }\n",
       "\n",
       "    .dataframe thead th {\n",
       "        text-align: right;\n",
       "    }\n",
       "</style>\n",
       "<table border=\"1\" class=\"dataframe\">\n",
       "  <thead>\n",
       "    <tr style=\"text-align: right;\">\n",
       "      <th></th>\n",
       "      <th>연차</th>\n",
       "      <th>연도</th>\n",
       "      <th>매출</th>\n",
       "      <th>순익</th>\n",
       "      <th>직원수</th>\n",
       "      <th>test</th>\n",
       "      <th>test1</th>\n",
       "    </tr>\n",
       "  </thead>\n",
       "  <tbody>\n",
       "    <tr>\n",
       "      <th>0</th>\n",
       "      <td>1</td>\n",
       "      <td>2015</td>\n",
       "      <td>1000000</td>\n",
       "      <td>100001</td>\n",
       "      <td>1</td>\n",
       "      <td>NaN</td>\n",
       "      <td>None</td>\n",
       "    </tr>\n",
       "    <tr>\n",
       "      <th>1</th>\n",
       "      <td>2</td>\n",
       "      <td>2016</td>\n",
       "      <td>2000000</td>\n",
       "      <td>200001</td>\n",
       "      <td>2</td>\n",
       "      <td>NaN</td>\n",
       "      <td>None</td>\n",
       "    </tr>\n",
       "    <tr>\n",
       "      <th>2</th>\n",
       "      <td>3</td>\n",
       "      <td>2017</td>\n",
       "      <td>3000000</td>\n",
       "      <td>300001</td>\n",
       "      <td>4</td>\n",
       "      <td>NaN</td>\n",
       "      <td>None</td>\n",
       "    </tr>\n",
       "    <tr>\n",
       "      <th>3</th>\n",
       "      <td>4</td>\n",
       "      <td>2018</td>\n",
       "      <td>4000000</td>\n",
       "      <td>400001</td>\n",
       "      <td>8</td>\n",
       "      <td>NaN</td>\n",
       "      <td>None</td>\n",
       "    </tr>\n",
       "    <tr>\n",
       "      <th>4</th>\n",
       "      <td>5</td>\n",
       "      <td>2019</td>\n",
       "      <td>8000000</td>\n",
       "      <td>800001</td>\n",
       "      <td>16</td>\n",
       "      <td>NaN</td>\n",
       "      <td>None</td>\n",
       "    </tr>\n",
       "    <tr>\n",
       "      <th>5</th>\n",
       "      <td>6</td>\n",
       "      <td>2020</td>\n",
       "      <td>16000000</td>\n",
       "      <td>1600001</td>\n",
       "      <td>32</td>\n",
       "      <td>NaN</td>\n",
       "      <td>None</td>\n",
       "    </tr>\n",
       "  </tbody>\n",
       "</table>\n",
       "</div>"
      ],
      "text/plain": [
       "   연차    연도        매출       순익  직원수  test test1\n",
       "0   1  2015   1000000   100001    1   NaN  None\n",
       "1   2  2016   2000000   200001    2   NaN  None\n",
       "2   3  2017   3000000   300001    4   NaN  None\n",
       "3   4  2018   4000000   400001    8   NaN  None\n",
       "4   5  2019   8000000   800001   16   NaN  None\n",
       "5   6  2020  16000000  1600001   32   NaN  None"
      ]
     },
     "execution_count": 429,
     "metadata": {},
     "output_type": "execute_result"
    }
   ],
   "source": [
    "df['test'] = np.nan\n",
    "df['test1'] = None\n",
    "df"
   ]
  },
  {
   "cell_type": "code",
   "execution_count": 444,
   "metadata": {},
   "outputs": [
    {
     "data": {
      "text/html": [
       "<div>\n",
       "<style scoped>\n",
       "    .dataframe tbody tr th:only-of-type {\n",
       "        vertical-align: middle;\n",
       "    }\n",
       "\n",
       "    .dataframe tbody tr th {\n",
       "        vertical-align: top;\n",
       "    }\n",
       "\n",
       "    .dataframe thead th {\n",
       "        text-align: right;\n",
       "    }\n",
       "</style>\n",
       "<table border=\"1\" class=\"dataframe\">\n",
       "  <thead>\n",
       "    <tr style=\"text-align: right;\">\n",
       "      <th></th>\n",
       "      <th>연차</th>\n",
       "      <th>연도</th>\n",
       "      <th>매출</th>\n",
       "      <th>순익</th>\n",
       "      <th>직원수</th>\n",
       "      <th>test</th>\n",
       "      <th>test1</th>\n",
       "    </tr>\n",
       "  </thead>\n",
       "  <tbody>\n",
       "    <tr>\n",
       "      <th>0</th>\n",
       "      <td>1</td>\n",
       "      <td>2015</td>\n",
       "      <td>1000000</td>\n",
       "      <td>100001</td>\n",
       "      <td>1</td>\n",
       "      <td>100</td>\n",
       "      <td>100</td>\n",
       "    </tr>\n",
       "    <tr>\n",
       "      <th>1</th>\n",
       "      <td>2</td>\n",
       "      <td>2016</td>\n",
       "      <td>2000000</td>\n",
       "      <td>200001</td>\n",
       "      <td>2</td>\n",
       "      <td>100</td>\n",
       "      <td>100</td>\n",
       "    </tr>\n",
       "    <tr>\n",
       "      <th>2</th>\n",
       "      <td>3</td>\n",
       "      <td>2017</td>\n",
       "      <td>3000000</td>\n",
       "      <td>300001</td>\n",
       "      <td>4</td>\n",
       "      <td>100</td>\n",
       "      <td>100</td>\n",
       "    </tr>\n",
       "    <tr>\n",
       "      <th>3</th>\n",
       "      <td>4</td>\n",
       "      <td>2018</td>\n",
       "      <td>4000000</td>\n",
       "      <td>400001</td>\n",
       "      <td>8</td>\n",
       "      <td>100</td>\n",
       "      <td>100</td>\n",
       "    </tr>\n",
       "    <tr>\n",
       "      <th>4</th>\n",
       "      <td>5</td>\n",
       "      <td>2019</td>\n",
       "      <td>8000000</td>\n",
       "      <td>800001</td>\n",
       "      <td>16</td>\n",
       "      <td>100</td>\n",
       "      <td>100</td>\n",
       "    </tr>\n",
       "    <tr>\n",
       "      <th>5</th>\n",
       "      <td>6</td>\n",
       "      <td>2020</td>\n",
       "      <td>16000000</td>\n",
       "      <td>1600001</td>\n",
       "      <td>32</td>\n",
       "      <td>100</td>\n",
       "      <td>100</td>\n",
       "    </tr>\n",
       "  </tbody>\n",
       "</table>\n",
       "</div>"
      ],
      "text/plain": [
       "   연차    연도        매출       순익  직원수  test  test1\n",
       "0   1  2015   1000000   100001    1   100    100\n",
       "1   2  2016   2000000   200001    2   100    100\n",
       "2   3  2017   3000000   300001    4   100    100\n",
       "3   4  2018   4000000   400001    8   100    100\n",
       "4   5  2019   8000000   800001   16   100    100\n",
       "5   6  2020  16000000  1600001   32   100    100"
      ]
     },
     "execution_count": 444,
     "metadata": {},
     "output_type": "execute_result"
    }
   ],
   "source": [
    "df[ ['test', 'test1'] ] = 100\n",
    "df"
   ]
  },
  {
   "cell_type": "code",
   "execution_count": 445,
   "metadata": {},
   "outputs": [
    {
     "data": {
      "text/html": [
       "<div>\n",
       "<style scoped>\n",
       "    .dataframe tbody tr th:only-of-type {\n",
       "        vertical-align: middle;\n",
       "    }\n",
       "\n",
       "    .dataframe tbody tr th {\n",
       "        vertical-align: top;\n",
       "    }\n",
       "\n",
       "    .dataframe thead th {\n",
       "        text-align: right;\n",
       "    }\n",
       "</style>\n",
       "<table border=\"1\" class=\"dataframe\">\n",
       "  <thead>\n",
       "    <tr style=\"text-align: right;\">\n",
       "      <th></th>\n",
       "      <th>연차</th>\n",
       "      <th>연도</th>\n",
       "      <th>매출</th>\n",
       "      <th>순익</th>\n",
       "      <th>직원수</th>\n",
       "      <th>test1</th>\n",
       "    </tr>\n",
       "  </thead>\n",
       "  <tbody>\n",
       "    <tr>\n",
       "      <th>0</th>\n",
       "      <td>1</td>\n",
       "      <td>2015</td>\n",
       "      <td>1000000</td>\n",
       "      <td>100001</td>\n",
       "      <td>1</td>\n",
       "      <td>100</td>\n",
       "    </tr>\n",
       "    <tr>\n",
       "      <th>1</th>\n",
       "      <td>2</td>\n",
       "      <td>2016</td>\n",
       "      <td>2000000</td>\n",
       "      <td>200001</td>\n",
       "      <td>2</td>\n",
       "      <td>100</td>\n",
       "    </tr>\n",
       "    <tr>\n",
       "      <th>2</th>\n",
       "      <td>3</td>\n",
       "      <td>2017</td>\n",
       "      <td>3000000</td>\n",
       "      <td>300001</td>\n",
       "      <td>4</td>\n",
       "      <td>100</td>\n",
       "    </tr>\n",
       "    <tr>\n",
       "      <th>3</th>\n",
       "      <td>4</td>\n",
       "      <td>2018</td>\n",
       "      <td>4000000</td>\n",
       "      <td>400001</td>\n",
       "      <td>8</td>\n",
       "      <td>100</td>\n",
       "    </tr>\n",
       "    <tr>\n",
       "      <th>4</th>\n",
       "      <td>5</td>\n",
       "      <td>2019</td>\n",
       "      <td>8000000</td>\n",
       "      <td>800001</td>\n",
       "      <td>16</td>\n",
       "      <td>100</td>\n",
       "    </tr>\n",
       "    <tr>\n",
       "      <th>5</th>\n",
       "      <td>6</td>\n",
       "      <td>2020</td>\n",
       "      <td>16000000</td>\n",
       "      <td>1600001</td>\n",
       "      <td>32</td>\n",
       "      <td>100</td>\n",
       "    </tr>\n",
       "  </tbody>\n",
       "</table>\n",
       "</div>"
      ],
      "text/plain": [
       "   연차    연도        매출       순익  직원수  test1\n",
       "0   1  2015   1000000   100001    1    100\n",
       "1   2  2016   2000000   200001    2    100\n",
       "2   3  2017   3000000   300001    4    100\n",
       "3   4  2018   4000000   400001    8    100\n",
       "4   5  2019   8000000   800001   16    100\n",
       "5   6  2020  16000000  1600001   32    100"
      ]
     },
     "execution_count": 445,
     "metadata": {},
     "output_type": "execute_result"
    }
   ],
   "source": [
    "del df['test']   # 원본 영향 有\n",
    "df"
   ]
  },
  {
   "cell_type": "code",
   "execution_count": 446,
   "metadata": {},
   "outputs": [
    {
     "name": "stdout",
     "output_type": "stream",
     "text": [
      "None\n"
     ]
    },
    {
     "data": {
      "text/html": [
       "<div>\n",
       "<style scoped>\n",
       "    .dataframe tbody tr th:only-of-type {\n",
       "        vertical-align: middle;\n",
       "    }\n",
       "\n",
       "    .dataframe tbody tr th {\n",
       "        vertical-align: top;\n",
       "    }\n",
       "\n",
       "    .dataframe thead th {\n",
       "        text-align: right;\n",
       "    }\n",
       "</style>\n",
       "<table border=\"1\" class=\"dataframe\">\n",
       "  <thead>\n",
       "    <tr style=\"text-align: right;\">\n",
       "      <th></th>\n",
       "      <th>연차</th>\n",
       "      <th>연도</th>\n",
       "      <th>매출</th>\n",
       "      <th>순익</th>\n",
       "      <th>직원수</th>\n",
       "    </tr>\n",
       "  </thead>\n",
       "  <tbody>\n",
       "    <tr>\n",
       "      <th>0</th>\n",
       "      <td>1</td>\n",
       "      <td>2015</td>\n",
       "      <td>1000000</td>\n",
       "      <td>100001</td>\n",
       "      <td>1</td>\n",
       "    </tr>\n",
       "    <tr>\n",
       "      <th>1</th>\n",
       "      <td>2</td>\n",
       "      <td>2016</td>\n",
       "      <td>2000000</td>\n",
       "      <td>200001</td>\n",
       "      <td>2</td>\n",
       "    </tr>\n",
       "    <tr>\n",
       "      <th>2</th>\n",
       "      <td>3</td>\n",
       "      <td>2017</td>\n",
       "      <td>3000000</td>\n",
       "      <td>300001</td>\n",
       "      <td>4</td>\n",
       "    </tr>\n",
       "    <tr>\n",
       "      <th>3</th>\n",
       "      <td>4</td>\n",
       "      <td>2018</td>\n",
       "      <td>4000000</td>\n",
       "      <td>400001</td>\n",
       "      <td>8</td>\n",
       "    </tr>\n",
       "    <tr>\n",
       "      <th>4</th>\n",
       "      <td>5</td>\n",
       "      <td>2019</td>\n",
       "      <td>8000000</td>\n",
       "      <td>800001</td>\n",
       "      <td>16</td>\n",
       "    </tr>\n",
       "    <tr>\n",
       "      <th>5</th>\n",
       "      <td>6</td>\n",
       "      <td>2020</td>\n",
       "      <td>16000000</td>\n",
       "      <td>1600001</td>\n",
       "      <td>32</td>\n",
       "    </tr>\n",
       "  </tbody>\n",
       "</table>\n",
       "</div>"
      ],
      "text/plain": [
       "   연차    연도        매출       순익  직원수\n",
       "0   1  2015   1000000   100001    1\n",
       "1   2  2016   2000000   200001    2\n",
       "2   3  2017   3000000   300001    4\n",
       "3   4  2018   4000000   400001    8\n",
       "4   5  2019   8000000   800001   16\n",
       "5   6  2020  16000000  1600001   32"
      ]
     },
     "execution_count": 446,
     "metadata": {},
     "output_type": "execute_result"
    }
   ],
   "source": [
    "# del df['test1']  \n",
    "# 차라리 axis에 영향을 주는 걸 명시적으로 적는 것도.. col=1, row=0\n",
    "print(df.drop(\"test1\", axis=\"columns\", inplace=True))\n",
    "df"
   ]
  },
  {
   "cell_type": "code",
   "execution_count": 450,
   "metadata": {},
   "outputs": [],
   "source": [
    "# append가 사라진 관계로 해당 부분은 기술하지 않습니다.\n",
    "# df2 = pd.DataFrame(\n",
    "#     np.array([ [7,\n",
    "#                 2021,\n",
    "#                 16000000,\n",
    "#                 1600001,\n",
    "#                 60] ]),\n",
    "#     columns=['연차',\n",
    "#              '연도',\n",
    "#              '매출',\n",
    "#              '순익',\n",
    "#              '직원수']).append(df, ignore_index=True)"
   ]
  },
  {
   "cell_type": "code",
   "execution_count": 453,
   "metadata": {},
   "outputs": [
    {
     "data": {
      "text/plain": [
       "0        1\n",
       "1        2\n",
       "2        3\n",
       "3    sbell\n",
       "4     True\n",
       "5       10\n",
       "6        1\n",
       "dtype: object"
      ]
     },
     "execution_count": 453,
     "metadata": {},
     "output_type": "execute_result"
    }
   ],
   "source": [
    "data = pd.Series([1, '2', '3', 'sbell', True, 10, 1])\n",
    "data\n",
    "\n",
    "# 이건 불가. -> 따라서 Series는 모두 같은 type이어야함\n",
    "# data.astype('int16')  "
   ]
  },
  {
   "cell_type": "code",
   "execution_count": 457,
   "metadata": {},
   "outputs": [
    {
     "name": "stderr",
     "output_type": "stream",
     "text": [
      "/tmp/ipykernel_4681/575592622.py:2: FutureWarning: errors='ignore' is deprecated and will raise in a future version. Use to_numeric without passing `errors` and catch exceptions explicitly instead\n",
      "  pd.to_numeric(pd.Series([1, '2', '3', 'sbell', True, 10, 1]), errors='ignore')\n"
     ]
    },
    {
     "data": {
      "text/plain": [
       "0        1\n",
       "1        2\n",
       "2        3\n",
       "3    sbell\n",
       "4     True\n",
       "5       10\n",
       "6        1\n",
       "dtype: object"
      ]
     },
     "execution_count": 457,
     "metadata": {},
     "output_type": "execute_result"
    }
   ],
   "source": [
    "# 위의 error 무시하는 코드 (사용 권장 X)\n",
    "pd.to_numeric(pd.Series([1, '2', '3', 'sbell', True, 10, 1]), errors='ignore')"
   ]
  },
  {
   "cell_type": "code",
   "execution_count": 463,
   "metadata": {},
   "outputs": [
    {
     "data": {
      "text/plain": [
       "0     1.0\n",
       "1     2.0\n",
       "2     3.0\n",
       "4     1.0\n",
       "5    10.0\n",
       "6     1.0\n",
       "dtype: float64"
      ]
     },
     "execution_count": 463,
     "metadata": {},
     "output_type": "execute_result"
    }
   ],
   "source": [
    "# 다음 방식으로 처리 가능!\n",
    "a = pd.to_numeric(pd.Series([1, '2', '3', 'sbell', True, 10, 1]), errors='coerce')\n",
    "a = a.dropna()  # 이 함수도 기억해!\n",
    "a"
   ]
  },
  {
   "cell_type": "markdown",
   "metadata": {
    "id": "NbF-krggvkAn"
   },
   "source": [
    "### 4.3 MultiIndex\n",
    "\n",
    "- Index를 설정할 때 리스트의 리스트 형태로 넣어주면 다중 인덱스가 설정이 된다."
   ]
  },
  {
   "cell_type": "code",
   "execution_count": 465,
   "metadata": {},
   "outputs": [
    {
     "name": "stdout",
     "output_type": "stream",
     "text": [
      "[[0.04571913 0.00506438]\n",
      " [0.61859017 0.37410626]\n",
      " [0.18804726 0.7789116 ]\n",
      " [0.89385356 0.69688937]]\n",
      "4\n",
      "[16 14 11 12 12 19 17 18 18 11]\n",
      "[[11 14 17 16 11]\n",
      " [17 13 13 13 11]\n",
      " [15 14 13 17 11]]\n",
      "[[-0.08893989 -0.10849003]\n",
      " [ 0.23358879  0.61011967]\n",
      " [ 0.05531043 -0.29399018]\n",
      " [ 0.19578233  0.1950682 ]]\n",
      "[1 2 3]\n",
      "[8 2 1 7 3]\n"
     ]
    }
   ],
   "source": [
    "import numpy as np\n",
    "\n",
    "print(np.random.rand(4, 2)) # 0부터 1사이, 균일 분포, Matrix 생성\n",
    "print(np.random.randint(10)) # 0부터 9사이, 숫자 1개 생성\n",
    "print(np.random.randint(10, 20, size=10))\n",
    "print(np.random.randint(10, 20, size=(3, 5)))\n",
    "print(np.random.randn(4, 2)) # 가우시안 표준 정규분포, Matrix 생성\n",
    "print(np.unique([1, 1, 1, 2, 2, 3])) # 중복된 값 제거\n",
    "print(np.random.choice(10, 5, replace=False))  # 5개만 선택, replace는 중복허락함"
   ]
  },
  {
   "cell_type": "code",
   "execution_count": 466,
   "metadata": {},
   "outputs": [
    {
     "data": {
      "text/html": [
       "<div>\n",
       "<style scoped>\n",
       "    .dataframe tbody tr th:only-of-type {\n",
       "        vertical-align: middle;\n",
       "    }\n",
       "\n",
       "    .dataframe tbody tr th {\n",
       "        vertical-align: top;\n",
       "    }\n",
       "\n",
       "    .dataframe thead th {\n",
       "        text-align: right;\n",
       "    }\n",
       "</style>\n",
       "<table border=\"1\" class=\"dataframe\">\n",
       "  <thead>\n",
       "    <tr style=\"text-align: right;\">\n",
       "      <th></th>\n",
       "      <th></th>\n",
       "      <th>국</th>\n",
       "      <th>영</th>\n",
       "      <th>수</th>\n",
       "    </tr>\n",
       "  </thead>\n",
       "  <tbody>\n",
       "    <tr>\n",
       "      <th rowspan=\"2\" valign=\"top\">1학년</th>\n",
       "      <th>1반</th>\n",
       "      <td>80</td>\n",
       "      <td>95</td>\n",
       "      <td>68</td>\n",
       "    </tr>\n",
       "    <tr>\n",
       "      <th>2반</th>\n",
       "      <td>91</td>\n",
       "      <td>86</td>\n",
       "      <td>64</td>\n",
       "    </tr>\n",
       "    <tr>\n",
       "      <th rowspan=\"2\" valign=\"top\">2학년</th>\n",
       "      <th>1반</th>\n",
       "      <td>64</td>\n",
       "      <td>87</td>\n",
       "      <td>99</td>\n",
       "    </tr>\n",
       "    <tr>\n",
       "      <th>2반</th>\n",
       "      <td>80</td>\n",
       "      <td>75</td>\n",
       "      <td>70</td>\n",
       "    </tr>\n",
       "  </tbody>\n",
       "</table>\n",
       "</div>"
      ],
      "text/plain": [
       "         국   영   수\n",
       "1학년 1반  80  95  68\n",
       "    2반  91  86  64\n",
       "2학년 1반  64  87  99\n",
       "    2반  80  75  70"
      ]
     },
     "execution_count": 466,
     "metadata": {},
     "output_type": "execute_result"
    }
   ],
   "source": [
    "import pandas as pd\n",
    "\n",
    "df = pd.DataFrame(np.random.randint(50, 100, size=(4, 3)),\n",
    "            index=[['1학년', '1학년', '2학년', '2학년'], ['1반', '2반', '1반', '2반']],\n",
    "            columns=['국', '영', '수'])\n",
    "\n",
    "df"
   ]
  },
  {
   "cell_type": "code",
   "execution_count": 468,
   "metadata": {},
   "outputs": [
    {
     "data": {
      "text/html": [
       "<div>\n",
       "<style scoped>\n",
       "    .dataframe tbody tr th:only-of-type {\n",
       "        vertical-align: middle;\n",
       "    }\n",
       "\n",
       "    .dataframe tbody tr th {\n",
       "        vertical-align: top;\n",
       "    }\n",
       "\n",
       "    .dataframe thead th {\n",
       "        text-align: right;\n",
       "    }\n",
       "</style>\n",
       "<table border=\"1\" class=\"dataframe\">\n",
       "  <thead>\n",
       "    <tr style=\"text-align: right;\">\n",
       "      <th></th>\n",
       "      <th>0</th>\n",
       "      <th>1</th>\n",
       "      <th>2</th>\n",
       "    </tr>\n",
       "  </thead>\n",
       "  <tbody>\n",
       "    <tr>\n",
       "      <th>0</th>\n",
       "      <td>90</td>\n",
       "      <td>96</td>\n",
       "      <td>98</td>\n",
       "    </tr>\n",
       "    <tr>\n",
       "      <th>1</th>\n",
       "      <td>84</td>\n",
       "      <td>53</td>\n",
       "      <td>96</td>\n",
       "    </tr>\n",
       "    <tr>\n",
       "      <th>2</th>\n",
       "      <td>98</td>\n",
       "      <td>53</td>\n",
       "      <td>85</td>\n",
       "    </tr>\n",
       "    <tr>\n",
       "      <th>3</th>\n",
       "      <td>51</td>\n",
       "      <td>51</td>\n",
       "      <td>79</td>\n",
       "    </tr>\n",
       "  </tbody>\n",
       "</table>\n",
       "</div>"
      ],
      "text/plain": [
       "    0   1   2\n",
       "0  90  96  98\n",
       "1  84  53  96\n",
       "2  98  53  85\n",
       "3  51  51  79"
      ]
     },
     "execution_count": 468,
     "metadata": {},
     "output_type": "execute_result"
    }
   ],
   "source": [
    "df = pd.DataFrame(np.random.randint(50, 100, size=(4, 3)))\n",
    "\n",
    "df"
   ]
  },
  {
   "cell_type": "code",
   "execution_count": 470,
   "metadata": {},
   "outputs": [
    {
     "data": {
      "text/plain": [
       "[0, 1, 2, 3]"
      ]
     },
     "execution_count": 470,
     "metadata": {},
     "output_type": "execute_result"
    }
   ],
   "source": [
    "list(df.index)"
   ]
  },
  {
   "cell_type": "code",
   "execution_count": 471,
   "metadata": {},
   "outputs": [
    {
     "data": {
      "text/html": [
       "<div>\n",
       "<style scoped>\n",
       "    .dataframe tbody tr th:only-of-type {\n",
       "        vertical-align: middle;\n",
       "    }\n",
       "\n",
       "    .dataframe tbody tr th {\n",
       "        vertical-align: top;\n",
       "    }\n",
       "\n",
       "    .dataframe thead th {\n",
       "        text-align: right;\n",
       "    }\n",
       "</style>\n",
       "<table border=\"1\" class=\"dataframe\">\n",
       "  <thead>\n",
       "    <tr style=\"text-align: right;\">\n",
       "      <th></th>\n",
       "      <th>0</th>\n",
       "      <th>1</th>\n",
       "      <th>2</th>\n",
       "    </tr>\n",
       "  </thead>\n",
       "  <tbody>\n",
       "    <tr>\n",
       "      <th>1반</th>\n",
       "      <td>90</td>\n",
       "      <td>96</td>\n",
       "      <td>98</td>\n",
       "    </tr>\n",
       "    <tr>\n",
       "      <th>2반</th>\n",
       "      <td>84</td>\n",
       "      <td>53</td>\n",
       "      <td>96</td>\n",
       "    </tr>\n",
       "    <tr>\n",
       "      <th>3반</th>\n",
       "      <td>98</td>\n",
       "      <td>53</td>\n",
       "      <td>85</td>\n",
       "    </tr>\n",
       "    <tr>\n",
       "      <th>4반</th>\n",
       "      <td>51</td>\n",
       "      <td>51</td>\n",
       "      <td>79</td>\n",
       "    </tr>\n",
       "  </tbody>\n",
       "</table>\n",
       "</div>"
      ],
      "text/plain": [
       "     0   1   2\n",
       "1반  90  96  98\n",
       "2반  84  53  96\n",
       "3반  98  53  85\n",
       "4반  51  51  79"
      ]
     },
     "execution_count": 471,
     "metadata": {},
     "output_type": "execute_result"
    }
   ],
   "source": [
    "df.index = ['1반', '2반', '3반', '4반']\n",
    "df"
   ]
  },
  {
   "cell_type": "code",
   "execution_count": 472,
   "metadata": {},
   "outputs": [
    {
     "data": {
      "text/plain": [
       "RangeIndex(start=0, stop=3, step=1)"
      ]
     },
     "execution_count": 472,
     "metadata": {},
     "output_type": "execute_result"
    }
   ],
   "source": [
    "df.columns"
   ]
  },
  {
   "cell_type": "code",
   "execution_count": 473,
   "metadata": {},
   "outputs": [
    {
     "data": {
      "text/html": [
       "<div>\n",
       "<style scoped>\n",
       "    .dataframe tbody tr th:only-of-type {\n",
       "        vertical-align: middle;\n",
       "    }\n",
       "\n",
       "    .dataframe tbody tr th {\n",
       "        vertical-align: top;\n",
       "    }\n",
       "\n",
       "    .dataframe thead th {\n",
       "        text-align: right;\n",
       "    }\n",
       "</style>\n",
       "<table border=\"1\" class=\"dataframe\">\n",
       "  <thead>\n",
       "    <tr style=\"text-align: right;\">\n",
       "      <th></th>\n",
       "      <th>국</th>\n",
       "      <th>영</th>\n",
       "      <th>수</th>\n",
       "    </tr>\n",
       "  </thead>\n",
       "  <tbody>\n",
       "    <tr>\n",
       "      <th>1반</th>\n",
       "      <td>90</td>\n",
       "      <td>96</td>\n",
       "      <td>98</td>\n",
       "    </tr>\n",
       "    <tr>\n",
       "      <th>2반</th>\n",
       "      <td>84</td>\n",
       "      <td>53</td>\n",
       "      <td>96</td>\n",
       "    </tr>\n",
       "    <tr>\n",
       "      <th>3반</th>\n",
       "      <td>98</td>\n",
       "      <td>53</td>\n",
       "      <td>85</td>\n",
       "    </tr>\n",
       "    <tr>\n",
       "      <th>4반</th>\n",
       "      <td>51</td>\n",
       "      <td>51</td>\n",
       "      <td>79</td>\n",
       "    </tr>\n",
       "  </tbody>\n",
       "</table>\n",
       "</div>"
      ],
      "text/plain": [
       "     국   영   수\n",
       "1반  90  96  98\n",
       "2반  84  53  96\n",
       "3반  98  53  85\n",
       "4반  51  51  79"
      ]
     },
     "execution_count": 473,
     "metadata": {},
     "output_type": "execute_result"
    }
   ],
   "source": [
    "df.columns = ['국', '영', '수']\n",
    "df "
   ]
  },
  {
   "cell_type": "code",
   "execution_count": 474,
   "metadata": {},
   "outputs": [
    {
     "data": {
      "text/html": [
       "<div>\n",
       "<style scoped>\n",
       "    .dataframe tbody tr th:only-of-type {\n",
       "        vertical-align: middle;\n",
       "    }\n",
       "\n",
       "    .dataframe tbody tr th {\n",
       "        vertical-align: top;\n",
       "    }\n",
       "\n",
       "    .dataframe thead th {\n",
       "        text-align: right;\n",
       "    }\n",
       "</style>\n",
       "<table border=\"1\" class=\"dataframe\">\n",
       "  <thead>\n",
       "    <tr style=\"text-align: right;\">\n",
       "      <th></th>\n",
       "      <th></th>\n",
       "      <th>국</th>\n",
       "      <th>영</th>\n",
       "      <th>수</th>\n",
       "    </tr>\n",
       "  </thead>\n",
       "  <tbody>\n",
       "    <tr>\n",
       "      <th rowspan=\"2\" valign=\"top\">1학년</th>\n",
       "      <th>1반</th>\n",
       "      <td>90</td>\n",
       "      <td>96</td>\n",
       "      <td>98</td>\n",
       "    </tr>\n",
       "    <tr>\n",
       "      <th>2반</th>\n",
       "      <td>84</td>\n",
       "      <td>53</td>\n",
       "      <td>96</td>\n",
       "    </tr>\n",
       "    <tr>\n",
       "      <th rowspan=\"2\" valign=\"top\">2학년</th>\n",
       "      <th>1반</th>\n",
       "      <td>98</td>\n",
       "      <td>53</td>\n",
       "      <td>85</td>\n",
       "    </tr>\n",
       "    <tr>\n",
       "      <th>2반</th>\n",
       "      <td>51</td>\n",
       "      <td>51</td>\n",
       "      <td>79</td>\n",
       "    </tr>\n",
       "  </tbody>\n",
       "</table>\n",
       "</div>"
      ],
      "text/plain": [
       "         국   영   수\n",
       "1학년 1반  90  96  98\n",
       "    2반  84  53  96\n",
       "2학년 1반  98  53  85\n",
       "    2반  51  51  79"
      ]
     },
     "execution_count": 474,
     "metadata": {},
     "output_type": "execute_result"
    }
   ],
   "source": [
    "df.index = [['1학년', '1학년', '2학년', '2학년'], ['1반', '2반', '1반', '2반']]\n",
    "df"
   ]
  },
  {
   "cell_type": "code",
   "execution_count": 475,
   "metadata": {},
   "outputs": [
    {
     "data": {
      "text/html": [
       "<div>\n",
       "<style scoped>\n",
       "    .dataframe tbody tr th:only-of-type {\n",
       "        vertical-align: middle;\n",
       "    }\n",
       "\n",
       "    .dataframe tbody tr th {\n",
       "        vertical-align: top;\n",
       "    }\n",
       "\n",
       "    .dataframe thead tr th {\n",
       "        text-align: left;\n",
       "    }\n",
       "</style>\n",
       "<table border=\"1\" class=\"dataframe\">\n",
       "  <thead>\n",
       "    <tr>\n",
       "      <th></th>\n",
       "      <th></th>\n",
       "      <th colspan=\"2\" halign=\"left\">언어</th>\n",
       "      <th>수리</th>\n",
       "    </tr>\n",
       "    <tr>\n",
       "      <th></th>\n",
       "      <th></th>\n",
       "      <th>국</th>\n",
       "      <th>영</th>\n",
       "      <th>수</th>\n",
       "    </tr>\n",
       "  </thead>\n",
       "  <tbody>\n",
       "    <tr>\n",
       "      <th rowspan=\"2\" valign=\"top\">1학년</th>\n",
       "      <th>1반</th>\n",
       "      <td>90</td>\n",
       "      <td>96</td>\n",
       "      <td>98</td>\n",
       "    </tr>\n",
       "    <tr>\n",
       "      <th>2반</th>\n",
       "      <td>84</td>\n",
       "      <td>53</td>\n",
       "      <td>96</td>\n",
       "    </tr>\n",
       "    <tr>\n",
       "      <th rowspan=\"2\" valign=\"top\">2학년</th>\n",
       "      <th>1반</th>\n",
       "      <td>98</td>\n",
       "      <td>53</td>\n",
       "      <td>85</td>\n",
       "    </tr>\n",
       "    <tr>\n",
       "      <th>2반</th>\n",
       "      <td>51</td>\n",
       "      <td>51</td>\n",
       "      <td>79</td>\n",
       "    </tr>\n",
       "  </tbody>\n",
       "</table>\n",
       "</div>"
      ],
      "text/plain": [
       "        언어      수리\n",
       "         국   영   수\n",
       "1학년 1반  90  96  98\n",
       "    2반  84  53  96\n",
       "2학년 1반  98  53  85\n",
       "    2반  51  51  79"
      ]
     },
     "execution_count": 475,
     "metadata": {},
     "output_type": "execute_result"
    }
   ],
   "source": [
    "df.columns = [['언어', '언어', '수리'],['국', '영', '수']]\n",
    "\n",
    "df"
   ]
  },
  {
   "cell_type": "code",
   "execution_count": 476,
   "metadata": {},
   "outputs": [
    {
     "data": {
      "text/html": [
       "<div>\n",
       "<style scoped>\n",
       "    .dataframe tbody tr th:only-of-type {\n",
       "        vertical-align: middle;\n",
       "    }\n",
       "\n",
       "    .dataframe tbody tr th {\n",
       "        vertical-align: top;\n",
       "    }\n",
       "\n",
       "    .dataframe thead th {\n",
       "        text-align: right;\n",
       "    }\n",
       "</style>\n",
       "<table border=\"1\" class=\"dataframe\">\n",
       "  <thead>\n",
       "    <tr style=\"text-align: right;\">\n",
       "      <th></th>\n",
       "      <th></th>\n",
       "      <th>국</th>\n",
       "      <th>영</th>\n",
       "    </tr>\n",
       "  </thead>\n",
       "  <tbody>\n",
       "    <tr>\n",
       "      <th rowspan=\"2\" valign=\"top\">1학년</th>\n",
       "      <th>1반</th>\n",
       "      <td>90</td>\n",
       "      <td>96</td>\n",
       "    </tr>\n",
       "    <tr>\n",
       "      <th>2반</th>\n",
       "      <td>84</td>\n",
       "      <td>53</td>\n",
       "    </tr>\n",
       "    <tr>\n",
       "      <th rowspan=\"2\" valign=\"top\">2학년</th>\n",
       "      <th>1반</th>\n",
       "      <td>98</td>\n",
       "      <td>53</td>\n",
       "    </tr>\n",
       "    <tr>\n",
       "      <th>2반</th>\n",
       "      <td>51</td>\n",
       "      <td>51</td>\n",
       "    </tr>\n",
       "  </tbody>\n",
       "</table>\n",
       "</div>"
      ],
      "text/plain": [
       "         국   영\n",
       "1학년 1반  90  96\n",
       "    2반  84  53\n",
       "2학년 1반  98  53\n",
       "    2반  51  51"
      ]
     },
     "execution_count": 476,
     "metadata": {},
     "output_type": "execute_result"
    }
   ],
   "source": [
    "df['언어']"
   ]
  },
  {
   "cell_type": "code",
   "execution_count": 478,
   "metadata": {},
   "outputs": [
    {
     "data": {
      "text/plain": [
       "1학년  1반    90\n",
       "     2반    84\n",
       "2학년  1반    98\n",
       "     2반    51\n",
       "Name: 국, dtype: int64"
      ]
     },
     "execution_count": 478,
     "metadata": {},
     "output_type": "execute_result"
    }
   ],
   "source": [
    "df['언어']['국']"
   ]
  },
  {
   "cell_type": "code",
   "execution_count": 479,
   "metadata": {},
   "outputs": [
    {
     "data": {
      "text/html": [
       "<div>\n",
       "<style scoped>\n",
       "    .dataframe tbody tr th:only-of-type {\n",
       "        vertical-align: middle;\n",
       "    }\n",
       "\n",
       "    .dataframe tbody tr th {\n",
       "        vertical-align: top;\n",
       "    }\n",
       "\n",
       "    .dataframe thead tr th {\n",
       "        text-align: left;\n",
       "    }\n",
       "</style>\n",
       "<table border=\"1\" class=\"dataframe\">\n",
       "  <thead>\n",
       "    <tr>\n",
       "      <th></th>\n",
       "      <th></th>\n",
       "      <th colspan=\"2\" halign=\"left\">1학년</th>\n",
       "      <th colspan=\"2\" halign=\"left\">2학년</th>\n",
       "    </tr>\n",
       "    <tr>\n",
       "      <th></th>\n",
       "      <th></th>\n",
       "      <th>1반</th>\n",
       "      <th>2반</th>\n",
       "      <th>1반</th>\n",
       "      <th>2반</th>\n",
       "    </tr>\n",
       "  </thead>\n",
       "  <tbody>\n",
       "    <tr>\n",
       "      <th rowspan=\"2\" valign=\"top\">언어</th>\n",
       "      <th>국</th>\n",
       "      <td>90</td>\n",
       "      <td>84</td>\n",
       "      <td>98</td>\n",
       "      <td>51</td>\n",
       "    </tr>\n",
       "    <tr>\n",
       "      <th>영</th>\n",
       "      <td>96</td>\n",
       "      <td>53</td>\n",
       "      <td>53</td>\n",
       "      <td>51</td>\n",
       "    </tr>\n",
       "    <tr>\n",
       "      <th>수리</th>\n",
       "      <th>수</th>\n",
       "      <td>98</td>\n",
       "      <td>96</td>\n",
       "      <td>85</td>\n",
       "      <td>79</td>\n",
       "    </tr>\n",
       "  </tbody>\n",
       "</table>\n",
       "</div>"
      ],
      "text/plain": [
       "     1학년     2학년    \n",
       "      1반  2반  1반  2반\n",
       "언어 국  90  84  98  51\n",
       "   영  96  53  53  51\n",
       "수리 수  98  96  85  79"
      ]
     },
     "execution_count": 479,
     "metadata": {},
     "output_type": "execute_result"
    }
   ],
   "source": [
    "df.T"
   ]
  }
 ],
 "metadata": {
  "colab": {
   "provenance": []
  },
  "kernelspec": {
   "display_name": "Python 3 (ipykernel)",
   "language": "python",
   "name": "python3"
  },
  "language_info": {
   "codemirror_mode": {
    "name": "ipython",
    "version": 3
   },
   "file_extension": ".py",
   "mimetype": "text/x-python",
   "name": "python",
   "nbconvert_exporter": "python",
   "pygments_lexer": "ipython3",
   "version": "3.10.12"
  }
 },
 "nbformat": 4,
 "nbformat_minor": 4
}
