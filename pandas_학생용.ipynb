{
 "cells": [
  {
   "cell_type": "markdown",
   "metadata": {
    "id": "v6qhjPKW4oKp"
   },
   "source": [
    "# pandas"
   ]
  },
  {
   "cell_type": "markdown",
   "metadata": {
    "id": "BK225odl4m61"
   },
   "source": [
    "## 1 pandas란?\n",
    "\n",
    "- Python에서 사용하는 데이터를 분석하는 라이브러리\n",
    "- 행과 열을 쉽게 처리할 수 있는 함수를 제공하는 도구\n",
    "    \n",
    "    ※ 각 열은 단일 데이터 형식만 저장\n",
    "    \n",
    "- numpy보다 유연하게 수치연산 가능\n",
    "- numpy는 데이터 누락을 허락하지 않지만, pandas는 데이터 누락을 허락"
   ]
  },
  {
   "cell_type": "code",
   "execution_count": 3,
   "metadata": {},
   "outputs": [
    {
     "data": {
      "text/plain": [
       "('2.2.2', '2.0.1')"
      ]
     },
     "execution_count": 3,
     "metadata": {},
     "output_type": "execute_result"
    }
   ],
   "source": [
    "import pandas as pd\n",
    "import numpy as np\n",
    "\n",
    "pd.__version__, np.__version__"
   ]
  },
  {
   "cell_type": "markdown",
   "metadata": {
    "id": "OHzf79B562g1"
   },
   "source": [
    "## 2 Series\n",
    "\n",
    "- 인덱스와 values로 이루어진 1차원 배열\n",
    "- 모든 유형의 데이터를 보유할 수 있음\n",
    "- 인덱스를 지정해 줄 수 있음\n",
    "- 명시적 인덱스와 암묵적 인덱스를 가짐"
   ]
  },
  {
   "cell_type": "markdown",
   "metadata": {
    "id": "xVIM8_xM7Ih3"
   },
   "source": [
    "### 2.1 Series 형태\n",
    "\n",
    "- RangeIndex :  인덱스 자동 생성 "
   ]
  },
  {
   "cell_type": "markdown",
   "metadata": {
    "id": "AjzOB_1i9Z9q"
   },
   "source": [
    "* DataFrame에서 각각의 컬럼은 Series입니다.\n",
    "![](https://pandas.pydata.org/docs/_images/01_table_dataframe.svg)\n",
    "\n",
    "![](https://pandas.pydata.org/docs/_images/01_table_series.svg)"
   ]
  },
  {
   "cell_type": "code",
   "execution_count": 6,
   "metadata": {},
   "outputs": [
    {
     "data": {
      "text/plain": [
       "0    10\n",
       "1    20\n",
       "2    30\n",
       "3    40\n",
       "4    50\n",
       "5    60\n",
       "dtype: int64"
      ]
     },
     "execution_count": 6,
     "metadata": {},
     "output_type": "execute_result"
    }
   ],
   "source": [
    "data = [10, 20, 30, 40, 50, 60]\n",
    "data = pd.Series(data)\n",
    "data # 제일 첫번째 열은 index (자동 생성!)"
   ]
  },
  {
   "cell_type": "code",
   "execution_count": 11,
   "metadata": {},
   "outputs": [
    {
     "name": "stdout",
     "output_type": "stream",
     "text": [
      "10\n",
      "20\n",
      "30\n",
      "3    40\n",
      "4    50\n",
      "5    60\n",
      "dtype: int64\n",
      "5    60\n",
      "4    50\n",
      "3    40\n",
      "2    30\n",
      "1    20\n",
      "0    10\n",
      "dtype: int64\n"
     ]
    }
   ],
   "source": [
    "print(data[0])\n",
    "print(data[1])\n",
    "print(data[2])\n",
    "print(data[3:6])\n",
    "# print(data[-1])  # 이건 err\n",
    "print(data[::-1])"
   ]
  },
  {
   "cell_type": "code",
   "execution_count": 14,
   "metadata": {},
   "outputs": [
    {
     "name": "stdout",
     "output_type": "stream",
     "text": [
      "<class 'pandas.core.series.Series'>\n",
      "<class 'numpy.ndarray'>\n"
     ]
    }
   ],
   "source": [
    "print(type(data))\n",
    "print(type(data.values)) # numpy는 pandas로 이어진다!"
   ]
  },
  {
   "cell_type": "code",
   "execution_count": 16,
   "metadata": {},
   "outputs": [
    {
     "data": {
      "text/plain": [
       "RangeIndex(start=0, stop=6, step=1)"
      ]
     },
     "execution_count": 16,
     "metadata": {},
     "output_type": "execute_result"
    }
   ],
   "source": [
    "data.index  # RangeIndex는 자동으로 index가 지정되었다 라는 걸 의미함."
   ]
  },
  {
   "cell_type": "code",
   "execution_count": 24,
   "metadata": {},
   "outputs": [
    {
     "name": "stdout",
     "output_type": "stream",
     "text": [
      "a    10\n",
      "b    20\n",
      "c    30\n",
      "d    40\n",
      "e    50\n",
      "f    60\n",
      "dtype: int64\n"
     ]
    }
   ],
   "source": [
    "# 우리가 index를 지정해주고 싶다면, 같이 넣어주면 된다.\n",
    "# 우리가 설정해주더라도, 숫자 인덱스는 자동으로 있음!\n",
    "data = [10, 20, 30, 40, 50, 60]\n",
    "idx = ['a', 'b', 'c', 'd', 'e', 'f']\n",
    "\n",
    "sample = pd.Series(data,idx)\n",
    "print(sample)"
   ]
  },
  {
   "cell_type": "code",
   "execution_count": 31,
   "metadata": {},
   "outputs": [
    {
     "name": "stdout",
     "output_type": "stream",
     "text": [
      "10\n",
      "10\n"
     ]
    }
   ],
   "source": [
    "print(sample['a'])\n",
    "\n",
    "# print(sample[0]) # warning! (이후 잘못 불러올 수 있다.)\n",
    "\n",
    "# 위치 기반 찾아오고 싶으면, iloc붙여줘야함.\n",
    "print(sample.iloc[0])"
   ]
  },
  {
   "cell_type": "code",
   "execution_count": 32,
   "metadata": {},
   "outputs": [
    {
     "name": "stdout",
     "output_type": "stream",
     "text": [
      "10\n"
     ]
    }
   ],
   "source": [
    "# 잘 안 쓰지만, 이런 방법도 있다. (index관련)\n",
    "print(sample.a)  # 비추!"
   ]
  },
  {
   "cell_type": "markdown",
   "metadata": {
    "id": "KDECzTbWAQD5"
   },
   "source": [
    "### 2.2 Series의 산술 연산"
   ]
  },
  {
   "cell_type": "code",
   "execution_count": 34,
   "metadata": {},
   "outputs": [
    {
     "data": {
      "text/plain": [
       "0    10\n",
       "1    20\n",
       "2    30\n",
       "3    40\n",
       "4    50\n",
       "5    60\n",
       "dtype: int64"
      ]
     },
     "execution_count": 34,
     "metadata": {},
     "output_type": "execute_result"
    }
   ],
   "source": [
    "pd.Series([10,20,30,40,50,60])"
   ]
  },
  {
   "cell_type": "code",
   "execution_count": 35,
   "metadata": {},
   "outputs": [],
   "source": [
    "data = pd.Series([10,20,30,40,50,60])"
   ]
  },
  {
   "cell_type": "code",
   "execution_count": 37,
   "metadata": {},
   "outputs": [
    {
     "data": {
      "text/plain": [
       "0     20\n",
       "1     40\n",
       "2     60\n",
       "3     80\n",
       "4    100\n",
       "5    120\n",
       "dtype: int64"
      ]
     },
     "execution_count": 37,
     "metadata": {},
     "output_type": "execute_result"
    }
   ],
   "source": [
    "data + 100\n",
    "data - 100\n",
    "data * 10\n",
    "data / 10\n",
    "data // 10\n",
    "data % 10\n",
    "data + data"
   ]
  },
  {
   "cell_type": "code",
   "execution_count": 39,
   "metadata": {},
   "outputs": [],
   "source": [
    "data1 = pd.Series([10, 20, 30])\n",
    "data2 = pd.Series(['a','b','c'])\n",
    "\n",
    "# data1 + data2 # error"
   ]
  },
  {
   "cell_type": "code",
   "execution_count": 40,
   "metadata": {},
   "outputs": [
    {
     "data": {
      "text/plain": [
       "0    20\n",
       "1    40\n",
       "2    60\n",
       "dtype: int64"
      ]
     },
     "execution_count": 40,
     "metadata": {},
     "output_type": "execute_result"
    }
   ],
   "source": [
    "data1 = pd.Series([10, 20, 30])\n",
    "data2 = pd.Series(['10','20','30'])\n",
    "\n",
    "data1 + data2.astype('int64') # error"
   ]
  },
  {
   "cell_type": "markdown",
   "metadata": {
    "id": "FP2MUHrDCfLs"
   },
   "source": [
    "### 2.3 Series indexing , slicing, boolean indexing"
   ]
  },
  {
   "cell_type": "code",
   "execution_count": 4,
   "metadata": {},
   "outputs": [
    {
     "name": "stdout",
     "output_type": "stream",
     "text": [
      "a    10\n",
      "b    20\n",
      "c    30\n",
      "d    40\n",
      "e    50\n",
      "f    60\n",
      "dtype: int64\n"
     ]
    }
   ],
   "source": [
    "data = [10, 20, 30, 40, 50, 60]\n",
    "idx = ['a', 'b', 'c', 'd', 'e', 'f']\n",
    "\n",
    "sample = pd.Series(data,idx)\n",
    "print(sample)"
   ]
  },
  {
   "cell_type": "code",
   "execution_count": 12,
   "metadata": {},
   "outputs": [
    {
     "name": "stdout",
     "output_type": "stream",
     "text": [
      "10\n",
      "10\n",
      "a    10\n",
      "c    30\n",
      "dtype: int64\n"
     ]
    }
   ],
   "source": [
    "print(sample['a'])\n",
    "print(sample.iloc[0])\n",
    "print(sample['a':'d':2])\n"
   ]
  },
  {
   "cell_type": "code",
   "execution_count": 13,
   "metadata": {},
   "outputs": [
    {
     "name": "stdout",
     "output_type": "stream",
     "text": [
      "a    10\n",
      "b    20\n",
      "c    30\n",
      "d    40\n",
      "e    50\n",
      "f    60\n",
      "dtype: int64\n"
     ]
    }
   ],
   "source": [
    "data = [10, 20, 30, 40, 50, 60]\n",
    "idx = ['a', 'b', 'c', 'd', 'e', 'f']\n",
    "\n",
    "sample = pd.Series(data,idx)\n",
    "print(sample)"
   ]
  },
  {
   "cell_type": "code",
   "execution_count": 22,
   "metadata": {},
   "outputs": [
    {
     "data": {
      "text/plain": [
       "a    10\n",
       "b    20\n",
       "dtype: int64"
      ]
     },
     "execution_count": 22,
     "metadata": {},
     "output_type": "execute_result"
    }
   ],
   "source": [
    "sample[[True,True,False,False,False,False]]"
   ]
  },
  {
   "cell_type": "code",
   "execution_count": 24,
   "metadata": {},
   "outputs": [
    {
     "name": "stdout",
     "output_type": "stream",
     "text": [
      "[10, 20, 30, 40, 50, 60]\n"
     ]
    }
   ],
   "source": [
    "print([i for i in sample])"
   ]
  },
  {
   "cell_type": "code",
   "execution_count": 26,
   "metadata": {},
   "outputs": [],
   "source": [
    "# iterate 불가 -> error\n",
    "# for index, values in sample:\n",
    "#     print(index, value)"
   ]
  },
  {
   "cell_type": "code",
   "execution_count": 36,
   "metadata": {},
   "outputs": [
    {
     "name": "stdout",
     "output_type": "stream",
     "text": [
      "a 10\n",
      "b 20\n",
      "c 30\n",
      "d 40\n",
      "e 50\n",
      "f 60\n"
     ]
    }
   ],
   "source": [
    "for i, j in zip(sample.index, sample.values):\n",
    "    print(i,j)"
   ]
  },
  {
   "cell_type": "code",
   "execution_count": 39,
   "metadata": {},
   "outputs": [],
   "source": [
    "d = {\n",
    "    '학원' : 10,\n",
    "    '연구원' : 20,\n",
    "    '출판사' : 30,\n",
    "    '미디어사' : 40,\n",
    "    '위니브' : 50\n",
    "}\n"
   ]
  },
  {
   "cell_type": "code",
   "execution_count": 44,
   "metadata": {},
   "outputs": [
    {
     "name": "stdout",
     "output_type": "stream",
     "text": [
      "학원     10\n",
      "연구원    20\n",
      "출판사    30\n",
      "dtype: int64\n",
      "학원     10\n",
      "연구원    20\n",
      "출판사    30\n",
      "dtype: int64\n"
     ]
    }
   ],
   "source": [
    "data = pd.Series(d)\n",
    "\n",
    "print(data['학원' : '출판사'])  # 출판사까지 출력함!\n",
    "print(data[0:3])"
   ]
  },
  {
   "cell_type": "code",
   "execution_count": 46,
   "metadata": {},
   "outputs": [
    {
     "data": {
      "text/plain": [
       "학원      10\n",
       "연구원     20\n",
       "출판사     30\n",
       "미디어사    40\n",
       "위니브     50\n",
       "dtype: int64"
      ]
     },
     "execution_count": 46,
     "metadata": {},
     "output_type": "execute_result"
    }
   ],
   "source": [
    "data"
   ]
  },
  {
   "cell_type": "code",
   "execution_count": 48,
   "metadata": {},
   "outputs": [
    {
     "data": {
      "text/plain": [
       "출판사     30\n",
       "미디어사    40\n",
       "위니브     50\n",
       "dtype: int64"
      ]
     },
     "execution_count": 48,
     "metadata": {},
     "output_type": "execute_result"
    }
   ],
   "source": [
    "data[2:]"
   ]
  },
  {
   "cell_type": "code",
   "execution_count": 51,
   "metadata": {},
   "outputs": [
    {
     "data": {
      "text/plain": [
       "학원     10\n",
       "연구원    20\n",
       "출판사    30\n",
       "dtype: int64"
      ]
     },
     "execution_count": 51,
     "metadata": {},
     "output_type": "execute_result"
    }
   ],
   "source": [
    "data[:-2]"
   ]
  },
  {
   "cell_type": "code",
   "execution_count": 54,
   "metadata": {},
   "outputs": [
    {
     "data": {
      "text/plain": [
       "학원     10\n",
       "연구원    20\n",
       "출판사    30\n",
       "dtype: int64"
      ]
     },
     "execution_count": 54,
     "metadata": {},
     "output_type": "execute_result"
    }
   ],
   "source": [
    "data[0:3]"
   ]
  },
  {
   "cell_type": "code",
   "execution_count": 56,
   "metadata": {},
   "outputs": [
    {
     "data": {
      "text/plain": [
       "연구원     20\n",
       "미디어사    40\n",
       "dtype: int64"
      ]
     },
     "execution_count": 56,
     "metadata": {},
     "output_type": "execute_result"
    }
   ],
   "source": [
    "data[-4::2]"
   ]
  },
  {
   "cell_type": "code",
   "execution_count": 61,
   "metadata": {},
   "outputs": [
    {
     "data": {
      "text/plain": [
       "2016년     200\n",
       "2020년    3000\n",
       "dtype: int64"
      ]
     },
     "execution_count": 61,
     "metadata": {},
     "output_type": "execute_result"
    }
   ],
   "source": [
    "d = {\n",
    "    '2015년':100,\n",
    "    '2016년':200,\n",
    "    '2017년':300,\n",
    "    '2018년':400,\n",
    "    '2019년':1100,\n",
    "    '2020년':3000,\n",
    "    '2021년':6000,\n",
    "    '2022년':9000,\n",
    "}\n",
    "\n",
    "pd.Series(d, index=['2016년', '2020년'])"
   ]
  },
  {
   "cell_type": "markdown",
   "metadata": {
    "id": "nLmVStVeG5HU"
   },
   "source": [
    "### 2.4 Series에 key, value, index\n",
    "\n",
    "- index\n",
    "    - Series, DataFrame의 레코드를 식별\n",
    "    - 집합 연산이 가능\n",
    "- loc :  인덱스를 기반으로 행 데이터를 읽음 (행 번호를 loc하면 warning)\n",
    "- iloc :  행 번호를 기반으로 행 데이터를 읽음\n",
    "- items() : key와 value를 튜플로 묶어서 리턴\n",
    "- 팬시 인덱싱(fancy indexing) : 스칼라 대신 인덱스 배열을 사용한 인덱싱"
   ]
  },
  {
   "cell_type": "code",
   "execution_count": 65,
   "metadata": {},
   "outputs": [
    {
     "data": {
      "text/plain": [
       "a    10\n",
       "b    20\n",
       "c    30\n",
       "d    40\n",
       "e    50\n",
       "f    60\n",
       "dtype: int64"
      ]
     },
     "execution_count": 65,
     "metadata": {},
     "output_type": "execute_result"
    }
   ],
   "source": [
    "data = [10, 20, 30, 40, 50, 60]\n",
    "index = ['a', 'b', 'c', 'd', 'e', 'f']\n",
    "s = pd.Series(data, index)\n",
    "s"
   ]
  },
  {
   "cell_type": "code",
   "execution_count": 76,
   "metadata": {},
   "outputs": [
    {
     "name": "stdout",
     "output_type": "stream",
     "text": [
      "True\n",
      "False\n"
     ]
    }
   ],
   "source": [
    "print('a' in s) \n",
    "print(40 in s)  # index만 감지함."
   ]
  },
  {
   "cell_type": "code",
   "execution_count": 69,
   "metadata": {},
   "outputs": [
    {
     "data": {
      "text/plain": [
       "Index(['a', 'b', 'c', 'd', 'e', 'f'], dtype='object')"
      ]
     },
     "execution_count": 69,
     "metadata": {},
     "output_type": "execute_result"
    }
   ],
   "source": [
    "# keys - items 관계! (java/c계열은 key-value 관계)\n",
    "s.keys()"
   ]
  },
  {
   "cell_type": "code",
   "execution_count": 71,
   "metadata": {},
   "outputs": [],
   "source": [
    "# s.values()  # err"
   ]
  },
  {
   "cell_type": "code",
   "execution_count": 77,
   "metadata": {},
   "outputs": [
    {
     "data": {
      "text/plain": [
       "[('a', 10), ('b', 20), ('c', 30), ('d', 40), ('e', 50), ('f', 60)]"
      ]
     },
     "execution_count": 77,
     "metadata": {},
     "output_type": "execute_result"
    }
   ],
   "source": [
    "list(s.items())"
   ]
  },
  {
   "cell_type": "code",
   "execution_count": 82,
   "metadata": {},
   "outputs": [
    {
     "name": "stdout",
     "output_type": "stream",
     "text": [
      "10\n",
      "a    10\n",
      "b    20\n",
      "c    30\n",
      "d    40\n",
      "dtype: int64\n"
     ]
    }
   ],
   "source": [
    "# s.loc('a') # err\n",
    "print(s.loc['a'])  # index 입력하지 않아, 숫자가 자동으로 들어간 경우, 숫자 사용ㅅ\n",
    "print(s.loc['a':'d'])"
   ]
  },
  {
   "cell_type": "code",
   "execution_count": 87,
   "metadata": {},
   "outputs": [
    {
     "data": {
      "text/plain": [
       "a    10\n",
       "b    20\n",
       "c    30\n",
       "dtype: int64"
      ]
     },
     "execution_count": 87,
     "metadata": {},
     "output_type": "execute_result"
    }
   ],
   "source": [
    "s.iloc[0]  # loc, iloc는 index/key로 item을 보는 거니까, []사용\n",
    "s.iloc[0:3]"
   ]
  },
  {
   "cell_type": "code",
   "execution_count": 111,
   "metadata": {},
   "outputs": [
    {
     "data": {
      "text/plain": [
       "1     10\n",
       "3     20\n",
       "5     30\n",
       "7     40\n",
       "9     50\n",
       "11    60\n",
       "dtype: int64"
      ]
     },
     "execution_count": 111,
     "metadata": {},
     "output_type": "execute_result"
    }
   ],
   "source": [
    "data = [10, 20, 30, 40, 50, 60]\n",
    "index = [1,3,5,7,9,11]\n",
    "s = pd.Series(data, index)\n",
    "s"
   ]
  },
  {
   "cell_type": "code",
   "execution_count": 112,
   "metadata": {},
   "outputs": [
    {
     "data": {
      "text/plain": [
       "7    40\n",
       "9    50\n",
       "dtype: int64"
      ]
     },
     "execution_count": 112,
     "metadata": {},
     "output_type": "execute_result"
    }
   ],
   "source": [
    "# 난 index 3:5를 뽑고 싶은데,,,\n",
    "# 뭔가 의미가 중의적이야,,\n",
    "s[3:5]  "
   ]
  },
  {
   "cell_type": "code",
   "execution_count": 114,
   "metadata": {},
   "outputs": [
    {
     "name": "stdout",
     "output_type": "stream",
     "text": [
      "1     10\n",
      "3     20\n",
      "5     30\n",
      "7     40\n",
      "9     50\n",
      "11    60\n",
      "dtype: int64 \n",
      "\n",
      "7    40\n",
      "9    50\n",
      "dtype: int64\n",
      "7    40\n",
      "9    50\n",
      "dtype: int64\n",
      "3    20\n",
      "5    30\n",
      "dtype: int64\n"
     ]
    }
   ],
   "source": [
    "# 명시적으로 알 수 있도록, loc, iloc 사용해.\n",
    "print(s, \"\\n\")\n",
    "\n",
    "# location으로 빼오기\n",
    "print(s[3:5])\n",
    "print(s.iloc[3:5])  # iloc : base index locate (자동 index)\n",
    "\n",
    "# index로 빼오기\n",
    "print(s.loc[3:5])  # loc: 설정해준 index로 불러기 (명시적인 index)\n",
    "\n",
    "# print(s.iloc[3:5])   # 위치 기반\n",
    "# s.loc[3:5]    # index기반"
   ]
  },
  {
   "cell_type": "code",
   "execution_count": 124,
   "metadata": {},
   "outputs": [
    {
     "data": {
      "text/plain": [
       "a    10\n",
       "b    20\n",
       "c    30\n",
       "d    40\n",
       "e    50\n",
       "dtype: int64"
      ]
     },
     "execution_count": 124,
     "metadata": {},
     "output_type": "execute_result"
    }
   ],
   "source": [
    "# 팬시 인덱싱\n",
    "data = [10, 20, 30, 40, 50]\n",
    "index = ['a', 'b', 'c', 'd', 'e']\n",
    "\n",
    "# s = pd.Series(index, data)\n",
    "s = pd.Series(data, index)  # data를 index로 엮을 거다. 라는 순서!\n",
    "s"
   ]
  },
  {
   "cell_type": "code",
   "execution_count": 122,
   "metadata": {},
   "outputs": [
    {
     "data": {
      "text/plain": [
       "a    10\n",
       "d    40\n",
       "dtype: int64"
      ]
     },
     "execution_count": 122,
     "metadata": {},
     "output_type": "execute_result"
    }
   ],
   "source": [
    "s[['a', 'd']]"
   ]
  },
  {
   "cell_type": "markdown",
   "metadata": {
    "id": "ZnBpz2DbNb3W"
   },
   "source": [
    "### 2.5 결측값(NaN, None) 처리\n",
    "\n",
    "1. NaN\n",
    "    - 자료형이 Float\n",
    "    - 배열에서 연산할 경우 오류가 발생하지 않지만  결과값이 NaN이 됨\n",
    "        - numpy : nan\n",
    "        - pandas : 연산가능\n",
    "2. None \n",
    "    - 자료형이 None\n",
    "    - 배열 연산을 할 경우 오류가 발생\n",
    "        - numpy : error\n",
    "        - pandas : 연산가능\n",
    "\n",
    "3.  처리방법 \n",
    "\n",
    "    - isnull() : 결측값 확인 (결측 이면  True , 결측이 아니면  False )\n",
    "    - notnull() : 결측값 확인 (결측 이면  False , 결측이 아니면  True )\n",
    "    - dropna() : 결측값을 삭제\n",
    "        - axis=0 : 행 삭제 / axis=1 : 열 삭제\n",
    "        - inplace = True : drop후 원본에 반영\n",
    "    - fillna(Num) : 결측을 Num 으로 채워 넣음"
   ]
  },
  {
   "cell_type": "markdown",
   "metadata": {
    "id": "3sHZdxo1IaE0"
   },
   "source": [
    "### 2.6 multiIndex\n",
    "\n",
    "* 다중 인덱스입니다."
   ]
  },
  {
   "cell_type": "markdown",
   "metadata": {
    "id": "juAG6Ui6TPEB"
   },
   "source": [
    "### 2.7 연산 함수와 집계 함수\n",
    "\n",
    "- 연산 함수\n",
    "    - add : 더하기 연산 함수\n",
    "    - sub : 빼기 연산 함수\n",
    "    - mul : 곱하기 연산 함수\n",
    "    - floordiv : 나누었을 때 몫을 구하는 함수\n",
    "    - div : 나누기 연산 함수\n",
    "    - mod : 나머지 구하는 연산 함수\n",
    "    - pow : 거듭제곱 연산 함수\n",
    "\n",
    "- 집계 함수\n",
    "    - count : 데이터 개수 구하는 함수\n",
    "    - min : 최소값 구하는 함수\n",
    "    - max  : 최대값 구하는 함수\n",
    "    - mean : 평균 구하는 함수\n",
    "    - median : 중앙값 구하는 함수\n",
    "    - std : 표준편차 구하는 함수\n",
    "    - var : 분산 구하는 함수\n",
    "    - mad : 절대 표준편차 구하는 함수\n",
    "    - describe : 기초 통계를 한 번에 볼 수 있는 함수"
   ]
  },
  {
   "cell_type": "markdown",
   "metadata": {
    "id": "OIc4Cxv3YgTg"
   },
   "source": [
    "### 2.8 데이터 결합\n",
    "\n",
    "- concat : 데이터 프레임이나 시리즈의 결합\n",
    "    - axis=0 or 1 : 아래로 데이터 연결 / 옆으로 데이터 연결\n",
    "    - verify_integrity=True일 때, 인덱스의 중복이 존재하면 error 출력\n",
    "    - ignore_index : 기존의 인덱스를 무시하고 차례대로 인덱스 출력\n",
    "    - join='inner' : 결합하는 데이터들의 공통 부분만 출력\n",
    "    - join='outer' : 결합하는 데이터들의 모든 값 출력\n",
    "- append : 마지막 행에 데이터를 추가\n",
    "\n",
    "※ concatenate : 배열 결합"
   ]
  },
  {
   "cell_type": "markdown",
   "metadata": {
    "id": "p0FLVh_LgEQg"
   },
   "source": [
    "## 3 DataFrame\n",
    "\n",
    "- 다차원 배열(Series의 특성을 가지고 있는 2차원 배열)\n",
    "- 가장 기본적인 데이터 구조"
   ]
  },
  {
   "cell_type": "markdown",
   "metadata": {
    "id": "KnRC6DjXgOO_"
   },
   "source": [
    "### 3.1 DataFrame의 형태"
   ]
  },
  {
   "cell_type": "markdown",
   "metadata": {
    "id": "vw4uXrgdgvmG"
   },
   "source": [
    "```\n",
    "연차  연도      매출    순익   직원수\n",
    "1     2015   1000000  100001        1\n",
    "2     2016   2000000  200001        2\n",
    "3     2017   3000000  300001        4\n",
    "4     2018   4000000  400001        8\n",
    "5     2019   8000000  800001       16\n",
    "6     2020  16000000 1600001       32\n",
    "```"
   ]
  },
  {
   "cell_type": "code",
   "execution_count": null,
   "metadata": {
    "id": "L045GJOWgJGW"
   },
   "outputs": [],
   "source": [
    "rawData = {\n",
    "    '연차':[1, 2, 3, 4, 5, 6],\n",
    "    '연도':[2015, 2016, 2017, 2018, 2019, 2020],\n",
    "    '매출':[1000000, 2000000, 3000000, 4000000, 8000000, 16000000],\n",
    "    '순익':[100001, 200001, 300001, 400001, 800001, 1600001],\n",
    "    '직원수':[1, 2, 4, 8, 16, 32]\n",
    "}"
   ]
  },
  {
   "cell_type": "code",
   "execution_count": null,
   "metadata": {
    "colab": {
     "base_uri": "https://localhost:8080/",
     "height": 237
    },
    "id": "WI__NIEUg9Ok",
    "outputId": "ebf2f371-eb93-4c0b-9f49-26779fc4eb6d"
   },
   "outputs": [
    {
     "data": {
      "text/html": [
       "\n",
       "  <div id=\"df-3b728dc8-ae94-4267-91a8-9e1f636cba77\">\n",
       "    <div class=\"colab-df-container\">\n",
       "      <div>\n",
       "<style scoped>\n",
       "    .dataframe tbody tr th:only-of-type {\n",
       "        vertical-align: middle;\n",
       "    }\n",
       "\n",
       "    .dataframe tbody tr th {\n",
       "        vertical-align: top;\n",
       "    }\n",
       "\n",
       "    .dataframe thead th {\n",
       "        text-align: right;\n",
       "    }\n",
       "</style>\n",
       "<table border=\"1\" class=\"dataframe\">\n",
       "  <thead>\n",
       "    <tr style=\"text-align: right;\">\n",
       "      <th></th>\n",
       "      <th>연차</th>\n",
       "      <th>연도</th>\n",
       "      <th>매출</th>\n",
       "      <th>순익</th>\n",
       "      <th>직원수</th>\n",
       "    </tr>\n",
       "  </thead>\n",
       "  <tbody>\n",
       "    <tr>\n",
       "      <th>0</th>\n",
       "      <td>1</td>\n",
       "      <td>2015</td>\n",
       "      <td>1000000</td>\n",
       "      <td>100001</td>\n",
       "      <td>1</td>\n",
       "    </tr>\n",
       "    <tr>\n",
       "      <th>1</th>\n",
       "      <td>2</td>\n",
       "      <td>2016</td>\n",
       "      <td>2000000</td>\n",
       "      <td>200001</td>\n",
       "      <td>2</td>\n",
       "    </tr>\n",
       "    <tr>\n",
       "      <th>2</th>\n",
       "      <td>3</td>\n",
       "      <td>2017</td>\n",
       "      <td>3000000</td>\n",
       "      <td>300001</td>\n",
       "      <td>4</td>\n",
       "    </tr>\n",
       "    <tr>\n",
       "      <th>3</th>\n",
       "      <td>4</td>\n",
       "      <td>2018</td>\n",
       "      <td>4000000</td>\n",
       "      <td>400001</td>\n",
       "      <td>8</td>\n",
       "    </tr>\n",
       "    <tr>\n",
       "      <th>4</th>\n",
       "      <td>5</td>\n",
       "      <td>2019</td>\n",
       "      <td>8000000</td>\n",
       "      <td>800001</td>\n",
       "      <td>16</td>\n",
       "    </tr>\n",
       "    <tr>\n",
       "      <th>5</th>\n",
       "      <td>6</td>\n",
       "      <td>2020</td>\n",
       "      <td>16000000</td>\n",
       "      <td>1600001</td>\n",
       "      <td>32</td>\n",
       "    </tr>\n",
       "  </tbody>\n",
       "</table>\n",
       "</div>\n",
       "      <button class=\"colab-df-convert\" onclick=\"convertToInteractive('df-3b728dc8-ae94-4267-91a8-9e1f636cba77')\"\n",
       "              title=\"Convert this dataframe to an interactive table.\"\n",
       "              style=\"display:none;\">\n",
       "        \n",
       "  <svg xmlns=\"http://www.w3.org/2000/svg\" height=\"24px\"viewBox=\"0 0 24 24\"\n",
       "       width=\"24px\">\n",
       "    <path d=\"M0 0h24v24H0V0z\" fill=\"none\"/>\n",
       "    <path d=\"M18.56 5.44l.94 2.06.94-2.06 2.06-.94-2.06-.94-.94-2.06-.94 2.06-2.06.94zm-11 1L8.5 8.5l.94-2.06 2.06-.94-2.06-.94L8.5 2.5l-.94 2.06-2.06.94zm10 10l.94 2.06.94-2.06 2.06-.94-2.06-.94-.94-2.06-.94 2.06-2.06.94z\"/><path d=\"M17.41 7.96l-1.37-1.37c-.4-.4-.92-.59-1.43-.59-.52 0-1.04.2-1.43.59L10.3 9.45l-7.72 7.72c-.78.78-.78 2.05 0 2.83L4 21.41c.39.39.9.59 1.41.59.51 0 1.02-.2 1.41-.59l7.78-7.78 2.81-2.81c.8-.78.8-2.07 0-2.86zM5.41 20L4 18.59l7.72-7.72 1.47 1.35L5.41 20z\"/>\n",
       "  </svg>\n",
       "      </button>\n",
       "      \n",
       "  <style>\n",
       "    .colab-df-container {\n",
       "      display:flex;\n",
       "      flex-wrap:wrap;\n",
       "      gap: 12px;\n",
       "    }\n",
       "\n",
       "    .colab-df-convert {\n",
       "      background-color: #E8F0FE;\n",
       "      border: none;\n",
       "      border-radius: 50%;\n",
       "      cursor: pointer;\n",
       "      display: none;\n",
       "      fill: #1967D2;\n",
       "      height: 32px;\n",
       "      padding: 0 0 0 0;\n",
       "      width: 32px;\n",
       "    }\n",
       "\n",
       "    .colab-df-convert:hover {\n",
       "      background-color: #E2EBFA;\n",
       "      box-shadow: 0px 1px 2px rgba(60, 64, 67, 0.3), 0px 1px 3px 1px rgba(60, 64, 67, 0.15);\n",
       "      fill: #174EA6;\n",
       "    }\n",
       "\n",
       "    [theme=dark] .colab-df-convert {\n",
       "      background-color: #3B4455;\n",
       "      fill: #D2E3FC;\n",
       "    }\n",
       "\n",
       "    [theme=dark] .colab-df-convert:hover {\n",
       "      background-color: #434B5C;\n",
       "      box-shadow: 0px 1px 3px 1px rgba(0, 0, 0, 0.15);\n",
       "      filter: drop-shadow(0px 1px 2px rgba(0, 0, 0, 0.3));\n",
       "      fill: #FFFFFF;\n",
       "    }\n",
       "  </style>\n",
       "\n",
       "      <script>\n",
       "        const buttonEl =\n",
       "          document.querySelector('#df-3b728dc8-ae94-4267-91a8-9e1f636cba77 button.colab-df-convert');\n",
       "        buttonEl.style.display =\n",
       "          google.colab.kernel.accessAllowed ? 'block' : 'none';\n",
       "\n",
       "        async function convertToInteractive(key) {\n",
       "          const element = document.querySelector('#df-3b728dc8-ae94-4267-91a8-9e1f636cba77');\n",
       "          const dataTable =\n",
       "            await google.colab.kernel.invokeFunction('convertToInteractive',\n",
       "                                                     [key], {});\n",
       "          if (!dataTable) return;\n",
       "\n",
       "          const docLinkHtml = 'Like what you see? Visit the ' +\n",
       "            '<a target=\"_blank\" href=https://colab.research.google.com/notebooks/data_table.ipynb>data table notebook</a>'\n",
       "            + ' to learn more about interactive tables.';\n",
       "          element.innerHTML = '';\n",
       "          dataTable['output_type'] = 'display_data';\n",
       "          await google.colab.output.renderOutput(dataTable, element);\n",
       "          const docLink = document.createElement('div');\n",
       "          docLink.innerHTML = docLinkHtml;\n",
       "          element.appendChild(docLink);\n",
       "        }\n",
       "      </script>\n",
       "    </div>\n",
       "  </div>\n",
       "  "
      ],
      "text/plain": [
       "   연차    연도        매출       순익  직원수\n",
       "0   1  2015   1000000   100001    1\n",
       "1   2  2016   2000000   200001    2\n",
       "2   3  2017   3000000   300001    4\n",
       "3   4  2018   4000000   400001    8\n",
       "4   5  2019   8000000   800001   16\n",
       "5   6  2020  16000000  1600001   32"
      ]
     },
     "execution_count": 86,
     "metadata": {},
     "output_type": "execute_result"
    }
   ],
   "source": [
    "pd.DataFrame(rawData)"
   ]
  },
  {
   "cell_type": "code",
   "execution_count": null,
   "metadata": {
    "colab": {
     "base_uri": "https://localhost:8080/"
    },
    "id": "2kgpJeAJjCT2",
    "outputId": "17468f74-d203-4e3e-cb90-2241e0c3d109"
   },
   "outputs": [
    {
     "name": "stdout",
     "output_type": "stream",
     "text": [
      "Writing rawData.csv\n"
     ]
    }
   ],
   "source": [
    "%%writefile rawData.csv\n",
    "1, 2, 3, 4, 5, 6, 7\n",
    "연차,1, 2, 3, 4, 5, 6\n",
    "연도,2015, 2016, 2017, 2018, 2019, 2020\n",
    "매출,1000000, 2000000, 3000000, 4000000, 8000000, 16000000\n",
    "순익,100001, 200001, 300001, 400001, 800001, 1600001\n",
    "직원수,1, 2, 4, 8, 16, 32"
   ]
  },
  {
   "cell_type": "markdown",
   "metadata": {
    "id": "w6aPMnakjoSJ"
   },
   "source": [
    "![](https://pandas.pydata.org/docs/_images/02_io_readwrite.svg)"
   ]
  },
  {
   "cell_type": "code",
   "execution_count": null,
   "metadata": {
    "colab": {
     "base_uri": "https://localhost:8080/",
     "height": 206
    },
    "id": "JB8NkQOqjHpr",
    "outputId": "b7ee5331-18b4-454f-9152-cc704306b920"
   },
   "outputs": [
    {
     "data": {
      "text/html": [
       "\n",
       "  <div id=\"df-b2697454-4c8c-4876-86cb-703a10ef78a1\">\n",
       "    <div class=\"colab-df-container\">\n",
       "      <div>\n",
       "<style scoped>\n",
       "    .dataframe tbody tr th:only-of-type {\n",
       "        vertical-align: middle;\n",
       "    }\n",
       "\n",
       "    .dataframe tbody tr th {\n",
       "        vertical-align: top;\n",
       "    }\n",
       "\n",
       "    .dataframe thead th {\n",
       "        text-align: right;\n",
       "    }\n",
       "</style>\n",
       "<table border=\"1\" class=\"dataframe\">\n",
       "  <thead>\n",
       "    <tr style=\"text-align: right;\">\n",
       "      <th></th>\n",
       "      <th>1</th>\n",
       "      <th>2</th>\n",
       "      <th>3</th>\n",
       "      <th>4</th>\n",
       "      <th>5</th>\n",
       "      <th>6</th>\n",
       "      <th>7</th>\n",
       "    </tr>\n",
       "  </thead>\n",
       "  <tbody>\n",
       "    <tr>\n",
       "      <th>0</th>\n",
       "      <td>연차</td>\n",
       "      <td>1</td>\n",
       "      <td>2</td>\n",
       "      <td>3</td>\n",
       "      <td>4</td>\n",
       "      <td>5</td>\n",
       "      <td>6</td>\n",
       "    </tr>\n",
       "    <tr>\n",
       "      <th>1</th>\n",
       "      <td>연도</td>\n",
       "      <td>2015</td>\n",
       "      <td>2016</td>\n",
       "      <td>2017</td>\n",
       "      <td>2018</td>\n",
       "      <td>2019</td>\n",
       "      <td>2020</td>\n",
       "    </tr>\n",
       "    <tr>\n",
       "      <th>2</th>\n",
       "      <td>매출</td>\n",
       "      <td>1000000</td>\n",
       "      <td>2000000</td>\n",
       "      <td>3000000</td>\n",
       "      <td>4000000</td>\n",
       "      <td>8000000</td>\n",
       "      <td>16000000</td>\n",
       "    </tr>\n",
       "    <tr>\n",
       "      <th>3</th>\n",
       "      <td>순익</td>\n",
       "      <td>100001</td>\n",
       "      <td>200001</td>\n",
       "      <td>300001</td>\n",
       "      <td>400001</td>\n",
       "      <td>800001</td>\n",
       "      <td>1600001</td>\n",
       "    </tr>\n",
       "    <tr>\n",
       "      <th>4</th>\n",
       "      <td>직원수</td>\n",
       "      <td>1</td>\n",
       "      <td>2</td>\n",
       "      <td>4</td>\n",
       "      <td>8</td>\n",
       "      <td>16</td>\n",
       "      <td>32</td>\n",
       "    </tr>\n",
       "  </tbody>\n",
       "</table>\n",
       "</div>\n",
       "      <button class=\"colab-df-convert\" onclick=\"convertToInteractive('df-b2697454-4c8c-4876-86cb-703a10ef78a1')\"\n",
       "              title=\"Convert this dataframe to an interactive table.\"\n",
       "              style=\"display:none;\">\n",
       "        \n",
       "  <svg xmlns=\"http://www.w3.org/2000/svg\" height=\"24px\"viewBox=\"0 0 24 24\"\n",
       "       width=\"24px\">\n",
       "    <path d=\"M0 0h24v24H0V0z\" fill=\"none\"/>\n",
       "    <path d=\"M18.56 5.44l.94 2.06.94-2.06 2.06-.94-2.06-.94-.94-2.06-.94 2.06-2.06.94zm-11 1L8.5 8.5l.94-2.06 2.06-.94-2.06-.94L8.5 2.5l-.94 2.06-2.06.94zm10 10l.94 2.06.94-2.06 2.06-.94-2.06-.94-.94-2.06-.94 2.06-2.06.94z\"/><path d=\"M17.41 7.96l-1.37-1.37c-.4-.4-.92-.59-1.43-.59-.52 0-1.04.2-1.43.59L10.3 9.45l-7.72 7.72c-.78.78-.78 2.05 0 2.83L4 21.41c.39.39.9.59 1.41.59.51 0 1.02-.2 1.41-.59l7.78-7.78 2.81-2.81c.8-.78.8-2.07 0-2.86zM5.41 20L4 18.59l7.72-7.72 1.47 1.35L5.41 20z\"/>\n",
       "  </svg>\n",
       "      </button>\n",
       "      \n",
       "  <style>\n",
       "    .colab-df-container {\n",
       "      display:flex;\n",
       "      flex-wrap:wrap;\n",
       "      gap: 12px;\n",
       "    }\n",
       "\n",
       "    .colab-df-convert {\n",
       "      background-color: #E8F0FE;\n",
       "      border: none;\n",
       "      border-radius: 50%;\n",
       "      cursor: pointer;\n",
       "      display: none;\n",
       "      fill: #1967D2;\n",
       "      height: 32px;\n",
       "      padding: 0 0 0 0;\n",
       "      width: 32px;\n",
       "    }\n",
       "\n",
       "    .colab-df-convert:hover {\n",
       "      background-color: #E2EBFA;\n",
       "      box-shadow: 0px 1px 2px rgba(60, 64, 67, 0.3), 0px 1px 3px 1px rgba(60, 64, 67, 0.15);\n",
       "      fill: #174EA6;\n",
       "    }\n",
       "\n",
       "    [theme=dark] .colab-df-convert {\n",
       "      background-color: #3B4455;\n",
       "      fill: #D2E3FC;\n",
       "    }\n",
       "\n",
       "    [theme=dark] .colab-df-convert:hover {\n",
       "      background-color: #434B5C;\n",
       "      box-shadow: 0px 1px 3px 1px rgba(0, 0, 0, 0.15);\n",
       "      filter: drop-shadow(0px 1px 2px rgba(0, 0, 0, 0.3));\n",
       "      fill: #FFFFFF;\n",
       "    }\n",
       "  </style>\n",
       "\n",
       "      <script>\n",
       "        const buttonEl =\n",
       "          document.querySelector('#df-b2697454-4c8c-4876-86cb-703a10ef78a1 button.colab-df-convert');\n",
       "        buttonEl.style.display =\n",
       "          google.colab.kernel.accessAllowed ? 'block' : 'none';\n",
       "\n",
       "        async function convertToInteractive(key) {\n",
       "          const element = document.querySelector('#df-b2697454-4c8c-4876-86cb-703a10ef78a1');\n",
       "          const dataTable =\n",
       "            await google.colab.kernel.invokeFunction('convertToInteractive',\n",
       "                                                     [key], {});\n",
       "          if (!dataTable) return;\n",
       "\n",
       "          const docLinkHtml = 'Like what you see? Visit the ' +\n",
       "            '<a target=\"_blank\" href=https://colab.research.google.com/notebooks/data_table.ipynb>data table notebook</a>'\n",
       "            + ' to learn more about interactive tables.';\n",
       "          element.innerHTML = '';\n",
       "          dataTable['output_type'] = 'display_data';\n",
       "          await google.colab.output.renderOutput(dataTable, element);\n",
       "          const docLink = document.createElement('div');\n",
       "          docLink.innerHTML = docLinkHtml;\n",
       "          element.appendChild(docLink);\n",
       "        }\n",
       "      </script>\n",
       "    </div>\n",
       "  </div>\n",
       "  "
      ],
      "text/plain": [
       "     1        2        3        4        5        6         7\n",
       "0   연차        1        2        3        4        5         6\n",
       "1   연도     2015     2016     2017     2018     2019      2020\n",
       "2   매출  1000000  2000000  3000000  4000000  8000000  16000000\n",
       "3   순익   100001   200001   300001   400001   800001   1600001\n",
       "4  직원수        1        2        4        8       16        32"
      ]
     },
     "execution_count": 103,
     "metadata": {},
     "output_type": "execute_result"
    }
   ],
   "source": [
    "pd.read_csv('rawData.csv')"
   ]
  },
  {
   "cell_type": "code",
   "execution_count": null,
   "metadata": {
    "id": "-IGiUF8cj7MV"
   },
   "outputs": [],
   "source": [
    "df = pd.read_html('https://ko.wikipedia.org/wiki/%EB%8C%80%ED%95%9C%EB%AF%BC%EA%B5%AD%EC%9D%98_%EC%9D%B8%EA%B5%AC')"
   ]
  },
  {
   "cell_type": "markdown",
   "metadata": {
    "id": "lJ5UHx34lgkI"
   },
   "source": [
    "## 4 DataFrame에 데이터 활용"
   ]
  },
  {
   "cell_type": "markdown",
   "metadata": {
    "id": "Z2G1-ksel2PJ"
   },
   "source": [
    "### 4.1 데이터 사전 분석\n",
    "\n",
    "- info() : DataFrame을 구성하는 행과 열에 대한 정보를 나타내 주는 함수\n",
    "- head(n) : DataFrame의 처음부터 n줄의 행을 출력\n",
    "- tail(n) : DataFrame의 마지막 n줄의 행을 출력\n",
    "- describe() : Series, DataFrame의 각 열에 대한 요약 통계\n",
    "- dtypes : 데이터 자료형 확인"
   ]
  },
  {
   "cell_type": "markdown",
   "metadata": {
    "id": "6cKZZXRzl8jZ"
   },
   "source": [
    "### 4.2 DataFrame에 데이터 조작\n",
    "\n",
    "- np.nan : NaN으로 값을 채움\n",
    "- drop : 컬럼 삭제\n",
    "    - inplace = True : drop후 원본에 반영\n",
    "- pd.to_numeric() : 문자형을 숫자형으로 변환"
   ]
  },
  {
   "cell_type": "code",
   "execution_count": null,
   "metadata": {
    "id": "fn90-Fc3l3Ze"
   },
   "outputs": [],
   "source": [
    "rawData = {\n",
    "    '연차':[1, 2, 3, 4, 5, 6],\n",
    "    '연도':[2015, 2016, 2017, 2018, 2019, 2020],\n",
    "    '매출':[1000000, 2000000, 3000000, 4000000, 8000000, 16000000],\n",
    "    '순익':[100001, 200001, 300001, 400001, 800001, 1600001],\n",
    "    '직원수':[1, 2, 4, 8, 16, 32]\n",
    "}\n",
    "\n",
    "df = pd.DataFrame(rawData)"
   ]
  },
  {
   "cell_type": "code",
   "execution_count": null,
   "metadata": {
    "colab": {
     "base_uri": "https://localhost:8080/",
     "height": 237
    },
    "id": "TSFlNGpYmrg6",
    "outputId": "b9c9786a-3606-45cf-8ca4-19bdda82e599"
   },
   "outputs": [
    {
     "data": {
      "text/html": [
       "\n",
       "  <div id=\"df-dec2f64c-0eac-4081-861f-ae35d8aa1df8\">\n",
       "    <div class=\"colab-df-container\">\n",
       "      <div>\n",
       "<style scoped>\n",
       "    .dataframe tbody tr th:only-of-type {\n",
       "        vertical-align: middle;\n",
       "    }\n",
       "\n",
       "    .dataframe tbody tr th {\n",
       "        vertical-align: top;\n",
       "    }\n",
       "\n",
       "    .dataframe thead th {\n",
       "        text-align: right;\n",
       "    }\n",
       "</style>\n",
       "<table border=\"1\" class=\"dataframe\">\n",
       "  <thead>\n",
       "    <tr style=\"text-align: right;\">\n",
       "      <th></th>\n",
       "      <th>연차</th>\n",
       "      <th>연도</th>\n",
       "      <th>매출</th>\n",
       "      <th>순익</th>\n",
       "      <th>직원수</th>\n",
       "    </tr>\n",
       "  </thead>\n",
       "  <tbody>\n",
       "    <tr>\n",
       "      <th>0</th>\n",
       "      <td>1</td>\n",
       "      <td>2015</td>\n",
       "      <td>1000000</td>\n",
       "      <td>100001</td>\n",
       "      <td>1</td>\n",
       "    </tr>\n",
       "    <tr>\n",
       "      <th>1</th>\n",
       "      <td>2</td>\n",
       "      <td>2016</td>\n",
       "      <td>2000000</td>\n",
       "      <td>200001</td>\n",
       "      <td>2</td>\n",
       "    </tr>\n",
       "    <tr>\n",
       "      <th>2</th>\n",
       "      <td>3</td>\n",
       "      <td>2017</td>\n",
       "      <td>3000000</td>\n",
       "      <td>300001</td>\n",
       "      <td>4</td>\n",
       "    </tr>\n",
       "    <tr>\n",
       "      <th>3</th>\n",
       "      <td>4</td>\n",
       "      <td>2018</td>\n",
       "      <td>4000000</td>\n",
       "      <td>400001</td>\n",
       "      <td>8</td>\n",
       "    </tr>\n",
       "    <tr>\n",
       "      <th>4</th>\n",
       "      <td>5</td>\n",
       "      <td>2019</td>\n",
       "      <td>8000000</td>\n",
       "      <td>800001</td>\n",
       "      <td>16</td>\n",
       "    </tr>\n",
       "    <tr>\n",
       "      <th>5</th>\n",
       "      <td>6</td>\n",
       "      <td>2020</td>\n",
       "      <td>16000000</td>\n",
       "      <td>1600001</td>\n",
       "      <td>32</td>\n",
       "    </tr>\n",
       "  </tbody>\n",
       "</table>\n",
       "</div>\n",
       "      <button class=\"colab-df-convert\" onclick=\"convertToInteractive('df-dec2f64c-0eac-4081-861f-ae35d8aa1df8')\"\n",
       "              title=\"Convert this dataframe to an interactive table.\"\n",
       "              style=\"display:none;\">\n",
       "        \n",
       "  <svg xmlns=\"http://www.w3.org/2000/svg\" height=\"24px\"viewBox=\"0 0 24 24\"\n",
       "       width=\"24px\">\n",
       "    <path d=\"M0 0h24v24H0V0z\" fill=\"none\"/>\n",
       "    <path d=\"M18.56 5.44l.94 2.06.94-2.06 2.06-.94-2.06-.94-.94-2.06-.94 2.06-2.06.94zm-11 1L8.5 8.5l.94-2.06 2.06-.94-2.06-.94L8.5 2.5l-.94 2.06-2.06.94zm10 10l.94 2.06.94-2.06 2.06-.94-2.06-.94-.94-2.06-.94 2.06-2.06.94z\"/><path d=\"M17.41 7.96l-1.37-1.37c-.4-.4-.92-.59-1.43-.59-.52 0-1.04.2-1.43.59L10.3 9.45l-7.72 7.72c-.78.78-.78 2.05 0 2.83L4 21.41c.39.39.9.59 1.41.59.51 0 1.02-.2 1.41-.59l7.78-7.78 2.81-2.81c.8-.78.8-2.07 0-2.86zM5.41 20L4 18.59l7.72-7.72 1.47 1.35L5.41 20z\"/>\n",
       "  </svg>\n",
       "      </button>\n",
       "      \n",
       "  <style>\n",
       "    .colab-df-container {\n",
       "      display:flex;\n",
       "      flex-wrap:wrap;\n",
       "      gap: 12px;\n",
       "    }\n",
       "\n",
       "    .colab-df-convert {\n",
       "      background-color: #E8F0FE;\n",
       "      border: none;\n",
       "      border-radius: 50%;\n",
       "      cursor: pointer;\n",
       "      display: none;\n",
       "      fill: #1967D2;\n",
       "      height: 32px;\n",
       "      padding: 0 0 0 0;\n",
       "      width: 32px;\n",
       "    }\n",
       "\n",
       "    .colab-df-convert:hover {\n",
       "      background-color: #E2EBFA;\n",
       "      box-shadow: 0px 1px 2px rgba(60, 64, 67, 0.3), 0px 1px 3px 1px rgba(60, 64, 67, 0.15);\n",
       "      fill: #174EA6;\n",
       "    }\n",
       "\n",
       "    [theme=dark] .colab-df-convert {\n",
       "      background-color: #3B4455;\n",
       "      fill: #D2E3FC;\n",
       "    }\n",
       "\n",
       "    [theme=dark] .colab-df-convert:hover {\n",
       "      background-color: #434B5C;\n",
       "      box-shadow: 0px 1px 3px 1px rgba(0, 0, 0, 0.15);\n",
       "      filter: drop-shadow(0px 1px 2px rgba(0, 0, 0, 0.3));\n",
       "      fill: #FFFFFF;\n",
       "    }\n",
       "  </style>\n",
       "\n",
       "      <script>\n",
       "        const buttonEl =\n",
       "          document.querySelector('#df-dec2f64c-0eac-4081-861f-ae35d8aa1df8 button.colab-df-convert');\n",
       "        buttonEl.style.display =\n",
       "          google.colab.kernel.accessAllowed ? 'block' : 'none';\n",
       "\n",
       "        async function convertToInteractive(key) {\n",
       "          const element = document.querySelector('#df-dec2f64c-0eac-4081-861f-ae35d8aa1df8');\n",
       "          const dataTable =\n",
       "            await google.colab.kernel.invokeFunction('convertToInteractive',\n",
       "                                                     [key], {});\n",
       "          if (!dataTable) return;\n",
       "\n",
       "          const docLinkHtml = 'Like what you see? Visit the ' +\n",
       "            '<a target=\"_blank\" href=https://colab.research.google.com/notebooks/data_table.ipynb>data table notebook</a>'\n",
       "            + ' to learn more about interactive tables.';\n",
       "          element.innerHTML = '';\n",
       "          dataTable['output_type'] = 'display_data';\n",
       "          await google.colab.output.renderOutput(dataTable, element);\n",
       "          const docLink = document.createElement('div');\n",
       "          docLink.innerHTML = docLinkHtml;\n",
       "          element.appendChild(docLink);\n",
       "        }\n",
       "      </script>\n",
       "    </div>\n",
       "  </div>\n",
       "  "
      ],
      "text/plain": [
       "   연차    연도        매출       순익  직원수\n",
       "0   1  2015   1000000   100001    1\n",
       "1   2  2016   2000000   200001    2\n",
       "2   3  2017   3000000   300001    4\n",
       "3   4  2018   4000000   400001    8\n",
       "4   5  2019   8000000   800001   16\n",
       "5   6  2020  16000000  1600001   32"
      ]
     },
     "execution_count": 117,
     "metadata": {},
     "output_type": "execute_result"
    }
   ],
   "source": [
    "df"
   ]
  },
  {
   "cell_type": "markdown",
   "metadata": {
    "id": "NbF-krggvkAn"
   },
   "source": [
    "### 4.3 MultiIndex\n",
    "\n",
    "- Index를 설정할 때 리스트의 리스트 형태로 넣어주면 다중 인덱스가 설정이 된다."
   ]
  }
 ],
 "metadata": {
  "colab": {
   "provenance": []
  },
  "kernelspec": {
   "display_name": "Python 3 (ipykernel)",
   "language": "python",
   "name": "python3"
  },
  "language_info": {
   "codemirror_mode": {
    "name": "ipython",
    "version": 3
   },
   "file_extension": ".py",
   "mimetype": "text/x-python",
   "name": "python",
   "nbconvert_exporter": "python",
   "pygments_lexer": "ipython3",
   "version": "3.10.12"
  }
 },
 "nbformat": 4,
 "nbformat_minor": 4
}
