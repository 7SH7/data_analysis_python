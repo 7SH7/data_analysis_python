{
 "cells": [
  {
   "cell_type": "code",
   "execution_count": 4,
   "id": "2ce42c6c-8019-4ab1-be95-8d0e44d97d68",
   "metadata": {},
   "outputs": [
    {
     "name": "stdout",
     "output_type": "stream",
     "text": [
      "와아~ jupyter desktop이다!\n"
     ]
    }
   ],
   "source": [
    "# 행 단위 주석입니다.\n",
    "'''\n",
    "큰 따옴표로 세번 묶거나\n",
    "작은따옴표로 세번 묶으면\n",
    "열단위 주석이 됩니다.\n",
    "'''\n",
    "\n",
    "print('와아~ jupyter desktop이다!')"
   ]
  },
  {
   "cell_type": "code",
   "execution_count": 11,
   "id": "e8a85bae-df65-407a-b4a5-5319f2f7495c",
   "metadata": {},
   "outputs": [
    {
     "name": "stdout",
     "output_type": "stream",
     "text": [
      "[10, 20, 10, 30]\n"
     ]
    }
   ],
   "source": [
    "a=10\n",
    "g = [10, 20, a, 30]  # 배열\n",
    "h = (10, 20, 30) # 튜플\n",
    "i = {10, 20, 30} # set\n",
    "j = {'하나' : \"1\" , \"둘\" : \"2\" } # dict"
   ]
  },
  {
   "cell_type": "code",
   "execution_count": 37,
   "id": "d76ec132-7f79-4be6-afba-2b0506022220",
   "metadata": {},
   "outputs": [
    {
     "name": "stdout",
     "output_type": "stream",
     "text": [
      "제 이름은 바보입니다.\n",
      "제 이름은  바보 입니다.\n",
      "제 이름은 민혁입니다.\n",
      "제 이름은 민혁입니다.\n"
     ]
    }
   ],
   "source": [
    "name = \"민혁\"\n",
    "print(\"제 이름은 \" + \"바보\" + \"입니다.\")\n",
    "print(\"제 이름은 \", \"바보\", \"입니다.\")  # , 으로 하면 띄어쓰기 들어감.\n",
    "print(f'제 이름은 {name}입니다.')\n",
    "\n",
    "print(\"제 이름은 %s입니다.\" %(name));"
   ]
  },
  {
   "cell_type": "code",
   "execution_count": 32,
   "id": "fc70526c-e582-4a83-bb73-bee92f2626f4",
   "metadata": {},
   "outputs": [
    {
     "name": "stdin",
     "output_type": "stream",
     "text": [
      "아무 숫자나 쳐라 31\n"
     ]
    },
    {
     "name": "stdout",
     "output_type": "stream",
     "text": [
      "31 <class 'str'>\n"
     ]
    },
    {
     "name": "stdin",
     "output_type": "stream",
     "text": [
      "숫자다! 123\n"
     ]
    },
    {
     "name": "stdout",
     "output_type": "stream",
     "text": [
      "123 <class 'int'>\n"
     ]
    }
   ],
   "source": [
    "x = input(\"아무 숫자나 쳐라\")\n",
    "print(x, type(x))   # str\n",
    "\n",
    "x1 = int(input(\"숫자다!\"))\n",
    "print(x1, type(x1))   # int"
   ]
  },
  {
   "cell_type": "code",
   "execution_count": 43,
   "id": "3d057a58-4505-4a61-9582-ccdc6638bde3",
   "metadata": {},
   "outputs": [
    {
     "name": "stdout",
     "output_type": "stream",
     "text": [
      "<class 'int'>\n",
      "0o746\n",
      "0b111100110\n",
      "0x1e6\n"
     ]
    }
   ],
   "source": [
    "a = 486\n",
    "print(type(a))\n",
    "print(oct(a))  # 8진\n",
    "print(bin(a))  # 2진\n",
    "print(hex(a))  # 16"
   ]
  },
  {
   "cell_type": "code",
   "execution_count": 96,
   "id": "2d316df3-de6d-4b61-900d-c53df7b2d97f",
   "metadata": {},
   "outputs": [
    {
     "name": "stdout",
     "output_type": "stream",
     "text": [
      "u\n",
      "paul\n",
      "l\ta\\b ceo leehojun\n",
      "STUDY METHOD!\n",
      "study method!\n",
      "['study', 'method!']\n"
     ]
    },
    {
     "name": "stdin",
     "output_type": "stream",
     "text": [
      "몇 번 사용되었는지 알고자하는 문자를 적으시오 d\n"
     ]
    },
    {
     "name": "stdout",
     "output_type": "stream",
     "text": [
      "2\n"
     ]
    },
    {
     "name": "stdin",
     "output_type": "stream",
     "text": [
      "찾고자하는 문자를 적으시오 d\n"
     ]
    },
    {
     "name": "stdout",
     "output_type": "stream",
     "text": [
      "3\n"
     ]
    },
    {
     "name": "stdin",
     "output_type": "stream",
     "text": [
      "index를 알고싶은 문자를 적으시오 d\n"
     ]
    },
    {
     "name": "stdout",
     "output_type": "stream",
     "text": [
      "3\n",
      "    study!!    \n",
      "study!!    \n",
      "study!!\n",
      "study!!\n",
      "['h', 'h', 'h', 'h', '']\n"
     ]
    },
    {
     "data": {
      "text/plain": [
       "'hihihihi'"
      ]
     },
     "execution_count": 96,
     "metadata": {},
     "output_type": "execute_result"
    }
   ],
   "source": [
    "# 문자 자료형\n",
    "\n",
    "s = 'paullab ceo leehojun'\n",
    "print(s[2])\n",
    "\n",
    "s2 = 'paul\\nl\\ta\\\\b ceo leehojun'\n",
    "print(s2)\n",
    "# \\\\, \\n, \\t, \\', \\\", \\b 로 처리 가능!\n",
    "\n",
    "dir(s) # s의 type(string)에서의 사용할 수 있는 모든 것을 알아볼 때 사용요\n",
    "\n",
    "study_method = 'study method!'\n",
    "study_method = study_method.upper();\n",
    "print(study_method)\n",
    "study_method = study_method.lower();\n",
    "print(study_method)\n",
    "\n",
    "temp =study_method.split();\n",
    "print(temp)\n",
    "\n",
    "target_char = input(\"몇 번 사용되었는지 알고자하는 문자를 적으시오\")\n",
    "count_num = study_method.count(target_char)\n",
    "print(count_num)\n",
    "\n",
    "# 기본적으로 find와 index는 동일한 결과\n",
    "# 해당 문자에 없는 단어를 찾고자하면, find는 -1, index는 err!\n",
    "find_target_char = input(\"찾고자하는 문자를 적으시오\")\n",
    "find_location = study_method.find(find_target_char)\n",
    "print(find_location)\n",
    "\n",
    "find_target_index = input(\"index를 알고싶은 문자를 적으시오\")\n",
    "find_index = study_method.index(find_target_index)\n",
    "print(find_index)\n",
    "\n",
    "study_strip = \"    study!!    \"\n",
    "print(study_strip)\n",
    "study_strip = study_strip.lstrip()\n",
    "print(study_strip)\n",
    "study_strip = study_strip.rstrip()\n",
    "print(study_strip)\n",
    "\n",
    "re_study_strip = \"    study!!    \"\n",
    "print(re_study_strip.strip())  # r/l 안 적으면 둘 다 적용!\n",
    "\n",
    "study_join = \"hihihihi\"\n",
    "study_join = study_join.split(\"i\")\n",
    "print(study_join)\n",
    "\"i\".join(study_join)  # 연결할 때, 추가하고 싶은 건 여기다가 적어!\n",
    "print(study_join)"
   ]
  },
  {
   "cell_type": "code",
   "execution_count": 112,
   "id": "1cfc1be8-e0a5-4f14-ac99-7871650de264",
   "metadata": {},
   "outputs": [
    {
     "name": "stdout",
     "output_type": "stream",
     "text": [
      "paul\n",
      "paullab ceo leehoju\n",
      "paullab ceo leehojun\n",
      "pulbcoleou\n",
      "nujoheel oec balluap\n",
      "oec balluap\n",
      "oec\n"
     ]
    }
   ],
   "source": [
    "# 문자열의 활용\n",
    "s = \"paullab ceo leehojun\"\n",
    "s[0] + s[1] + s[2] + s[3]\n",
    "\n",
    "print(s[0:4])  # 0부터 4이전까지!\n",
    "print(s[:-1])  # -1는 제일 뒤의 것을 가르킴.\n",
    "print(s[:])    # 이러면 전체를 지칭!\n",
    "print(s[::2])  # index를 2개씩 뛰어넘으면서 출력!\n",
    "print(s[::-1]) # 거꾸로 출력 (index뒤부터 -1하면서 출력)\n",
    "print(s[10::-1]) # 10번째자리부터 거꾸로 출력\n",
    "print(s[10:7:-1]) # 10번째부터 거꾸로 7번까지 출"
   ]
  },
  {
   "cell_type": "code",
   "execution_count": 124,
   "id": "753d4015-0abe-4fe1-9c75-ff0e2bfd9a00",
   "metadata": {},
   "outputs": [
    {
     "name": "stdout",
     "output_type": "stream",
     "text": [
      "10\n",
      "10.0\n",
      "True\n",
      "True\n",
      "False\n"
     ]
    },
    {
     "data": {
      "text/plain": [
       "1012412"
      ]
     },
     "execution_count": 124,
     "metadata": {},
     "output_type": "execute_result"
    }
   ],
   "source": [
    "# 형변환\n",
    "\n",
    "print(int('10'))\n",
    "print(float('10'))\n",
    "print(bool('10'))\n",
    "print(bool(-1))\n",
    "print(bool(0))  # python에서는 only 숫자 0만 false임. (음수도 true)\n",
    "\n",
    "int(str(10) + str(\"12412\"))"
   ]
  },
  {
   "cell_type": "code",
   "execution_count": 151,
   "id": "fdf17d97-899f-48c1-b5dd-272f83807f5c",
   "metadata": {},
   "outputs": [
    {
     "name": "stdout",
     "output_type": "stream",
     "text": [
      "13\n",
      "7\n",
      "3.3333333333333335\n",
      "3\n",
      "30\n",
      "1000\n",
      "False\n",
      "True\n",
      "False\n",
      "True\n",
      "False\n",
      "True\n",
      "False\n",
      "0\n",
      "어찌저찌 1\n",
      "어찌저찌 8\n",
      "15\n",
      "어찌저찌 22\n",
      "어찌저찌 29\n",
      "30\n",
      "어찌저찌 36\n",
      "어찌저찌 43\n",
      "45\n",
      "어찌저찌 50\n",
      "어찌저찌 57\n",
      "60\n",
      "어찌저찌 64\n",
      "어찌저찌 71\n",
      "75\n",
      "어찌저찌 78\n",
      "어찌저찌 85\n",
      "90\n",
      "어찌저찌 92\n",
      "어찌저찌 99\n"
     ]
    }
   ],
   "source": [
    "# 산술연산과 비교연산\n",
    "\n",
    "a = 10\n",
    "b = 3\n",
    "\n",
    "print(a+b)\n",
    "print(a-b)\n",
    "print(a/b)\n",
    "print(a//b)\n",
    "print(a*b)\n",
    "print(a**b)\n",
    "print(a<b)\n",
    "print(a>b)\n",
    "print(a==b)\n",
    "print(a!=b)\n",
    "\n",
    "# 논리연산\n",
    "a = True\n",
    "b = False\n",
    "\n",
    "print(a and b) # 곱집합\n",
    "print(a or b)  # 합집함\n",
    "print(not a)\n",
    "\n",
    "for i in range(0, 100):\n",
    "    if(i % 3 == 0 and i % 5 ==0):\n",
    "        print(i)\n",
    "    elif(i % 7 == 1):\n",
    "        print(\"어찌저찌 \" + str(i));\n",
    "        "
   ]
  },
  {
   "cell_type": "code",
   "execution_count": 154,
   "id": "03aff303-ee35-438e-9096-c95a82268304",
   "metadata": {},
   "outputs": [
    {
     "name": "stdout",
     "output_type": "stream",
     "text": [
      "True\n"
     ]
    }
   ],
   "source": [
    "# 비트연산, 할당연산, 식별연산, in 구문\n",
    "# 여기서는 많이쓰는 in 구문만 보고 넘어가도록\n",
    "# 식별 연산 ( is / == )\n",
    "\n",
    "s = \"string str\"\n",
    "print(\"string\" in s)  # 문법 기억하기 (앞의 것이 뒤의 것에 in했는가?)\n"
   ]
  },
  {
   "cell_type": "code",
   "execution_count": 159,
   "id": "4428caa4-67b6-4122-9612-17b7f4a7ef0a",
   "metadata": {},
   "outputs": [
    {
     "name": "stdout",
     "output_type": "stream",
     "text": [
      "1\n",
      "2\n",
      "3\n"
     ]
    },
    {
     "data": {
      "text/plain": [
       "'하아'"
      ]
     },
     "execution_count": 159,
     "metadata": {},
     "output_type": "execute_result"
    }
   ],
   "source": [
    "def print_num():\n",
    "    print(1)\n",
    "    print(2)\n",
    "    print(3)\n",
    "\n",
    "# print_num()\n",
    "\n",
    "def print_num2():\n",
    "    print(1)\n",
    "    print(2)\n",
    "    print(3)\n",
    "    return \"하아\"\n",
    "\n",
    "# print_num()\n",
    "print_num2()"
   ]
  },
  {
   "cell_type": "code",
   "execution_count": 167,
   "id": "02e81034-b0f0-4ee7-999c-dde8b5496d39",
   "metadata": {},
   "outputs": [
    {
     "name": "stdout",
     "output_type": "stream",
     "text": [
      "20\n",
      "<function f2 at 0x7f6be4196f80>\n"
     ]
    }
   ],
   "source": [
    "x = 10\n",
    "\n",
    "def f():\n",
    "    # 외부 변수 사용은 가능. 할당은 불가능\n",
    "    # x += 10  # 이건 에러.\n",
    "    y = x + 10 # 이건 가능.\n",
    "    return y\n",
    "\n",
    "print(f())\n",
    "\n",
    "def f2():\n",
    "    global x\n",
    "    x += 10;\n",
    "    return x\n",
    "\n",
    "print(f2)"
   ]
  },
  {
   "cell_type": "code",
   "execution_count": 174,
   "id": "c6ec0686-806e-470f-ab2b-bb839b04df19",
   "metadata": {},
   "outputs": [
    {
     "name": "stdout",
     "output_type": "stream",
     "text": [
      "120\n"
     ]
    }
   ],
   "source": [
    "# 재귀함수\n",
    "\n",
    "def f(a):\n",
    "    if(a == 1 ):\n",
    "        return 1\n",
    "    else:\n",
    "        return a * f(a-1)\n",
    "\n",
    "print(5 * f(4))"
   ]
  },
  {
   "cell_type": "code",
   "execution_count": 182,
   "id": "cb2d04a0-d60d-4cee-a8c5-a66a039bbd67",
   "metadata": {},
   "outputs": [
    {
     "name": "stdout",
     "output_type": "stream",
     "text": [
      "['one', 10]\n",
      "30\n"
     ]
    },
    {
     "data": {
      "text/plain": [
       "['__add__',\n",
       " '__class__',\n",
       " '__class_getitem__',\n",
       " '__contains__',\n",
       " '__delattr__',\n",
       " '__delitem__',\n",
       " '__dir__',\n",
       " '__doc__',\n",
       " '__eq__',\n",
       " '__format__',\n",
       " '__ge__',\n",
       " '__getattribute__',\n",
       " '__getitem__',\n",
       " '__gt__',\n",
       " '__hash__',\n",
       " '__iadd__',\n",
       " '__imul__',\n",
       " '__init__',\n",
       " '__init_subclass__',\n",
       " '__iter__',\n",
       " '__le__',\n",
       " '__len__',\n",
       " '__lt__',\n",
       " '__mul__',\n",
       " '__ne__',\n",
       " '__new__',\n",
       " '__reduce__',\n",
       " '__reduce_ex__',\n",
       " '__repr__',\n",
       " '__reversed__',\n",
       " '__rmul__',\n",
       " '__setattr__',\n",
       " '__setitem__',\n",
       " '__sizeof__',\n",
       " '__str__',\n",
       " '__subclasshook__',\n",
       " 'append',\n",
       " 'clear',\n",
       " 'copy',\n",
       " 'count',\n",
       " 'extend',\n",
       " 'index',\n",
       " 'insert',\n",
       " 'pop',\n",
       " 'remove',\n",
       " 'reverse',\n",
       " 'sort']"
      ]
     },
     "execution_count": 182,
     "metadata": {},
     "output_type": "execute_result"
    }
   ],
   "source": [
    "# 리스트\n",
    "\n",
    "x = ['one', 10, 10.1, [10, 20, 30]]\n",
    "print(x[0:2])\n",
    "print(x[3][2])\n",
    "\n",
    "x2 = [[10, 20, 30],\n",
    "      [40, 50, 60],\n",
    "      [70, 80, 90]]\n",
    "x2\n",
    "\n",
    "dir(x2)"
   ]
  },
  {
   "cell_type": "code",
   "execution_count": 221,
   "id": "3170e999-9521-4ed7-8fcf-d98e93f7b6ae",
   "metadata": {},
   "outputs": [
    {
     "name": "stdout",
     "output_type": "stream",
     "text": [
      "[10, 20, 30, 40, 50]\n",
      "[]\n",
      "[20, 20, 30, 40, 50]\n",
      "------------------------\n",
      "1\n",
      "2\n",
      "[10, 20, 30, 40, 10, 10, 20, 30, 40, 10]\n",
      "1\n",
      "[10, 20, 30, 40, 10, 10, 20, 30]\n",
      "[20, 30, 40, 10, 10, 20, 30]\n",
      "---- reverse 연습 중 ---- \n",
      "[10, 10, 20, 20, 30, 30, 40]\n",
      "[40, 30, 30, 20, 20, 10, 10]\n",
      "[10, 10, 20, 20, 30, 30, 40]\n"
     ]
    },
    {
     "data": {
      "text/plain": [
       "[10, 10, 20, 20, 30, 30, 40]"
      ]
     },
     "execution_count": 221,
     "metadata": {},
     "output_type": "execute_result"
    }
   ],
   "source": [
    "type(x2)\n",
    "\n",
    "x = [10, 20, 30 ,40]\n",
    "x.append(50)\n",
    "x_copy = x.copy()\n",
    "print(x_copy)\n",
    "x_copy.clear()\n",
    "print(x_copy)\n",
    "\n",
    "# 왜 copy를 쓰는가?\n",
    "x_deep_copy = x   # 이게 deep copy라서, x_deep_copy가 바뀌면 원본 영향 有\n",
    "x_deep_copy[0] = 20\n",
    "print(x)\n",
    "\n",
    "print(\"------------------------\" )\n",
    "\n",
    "x = [10, 20, 30 ,40]\n",
    "print(x.count(10))\n",
    "x.append(10)\n",
    "print(x.count(10))\n",
    "\n",
    "x.extend(x)  # 뒤에 추가되는 것!\n",
    "print(x)\n",
    "\n",
    "location = x.index(20)\n",
    "print(location)\n",
    "\n",
    "x.pop();  # 제일 index 높은 것이 pop됨.\n",
    "x.pop();\n",
    "print(x)\n",
    "\n",
    "x.remove(10)\n",
    "print(x)\n",
    "\n",
    "print(\"---- reverse 연습 중 ---- \")\n",
    "x.sort(); # 원본 영향 O\n",
    "print(x)\n",
    "\n",
    "x.reverse(); # 원본에 영향 감.\n",
    "print(x)\n",
    "\n",
    "print(\"---- sorted 연습 중 ---- \")\n",
    "\n",
    "ax = list(reversed(x)) # reversed는 list화 해주어야함!\n",
    "print(ax)\n",
    "sorted(x)  # 원본 영향 X\n"
   ]
  },
  {
   "cell_type": "code",
   "execution_count": 222,
   "id": "f31e5b2b-2cce-4ca0-9fc6-04aec9e0cce6",
   "metadata": {},
   "outputs": [
    {
     "data": {
      "text/plain": [
       "[[[2]]]"
      ]
     },
     "execution_count": 222,
     "metadata": {},
     "output_type": "execute_result"
    }
   ],
   "source": [
    "# 다차원리스트아 Built-in function, rnage, list comprehension\n",
    "\n",
    "3       # 상수(scalar)\n",
    "[2]     # 1차원 리스트(vector)\n",
    "[[2]]   # 2차원 리스트(Matrix)\n",
    "[[[2]]] # 3차원 리스트(Tensor) -> tensorflow의 tensor임."
   ]
  },
  {
   "cell_type": "code",
   "execution_count": 225,
   "id": "7c2b7722-a2a9-4e4d-8f6e-02ce84835f48",
   "metadata": {},
   "outputs": [
    {
     "data": {
      "text/plain": [
       "500"
      ]
     },
     "execution_count": 225,
     "metadata": {},
     "output_type": "execute_result"
    }
   ],
   "source": [
    "x = [[[10, 20, 30],\n",
    "      [40, 50, 60],\n",
    "      [70, 80, 90]],\n",
    "      [[100, 200, 300],\n",
    "      [400, 500, 600],\n",
    "      [700, 800, 900]]]\n",
    "\n",
    "x[1][1][1]"
   ]
  },
  {
   "cell_type": "code",
   "execution_count": 236,
   "id": "e7478187-5e1f-4ad2-a56c-3fc76f345f00",
   "metadata": {},
   "outputs": [
    {
     "name": "stdout",
     "output_type": "stream",
     "text": [
      "300\n",
      "100\n",
      "600\n",
      "[0, 1, 2, 3, 4, 5, 6, 7, 8, 9]\n",
      "[0, 2, 4, 6, 8]\n",
      "[-4, -1, 2, 5, 8]\n",
      "[1, 2, 3, 4, 5, 6, 7, 8, 9, 10]\n"
     ]
    }
   ],
   "source": [
    "x = [100, 200, 300]\n",
    "print(max(x))\n",
    "print(min(x))\n",
    "print(sum(x))\n",
    "\n",
    "type(range(10))  # range는 list화!\n",
    "list(range(10))\n",
    "\n",
    "\n",
    "# range(start, stop, step)\n",
    "print(list(range(10)))\n",
    "print(list(range(0,10,2)))\n",
    "print(list(range(-4,10,3)))\n",
    "\n",
    "# 적용\n",
    "l = [i for i in range(1, 11)]\n",
    "'''\n",
    "위의 한 줄이..\n",
    "for i in range(1, 11):\n",
    "    l.append(i)\n",
    "이것과 동일..\n",
    "'''\n",
    "print(l)"
   ]
  },
  {
   "cell_type": "code",
   "execution_count": 238,
   "id": "c5fa877b-9583-4c2a-91bc-55b1863bb8be",
   "metadata": {},
   "outputs": [
    {
     "data": {
      "text/plain": [
       "['2 X 1 = 2',\n",
       " '2 X 2 = 4',\n",
       " '2 X 3 = 6',\n",
       " '2 X 4 = 8',\n",
       " '2 X 5 = 10',\n",
       " '2 X 6 = 12',\n",
       " '2 X 7 = 14',\n",
       " '2 X 8 = 16',\n",
       " '2 X 9 = 18',\n",
       " '3 X 1 = 3',\n",
       " '3 X 2 = 6',\n",
       " '3 X 3 = 9',\n",
       " '3 X 4 = 12',\n",
       " '3 X 5 = 15',\n",
       " '3 X 6 = 18',\n",
       " '3 X 7 = 21',\n",
       " '3 X 8 = 24',\n",
       " '3 X 9 = 27',\n",
       " '4 X 1 = 4',\n",
       " '4 X 2 = 8',\n",
       " '4 X 3 = 12',\n",
       " '4 X 4 = 16',\n",
       " '4 X 5 = 20',\n",
       " '4 X 6 = 24',\n",
       " '4 X 7 = 28',\n",
       " '4 X 8 = 32',\n",
       " '4 X 9 = 36',\n",
       " '5 X 1 = 5',\n",
       " '5 X 2 = 10',\n",
       " '5 X 3 = 15',\n",
       " '5 X 4 = 20',\n",
       " '5 X 5 = 25',\n",
       " '5 X 6 = 30',\n",
       " '5 X 7 = 35',\n",
       " '5 X 8 = 40',\n",
       " '5 X 9 = 45',\n",
       " '6 X 1 = 6',\n",
       " '6 X 2 = 12',\n",
       " '6 X 3 = 18',\n",
       " '6 X 4 = 24',\n",
       " '6 X 5 = 30',\n",
       " '6 X 6 = 36',\n",
       " '6 X 7 = 42',\n",
       " '6 X 8 = 48',\n",
       " '6 X 9 = 54',\n",
       " '7 X 1 = 7',\n",
       " '7 X 2 = 14',\n",
       " '7 X 3 = 21',\n",
       " '7 X 4 = 28',\n",
       " '7 X 5 = 35',\n",
       " '7 X 6 = 42',\n",
       " '7 X 7 = 49',\n",
       " '7 X 8 = 56',\n",
       " '7 X 9 = 63',\n",
       " '8 X 1 = 8',\n",
       " '8 X 2 = 16',\n",
       " '8 X 3 = 24',\n",
       " '8 X 4 = 32',\n",
       " '8 X 5 = 40',\n",
       " '8 X 6 = 48',\n",
       " '8 X 7 = 56',\n",
       " '8 X 8 = 64',\n",
       " '8 X 9 = 72',\n",
       " '9 X 1 = 9',\n",
       " '9 X 2 = 18',\n",
       " '9 X 3 = 27',\n",
       " '9 X 4 = 36',\n",
       " '9 X 5 = 45',\n",
       " '9 X 6 = 54',\n",
       " '9 X 7 = 63',\n",
       " '9 X 8 = 72',\n",
       " '9 X 9 = 81']"
      ]
     },
     "execution_count": 238,
     "metadata": {},
     "output_type": "execute_result"
    }
   ],
   "source": [
    "# 활용\n",
    "\n",
    "[f'{i} X {j} = {i*j}' for i in range(2, 10) for j in range(1, 10)]"
   ]
  },
  {
   "cell_type": "code",
   "execution_count": 1,
   "id": "4cdf4d64-1fee-4a0c-821f-31ffbe980ab0",
   "metadata": {},
   "outputs": [
    {
     "data": {
      "text/plain": [
       "(10, 20)"
      ]
     },
     "execution_count": 1,
     "metadata": {},
     "output_type": "execute_result"
    }
   ],
   "source": [
    "t = (10, 20, 30, 30)\n",
    "t[0]\n",
    "t[0:2]\n",
    "\n",
    "# t[0] = 1000 값 변경 불가\n",
    "\n",
    "# count / index만 있음.\n",
    "\n"
   ]
  },
  {
   "cell_type": "code",
   "execution_count": 20,
   "id": "8197e290-9027-4c3a-8bd2-50b10f7272d5",
   "metadata": {},
   "outputs": [
    {
     "name": "stdout",
     "output_type": "stream",
     "text": [
      "[('one', '하나'), ('two', '둘'), ('three', 3)]\n",
      "['one', 'two', 'three']\n",
      "['하나', '둘', 3]\n",
      "하나\n",
      "하나\n",
      "Wed\n"
     ]
    }
   ],
   "source": [
    "# 딕셔너리\n",
    "\n",
    "d = {\"one\" : \"하나\" , \"two\" : \"둘\", \"three\" : \"셋\"}\n",
    "d['three'] = 3\n",
    "\n",
    "type(d)\n",
    "dir(d)\n",
    "\n",
    "'''\n",
    "items\n",
    "keys\n",
    "values\n",
    "get\n",
    "'''\n",
    "\n",
    "print(list(d.items()))\n",
    "print(list(d.keys()))\n",
    "print(list(d.values()))\n",
    "print(d.get(\"one\"))\n",
    "print(d[\"one\"])\n",
    "\n",
    "# python에서는 switch문이 없어.\n",
    "def switch(x):\n",
    "    return {1: \"Mon\",\n",
    "            2: \"Tue\",\n",
    "            3: \"Wed\",\n",
    "            4: \"Thu\"\n",
    "           }.get(x)\n",
    "\n",
    "print(switch(3))"
   ]
  },
  {
   "cell_type": "code",
   "execution_count": 25,
   "id": "be9c09da-deed-49d9-b061-a6b06f3af141",
   "metadata": {},
   "outputs": [
    {
     "name": "stdout",
     "output_type": "stream",
     "text": [
      "{10, 20, 30}\n",
      "3\n"
     ]
    },
    {
     "data": {
      "text/plain": [
       "['__and__',\n",
       " '__class__',\n",
       " '__class_getitem__',\n",
       " '__contains__',\n",
       " '__delattr__',\n",
       " '__dir__',\n",
       " '__doc__',\n",
       " '__eq__',\n",
       " '__format__',\n",
       " '__ge__',\n",
       " '__getattribute__',\n",
       " '__gt__',\n",
       " '__hash__',\n",
       " '__iand__',\n",
       " '__init__',\n",
       " '__init_subclass__',\n",
       " '__ior__',\n",
       " '__isub__',\n",
       " '__iter__',\n",
       " '__ixor__',\n",
       " '__le__',\n",
       " '__len__',\n",
       " '__lt__',\n",
       " '__ne__',\n",
       " '__new__',\n",
       " '__or__',\n",
       " '__rand__',\n",
       " '__reduce__',\n",
       " '__reduce_ex__',\n",
       " '__repr__',\n",
       " '__ror__',\n",
       " '__rsub__',\n",
       " '__rxor__',\n",
       " '__setattr__',\n",
       " '__sizeof__',\n",
       " '__str__',\n",
       " '__sub__',\n",
       " '__subclasshook__',\n",
       " '__xor__',\n",
       " 'add',\n",
       " 'clear',\n",
       " 'copy',\n",
       " 'difference',\n",
       " 'difference_update',\n",
       " 'discard',\n",
       " 'intersection',\n",
       " 'intersection_update',\n",
       " 'isdisjoint',\n",
       " 'issubset',\n",
       " 'issuperset',\n",
       " 'pop',\n",
       " 'remove',\n",
       " 'symmetric_difference',\n",
       " 'symmetric_difference_update',\n",
       " 'union',\n",
       " 'update']"
      ]
     },
     "execution_count": 25,
     "metadata": {},
     "output_type": "execute_result"
    }
   ],
   "source": [
    "# set(집합) : 중복 제거에 많이 사용\n",
    "s = {10, 20, 30, 20, 30, 20}\n",
    "print(s)\n",
    "\n",
    "print(len(s))\n",
    "\n",
    "dir(s)"
   ]
  },
  {
   "cell_type": "code",
   "execution_count": 46,
   "id": "4be57a32-8a80-4c58-87d1-db7c997d36d4",
   "metadata": {},
   "outputs": [
    {
     "name": "stdout",
     "output_type": "stream",
     "text": [
      "{20, 30}\n",
      "{10, 20, 30}\n",
      "{50, 20, 10, 60, 30}\n",
      "{20, 10, 60, 30}\n",
      "{60}\n",
      "{60}\n",
      "{50, 20, 40, 10, 60, 30}\n"
     ]
    }
   ],
   "source": [
    "s = {10, 20, 30 , 30, 20}\n",
    "s -= {10}\n",
    "print(s)\n",
    "\n",
    "s.add(10)\n",
    "print(s)\n",
    "\n",
    "s.update({50,60})\n",
    "print(s)\n",
    "\n",
    "s.remove(50)\n",
    "print(s)\n",
    "\n",
    "# 교집합\n",
    "print(s.intersection({40,50,60}))  \n",
    "print(s & {40, 60})\n",
    "\n",
    "# 합집합\n",
    "print(s | {40,50})"
   ]
  },
  {
   "cell_type": "code",
   "execution_count": 57,
   "id": "6829b3a9-193f-4dcb-a8f9-7bce84c560ac",
   "metadata": {},
   "outputs": [
    {
     "name": "stdout",
     "output_type": "stream",
     "text": [
      "0\n",
      "1\n",
      "2\n",
      "3\n",
      "4\n",
      "5\n",
      "6\n",
      "7\n",
      "8\n",
      "9\n",
      "10\n",
      "else\n",
      "end\n",
      "-------------------------------\n",
      "<class 'list'>\n",
      "[0, 2, 4, 6, 8]\n"
     ]
    }
   ],
   "source": [
    "for i in range(0, 11):\n",
    "    # if i > 5:\n",
    "        # break;\n",
    "    print(i)\n",
    "else:\n",
    "    print(\"else\");\n",
    "print(\"end\");\n",
    "\n",
    "# 이건 python에만 존재하는 for-else 구문임. (for가 정상 마무리 되면, else구문 실행되는 것임.)\n",
    "\n",
    "print(\"-------------------------------\")\n",
    "\n",
    "# 구문 [ append_하고_싶은_것 for문]\n",
    "lst = [l for l in range(0,10,2)]\n",
    "print(type(lst))\n",
    "print(lst)"
   ]
  },
  {
   "cell_type": "code",
   "execution_count": 4,
   "id": "09d07835-e760-4988-9bdb-5d5316e3b9f2",
   "metadata": {},
   "outputs": [
    {
     "name": "stdout",
     "output_type": "stream",
     "text": [
      "1.0\n"
     ]
    }
   ],
   "source": [
    "try:\n",
    "    i=1\n",
    "    j=1\n",
    "    x=i/j\n",
    "except: # 오류 발생 시에만 실행\n",
    "    print(\"error\")\n",
    "else:  # 이건 항상 실행\n",
    "    print(x)"
   ]
  },
  {
   "cell_type": "code",
   "execution_count": 13,
   "id": "e7223168-378d-4d29-937e-8eb65297498c",
   "metadata": {},
   "outputs": [
    {
     "data": {
      "text/plain": [
       "'k5'"
      ]
     },
     "execution_count": 13,
     "metadata": {},
     "output_type": "execute_result"
    }
   ],
   "source": [
    "# class : 중복된 것들을 하나의 frame으로 만들어서 반복된 작업 피하는 것!\n",
    "\n",
    "class Car:\n",
    "    def __init__(self, name):   # 이게 Constructor!\n",
    "        self.이름 = name\n",
    "    maxSpeed = 300\n",
    "    maxPeople = 5\n",
    "    def move(self, x):\n",
    "        print(x, '의 속도로 달리고 있습니다.')\n",
    "    def stop(self):\n",
    "        print(\"멈췄다.\")\n",
    "\n",
    "# class의 잘못된 사용 예시\n",
    "Car.maxSpeed  \n",
    "\n",
    "# 올바른 예시\n",
    "k5 = Car(\"k5\");\n",
    "k5.maxSpeed \n",
    "k5.이름\n",
    "    "
   ]
  },
  {
   "cell_type": "code",
   "execution_count": 32,
   "id": "fa5ec964-f45d-4bb4-8336-90a8472dd30b",
   "metadata": {},
   "outputs": [
    {
     "name": "stdout",
     "output_type": "stream",
     "text": [
      "Hk5\n",
      "100 의 속도로 달리고 있습니다.\n",
      "멈췄다.\n"
     ]
    },
    {
     "data": {
      "text/plain": [
       "['__class__',\n",
       " '__delattr__',\n",
       " '__dict__',\n",
       " '__dir__',\n",
       " '__doc__',\n",
       " '__eq__',\n",
       " '__format__',\n",
       " '__ge__',\n",
       " '__getattribute__',\n",
       " '__gt__',\n",
       " '__hash__',\n",
       " '__init__',\n",
       " '__init_subclass__',\n",
       " '__le__',\n",
       " '__lt__',\n",
       " '__module__',\n",
       " '__ne__',\n",
       " '__new__',\n",
       " '__reduce__',\n",
       " '__reduce_ex__',\n",
       " '__repr__',\n",
       " '__setattr__',\n",
       " '__sizeof__',\n",
       " '__str__',\n",
       " '__subclasshook__',\n",
       " '__weakref__',\n",
       " 'battery',\n",
       " 'batteryKM',\n",
       " 'maxPeople',\n",
       " 'maxSpeed',\n",
       " 'move',\n",
       " 'stop',\n",
       " '이름']"
      ]
     },
     "execution_count": 32,
     "metadata": {},
     "output_type": "execute_result"
    }
   ],
   "source": [
    "class HybridCar(Car): # Car 상속받는다.\n",
    "    def __init__(self, name):\n",
    "        self.이름 = name\n",
    "    battery = 100\n",
    "    batteryKM = 1000\n",
    "\n",
    "Hybrid5 = HybridCar(\"Hk5\")\n",
    "print(Hybrid5.이름)\n",
    "Hybrid5.move(100)\n",
    "Hybrid5.stop()\n",
    "\n",
    "dir(Hybrid5)"
   ]
  },
  {
   "cell_type": "code",
   "execution_count": 34,
   "id": "a288b774-0e15-4573-87b2-2d4dc4311aba",
   "metadata": {},
   "outputs": [
    {
     "name": "stdout",
     "output_type": "stream",
     "text": [
      "Package                   Version\n",
      "------------------------- --------------\n",
      "anyio                     4.4.0\n",
      "argon2-cffi               23.1.0\n",
      "argon2-cffi-bindings      21.2.0\n",
      "arrow                     1.3.0\n",
      "asttokens                 2.4.1\n",
      "async-lru                 2.0.4\n",
      "attrs                     24.2.0\n",
      "babel                     2.16.0\n",
      "beautifulsoup4            4.12.3\n",
      "bleach                    6.1.0\n",
      "blinker                   1.4\n",
      "certifi                   2024.7.4\n",
      "cffi                      1.17.0\n",
      "charset-normalizer        3.3.2\n",
      "comm                      0.2.2\n",
      "command-not-found         0.3\n",
      "configobj                 5.0.6\n",
      "cryptography              3.4.8\n",
      "dbus-python               1.2.18\n",
      "debugpy                   1.8.5\n",
      "decorator                 5.1.1\n",
      "defusedxml                0.7.1\n",
      "distro                    1.7.0\n",
      "distro-info               1.1+ubuntu0.2\n",
      "exceptiongroup            1.2.2\n",
      "executing                 2.0.1\n",
      "fastjsonschema            2.20.0\n",
      "fqdn                      1.5.1\n",
      "gyp                       0.1\n",
      "h11                       0.14.0\n",
      "httpcore                  1.0.5\n",
      "httplib2                  0.20.2\n",
      "httpx                     0.27.0\n",
      "idna                      3.7\n",
      "importlib-metadata        4.6.4\n",
      "ipykernel                 6.29.5\n",
      "ipython                   8.26.0\n",
      "ipython_genutils          0.2.0\n",
      "isoduration               20.11.0\n",
      "jedi                      0.19.1\n",
      "jeepney                   0.7.1\n",
      "Jinja2                    3.1.4\n",
      "json5                     0.9.25\n",
      "jsonpointer               3.0.0\n",
      "jsonschema                4.23.0\n",
      "jsonschema-specifications 2023.12.1\n",
      "jupyter_client            8.6.2\n",
      "jupyter_core              5.7.2\n",
      "jupyter-events            0.10.0\n",
      "jupyter-lsp               2.2.5\n",
      "jupyter_server            2.14.2\n",
      "jupyter_server_terminals  0.5.3\n",
      "jupyterlab                4.2.4\n",
      "jupyterlab_pygments       0.3.0\n",
      "jupyterlab_server         2.27.3\n",
      "keyring                   23.5.0\n",
      "launchpadlib              1.10.16\n",
      "lazr.restfulclient        0.14.4\n",
      "lazr.uri                  1.0.6\n",
      "MarkupSafe                2.1.5\n",
      "matplotlib-inline         0.1.7\n",
      "mistune                   3.0.2\n",
      "more-itertools            8.10.0\n",
      "nbclient                  0.10.0\n",
      "nbconvert                 7.16.4\n",
      "nbformat                  5.10.4\n",
      "nest-asyncio              1.6.0\n",
      "netifaces                 0.11.0\n",
      "notebook                  7.2.1\n",
      "notebook_shim             0.2.4\n",
      "oauthlib                  3.2.0\n",
      "overrides                 7.7.0\n",
      "packaging                 24.1\n",
      "pandocfilters             1.5.1\n",
      "parso                     0.8.4\n",
      "pexpect                   4.9.0\n",
      "pip                       24.2\n",
      "platformdirs              4.2.2\n",
      "prometheus_client         0.20.0\n",
      "prompt_toolkit            3.0.47\n",
      "psutil                    6.0.0\n",
      "ptyprocess                0.7.0\n",
      "pure_eval                 0.2.3\n",
      "pycairo                   1.20.1\n",
      "pycparser                 2.22\n",
      "Pygments                  2.18.0\n",
      "PyGObject                 3.42.1\n",
      "PyJWT                     2.3.0\n",
      "pyparsing                 2.4.7\n",
      "python-apt                2.4.0+ubuntu3\n",
      "python-dateutil           2.9.0.post0\n",
      "python-json-logger        2.0.7\n",
      "PyYAML                    6.0.2\n",
      "pyzmq                     26.1.0\n",
      "referencing               0.35.1\n",
      "requests                  2.32.3\n",
      "rfc3339-validator         0.1.4\n",
      "rfc3986-validator         0.1.1\n",
      "rpds-py                   0.20.0\n",
      "SecretStorage             3.3.1\n",
      "Send2Trash                1.8.3\n",
      "setuptools                72.2.0\n",
      "six                       1.16.0\n",
      "sniffio                   1.3.1\n",
      "soupsieve                 2.6\n",
      "ssh-import-id             5.11\n",
      "stack-data                0.6.3\n",
      "systemd-python            234\n",
      "terminado                 0.18.1\n",
      "terminator                2.1.1\n",
      "tinycss2                  1.3.0\n",
      "tomli                     2.0.1\n",
      "tornado                   6.4.1\n",
      "traitlets                 5.14.3\n",
      "types-python-dateutil     2.9.0.20240316\n",
      "typing_extensions         4.12.2\n",
      "ubuntu-advantage-tools    27.12\n",
      "ufw                       0.36.1\n",
      "unattended-upgrades       0.1\n",
      "uri-template              1.3.0\n",
      "urllib3                   2.2.2\n",
      "wadllib                   1.3.6\n",
      "wcwidth                   0.2.13\n",
      "webcolors                 24.8.0\n",
      "webencodings              0.5.1\n",
      "websocket-client          1.8.0\n",
      "wheel                     0.37.1\n",
      "zipp                      1.0.0\n"
     ]
    }
   ],
   "source": [
    "# 모듈과 패키지\n",
    "!pip list"
   ]
  },
  {
   "cell_type": "code",
   "execution_count": 42,
   "id": "40710478-34e1-4ef0-8cbe-4d9a18662d25",
   "metadata": {},
   "outputs": [
    {
     "data": {
      "text/plain": [
       "5"
      ]
     },
     "execution_count": 42,
     "metadata": {},
     "output_type": "execute_result"
    }
   ],
   "source": [
    "import random\n",
    "\n",
    "random.randint(1,10)"
   ]
  },
  {
   "cell_type": "code",
   "execution_count": 5,
   "id": "a6231853-a233-4a5f-b7db-18729c86fe4c",
   "metadata": {},
   "outputs": [
    {
     "ename": "AttributeError",
     "evalue": "module 'test' has no attribute 'my_variable'",
     "output_type": "error",
     "traceback": [
      "\u001b[0;31m---------------------------------------------------------------------------\u001b[0m",
      "\u001b[0;31mAttributeError\u001b[0m                            Traceback (most recent call last)",
      "Cell \u001b[0;32mIn[5], line 4\u001b[0m\n\u001b[1;32m      1\u001b[0m \u001b[38;5;28;01mimport\u001b[39;00m \u001b[38;5;21;01mtest\u001b[39;00m\n\u001b[1;32m      3\u001b[0m \u001b[38;5;66;03m# test.py의 변수 사용\u001b[39;00m\n\u001b[0;32m----> 4\u001b[0m \u001b[38;5;28mprint\u001b[39m(\u001b[43mtest\u001b[49m\u001b[38;5;241;43m.\u001b[39;49m\u001b[43mmy_variable\u001b[49m)\n\u001b[1;32m      5\u001b[0m \u001b[38;5;28mprint\u001b[39m(test\u001b[38;5;241m.\u001b[39mmy_function())\n",
      "\u001b[0;31mAttributeError\u001b[0m: module 'test' has no attribute 'my_variable'"
     ]
    }
   ],
   "source": [
    "import test\n",
    "\n",
    "# test.py의 변수 사용\n",
    "print(test.my_variable)\n",
    "print(test.my_function())\n"
   ]
  },
  {
   "cell_type": "code",
   "execution_count": 33,
   "id": "5b9139c0-ac21-40a0-b510-5e83d85e2414",
   "metadata": {},
   "outputs": [
    {
     "name": "stdout",
     "output_type": "stream",
     "text": [
      "10\n",
      "20\n",
      "30\n",
      "40\n",
      "50\n",
      "60\n",
      "70\n",
      "80\n",
      "90\n",
      "100\n",
      "---------------\n",
      "1 10\n",
      "2 20\n",
      "3 30\n",
      "---------------\n",
      "[('a', '1'), ('b', '2'), ('c', '3')]\n",
      "---------------\n",
      "['11', '22', '33']\n",
      "['11', '22', '33']\n",
      "---------------\n",
      "[6, 7, 8, 9]\n"
     ]
    }
   ],
   "source": [
    "for i in range(10, 101, 10):\n",
    "    print(i)\n",
    "\n",
    "print(\"---------------\")\n",
    "\n",
    "x = [10, 20, 30]\n",
    "# 여기서 출력은 i가 index, j가 해당 숫자임. (process 내부 체계니 받아들이기\n",
    "for i, j in enumerate(x,1): \n",
    "    print(i,j)\n",
    "    \n",
    "print(\"---------------\")\n",
    "\n",
    "# zip해줄거야. 그런데 순서대로.. list 안에 tuple 형태\n",
    "print(list(zip('abc','123'))) \n",
    "\n",
    "print(\"---------------\")\n",
    "\n",
    "def multiply(x):\n",
    "    return x * 2  # char를 2배해주니, 동일한 문자 2회 반복!\n",
    "\n",
    "print(list(map(multiply, '123')))   # lambda 많이 쓰임.\n",
    "# lambda input:output\n",
    "print(list(map(lambda x:x*2, '123'))) # lambda가 댕 직관적이네..\n",
    "\n",
    "\n",
    "print(\"---------------\")\n",
    "\n",
    "def func(x):\n",
    "    return x > 5\n",
    "\n",
    "print(list(filter(func, range(10))))"
   ]
  },
  {
   "cell_type": "code",
   "execution_count": 34,
   "id": "5db34282-99ce-4128-80a8-b32403459466",
   "metadata": {},
   "outputs": [
    {
     "name": "stdout",
     "output_type": "stream",
     "text": [
      "(100, True, 'sbell')\n",
      "100\n",
      "True\n",
      "sbell\n",
      "{'name': 'sbell', 'age': '21'}\n",
      "name\n",
      "age\n"
     ]
    }
   ],
   "source": [
    "# args, kwargs : 하나의 변수 여러 개의 변수를 받고 싶을 때 사용함.\n",
    "\n",
    "def print_args(*args):\n",
    "    print(args)\n",
    "    for x in args:\n",
    "        print(x)\n",
    "\n",
    "print_args(100, True, \"sbell\")\n",
    "\n",
    "# kwargs\n",
    "def print_kwargs(a, **kwargs):\n",
    "    print(kwargs)\n",
    "    for x in kwargs:\n",
    "        print(x)\n",
    "\n",
    "print_kwargs(100, name='sbell', age='21')\n"
   ]
  },
  {
   "cell_type": "code",
   "execution_count": 1,
   "id": "bee0c9e1-96bf-4e16-b420-b21902994053",
   "metadata": {},
   "outputs": [
    {
     "name": "stdout",
     "output_type": "stream",
     "text": [
      "python 너무 오랜만\n",
      "그래서 너무 싫어\n",
      "그만하자!!\n",
      "하아,, 아무튼..하아,, 아무튼..하아,, 아무튼..하아,, 아무튼..하아,, 아무튼..하아,, 아무튼..python 너무 오랜만\n",
      "그래서 너무 싫어\n",
      "그만하자!!\n",
      "하아,, 아무튼..하아,, 아무튼..하아,, 아무튼..하아,, 아무튼..하아,, 아무튼..하아,, 아무튼.."
     ]
    }
   ],
   "source": [
    "# 파일 입출력\n",
    "\n",
    "# with fopen = open(\"python기초.txt\", \"r+\"):\n",
    "#     fopen.read();\n",
    "\n",
    "with open(\"python기초.txt\", \"r+\") as fp:\n",
    "    for line in fp:\n",
    "        print(line, end=\"\")\n",
    "\n",
    "\n",
    "with open(\"python기초.txt\", \"r+\") as fp:\n",
    "    fp.write(\"하아,, 아무튼..\")\n",
    "    lines = fp.readlines()\n",
    "    for line in lines:\n",
    "        print(line, end=\"\")\n",
    "    "
   ]
  },
  {
   "cell_type": "code",
   "execution_count": 8,
   "id": "ed18ff9c-b3ea-4725-851e-7d404e809ef8",
   "metadata": {},
   "outputs": [
    {
     "data": {
      "text/plain": [
       "[[10, 5], [30, 4], [20, 3], [40, 1]]"
      ]
     },
     "execution_count": 8,
     "metadata": {},
     "output_type": "execute_result"
    }
   ],
   "source": [
    "def solution(l):\n",
    "    return sorted(l, key=lambda x:x[1], reverse=True)\n",
    "\n",
    "\n",
    "solution([ [40,1],[10,5], [20,3],[30,4] ])"
   ]
  },
  {
   "cell_type": "code",
   "execution_count": 48,
   "id": "94205066-e525-496d-be0f-fad7a696830a",
   "metadata": {},
   "outputs": [
    {
     "data": {
      "text/plain": [
       "[5, 17, 26, 39]"
      ]
     },
     "execution_count": 48,
     "metadata": {},
     "output_type": "execute_result"
    }
   ],
   "source": [
    "def sol(l):\n",
    "    return list(map(lambda i : i[0] - i[1], l))\n",
    "\n",
    "sol([ [10,5]\n",
    "     ,[20,3]\n",
    "     ,[30,4]\n",
    "     ,[40,1]\n",
    "    ])"
   ]
  },
  {
   "cell_type": "code",
   "execution_count": null,
   "id": "b88a5aeb-2aea-416b-8c58-1417133ff557",
   "metadata": {},
   "outputs": [],
   "source": [
    "# for 문 한 줄로 표현하기\n",
    "# [반환값 for문 if문]\n",
    "# \"\".join([char for char in s if(char != \"!\" and char != \" \")])\n",
    "# [int(i) for i in s]\n",
    "\n",
    "# lambda문\n",
    "# lambda input_value : output_value\n"
   ]
  },
  {
   "cell_type": "code",
   "execution_count": 34,
   "id": "20769a5d-1517-4b58-9d77-2abe6e4ea89b",
   "metadata": {},
   "outputs": [
    {
     "data": {
      "text/plain": [
       "8"
      ]
     },
     "execution_count": 34,
     "metadata": {},
     "output_type": "execute_result"
    }
   ],
   "source": [
    "def sol2(s):\n",
    "    return sum([int(i) for i in s])\n",
    "''' 밑의 코드를 위처럼 나타낼 수 있다.\n",
    "for문에 대한 걸 뒤에. for i in s\n",
    "그리고 그 결과를 앞에 int(i)\n",
    "ans = 0\n",
    "for i in range(s):\n",
    "    ans += int(i)\n",
    "    \n",
    "'''\n",
    "sol2('11123')"
   ]
  },
  {
   "cell_type": "code",
   "execution_count": 47,
   "id": "bc90a22e-9005-409c-9e45-dc30a93e2bf5",
   "metadata": {},
   "outputs": [
    {
     "name": "stdout",
     "output_type": "stream",
     "text": [
      "helloworld\n",
      "helloworld\n"
     ]
    }
   ],
   "source": [
    "def sol5(s):\n",
    "    s = s.replace('!', '').replace(' ', '')\n",
    "    return s\n",
    "\n",
    "print(sol5(\"!hello! wor ld ! \"))\n",
    "\n",
    "# sol4의 표현법 바꾸기\n",
    "def sol(s):\n",
    "    return \"\".join([char for char in s if(char != \"!\" and char != \" \")])\n",
    "\n",
    "print(sol(\"!hello! wor ld ! \"))\n",
    "\n",
    "def sol4(s):\n",
    "    temp = \"\"\n",
    "    for i in s:\n",
    "        if(i!=\"!\" and i!=\" \"):\n",
    "            temp+=i\n",
    "    return temp\n",
    "\n",
    "# sol4(\"!hello! wor ld ! \")"
   ]
  }
 ],
 "metadata": {
  "kernelspec": {
   "display_name": "Python 3 (ipykernel)",
   "language": "python",
   "name": "python3"
  },
  "language_info": {
   "codemirror_mode": {
    "name": "ipython",
    "version": 3
   },
   "file_extension": ".py",
   "mimetype": "text/x-python",
   "name": "python",
   "nbconvert_exporter": "python",
   "pygments_lexer": "ipython3",
   "version": "3.10.12"
  }
 },
 "nbformat": 4,
 "nbformat_minor": 5
}
