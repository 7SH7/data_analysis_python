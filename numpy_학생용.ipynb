{
 "cells": [
  {
   "cell_type": "markdown",
   "metadata": {
    "id": "fiM-Y4_rDr6P"
   },
   "source": [
    "# 1. Numpy"
   ]
  },
  {
   "cell_type": "markdown",
   "metadata": {
    "id": "coTi3dPhDjdH"
   },
   "source": [
    "## 1.1 NumPy란\n",
    "\n",
    "- Numerical Python의 줄임 말\n",
    "- 행렬 연산이나 대규모 다차원 배열을 편리하게 처리할 수 있도록 지원하는 파이썬 라이브러리\n",
    "- NumPy는 데이터 구조 외에도 수치 계산을 위해 효율적으로 구현된 기능을 제공"
   ]
  },
  {
   "cell_type": "markdown",
   "metadata": {
    "id": "Zt8E5ej1EOAD"
   },
   "source": [
    "### 1.1.1 NumPy 특징\n",
    "\n",
    "- N 차원 배열 객체\n",
    "- 기본적으로  array 단위로 데이터 관리\n",
    "- 큰 규모의 데이터 연산을 빠르게 수행 (반복문 없이 배열에 대한 처리 지원)\n",
    "- 정교한 브로드캐스팅(Broadcast) 기능"
   ]
  },
  {
   "cell_type": "markdown",
   "metadata": {
    "id": "LhZTM4niEPex"
   },
   "source": [
    "### 1.1.2 ndarray 클래스\n",
    "\n",
    "- Numpy의 핵심인 다차원 행렬 자료 구조를 지원하는 클래스"
   ]
  },
  {
   "cell_type": "code",
   "execution_count": 1,
   "metadata": {},
   "outputs": [],
   "source": [
    "import numpy as np"
   ]
  },
  {
   "cell_type": "code",
   "execution_count": 2,
   "metadata": {},
   "outputs": [
    {
     "name": "stdout",
     "output_type": "stream",
     "text": [
      "[1 2 3 4 5]\n"
     ]
    }
   ],
   "source": [
    "data = np.array([1,2,3,4,5])\n",
    "print(data)"
   ]
  },
  {
   "cell_type": "markdown",
   "metadata": {},
   "source": [
    "- 밑의 두 가지 코드를 보면, 동일한 결과지만, numpy를 쓰면, 보기 좋게 형태를 바꿔준다는 것을 알 수 있다."
   ]
  },
  {
   "cell_type": "code",
   "execution_count": 3,
   "metadata": {},
   "outputs": [
    {
     "name": "stdout",
     "output_type": "stream",
     "text": [
      "[[1, 2], [3, 4]]\n"
     ]
    }
   ],
   "source": [
    "print([[1,2],\n",
    "       [3,4]])\n"
   ]
  },
  {
   "cell_type": "code",
   "execution_count": 4,
   "metadata": {},
   "outputs": [
    {
     "name": "stdout",
     "output_type": "stream",
     "text": [
      "[[1 2]\n",
      " [3 4]]\n"
     ]
    }
   ],
   "source": [
    "data = np.array([[1,2],[3,4]])\n",
    "print(data)"
   ]
  },
  {
   "cell_type": "code",
   "execution_count": 5,
   "metadata": {},
   "outputs": [
    {
     "name": "stdout",
     "output_type": "stream",
     "text": [
      "<class 'numpy.ndarray'>\n",
      "['T', '__abs__', '__add__', '__and__', '__array__', '__array_finalize__', '__array_function__', '__array_interface__', '__array_namespace__', '__array_priority__', '__array_struct__', '__array_ufunc__', '__array_wrap__', '__bool__', '__class__', '__class_getitem__', '__complex__', '__contains__', '__copy__', '__deepcopy__', '__delattr__', '__delitem__', '__dir__', '__divmod__', '__dlpack__', '__dlpack_device__', '__doc__', '__eq__', '__float__', '__floordiv__', '__format__', '__ge__', '__getattribute__', '__getitem__', '__gt__', '__hash__', '__iadd__', '__iand__', '__ifloordiv__', '__ilshift__', '__imatmul__', '__imod__', '__imul__', '__index__', '__init__', '__init_subclass__', '__int__', '__invert__', '__ior__', '__ipow__', '__irshift__', '__isub__', '__iter__', '__itruediv__', '__ixor__', '__le__', '__len__', '__lshift__', '__lt__', '__matmul__', '__mod__', '__mul__', '__ne__', '__neg__', '__new__', '__or__', '__pos__', '__pow__', '__radd__', '__rand__', '__rdivmod__', '__reduce__', '__reduce_ex__', '__repr__', '__rfloordiv__', '__rlshift__', '__rmatmul__', '__rmod__', '__rmul__', '__ror__', '__rpow__', '__rrshift__', '__rshift__', '__rsub__', '__rtruediv__', '__rxor__', '__setattr__', '__setitem__', '__setstate__', '__sizeof__', '__str__', '__sub__', '__subclasshook__', '__truediv__', '__xor__', 'all', 'any', 'argmax', 'argmin', 'argpartition', 'argsort', 'astype', 'base', 'byteswap', 'choose', 'clip', 'compress', 'conj', 'conjugate', 'copy', 'ctypes', 'cumprod', 'cumsum', 'data', 'device', 'diagonal', 'dot', 'dtype', 'dump', 'dumps', 'fill', 'flags', 'flat', 'flatten', 'getfield', 'imag', 'item', 'itemset', 'itemsize', 'mT', 'max', 'mean', 'min', 'nbytes', 'ndim', 'newbyteorder', 'nonzero', 'partition', 'prod', 'ptp', 'put', 'ravel', 'real', 'repeat', 'reshape', 'resize', 'round', 'searchsorted', 'setfield', 'setflags', 'shape', 'size', 'sort', 'squeeze', 'std', 'strides', 'sum', 'swapaxes', 'take', 'to_device', 'tobytes', 'tofile', 'tolist', 'tostring', 'trace', 'transpose', 'var', 'view']\n"
     ]
    }
   ],
   "source": [
    "print(type(data))\n",
    "print(dir(data))"
   ]
  },
  {
   "cell_type": "code",
   "execution_count": 6,
   "metadata": {},
   "outputs": [
    {
     "name": "stdout",
     "output_type": "stream",
     "text": [
      "data : \n",
      " [[1 2]\n",
      " [3 4]]\n",
      "dataT : \n",
      " [[1 3]\n",
      " [2 4]]\n"
     ]
    }
   ],
   "source": [
    "data = np.array([[1,2],[3,4]])\n",
    "print(\"data : \\n\", data)\n",
    "\n",
    "dataT = data.T # 전치행렬\n",
    "print(\"dataT : \\n\", dataT)"
   ]
  },
  {
   "cell_type": "markdown",
   "metadata": {
    "id": "I-1mK7ObFiEA"
   },
   "source": [
    "### 1.1.3 NumPy 산술 연산"
   ]
  },
  {
   "cell_type": "code",
   "execution_count": 7,
   "metadata": {},
   "outputs": [],
   "source": [
    "data1 = [[1, 2, 3], [4, 5, 6], [7, 8, 9]]\n",
    "data2 = [[1, 1, 1], [2, 2, 2], [3, 3, 3]]"
   ]
  },
  {
   "cell_type": "code",
   "execution_count": 8,
   "metadata": {},
   "outputs": [
    {
     "data": {
      "text/plain": [
       "[[1, 2, 3], [4, 5, 6], [7, 8, 9], [1, 2, 3], [4, 5, 6], [7, 8, 9]]"
      ]
     },
     "execution_count": 8,
     "metadata": {},
     "output_type": "execute_result"
    }
   ],
   "source": [
    "# 각 원소의 data를 2배하고 싶어..\n",
    "data1 * 2  # 이건 안 됨.."
   ]
  },
  {
   "cell_type": "code",
   "execution_count": 9,
   "metadata": {},
   "outputs": [
    {
     "name": "stdout",
     "output_type": "stream",
     "text": [
      "[[2, 4, 6], [8, 10, 12], [14, 16, 18]]\n"
     ]
    }
   ],
   "source": [
    "# 행렬과 스칼라의 곱\n",
    "for i in range(len(data1)):\n",
    "    for j in range(len(data1[i])):\n",
    "        data1[i][j] *= 2\n",
    "\n",
    "print(data1)        "
   ]
  },
  {
   "cell_type": "code",
   "execution_count": 10,
   "metadata": {},
   "outputs": [
    {
     "name": "stdout",
     "output_type": "stream",
     "text": [
      "[[11, 11, 11], [12, 12, 12], [13, 13, 13]]\n"
     ]
    }
   ],
   "source": [
    "# 행렬과 스칼라의 합\n",
    "for i in range(len(data2)):\n",
    "    for j in range(len(data2[i])):\n",
    "        data2[i][j] += 10\n",
    "\n",
    "print(data2)        "
   ]
  },
  {
   "cell_type": "code",
   "execution_count": 11,
   "metadata": {},
   "outputs": [
    {
     "name": "stdout",
     "output_type": "stream",
     "text": [
      "[[22 22 22]\n",
      " [24 24 24]\n",
      " [26 26 26]]\n",
      "[[21 21 21]\n",
      " [22 22 22]\n",
      " [23 23 23]]\n"
     ]
    }
   ],
   "source": [
    "data2 = np.array(data2)\n",
    "\n",
    "print(data2 * 2)\n",
    "print(data2 + 10)"
   ]
  },
  {
   "cell_type": "code",
   "execution_count": 12,
   "metadata": {},
   "outputs": [
    {
     "data": {
      "text/plain": [
       "array([[14, 14, 14],\n",
       "       [32, 32, 32],\n",
       "       [50, 50, 50]])"
      ]
     },
     "execution_count": 12,
     "metadata": {},
     "output_type": "execute_result"
    }
   ],
   "source": [
    "data1 = np.array([[1, 2, 3], [4, 5, 6], [7, 8, 9]])\n",
    "data2 = np.array([[1, 1, 1], [2, 2, 2], [3, 3, 3]])\n",
    "\n",
    "np.dot(data1, data2)  # 행렬곱 표현1\n",
    "data1 @ data2  # 행렬곱 표현2"
   ]
  },
  {
   "cell_type": "markdown",
   "metadata": {
    "id": "dJm1nryKI59h"
   },
   "source": [
    "### 행렬의 곱(연습문제)\n",
    "\n",
    "* 손으로 풀어보세요.\n",
    "\n",
    "```\n",
    " [[2, 1],  X  [[7, 1],\n",
    "  [5, 1]]      [3, 4]]\n",
    "```"
   ]
  },
  {
   "cell_type": "code",
   "execution_count": 13,
   "metadata": {},
   "outputs": [
    {
     "data": {
      "text/plain": [
       "[[17, 6], [38, 9]]"
      ]
     },
     "execution_count": 13,
     "metadata": {},
     "output_type": "execute_result"
    }
   ],
   "source": [
    "[[2*7 + 1*3, 2*1 + 1*4],\n",
    " [5*7 + 1*3, 5*1 + 1*4]]"
   ]
  },
  {
   "cell_type": "code",
   "execution_count": 14,
   "metadata": {},
   "outputs": [
    {
     "data": {
      "text/plain": [
       "array([[17,  6],\n",
       "       [38,  9]])"
      ]
     },
     "execution_count": 14,
     "metadata": {},
     "output_type": "execute_result"
    }
   ],
   "source": [
    "data1 = np.array([[2, 1], [5, 1]])\n",
    "data2 = np.array([[7, 1], [3, 4]])\n",
    "\n",
    "data1 @ data2"
   ]
  },
  {
   "cell_type": "markdown",
   "metadata": {
    "id": "rzzUIezeKmfP"
   },
   "source": [
    "* [단위행렬](https://ko.wikipedia.org/wiki/%EB%8B%A8%EC%9C%84%ED%96%89%EB%A0%AC)\n",
    "* [역행렬](https://ko.wikipedia.org/wiki/%EA%B0%80%EC%97%AD%ED%96%89%EB%A0%AC)"
   ]
  },
  {
   "cell_type": "markdown",
   "metadata": {
    "id": "m3Bg1HZoIWca"
   },
   "source": [
    "### 1.1.4 데이터 타입의 종류\n",
    "0. python의 타입 : int, float, complex, string, bool, list, tuple, dict, set\n",
    "1. int(8bit, 16bit, 32bit, 64bit) i1, i2, i4, i8\n",
    "    - 부호가 있음\n",
    "    - 비트수 만큼 크기를 가지는 정수형\n",
    "    - 저장할 수 있는 값의 범위\n",
    "        - int8 : 8 비트 부호있는 정수\n",
    "        - int16 : 16 비트 부호있는 정수\n",
    "        - int32 : 32 비트 부호있는 정수\n",
    "        - int64 : 64 비트 부호있는 정수\n",
    "    \n",
    "\n",
    " 2. uint(8bit, 16bit, 32bit, 64bit) u1, u2, u4, u8\n",
    "\n",
    "    - 부호가 없음\n",
    "    - 비트수 만큼 크기를 가지는 정수형\n",
    "    - 저장할 수 있는 값의 범위\n",
    "        - uint8 : 8비트 부호없는 정수\n",
    "        - uint16 :  16비트 부호없는 정수\n",
    "        - uint32 :  32비트 부호없는 정수\n",
    "        - uint64 :  64비트 부호없는 정수\n",
    "\n",
    " 3. float(16bit, 32bit, 64bit, 128bit) f2, f4, f8, f16\n",
    "\n",
    "    - 부호가 있음\n",
    "    - 비트수 만큼 크기를 가지는 실수형\n",
    "\n",
    " 4. 복소수형\n",
    "\n",
    "    - complex64 : 두개의 32비트 부동 소수점으로 표시되는 복소수 c8\n",
    "    - complex128 : 두개의 64비트 부동소수점으로 표시되는 복소수 c16\n",
    "\n",
    " 5. unicode\n",
    "\n",
    "    - 고정 길이 문자열 unicode\n",
    "\n",
    " 6. bool\n",
    "\n",
    "    - True, False"
   ]
  },
  {
   "cell_type": "markdown",
   "metadata": {
    "id": "OQQMSzUeRzr8"
   },
   "source": [
    "### 1.1.5 데이터 형 변환\n",
    "\n",
    "방법. 1\n",
    "\n",
    "- variable(변수) = np.astype(data)\n",
    "- astype : 변환하고자 하는 데이터 타입 지정\n",
    "- data : 변환하고자 하는 array 지정\n",
    "\n",
    "방법. 2\n",
    "\n",
    "- variable(변수) =  ndarray.astype(dtype)\n",
    "- ndarray : 변환하고자 하는 array 지정\n",
    "- dtype : 변환하고자 하는 데이터 타입 지정"
   ]
  },
  {
   "cell_type": "code",
   "execution_count": 15,
   "metadata": {},
   "outputs": [
    {
     "name": "stdout",
     "output_type": "stream",
     "text": [
      "float32\n"
     ]
    }
   ],
   "source": [
    "data = [1,1,2,3]\n",
    "data = np.array(data, dtype=np.float32)\n",
    "\n",
    "print(data.dtype)"
   ]
  },
  {
   "cell_type": "code",
   "execution_count": 16,
   "metadata": {},
   "outputs": [
    {
     "name": "stdout",
     "output_type": "stream",
     "text": [
      "int32\n"
     ]
    }
   ],
   "source": [
    "data = [1,1,2,3]\n",
    "data = np.array(data, dtype=np.int32)\n",
    "\n",
    "print(data.dtype)"
   ]
  },
  {
   "cell_type": "code",
   "execution_count": 17,
   "metadata": {},
   "outputs": [
    {
     "name": "stdout",
     "output_type": "stream",
     "text": [
      "int32\n"
     ]
    }
   ],
   "source": [
    "data = [1,1,2,3]\n",
    "data = np.array(data, dtype='i4')\n",
    "\n",
    "print(data.dtype)"
   ]
  },
  {
   "cell_type": "code",
   "execution_count": 18,
   "metadata": {},
   "outputs": [
    {
     "ename": "OverflowError",
     "evalue": "Python integer 129 out of bounds for int8",
     "output_type": "error",
     "traceback": [
      "\u001b[0;31m---------------------------------------------------------------------------\u001b[0m",
      "\u001b[0;31mOverflowError\u001b[0m                             Traceback (most recent call last)",
      "Cell \u001b[0;32mIn[18], line 3\u001b[0m\n\u001b[1;32m      1\u001b[0m \u001b[38;5;66;03m# dtype이 처리할 수 없는 크기의 data가 있느 경우, err발생\u001b[39;00m\n\u001b[1;32m      2\u001b[0m data \u001b[38;5;241m=\u001b[39m [\u001b[38;5;241m129\u001b[39m, \u001b[38;5;241m256\u001b[39m, \u001b[38;5;241m512\u001b[39m]\n\u001b[0;32m----> 3\u001b[0m data \u001b[38;5;241m=\u001b[39m \u001b[43mnp\u001b[49m\u001b[38;5;241;43m.\u001b[39;49m\u001b[43marray\u001b[49m\u001b[43m(\u001b[49m\u001b[43mdata\u001b[49m\u001b[43m,\u001b[49m\u001b[43m \u001b[49m\u001b[43mdtype\u001b[49m\u001b[38;5;241;43m=\u001b[39;49m\u001b[38;5;124;43m'\u001b[39;49m\u001b[38;5;124;43mi1\u001b[39;49m\u001b[38;5;124;43m'\u001b[39;49m\u001b[43m)\u001b[49m \n\u001b[1;32m      5\u001b[0m \u001b[38;5;28mprint\u001b[39m(data)\n\u001b[1;32m      6\u001b[0m \u001b[38;5;28mprint\u001b[39m(data\u001b[38;5;241m.\u001b[39mdtype)\n",
      "\u001b[0;31mOverflowError\u001b[0m: Python integer 129 out of bounds for int8"
     ]
    }
   ],
   "source": [
    "# dtype이 처리할 수 없는 크기의 data가 있느 경우, err발생\n",
    "data = [129, 256, 512]\n",
    "data = np.array(data, dtype='i1') \n",
    "\n",
    "print(data)\n",
    "print(data.dtype)"
   ]
  },
  {
   "cell_type": "code",
   "execution_count": 19,
   "metadata": {},
   "outputs": [
    {
     "name": "stdout",
     "output_type": "stream",
     "text": [
      "int32\n"
     ]
    }
   ],
   "source": [
    "# 형 변환\n",
    "\n",
    "data = [1,1,2,3]\n",
    "# data = np.int32(data)   # 이거나 밑의 방식이나 동일 표현\n",
    "data = np.array(data, dtype=np.int32)\n",
    "\n",
    "print(data.dtype)"
   ]
  },
  {
   "cell_type": "code",
   "execution_count": 20,
   "metadata": {},
   "outputs": [
    {
     "name": "stdout",
     "output_type": "stream",
     "text": [
      "float32\n"
     ]
    }
   ],
   "source": [
    "data = data.astype(np.float32)\n",
    "print(data.dtype)"
   ]
  },
  {
   "cell_type": "code",
   "execution_count": 21,
   "metadata": {},
   "outputs": [
    {
     "data": {
      "text/plain": [
       "array(['1', '1', '2', '3'], dtype='<U11')"
      ]
     },
     "execution_count": 21,
     "metadata": {},
     "output_type": "execute_result"
    }
   ],
   "source": [
    "data = [1,1,2,3]\n",
    "data = np.array(data, dtype=np.int32)\n",
    "# data = np.int32(data)\n",
    "data = data.astype(np.str_)\n",
    "\n",
    "# print(data)\n",
    "data"
   ]
  },
  {
   "cell_type": "code",
   "execution_count": 22,
   "metadata": {},
   "outputs": [
    {
     "data": {
      "text/plain": [
       "['1', '1', '2', '3']"
      ]
     },
     "execution_count": 22,
     "metadata": {},
     "output_type": "execute_result"
    }
   ],
   "source": [
    "data.tolist()"
   ]
  },
  {
   "cell_type": "code",
   "execution_count": 23,
   "metadata": {},
   "outputs": [
    {
     "name": "stdout",
     "output_type": "stream",
     "text": [
      "[1. 2. 3. 4. 5.]\n",
      "data type :  <class 'numpy.ndarray'>\n",
      "np.array를 python의 list형태로 출력하려면 tolist() 사용!\n",
      "[1.0, 2.0, 3.0, 4.0, 5.0]\n",
      "<class 'str'>\n",
      "b'1.0'\n",
      "<class 'bytes'>\n",
      "1.0\n",
      "<class 'str'>\n"
     ]
    }
   ],
   "source": [
    "data = [1,2,3,4,5]\n",
    "data = np.array(data, dtype=np.float64)\n",
    "# data = np.float32(data)\n",
    "\n",
    "print(data)  \n",
    "print(\"data type : \" , type(data))  \n",
    "\n",
    "print(\"np.array를 python의 list형태로 출력하려면 tolist() 사용!\")\n",
    "print(data.tolist())\n",
    "\n",
    "data = data.astype(np.str_)\n",
    "\n",
    "data_list = data.tolist()\n",
    "data.tolist()[0]\n",
    "print(type(data.tolist()[0]))\n",
    "\n",
    "byte_string = data_list[0].encode('utf-8')  # str을 bytes로 변환\n",
    "print(byte_string)   # 앞의 b는 byte 표현임!\n",
    "print(type(byte_string))\n",
    "\n",
    "decoded_string = byte_string.decode('utf-8')  # bytes를 str로 변환\n",
    "print(decoded_string)\n",
    "print(type(decoded_string))"
   ]
  },
  {
   "cell_type": "code",
   "execution_count": 24,
   "metadata": {},
   "outputs": [
    {
     "name": "stdout",
     "output_type": "stream",
     "text": [
      "uint16\n",
      "0\n",
      "uint16\n",
      "65535\n",
      "65536\n"
     ]
    },
    {
     "name": "stderr",
     "output_type": "stream",
     "text": [
      "/tmp/ipykernel_3658/135171071.py:5: RuntimeWarning: overflow encountered in scalar subtract\n",
      "  data = data - 1  # uXXX에 음수 처리 하려하면 OverflowError!\n"
     ]
    }
   ],
   "source": [
    "data = np.uint16(0)\n",
    "print(data.dtype)\n",
    "print(data)\n",
    "\n",
    "data = data - 1  # uXXX에 음수 처리 하려하면 OverflowError!\n",
    "print(data.dtype)\n",
    "print(data)\n",
    "print(2**16)  # 16 bit의 max값 - 1\n",
    "\n",
    "# data = np.uint16(-1)  # error\n",
    "# print(data)\n"
   ]
  },
  {
   "cell_type": "markdown",
   "metadata": {
    "id": "8cFaVmBSR9B3"
   },
   "source": [
    "## 1.2 NumPy 차원\n",
    "\n",
    "- Scalar : 0차원 하나의 데이터 값으로만 존재하는 것\n",
    "- Vector : 1차원 배열 (1D array, 행(rows) 또는 열(columns)만 존재)\n",
    "- Matrix : 2차원 배열 (2D array)\n",
    "- Tensor : 3차원 이상의 다차원 배열"
   ]
  },
  {
   "cell_type": "code",
   "execution_count": 25,
   "metadata": {},
   "outputs": [
    {
     "name": "stdout",
     "output_type": "stream",
     "text": [
      "1\n",
      "()\n",
      "0\n"
     ]
    }
   ],
   "source": [
    "# 0차원 (scalar)\n",
    "\n",
    "a = np.array(1)\n",
    "print(a)\n",
    "print(a.shape)\n",
    "print(a.ndim)"
   ]
  },
  {
   "cell_type": "code",
   "execution_count": 26,
   "metadata": {},
   "outputs": [
    {
     "name": "stdout",
     "output_type": "stream",
     "text": [
      "[1 2 3]\n",
      "(3,)\n",
      "1\n"
     ]
    }
   ],
   "source": [
    "# 1차원 (vector)\n",
    "\n",
    "a = np.array([1, 2, 3])\n",
    "print(a)\n",
    "print(a.shape)\n",
    "print(a.ndim)"
   ]
  },
  {
   "cell_type": "code",
   "execution_count": 27,
   "metadata": {},
   "outputs": [
    {
     "name": "stdout",
     "output_type": "stream",
     "text": [
      "[[1 2 3]\n",
      " [1 2 3]]\n",
      "(2, 3)\n",
      "2\n"
     ]
    }
   ],
   "source": [
    "# 2차원 (matrix)\n",
    "\n",
    "a = np.array([[1, 2, 3], [1, 2, 3]])\n",
    "print(a)\n",
    "print(a.shape)\n",
    "print(a.ndim)"
   ]
  },
  {
   "cell_type": "code",
   "execution_count": 28,
   "metadata": {},
   "outputs": [
    {
     "name": "stdout",
     "output_type": "stream",
     "text": [
      "[[[1 2 3]\n",
      "  [1 2 3]]\n",
      "\n",
      " [[1 2 3]\n",
      "  [1 2 3]]]\n",
      "(2, 2, 3)\n",
      "3\n",
      "[[[1, 2, 3], [1, 2, 3]], [[1, 2, 3], [1, 2, 3]]]\n"
     ]
    }
   ],
   "source": [
    "# 3차원 (tensor)\n",
    "\n",
    "a = np.array([[[1, 2, 3], [1, 2, 3]], [[1, 2, 3], [1, 2, 3]]])\n",
    "print(a)\n",
    "print(a.shape)  # 2 * 3 가 2 있다.\n",
    "print(a.ndim)\n",
    "\n",
    "print(a.tolist())  # python화!"
   ]
  },
  {
   "cell_type": "markdown",
   "metadata": {
    "id": "CWlZSz6QX8fN"
   },
   "source": [
    "### 1.2.1 Ndarray(다차원 array)의 활용\n",
    "\n",
    "- 이 챕터에서 살펴볼 내용 : arange, indexing, slicing"
   ]
  },
  {
   "cell_type": "code",
   "execution_count": 29,
   "metadata": {},
   "outputs": [
    {
     "name": "stdout",
     "output_type": "stream",
     "text": [
      "range(0, 10)\n",
      "[0, 1, 2, 3, 4, 5, 6, 7, 8, 9]\n"
     ]
    }
   ],
   "source": [
    "print(range(0,10))\n",
    "print(list(range(0,10)))"
   ]
  },
  {
   "cell_type": "code",
   "execution_count": 30,
   "metadata": {},
   "outputs": [
    {
     "name": "stdout",
     "output_type": "stream",
     "text": [
      "[0 1 2 3 4 5 6 7 8 9]\n",
      "[0 2 4 6 8]\n",
      "[0.  0.5 1.  1.5 2.  2.5 3.  3.5 4.  4.5 5.  5.5 6.  6.5 7.  7.5 8.  8.5\n",
      " 9.  9.5]\n",
      "[0.  3.5 7. ]\n",
      "[ 0.          3.33333333  6.66666667 10.        ]\n"
     ]
    }
   ],
   "source": [
    "print(np.array(range(0,10)))\n",
    "\n",
    "# 위의 방법으로 생성 가능하지만, 밑의 방식이 일반적인 방법임.\n",
    "print(np.arange(0, 10, 2))  # np.array(range(~~)) => np.arange (array + range)\n",
    "print(np.arange(0, 10, .5))\n",
    "print(np.arange(0, 10, 3.5))   # np.arange(start, end, step)\n",
    "\n",
    "print(np.linspace(0, 10, 4))   # np.linspace(start, end, count(개수))"
   ]
  },
  {
   "cell_type": "code",
   "execution_count": 31,
   "metadata": {},
   "outputs": [
    {
     "name": "stdout",
     "output_type": "stream",
     "text": [
      "[ 2.   2.5  3.   3.5  4.   4.5  5.   5.5  6.   6.5  7.   7.5  8.   8.5\n",
      "  9.   9.5 10.  10.5]\n",
      "(18,)\n",
      "1\n",
      "\n",
      "----------------\n",
      "-----다차원-----\n",
      "----------------\n",
      "\n",
      "np.arange(10) : \n",
      " [0 1 2 3 4 5 6 7 8 9] \n",
      "\n",
      "np.arange(10).reshape(5,2) : \n",
      " [[0 1]\n",
      " [2 3]\n",
      " [4 5]\n",
      " [6 7]\n",
      " [8 9]] \n",
      "\n"
     ]
    }
   ],
   "source": [
    "a = np.arange(2, 11, .5)\n",
    "print(a)\n",
    "print(a.shape)  \n",
    "print(a.ndim)\n",
    "\n",
    "print(\"\\n----------------\")\n",
    "print(\"-----다차원-----\")\n",
    "print(\"----------------\\n\")\n",
    "\n",
    "# 다차원 만들기\n",
    "print(\"np.arange(10) : \\n\" , np.arange(10) , \"\\n\")\n",
    "print(\"np.arange(10).reshape(5,2) : \\n\" , np.arange(10).reshape(5,2), \"\\n\")\n",
    "# print(\"np.arange(10).reshape(3,4) : \\n\" , np.arange(10).reshape(3,4), \"\\n\")  -> reshape 시, 요소 갯수 다르면, 에러"
   ]
  },
  {
   "cell_type": "code",
   "execution_count": 32,
   "metadata": {},
   "outputs": [
    {
     "name": "stdout",
     "output_type": "stream",
     "text": [
      "[[[ 0  1  2  3  4]\n",
      "  [ 5  6  7  8  9]]\n",
      "\n",
      " [[10 11 12 13 14]\n",
      "  [15 16 17 18 19]]]\n",
      "(2, 2, 5)\n",
      "3\n"
     ]
    }
   ],
   "source": [
    "a = np.arange(20).reshape(2,2,5)\n",
    "print(a)\n",
    "print(a.shape)  \n",
    "print(a.ndim)"
   ]
  },
  {
   "cell_type": "code",
   "execution_count": 33,
   "metadata": {},
   "outputs": [
    {
     "name": "stdout",
     "output_type": "stream",
     "text": [
      "[[[[[ 0  1  2  3  4]\n",
      "    [ 5  6  7  8  9]]\n",
      "\n",
      "   [[10 11 12 13 14]\n",
      "    [15 16 17 18 19]]]]]\n",
      "(1, 1, 2, 2, 5)\n",
      "5\n"
     ]
    }
   ],
   "source": [
    "a = np.arange(20).reshape(1,1,2,2,5)\n",
    "print(a)\n",
    "print(a.shape)  \n",
    "print(a.ndim)  # 괄호 개수가 차원!"
   ]
  },
  {
   "cell_type": "code",
   "execution_count": 34,
   "metadata": {},
   "outputs": [
    {
     "name": "stdout",
     "output_type": "stream",
     "text": [
      "[[0 1 2 3 4]\n",
      " [5 6 7 8 9]]\n",
      "[0 1 2 3 4]\n",
      "2\n"
     ]
    }
   ],
   "source": [
    "# indexing\n",
    "print(a[0][0][0])\n",
    "print(a[0][0][0][0])\n",
    "print(a[0][0][0][0][2])"
   ]
  },
  {
   "cell_type": "code",
   "execution_count": 35,
   "metadata": {},
   "outputs": [
    {
     "data": {
      "text/plain": [
       "array([16, 17, 18, 19])"
      ]
     },
     "execution_count": 35,
     "metadata": {},
     "output_type": "execute_result"
    }
   ],
   "source": [
    "a = np.arange(20).reshape(2,2,5)\n",
    "\n",
    "a[0][1][0]\n",
    "a[0, 1, 0]  # numpy 문법!\n",
    "\n",
    "a[a>15]  # boolean inexing (a의 모든 element에 대해서..)"
   ]
  },
  {
   "cell_type": "code",
   "execution_count": 36,
   "metadata": {},
   "outputs": [
    {
     "data": {
      "text/plain": [
       "array([ 8, 10, 12, 14, 16, 18])"
      ]
     },
     "execution_count": 36,
     "metadata": {},
     "output_type": "execute_result"
    }
   ],
   "source": [
    " a[(a > 7) & (a % 2 == 0)] # 이게 boolean을 사용해서 indexing 하는 것! "
   ]
  },
  {
   "cell_type": "markdown",
   "metadata": {
    "id": "k3eSIqrXe6PV"
   },
   "source": [
    "* slicing\n",
    "\n",
    "    - 연속된 객체에서 범위를 지정하고 선택한 객체를 가져옴\n",
    "    - 1차원 → [start : end : step]\n",
    "    - 2차원 배열은 행과 열을 콤마로 구분 → [ : ,  :]\n",
    "    - 3차원 배열 → [ :, :, :]"
   ]
  },
  {
   "cell_type": "code",
   "execution_count": 37,
   "metadata": {},
   "outputs": [
    {
     "name": "stdout",
     "output_type": "stream",
     "text": [
      "[ 0  2  4  6  8 10]\n",
      "[10  8  6  4  2]\n",
      "[19 18 17 16 15 14 13 12 11 10  9  8  7  6  5  4  3  2  1  0]\n",
      "[ 0  2  4  6  8 10 12 14 16 18]\n"
     ]
    }
   ],
   "source": [
    "# data[start:end:step]\n",
    "data = np.arange(20)\n",
    "\n",
    "print(data[0:11:2])\n",
    "print(data[10:0:-2])\n",
    "print(data[::-1])\n",
    "print(data[::2])"
   ]
  },
  {
   "cell_type": "code",
   "execution_count": 38,
   "metadata": {},
   "outputs": [
    {
     "name": "stdout",
     "output_type": "stream",
     "text": [
      "[[ 0  1  2  3  4]\n",
      " [ 5  6  7  8  9]\n",
      " [10 11 12 13 14]\n",
      " [15 16 17 18 19]] \n",
      "\n",
      "[ 1  6 11 16] \n",
      "\n",
      "[5 6 7 8 9] \n",
      "\n",
      "[[ 5  6  7  8  9]\n",
      " [10 11 12 13 14]] \n",
      "\n",
      "[[ 7  8]\n",
      " [12 13]] \n",
      "\n",
      "[[ 6  7  8]\n",
      " [11 12 13]\n",
      " [16 17 18]] \n",
      "\n"
     ]
    }
   ],
   "source": [
    "# 2차원 배열로..\n",
    "data = np.arange(20)\n",
    "data = data.reshape(4,5)\n",
    "print(data, \"\\n\")\n",
    "\n",
    "# data[row, coloumn]\n",
    "\n",
    "print(data[:,1], \"\\n\")\n",
    "print(data[1,:], \"\\n\")\n",
    "print(data[1:3,:], \"\\n\")\n",
    "print(data[1:3,2:4], \"\\n\")\n",
    "print(data[1:4,1:4], \"\\n\")"
   ]
  },
  {
   "cell_type": "code",
   "execution_count": 39,
   "metadata": {},
   "outputs": [
    {
     "name": "stdout",
     "output_type": "stream",
     "text": [
      "[[[ 0  1  2  3  4]\n",
      "  [ 5  6  7  8  9]\n",
      "  [10 11 12 13 14]\n",
      "  [15 16 17 18 19]]\n",
      "\n",
      " [[20 21 22 23 24]\n",
      "  [25 26 27 28 29]\n",
      "  [30 31 32 33 34]\n",
      "  [35 36 37 38 39]]] \n",
      "\n",
      "[[21 22 23]\n",
      " [26 27 28]]\n",
      "[[ 8  9]\n",
      " [13 14]]\n"
     ]
    }
   ],
   "source": [
    "data = np.arange(40)\n",
    "data = data.reshape(2,4,5)\n",
    "print(data, \"\\n\")\n",
    "\n",
    "# 위 아래로 있는게, 실제로는 z축으로 뒤에 있는 느낌임.\n",
    "# 그래서 0~19 까지가 0번째 channel 20~39까지가 1번째 channel\n",
    "# channel 먼저 고르고, 다음 row, column\n",
    "print(data[1, 0:2, 1:4]) \n",
    "print(data[0, 1:3, 3:5])"
   ]
  },
  {
   "cell_type": "markdown",
   "metadata": {
    "id": "UPjxT5uDo9Cn"
   },
   "source": [
    "## 1.3 NumPy 배열"
   ]
  },
  {
   "cell_type": "markdown",
   "metadata": {
    "id": "QnmTIKDGoyrK"
   },
   "source": [
    "### 1.3.1 배열의 연결과 분할\n",
    "\n",
    "1. 연결 \n",
    "    - hstack : 열 추가\n",
    "    - vstack : 행 추가\n",
    "    - concatenate ([a, b], axis = ) : axis=0 → 행 추가, axis=1 →  열추가\n",
    "2. 분할\n",
    "    - vsplit : 수직축으로 분할, 행 분할\n",
    "    - hsplit : 수평축으로 분할, 열 분할"
   ]
  },
  {
   "cell_type": "code",
   "execution_count": 40,
   "metadata": {},
   "outputs": [
    {
     "data": {
      "text/plain": [
       "array([5, 7, 9])"
      ]
     },
     "execution_count": 40,
     "metadata": {},
     "output_type": "execute_result"
    }
   ],
   "source": [
    "a = [1, 2, 3]\n",
    "b = [4, 5, 6]\n",
    "\n",
    "a = np.array(a)\n",
    "b = np.array(b)\n",
    "\n",
    "a+b  # 연결을 하고 싶은데, 더해지는 상황.. --> concatenate 사용하면 해결 가능!"
   ]
  },
  {
   "cell_type": "code",
   "execution_count": 41,
   "metadata": {},
   "outputs": [
    {
     "name": "stdout",
     "output_type": "stream",
     "text": [
      "<class 'numpy.ndarray'>\n"
     ]
    },
    {
     "data": {
      "text/plain": [
       "array([1, 2, 3, 4, 5, 6])"
      ]
     },
     "execution_count": 41,
     "metadata": {},
     "output_type": "execute_result"
    }
   ],
   "source": [
    "print(type(np.concatenate([a,b])))\n",
    "np.concatenate([a,b])\n"
   ]
  },
  {
   "cell_type": "code",
   "execution_count": 42,
   "metadata": {},
   "outputs": [
    {
     "name": "stdout",
     "output_type": "stream",
     "text": [
      "a : \n",
      " [[0 1 2 3 4]\n",
      " [5 6 7 8 9]]\n",
      "b : \n",
      " [[10 11 12 13 14]\n",
      " [15 16 17 18 19]]\n"
     ]
    }
   ],
   "source": [
    "# 다차원\n",
    "a = np.arange(10).reshape(2,5)\n",
    "b = np.arange(10,20).reshape(2,5)\n",
    "\n",
    "print(\"a : \\n\", a)\n",
    "print(\"b : \\n\", b)\n"
   ]
  },
  {
   "cell_type": "code",
   "execution_count": 43,
   "metadata": {},
   "outputs": [
    {
     "data": {
      "text/plain": [
       "array([[ 0,  1,  2,  3,  4],\n",
       "       [ 5,  6,  7,  8,  9],\n",
       "       [10, 11, 12, 13, 14],\n",
       "       [15, 16, 17, 18, 19]])"
      ]
     },
     "execution_count": 43,
     "metadata": {},
     "output_type": "execute_result"
    }
   ],
   "source": [
    "np.concatenate([a,b])"
   ]
  },
  {
   "cell_type": "code",
   "execution_count": 45,
   "metadata": {},
   "outputs": [
    {
     "name": "stdout",
     "output_type": "stream",
     "text": [
      "[[ 0  1  2  3  4]\n",
      " [ 5  6  7  8  9]\n",
      " [10 11 12 13 14]\n",
      " [15 16 17 18 19]]\n",
      "[[ 0  1  2  3  4 10 11 12 13 14]\n",
      " [ 5  6  7  8  9 15 16 17 18 19]]\n"
     ]
    }
   ],
   "source": [
    "# 축 설정 가능! (axis)\n",
    "print(np.concatenate([a,b], axis=0))   # 행에 추가 \n",
    "print(np.concatenate([a,b], axis=1))   # 열에 추가 (1이니까, 세로(열)!!)"
   ]
  },
  {
   "cell_type": "code",
   "execution_count": 44,
   "metadata": {},
   "outputs": [
    {
     "name": "stdout",
     "output_type": "stream",
     "text": [
      "np.vstack([a,b]) : \n",
      " [[ 0  1  2  3  4]\n",
      " [ 5  6  7  8  9]\n",
      " [10 11 12 13 14]\n",
      " [15 16 17 18 19]]\n",
      "np.hstack([a,b]) : \n",
      " [[ 0  1  2  3  4 10 11 12 13 14]\n",
      " [ 5  6  7  8  9 15 16 17 18 19]]\n"
     ]
    }
   ],
   "source": [
    "print(\"np.vstack([a,b]) : \\n\", np.vstack([a,b]))  # axis = 0과 동일\n",
    "print(\"np.hstack([a,b]) : \\n\", np.hstack([a,b]))  # axis = 1과 동일"
   ]
  },
  {
   "cell_type": "code",
   "execution_count": 47,
   "metadata": {},
   "outputs": [
    {
     "name": "stdout",
     "output_type": "stream",
     "text": [
      "[ 0  1  2  3  4  5  6  7  8  9 10 11]\n"
     ]
    }
   ],
   "source": [
    "a = np.arange(12)\n",
    "print(a)"
   ]
  },
  {
   "cell_type": "code",
   "execution_count": 48,
   "metadata": {},
   "outputs": [
    {
     "name": "stdout",
     "output_type": "stream",
     "text": [
      "np.split(a,2) : \n",
      " [array([0, 1, 2, 3, 4, 5]), array([ 6,  7,  8,  9, 10, 11])]\n",
      "np.split(a,4) : \n",
      " [array([0, 1, 2]), array([3, 4, 5]), array([6, 7, 8]), array([ 9, 10, 11])]\n"
     ]
    }
   ],
   "source": [
    "print(\"np.split(a,2) : \\n\" , np.split(a,2))  # a를 2개로 split해라\n",
    "print(\"np.split(a,4) : \\n\" , np.split(a,4))  # a를 4개로 split해라"
   ]
  },
  {
   "cell_type": "code",
   "execution_count": 49,
   "metadata": {},
   "outputs": [
    {
     "name": "stdout",
     "output_type": "stream",
     "text": [
      "a :  [ 10  20  30  40  50  60  70  80  90 100 110 120]\n",
      "here :  [array([10, 20, 30, 40, 50, 60]), array([ 70,  80,  90, 100, 110, 120])]\n"
     ]
    },
    {
     "data": {
      "text/plain": [
       "[array([10, 20, 30]),\n",
       " array([40, 50]),\n",
       " array([60, 70, 80, 90]),\n",
       " array([100]),\n",
       " array([110, 120])]"
      ]
     },
     "execution_count": 49,
     "metadata": {},
     "output_type": "execute_result"
    }
   ],
   "source": [
    "a = np.arange(10,121,10)\n",
    "\n",
    "print(\"a : \",a)\n",
    "print(\"here : \" , np.split(a,2))\n",
    "np.split(a, [6, 12]) # 6번째 직전까지, 12번째 직전지\n",
    "np.split(a, [3,5,9,10]) # 3전, 5전, 9전, 10전, 나머지"
   ]
  },
  {
   "cell_type": "code",
   "execution_count": 50,
   "metadata": {},
   "outputs": [
    {
     "name": "stdout",
     "output_type": "stream",
     "text": [
      "[[ 10  20  30  40]\n",
      " [ 50  60  70  80]\n",
      " [ 90 100 110 120]]\n"
     ]
    },
    {
     "data": {
      "text/plain": [
       "[array([[10, 20, 30, 40]]),\n",
       " array([[50, 60, 70, 80]]),\n",
       " array([[ 90, 100, 110, 120]])]"
      ]
     },
     "execution_count": 50,
     "metadata": {},
     "output_type": "execute_result"
    }
   ],
   "source": [
    "a = np.arange(10,121,10).reshape(3,4)\n",
    "print(a)\n",
    "\n",
    "np.vsplit(a,3) # 3개로 잘라내라(row 기준)   :: VR"
   ]
  },
  {
   "cell_type": "code",
   "execution_count": 51,
   "metadata": {},
   "outputs": [
    {
     "name": "stdout",
     "output_type": "stream",
     "text": [
      "[[ 10  20  30  40]\n",
      " [ 50  60  70  80]\n",
      " [ 90 100 110 120]\n",
      " [130 140 150 160]]\n"
     ]
    },
    {
     "data": {
      "text/plain": [
       "[array([[ 10],\n",
       "        [ 50],\n",
       "        [ 90],\n",
       "        [130]]),\n",
       " array([[ 20],\n",
       "        [ 60],\n",
       "        [100],\n",
       "        [140]]),\n",
       " array([[ 30],\n",
       "        [ 70],\n",
       "        [110],\n",
       "        [150]]),\n",
       " array([[ 40],\n",
       "        [ 80],\n",
       "        [120],\n",
       "        [160]])]"
      ]
     },
     "execution_count": 51,
     "metadata": {},
     "output_type": "execute_result"
    }
   ],
   "source": [
    "a = np.arange(10,161,10).reshape(4,4)\n",
    "print(a)\n",
    "\n",
    "np.hsplit(a,4) # 4개로 잘라내라. (column 기준)  :: HC"
   ]
  },
  {
   "cell_type": "markdown",
   "metadata": {
    "id": "q47Hs0tvw37-"
   },
   "source": [
    "### 1.3.2 다양한 Matrix 만들기\n",
    "\n",
    "- zeros : 0으로 초기화된 배열 생성\n",
    "- ones  : 1로 초기화 된 배열 생성\n",
    "- eye : 주대각선의 원소가 모두 1이고 나머지 원소는 0인 정사각행렬 (단위행렬)\n",
    "- empty : 초기화 하지 않고 배열만 생성, 기존에 메모리에 저장되어 있는 값으로 나타남\n",
    "- linspace(시작, 끝, 개수, endpoint = ) : 지정한 구간에서 개수만큼 분할\n",
    "    - endpoint = True or False : 마지막 값을 포함시킬지 시키지 않을지 선택\n",
    "- logspace(시작, 끝, 개수, endpoint = ) : 지정한 구간에서 개수만큼 로그를 이용하여 분할\n",
    "- ravel : 다차원 배열을 1차원 배열로 변환"
   ]
  },
  {
   "cell_type": "code",
   "execution_count": 52,
   "metadata": {},
   "outputs": [
    {
     "name": "stdout",
     "output_type": "stream",
     "text": [
      "[0. 0. 0. 0. 0. 0. 0. 0. 0. 0.]\n",
      "[[0. 0. 0. 0.]\n",
      " [0. 0. 0. 0.]\n",
      " [0. 0. 0. 0.]]\n",
      "[1. 1. 1. 1. 1. 1. 1. 1. 1. 1.]\n",
      "[[1. 1. 1. 1.]\n",
      " [1. 1. 1. 1.]\n",
      " [1. 1. 1. 1.]]\n"
     ]
    }
   ],
   "source": [
    "# 초기화\n",
    "print(np.zeros(10))\n",
    "print(np.zeros([3,4]))\n",
    "print(np.ones(10))\n",
    "print(np.ones([3,4]))"
   ]
  },
  {
   "cell_type": "code",
   "execution_count": 53,
   "metadata": {},
   "outputs": [
    {
     "name": "stdout",
     "output_type": "stream",
     "text": [
      "[[1. 0. 0. 0.]\n",
      " [0. 1. 0. 0.]\n",
      " [0. 0. 1. 0.]\n",
      " [0. 0. 0. 1.]]\n"
     ]
    },
    {
     "data": {
      "text/plain": [
       "array([[ 0.,  1.,  2.,  3.],\n",
       "       [ 4.,  5.,  6.,  7.],\n",
       "       [ 8.,  9., 10., 11.],\n",
       "       [12., 13., 14., 15.]])"
      ]
     },
     "execution_count": 53,
     "metadata": {},
     "output_type": "execute_result"
    }
   ],
   "source": [
    "print(np.eye(4))  # 항등행렬(I)인데,, 단위행렬이기도 함.. -> 다차원은 error남\n",
    "# print(np.eye([3,4])) # ::> 에러!\n",
    "\n",
    "a = np.arange(16).reshape(4,4)\n",
    "b = np.eye(4)\n",
    "a @ b # array에 어떤 것을 곱해서 자기 자신이 나오도록 하는 것 :: 단위 행렬! "
   ]
  },
  {
   "cell_type": "code",
   "execution_count": 54,
   "metadata": {},
   "outputs": [
    {
     "name": "stdout",
     "output_type": "stream",
     "text": [
      "[4.67051217e-310 0.00000000e+000 0.00000000e+000 4.67106935e-310\n",
      " 4.64421707e-322 6.91074805e-310 6.91074805e-310 6.91074801e-310\n",
      " 6.91074801e-310 6.91074805e-310 6.91074805e-310 6.91074805e-310\n",
      " 6.91074805e-310 6.91074805e-310 6.91074807e-310 6.91074805e-310\n",
      " 6.91074802e-310 6.91074805e-310 6.91074805e-310 6.91074805e-310\n",
      " 6.91074805e-310 6.91074805e-310 6.91074805e-310 6.91074805e-310\n",
      " 6.91074806e-310 6.91074805e-310 6.91074806e-310 6.91074805e-310\n",
      " 6.91074805e-310 6.91074805e-310 6.91074805e-310 6.91074805e-310\n",
      " 6.91074805e-310 6.91074805e-310 6.91074805e-310 6.91074805e-310\n",
      " 6.91074805e-310 6.91074805e-310 6.91074805e-310 6.91074805e-310\n",
      " 6.91074805e-310 6.91074805e-310 6.91074805e-310 6.91074805e-310\n",
      " 6.91074805e-310 6.91074805e-310 6.91074805e-310 6.91074805e-310\n",
      " 6.91074805e-310 6.91074805e-310 6.91074805e-310 6.91074805e-310\n",
      " 6.91074805e-310 6.91074805e-310 6.91074805e-310 6.91074805e-310\n",
      " 6.91074805e-310 6.91074805e-310 6.91074805e-310 6.91074805e-310\n",
      " 6.91074805e-310 6.91074805e-310 6.91074802e-310 6.91074805e-310\n",
      " 6.91074805e-310 6.91074805e-310 6.91074805e-310 6.91074805e-310\n",
      " 6.91074805e-310 6.91074805e-310 6.91074805e-310 6.91074805e-310\n",
      " 6.91074805e-310 6.91074805e-310 6.91074805e-310 6.91074805e-310\n",
      " 6.91074805e-310 6.91074806e-310 6.91074805e-310 6.91074805e-310\n",
      " 6.91074805e-310 6.91074805e-310 6.91074805e-310 6.91074805e-310\n",
      " 6.91074805e-310 6.91074805e-310 6.91074805e-310 6.91074805e-310\n",
      " 6.91074805e-310 6.91074805e-310 6.91074805e-310 6.91074805e-310\n",
      " 6.91074805e-310 6.91074805e-310 6.91074805e-310 6.91074805e-310\n",
      " 6.91074805e-310 6.91074805e-310 6.91074805e-310 0.00000000e+000]\n"
     ]
    },
    {
     "data": {
      "text/plain": [
       "array([[1000, 1000, 1000],\n",
       "       [1000, 1000, 1000]])"
      ]
     },
     "execution_count": 54,
     "metadata": {},
     "output_type": "execute_result"
    }
   ],
   "source": [
    "print(np.empty(100))  # 기존에 있던 dummy data가 그대로 출력됨.\n",
    "np.full((2,3),1000)  # 특정 수로 채워서 초기화 full((row, col), want_num)"
   ]
  },
  {
   "cell_type": "code",
   "execution_count": 55,
   "metadata": {},
   "outputs": [],
   "source": [
    "# 이건 많이 사용됨!\n",
    "# linspace(시작, 끝, 개수, endpoint = ) : 지정한 구간에서 개수만큼 분할\n",
    "# endpoint = True or False : 마지막 값을 포함시킬지 시키지 않을지 선택"
   ]
  },
  {
   "cell_type": "code",
   "execution_count": 56,
   "metadata": {},
   "outputs": [
    {
     "name": "stdout",
     "output_type": "stream",
     "text": [
      "마지막값 포함 X : \n",
      " [  1.           2.01010101   3.02020202   4.03030303   5.04040404\n",
      "   6.05050505   7.06060606   8.07070707   9.08080808  10.09090909\n",
      "  11.1010101   12.11111111  13.12121212  14.13131313  15.14141414\n",
      "  16.15151515  17.16161616  18.17171717  19.18181818  20.19191919\n",
      "  21.2020202   22.21212121  23.22222222  24.23232323  25.24242424\n",
      "  26.25252525  27.26262626  28.27272727  29.28282828  30.29292929\n",
      "  31.3030303   32.31313131  33.32323232  34.33333333  35.34343434\n",
      "  36.35353535  37.36363636  38.37373737  39.38383838  40.39393939\n",
      "  41.4040404   42.41414141  43.42424242  44.43434343  45.44444444\n",
      "  46.45454545  47.46464646  48.47474747  49.48484848  50.49494949\n",
      "  51.50505051  52.51515152  53.52525253  54.53535354  55.54545455\n",
      "  56.55555556  57.56565657  58.57575758  59.58585859  60.5959596\n",
      "  61.60606061  62.61616162  63.62626263  64.63636364  65.64646465\n",
      "  66.65656566  67.66666667  68.67676768  69.68686869  70.6969697\n",
      "  71.70707071  72.71717172  73.72727273  74.73737374  75.74747475\n",
      "  76.75757576  77.76767677  78.77777778  79.78787879  80.7979798\n",
      "  81.80808081  82.81818182  83.82828283  84.83838384  85.84848485\n",
      "  86.85858586  87.86868687  88.87878788  89.88888889  90.8989899\n",
      "  91.90909091  92.91919192  93.92929293  94.93939394  95.94949495\n",
      "  96.95959596  97.96969697  98.97979798  99.98989899 101.        ]\n",
      "마지막값 포함 O : \n",
      " [  1.   2.   3.   4.   5.   6.   7.   8.   9.  10.  11.  12.  13.  14.\n",
      "  15.  16.  17.  18.  19.  20.  21.  22.  23.  24.  25.  26.  27.  28.\n",
      "  29.  30.  31.  32.  33.  34.  35.  36.  37.  38.  39.  40.  41.  42.\n",
      "  43.  44.  45.  46.  47.  48.  49.  50.  51.  52.  53.  54.  55.  56.\n",
      "  57.  58.  59.  60.  61.  62.  63.  64.  65.  66.  67.  68.  69.  70.\n",
      "  71.  72.  73.  74.  75.  76.  77.  78.  79.  80.  81.  82.  83.  84.\n",
      "  85.  86.  87.  88.  89.  90.  91.  92.  93.  94.  95.  96.  97.  98.\n",
      "  99. 100.]\n"
     ]
    }
   ],
   "source": [
    "print(\"마지막값 포함 X : \\n\", np.linspace(1, 101, 100, endpoint=True))\n",
    "print(\"마지막값 포함 O : \\n\", np.linspace(1, 101, 100, endpoint=False))"
   ]
  },
  {
   "cell_type": "code",
   "execution_count": 59,
   "metadata": {},
   "outputs": [
    {
     "name": "stdout",
     "output_type": "stream",
     "text": [
      "[[ 0  1  2  3  4]\n",
      " [ 5  6  7  8  9]\n",
      " [10 11 12 13 14]\n",
      " [15 16 17 18 19]]\n",
      "[ 0  1  2  3  4  5  6  7  8  9 10 11 12 13 14 15 16 17 18 19]\n"
     ]
    }
   ],
   "source": [
    "a = np.arange(20).reshape(4,5)\n",
    "print(a)\n",
    "\n",
    "# 1차원 array로 만들어준다.\n",
    "a = a.ravel()\n",
    "print(a)"
   ]
  },
  {
   "cell_type": "code",
   "execution_count": 67,
   "metadata": {},
   "outputs": [
    {
     "name": "stdout",
     "output_type": "stream",
     "text": [
      "[[ 0  1  2  3  4]\n",
      " [ 5  6  7  8  9]\n",
      " [10 11 12 13 14]\n",
      " [15 16 17 18 19]]\n",
      "[ 0  1  2  3  4  5  6  7  8  9 10 11 12 13 14 15 16 17 18 19]\n",
      "[ 0  5 10 15  1  6 11 16  2  7 12 17  3  8 13 18  4  9 14 19]\n"
     ]
    }
   ],
   "source": [
    "a = np.arange(20).reshape(4,5)\n",
    "print(a)\n",
    "\n",
    "# 1차원 array로 만들어준다. (row 기준)\n",
    "print(a.ravel(order = 'C'))\n",
    "\n",
    "# 1차원 array로 만들어준다. (column 기준)\n",
    "print(a.ravel(order = 'F'))"
   ]
  },
  {
   "cell_type": "markdown",
   "metadata": {
    "id": "AlJaDe962jas"
   },
   "source": [
    "## 1.4 NumPy 함수"
   ]
  },
  {
   "cell_type": "markdown",
   "metadata": {
    "id": "dBoDu15F2ppG"
   },
   "source": [
    "### 1.4.1 범용함수 (universal function)\n",
    "\n",
    "- 배열의 값에 반복된 연산을 빠르게 수행하는 함수\n",
    "- 원소 단위로 연산합니다.\n",
    "- 파이썬의 루프는 느립니다. 범용 함수를 사용하세요!"
   ]
  },
  {
   "cell_type": "code",
   "execution_count": 13,
   "metadata": {},
   "outputs": [
    {
     "name": "stdout",
     "output_type": "stream",
     "text": [
      "[-1.  -1.   1.   1.2  1.3  1.7  2.5  5.  10. ]\n"
     ]
    }
   ],
   "source": [
    "data = np.array([-1, -1, 1, 1.2, 1.3, 1.7, 2.5, 5, 10])\n",
    "print(data)"
   ]
  },
  {
   "cell_type": "code",
   "execution_count": 14,
   "metadata": {},
   "outputs": [
    {
     "name": "stdout",
     "output_type": "stream",
     "text": [
      "1.0\n",
      "1.0\n",
      "1.0\n",
      "1.2\n",
      "1.3\n",
      "1.7\n",
      "2.5\n",
      "5.0\n",
      "10.0\n"
     ]
    }
   ],
   "source": [
    "# 절댓값을 씌워줘야해 \n",
    "for i in data:\n",
    "    print(abs(i))\n",
    "\n",
    "# 위 방식의 문제점 : 너무 느려    "
   ]
  },
  {
   "cell_type": "code",
   "execution_count": 15,
   "metadata": {},
   "outputs": [
    {
     "name": "stdout",
     "output_type": "stream",
     "text": [
      "[ 1.   1.   1.   1.2  1.3  1.7  2.5  5.  10. ]\n"
     ]
    }
   ],
   "source": [
    "# 범용함수 사용!\n",
    "print(np.abs(data));"
   ]
  },
  {
   "cell_type": "code",
   "execution_count": 16,
   "metadata": {},
   "outputs": [
    {
     "data": {
      "text/plain": [
       "array([-1., -1.,  1.,  2.,  2.,  2.,  3.,  5., 10.])"
      ]
     },
     "execution_count": 16,
     "metadata": {},
     "output_type": "execute_result"
    }
   ],
   "source": [
    "np.ceil(data)"
   ]
  },
  {
   "cell_type": "code",
   "execution_count": 17,
   "metadata": {},
   "outputs": [
    {
     "data": {
      "text/plain": [
       "array([-1., -1.,  1.,  1.,  1.,  1.,  2.,  5., 10.])"
      ]
     },
     "execution_count": 17,
     "metadata": {},
     "output_type": "execute_result"
    }
   ],
   "source": [
    "np.floor(data)"
   ]
  },
  {
   "cell_type": "code",
   "execution_count": 18,
   "metadata": {},
   "outputs": [
    {
     "name": "stdout",
     "output_type": "stream",
     "text": [
      "225 μs ± 22.9 μs per loop (mean ± std. dev. of 7 runs, 10,000 loops each)\n"
     ]
    }
   ],
   "source": [
    "%%timeit # 셀 코드의 실행시간을 측정하는 IPython 매직 명령\n",
    "\n",
    "for _ in range(10):\n",
    "    max(range(1000))"
   ]
  },
  {
   "cell_type": "code",
   "execution_count": 5,
   "metadata": {},
   "outputs": [
    {
     "name": "stdout",
     "output_type": "stream",
     "text": [
      "47.9 μs ± 3.79 μs per loop (mean ± std. dev. of 7 runs, 10,000 loops each)\n"
     ]
    }
   ],
   "source": [
    "%%timeit # 셀 코드의 실행시간을 측정하는 IPython 매직 명령\n",
    "\n",
    "for _ in range(10):\n",
    "    np.max(np.arange(1000))"
   ]
  },
  {
   "cell_type": "code",
   "execution_count": 19,
   "metadata": {},
   "outputs": [
    {
     "data": {
      "text/plain": [
       "[7, 8, 9]"
      ]
     },
     "execution_count": 19,
     "metadata": {},
     "output_type": "execute_result"
    }
   ],
   "source": [
    "max([[1,2,3],[4,5,6],[7,8,9],[2,10,220]])  # [x][0]에 해당하는 숫자만 비교함. (min도 동일)"
   ]
  },
  {
   "cell_type": "code",
   "execution_count": 23,
   "metadata": {},
   "outputs": [
    {
     "data": {
      "text/plain": [
       "np.int64(220)"
      ]
     },
     "execution_count": 23,
     "metadata": {},
     "output_type": "execute_result"
    }
   ],
   "source": [
    "np.max([[1,2,3],[4,5,6],[7,8,9],[2,10,220]])  # 전부 쭉 펴서, 가장 큰 수만 출력함. (np.min도 동일)"
   ]
  },
  {
   "cell_type": "code",
   "execution_count": 25,
   "metadata": {},
   "outputs": [
    {
     "data": {
      "text/plain": [
       "array([[  1,   2,   3],\n",
       "       [  4,   5,   6],\n",
       "       [  7,   8,   9],\n",
       "       [  2,  10, 220]])"
      ]
     },
     "execution_count": 25,
     "metadata": {},
     "output_type": "execute_result"
    }
   ],
   "source": [
    "data = np.array([[1,2,3],[4,5,6],[7,8,9],[2,10,220]])\n",
    "data"
   ]
  },
  {
   "cell_type": "code",
   "execution_count": 29,
   "metadata": {},
   "outputs": [
    {
     "name": "stdout",
     "output_type": "stream",
     "text": [
      "[  7  10 220]\n",
      "[1 2 3]\n"
     ]
    }
   ],
   "source": [
    "print(np.max(data, axis=0))  \n",
    "print(np.min(data, axis=0))  \n",
    "# 여기선 신기하게 axis=0이면, 세로로 가네? \n",
    "# 원래 axis=0은 행(row) 추가니까, 가로 관련인데.. 신기.\n",
    "# axis=0은 행 개수 유지잖아? 그러니까, 3개 유지하려면 열을 가지고 놀아줘야지."
   ]
  },
  {
   "cell_type": "code",
   "execution_count": 31,
   "metadata": {},
   "outputs": [
    {
     "name": "stdout",
     "output_type": "stream",
     "text": [
      "[  3   6   9 220]\n",
      "[1 4 7 2]\n"
     ]
    }
   ],
   "source": [
    "print(np.max(data, axis=1))  \n",
    "print(np.min(data, axis=1))  \n",
    "# 여기선 신기하게 axis=1이면, 가로로 가네?\n",
    "# 원래 axis=1은 열(col)추가니까, 세로 관련인데.. 신기..\n",
    "# 아, 확인. axis=1이잖아 -> 열 개수 유지니까, 4개여야하는구나. 그래서 가로로 교교"
   ]
  },
  {
   "cell_type": "code",
   "execution_count": 33,
   "metadata": {},
   "outputs": [
    {
     "data": {
      "text/plain": [
       "array([[  1,   2,   3],\n",
       "       [  4,   5,   6],\n",
       "       [  7,   8,   9],\n",
       "       [  2,  10, 220]])"
      ]
     },
     "execution_count": 33,
     "metadata": {},
     "output_type": "execute_result"
    }
   ],
   "source": [
    "data"
   ]
  },
  {
   "cell_type": "code",
   "execution_count": 35,
   "metadata": {},
   "outputs": [],
   "source": [
    "# sum([[1,2,3],[4,5,6],[7,8,0],[2,10,200]])  # error"
   ]
  },
  {
   "cell_type": "code",
   "execution_count": 37,
   "metadata": {},
   "outputs": [
    {
     "data": {
      "text/plain": [
       "np.int64(277)"
      ]
     },
     "execution_count": 37,
     "metadata": {},
     "output_type": "execute_result"
    }
   ],
   "source": [
    "data.sum()"
   ]
  },
  {
   "cell_type": "code",
   "execution_count": 39,
   "metadata": {},
   "outputs": [
    {
     "data": {
      "text/plain": [
       "array([  6,  15,  24, 232])"
      ]
     },
     "execution_count": 39,
     "metadata": {},
     "output_type": "execute_result"
    }
   ],
   "source": [
    "data.sum(axis = 1)  # 1이니까, col개수 유지를 위해 row들을 sum해서 보여주는 것"
   ]
  },
  {
   "cell_type": "code",
   "execution_count": 40,
   "metadata": {},
   "outputs": [
    {
     "data": {
      "text/plain": [
       "array([ 14,  25, 238])"
      ]
     },
     "execution_count": 40,
     "metadata": {},
     "output_type": "execute_result"
    }
   ],
   "source": [
    "data.sum(axis = 0)  # 0이니까, row 개수 유지를 위해 col들을 sum해서 보여주는 "
   ]
  },
  {
   "cell_type": "markdown",
   "metadata": {
    "id": "2TLivMKyRTJD"
   },
   "source": [
    "### 1.4.2 집계 함수\n",
    "\n",
    "- mean : 평균 구하는 함수\n",
    "- median : 중앙값 구하는 함수\n",
    "- std : 표준편차 구하는 함수\n",
    "- var : 분산 구하는 함수\n",
    "- sum : 합계 구하는 함수\n",
    "- cusum :  누적값 구하는 함수\n",
    "- argmin : 최소값에 해당하는 index 값 찾는 함수\n",
    "- any : 배열에서 1개 이상의 원소가 참인지 평가하는 함수\n",
    "- all : 배열의 모든 원소가 참인지 평가하는 함수\n",
    "- nansum : NaN을 0으로 간주하고 더는 함수\n",
    "- where(조건, 조건에 맞을 때 값, 조건과 다를 때 값)"
   ]
  },
  {
   "cell_type": "code",
   "execution_count": 43,
   "metadata": {},
   "outputs": [
    {
     "data": {
      "text/plain": [
       "array([[ 1,  2,  3,  4,  5],\n",
       "       [ 6,  7,  8,  9, 10]])"
      ]
     },
     "execution_count": 43,
     "metadata": {},
     "output_type": "execute_result"
    }
   ],
   "source": [
    "np.arange(1,11).reshape(2,5)"
   ]
  },
  {
   "cell_type": "code",
   "execution_count": 46,
   "metadata": {},
   "outputs": [
    {
     "data": {
      "text/plain": [
       "array([[ 1,  2,  3,  4,  5],\n",
       "       [ 6,  7,  8,  9, 10]])"
      ]
     },
     "execution_count": 46,
     "metadata": {},
     "output_type": "execute_result"
    }
   ],
   "source": [
    "data = np.arange(1,11).reshape(2,5)\n",
    "data"
   ]
  },
  {
   "cell_type": "code",
   "execution_count": 48,
   "metadata": {},
   "outputs": [
    {
     "data": {
      "text/plain": [
       "np.float64(5.5)"
      ]
     },
     "execution_count": 48,
     "metadata": {},
     "output_type": "execute_result"
    }
   ],
   "source": [
    "data.mean()"
   ]
  },
  {
   "cell_type": "code",
   "execution_count": 50,
   "metadata": {},
   "outputs": [
    {
     "data": {
      "text/plain": [
       "np.int64(55)"
      ]
     },
     "execution_count": 50,
     "metadata": {},
     "output_type": "execute_result"
    }
   ],
   "source": [
    "data.sum()"
   ]
  },
  {
   "cell_type": "code",
   "execution_count": 52,
   "metadata": {},
   "outputs": [
    {
     "data": {
      "text/plain": [
       "np.float64(5.5)"
      ]
     },
     "execution_count": 52,
     "metadata": {},
     "output_type": "execute_result"
    }
   ],
   "source": [
    "np.median(data)  # 중앙값. (짝수면 중앙 두 값 평균)"
   ]
  },
  {
   "cell_type": "code",
   "execution_count": 53,
   "metadata": {},
   "outputs": [
    {
     "data": {
      "text/plain": [
       "array([[ 1,  2,  3,  4,  5],\n",
       "       [ 6,  7,  8,  9, 10]])"
      ]
     },
     "execution_count": 53,
     "metadata": {},
     "output_type": "execute_result"
    }
   ],
   "source": [
    "data"
   ]
  },
  {
   "cell_type": "code",
   "execution_count": 54,
   "metadata": {},
   "outputs": [
    {
     "data": {
      "text/plain": [
       "array([3., 8.])"
      ]
     },
     "execution_count": 54,
     "metadata": {},
     "output_type": "execute_result"
    }
   ],
   "source": [
    "data.mean(axis=1)  # 이렇게 축 설정 가능!"
   ]
  },
  {
   "cell_type": "markdown",
   "metadata": {
    "id": "K9EBMRz6UDKy"
   },
   "source": [
    "* [표준편차](https://ko.wikipedia.org/wiki/%ED%91%9C%EC%A4%80_%ED%8E%B8%EC%B0%A8)\n",
    "* [분산](https://ko.wikipedia.org/wiki/%EB%B6%84%EC%82%B0)\n",
    "---\n",
    "* [유튜브 영상 추천](https://youtu.be/trFS6ug4_T4)\n",
    "* [칸아카데미 영상 추천](https://ko.khanacademy.org/math/statistics-probability/analysis-of-variance-anova-library)"
   ]
  },
  {
   "cell_type": "code",
   "execution_count": 56,
   "metadata": {},
   "outputs": [
    {
     "data": {
      "text/plain": [
       "np.float64(2.8722813232690143)"
      ]
     },
     "execution_count": 56,
     "metadata": {},
     "output_type": "execute_result"
    }
   ],
   "source": [
    "np.std(data) # 표준편차"
   ]
  },
  {
   "cell_type": "code",
   "execution_count": 57,
   "metadata": {},
   "outputs": [
    {
     "data": {
      "text/plain": [
       "array([[ 1,  2,  3,  4,  5],\n",
       "       [ 6,  7,  8,  9, 10]])"
      ]
     },
     "execution_count": 57,
     "metadata": {},
     "output_type": "execute_result"
    }
   ],
   "source": [
    "data"
   ]
  },
  {
   "cell_type": "code",
   "execution_count": 59,
   "metadata": {},
   "outputs": [
    {
     "data": {
      "text/plain": [
       "np.float64(8.25)"
      ]
     },
     "execution_count": 59,
     "metadata": {},
     "output_type": "execute_result"
    }
   ],
   "source": [
    "np.var(data)"
   ]
  },
  {
   "cell_type": "code",
   "execution_count": 61,
   "metadata": {},
   "outputs": [
    {
     "data": {
      "text/plain": [
       "array([ 1,  3,  6, 10, 15, 21, 28, 36, 45, 55])"
      ]
     },
     "execution_count": 61,
     "metadata": {},
     "output_type": "execute_result"
    }
   ],
   "source": [
    "np.cumsum(data)"
   ]
  },
  {
   "cell_type": "code",
   "execution_count": 65,
   "metadata": {},
   "outputs": [
    {
     "data": {
      "text/plain": [
       "np.False_"
      ]
     },
     "execution_count": 65,
     "metadata": {},
     "output_type": "execute_result"
    }
   ],
   "source": [
    "# any는 OR 기능!\n",
    "np.any([False,False,False])\n",
    "np.any([False,False,False])"
   ]
  },
  {
   "cell_type": "code",
   "execution_count": 68,
   "metadata": {},
   "outputs": [
    {
     "data": {
      "text/plain": [
       "np.False_"
      ]
     },
     "execution_count": 68,
     "metadata": {},
     "output_type": "execute_result"
    }
   ],
   "source": [
    "# all은 AND 기능!\n",
    "np.any([False,False,False])\n",
    "np.any([False,False,False])"
   ]
  },
  {
   "cell_type": "code",
   "execution_count": 71,
   "metadata": {},
   "outputs": [
    {
     "data": {
      "text/plain": [
       "np.int64(55)"
      ]
     },
     "execution_count": 71,
     "metadata": {},
     "output_type": "execute_result"
    }
   ],
   "source": [
    "np.nansum(data)"
   ]
  },
  {
   "cell_type": "code",
   "execution_count": 75,
   "metadata": {},
   "outputs": [
    {
     "data": {
      "text/plain": [
       "np.float64(10.0)"
      ]
     },
     "execution_count": 75,
     "metadata": {},
     "output_type": "execute_result"
    }
   ],
   "source": [
    "# np.nan : 값이 비어있다.\n",
    "np.nansum([1,2,3,4,np.nan,np.nan])"
   ]
  },
  {
   "cell_type": "code",
   "execution_count": 77,
   "metadata": {},
   "outputs": [
    {
     "data": {
      "text/plain": [
       "np.float64(nan)"
      ]
     },
     "execution_count": 77,
     "metadata": {},
     "output_type": "execute_result"
    }
   ],
   "source": [
    "# np.sum : 더하려는 값에 nan 하나라도 있으면 nan 반환 \n",
    "np.sum([1,2,3,4,np.nan,np.nan])"
   ]
  },
  {
   "cell_type": "code",
   "execution_count": 82,
   "metadata": {},
   "outputs": [
    {
     "data": {
      "text/plain": [
       "np.int64(2)"
      ]
     },
     "execution_count": 82,
     "metadata": {},
     "output_type": "execute_result"
    }
   ],
   "source": [
    "# 결측치 개수 알고 싶을 때, 사용하면 됨!\n",
    "np.isnan([1,2,3,4,np.nan,np.nan]).sum()"
   ]
  },
  {
   "cell_type": "code",
   "execution_count": 85,
   "metadata": {},
   "outputs": [
    {
     "data": {
      "text/plain": [
       "np.False_"
      ]
     },
     "execution_count": 85,
     "metadata": {},
     "output_type": "execute_result"
    }
   ],
   "source": [
    "np.all(data>5)  # data 구성요소 전부가 5보다 큰가?"
   ]
  },
  {
   "cell_type": "code",
   "execution_count": 87,
   "metadata": {},
   "outputs": [
    {
     "data": {
      "text/plain": [
       "(array([1, 1, 1, 1, 1]), array([0, 1, 2, 3, 4]))"
      ]
     },
     "execution_count": 87,
     "metadata": {},
     "output_type": "execute_result"
    }
   ],
   "source": [
    "np.where(data>5)\n",
    "# 읽는 법 : (1,0) (1,1), (1,2), ..."
   ]
  },
  {
   "cell_type": "code",
   "execution_count": 89,
   "metadata": {},
   "outputs": [
    {
     "data": {
      "text/plain": [
       "np.int64(7)"
      ]
     },
     "execution_count": 89,
     "metadata": {},
     "output_type": "execute_result"
    }
   ],
   "source": [
    "data[1][1]  # 5보다 큼!"
   ]
  },
  {
   "cell_type": "code",
   "execution_count": 92,
   "metadata": {},
   "outputs": [
    {
     "data": {
      "text/plain": [
       "array([[-100, -100, -100,    4,    5],\n",
       "       [   6,    7,    8,    9,   10]])"
      ]
     },
     "execution_count": 92,
     "metadata": {},
     "output_type": "execute_result"
    }
   ],
   "source": [
    "np.where(data > 3, data, -100)  # 느낌이 삼향연산자!\n",
    "# data > 3 ? data : -100 넣어줘라. "
   ]
  },
  {
   "cell_type": "markdown",
   "metadata": {
    "id": "83qMw2izaazA"
   },
   "source": [
    "## 1.5 Boolean Indexing\n",
    "\n",
    "- 조건에 만족 여부를 따져 논리값(True, False)을 출력\n",
    "- 단, 행 값을 활용한 조건만 선택이 가능"
   ]
  },
  {
   "cell_type": "code",
   "execution_count": 95,
   "metadata": {},
   "outputs": [
    {
     "name": "stdout",
     "output_type": "stream",
     "text": [
      "[10 20 30 40 50]\n"
     ]
    },
    {
     "data": {
      "text/plain": [
       "array([10, 20])"
      ]
     },
     "execution_count": 95,
     "metadata": {},
     "output_type": "execute_result"
    }
   ],
   "source": [
    "# numpy에는 array에서 true인 것만 출력해주는 기능이 있다.\n",
    "# 이 특징을 이용한 게 boolean indexing!\n",
    "\n",
    "data = np.array([10, 20, 30, 40, 50])\n",
    "print(data)\n",
    "\n",
    "data[[True, True, False, False, False]]"
   ]
  },
  {
   "cell_type": "code",
   "execution_count": 104,
   "metadata": {},
   "outputs": [
    {
     "data": {
      "text/plain": [
       "array([ 7,  8,  9, 10, 11])"
      ]
     },
     "execution_count": 104,
     "metadata": {},
     "output_type": "execute_result"
    }
   ],
   "source": [
    "data = np.arange(12).reshape(3,4)\n",
    "\n",
    "# 밑의 두 방식 중 편한 거 사용면 됨.\n",
    "boolean = data > 6\n",
    "data[boolean]\n",
    "\n",
    "data[data > 6]\n"
   ]
  },
  {
   "cell_type": "markdown",
   "metadata": {
    "id": "hhBJ3wV2rcRD"
   },
   "source": [
    "## 1.6 Broadcast\n",
    "\n",
    "- 크기가 다른 배열 간의 연산 함수를 적용한는 규칙 집합"
   ]
  },
  {
   "cell_type": "code",
   "execution_count": 106,
   "metadata": {},
   "outputs": [
    {
     "data": {
      "text/plain": [
       "array([2, 3, 4])"
      ]
     },
     "execution_count": 106,
     "metadata": {},
     "output_type": "execute_result"
    }
   ],
   "source": [
    "np.array([1, 2, 3]) + 1"
   ]
  },
  {
   "cell_type": "code",
   "execution_count": 109,
   "metadata": {},
   "outputs": [
    {
     "data": {
      "text/plain": [
       "array([[10, 21, 32, 43, 54],\n",
       "       [15, 26, 37, 48, 59],\n",
       "       [20, 31, 42, 53, 64],\n",
       "       [25, 36, 47, 58, 69]])"
      ]
     },
     "execution_count": 109,
     "metadata": {},
     "output_type": "execute_result"
    }
   ],
   "source": [
    "# 밑과 같이 program 자체 내에서 연산해주는 것. 이 규칙을 broadcast라고 한다.\n",
    "np.arange(20).reshape(4,5) + np.array([10,20,30,40,50])"
   ]
  },
  {
   "cell_type": "markdown",
   "metadata": {
    "id": "7FThqDoiucyb"
   },
   "source": [
    "## 1.7 random\n",
    "\n",
    "- seed : 시작 숫자를 정해 정해진 난수 알고리즘으로 난수 생성\n",
    "- shuffle : 데이터의 순서를 바꿔줌\n",
    "- choice : 데이터에서 일부를 무작위로 선택\n",
    "- rand : 0부터 1까지 균일 분포로 난수 생성\n",
    "- randn : 가우시안 표준 정규 분포로 난수 생성"
   ]
  },
  {
   "cell_type": "code",
   "execution_count": 111,
   "metadata": {},
   "outputs": [],
   "source": [
    "import random as r"
   ]
  },
  {
   "cell_type": "code",
   "execution_count": 113,
   "metadata": {},
   "outputs": [
    {
     "data": {
      "text/plain": [
       "10"
      ]
     },
     "execution_count": 113,
     "metadata": {},
     "output_type": "execute_result"
    }
   ],
   "source": [
    "r.randint(1,10)  # 1 <= .. <= 10"
   ]
  },
  {
   "cell_type": "code",
   "execution_count": 115,
   "metadata": {},
   "outputs": [
    {
     "data": {
      "text/plain": [
       "0.3206120252327589"
      ]
     },
     "execution_count": 115,
     "metadata": {},
     "output_type": "execute_result"
    }
   ],
   "source": [
    "r.random()  # 0 < .. < 1"
   ]
  },
  {
   "cell_type": "code",
   "execution_count": 118,
   "metadata": {},
   "outputs": [
    {
     "data": {
      "text/plain": [
       "6.367869491896686"
      ]
     },
     "execution_count": 118,
     "metadata": {},
     "output_type": "execute_result"
    }
   ],
   "source": [
    "r.uniform(1, 10) # 1 <= .. <= 10 만족하는 복소수 출력)"
   ]
  },
  {
   "cell_type": "code",
   "execution_count": 120,
   "metadata": {},
   "outputs": [
    {
     "data": {
      "text/plain": [
       "1"
      ]
     },
     "execution_count": 120,
     "metadata": {},
     "output_type": "execute_result"
    }
   ],
   "source": [
    "r.randrange(1,10,2)  # range에 해당하는 수 중 1개 출력"
   ]
  },
  {
   "cell_type": "code",
   "execution_count": 122,
   "metadata": {},
   "outputs": [
    {
     "data": {
      "text/plain": [
       "[0, 1, 2, 3, 4, 5, 6, 7, 8, 9, 10, 11, 12, 13, 14, 15, 16, 17, 18, 19]"
      ]
     },
     "execution_count": 122,
     "metadata": {},
     "output_type": "execute_result"
    }
   ],
   "source": [
    "l = [i for i in range(20)]\n",
    "l"
   ]
  },
  {
   "cell_type": "code",
   "execution_count": 130,
   "metadata": {},
   "outputs": [
    {
     "data": {
      "text/plain": [
       "[16, 14, 8, 6, 15, 12, 5, 1, 9, 3, 19, 0, 4, 17, 13, 7, 10, 18, 11, 2]"
      ]
     },
     "execution_count": 130,
     "metadata": {},
     "output_type": "execute_result"
    }
   ],
   "source": [
    "r.shuffle(l)\n",
    "l"
   ]
  },
  {
   "cell_type": "code",
   "execution_count": 133,
   "metadata": {},
   "outputs": [
    {
     "data": {
      "text/plain": [
       "4"
      ]
     },
     "execution_count": 133,
     "metadata": {},
     "output_type": "execute_result"
    }
   ],
   "source": [
    "r.choice(l)"
   ]
  },
  {
   "cell_type": "code",
   "execution_count": 135,
   "metadata": {},
   "outputs": [
    {
     "data": {
      "text/plain": [
       "[2, 6, 10, 16, 3]"
      ]
     },
     "execution_count": 135,
     "metadata": {},
     "output_type": "execute_result"
    }
   ],
   "source": [
    "r.sample(l, 5)  # choice 반복문 개념 정도로 생각하면 됨!"
   ]
  },
  {
   "cell_type": "code",
   "execution_count": 143,
   "metadata": {},
   "outputs": [
    {
     "data": {
      "text/plain": [
       "6"
      ]
     },
     "execution_count": 143,
     "metadata": {},
     "output_type": "execute_result"
    }
   ],
   "source": [
    "# seed를 주면, random값이 바뀌지 않음. (처음 시작을 제공해줘서, 값이 변하지 않는 걸로 생각하면 편할 듯.)\n",
    "r.seed(7)\n",
    "r.randint(1,10)"
   ]
  },
  {
   "cell_type": "code",
   "execution_count": 176,
   "metadata": {},
   "outputs": [
    {
     "name": "stdout",
     "output_type": "stream",
     "text": [
      "6\n",
      "[  4.29665362  -7.35615018  20.17569345  -3.37583748   4.29596773\n",
      " -19.90498972 -13.09179158   5.9286856   -9.85222948   6.924266  ]\n",
      "[[5.69716715 8.28139084 3.54384606 4.19537556]\n",
      " [1.66256697 8.18943341 1.29156313 8.44347655]\n",
      " [8.33121459 4.92570929 8.74180033 8.89899169]]\n"
     ]
    }
   ],
   "source": [
    "print(np.random.randint(1,10))\n",
    "print(np.random.normal(1,10,size=(10))) # 정규 분포로 임의 샘플\n",
    "\n",
    "print(np.random.uniform(1, 10, size=(3,4)))  # 3*4 matrix에 1<= <=10 만족하는 복소수 random 배치"
   ]
  }
 ],
 "metadata": {
  "colab": {
   "provenance": []
  },
  "kernelspec": {
   "display_name": "Python 3 (ipykernel)",
   "language": "python",
   "name": "python3"
  },
  "language_info": {
   "codemirror_mode": {
    "name": "ipython",
    "version": 3
   },
   "file_extension": ".py",
   "mimetype": "text/x-python",
   "name": "python",
   "nbconvert_exporter": "python",
   "pygments_lexer": "ipython3",
   "version": "3.10.12"
  }
 },
 "nbformat": 4,
 "nbformat_minor": 4
}
